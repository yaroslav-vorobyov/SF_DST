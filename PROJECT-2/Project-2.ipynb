{
  "cells": [
    {
      "cell_type": "markdown",
      "id": "42289889-bd57-434e-9637-d3e354756316",
      "metadata": {
        "id": "42289889-bd57-434e-9637-d3e354756316"
      },
      "source": [
        "<center> <img src = https://raw.githubusercontent.com/AndreyRysistov/DatasetsForPandas/main/hh%20label.jpg alt=\"drawing\" style=\"width:400px;\">"
      ]
    },
    {
      "cell_type": "markdown",
      "id": "829cb75b-f14e-4ba8-9195-7ba929a7d656",
      "metadata": {
        "id": "829cb75b-f14e-4ba8-9195-7ba929a7d656",
        "tags": []
      },
      "source": [
        "# <center> Проект: Анализ вакансий из HeadHunter\n",
        "   "
      ]
    },
    {
      "cell_type": "code",
      "execution_count": 1,
      "id": "dccfde33-2452-43fb-a8a5-5c6ebc02a71d",
      "metadata": {
        "id": "dccfde33-2452-43fb-a8a5-5c6ebc02a71d"
      },
      "outputs": [],
      "source": [
        "import pandas as pd\n",
        "import psycopg2\n",
        "\n",
        "# веб-скрэпинг сайтов\n",
        "import requests\n",
        "\n",
        "# скрытие сообщений об ошибках при обработке pandas ответов psycopg2\n",
        "import warnings\n",
        "warnings.filterwarnings('ignore')\n",
        "\n",
        "# подключение графики\n",
        "import plotly.express as px\n",
        "\n",
        "# подключение Latex\n",
        "from IPython.display import Latex"
      ]
    },
    {
      "cell_type": "code",
      "execution_count": 2,
      "id": "75c55110",
      "metadata": {},
      "outputs": [],
      "source": [
        "# функция чтения запроса из файла\n",
        "def read_sql_from_file(filename: str) -> str:\n",
        "    \"\"\" Функция чтения запроса из скрипта формата 'sql'\n",
        "\n",
        "    Args:\n",
        "        filename (str): Относительный путь к файлу скрипта\n",
        "\n",
        "    Returns:\n",
        "        str: Возвращает запрос из скрипта\n",
        "    \"\"\"\n",
        "    with open (filename, 'r', encoding=\"utf8\") as fd:\n",
        "        sql_file = fd.read()\n",
        "    return sql_file"
      ]
    },
    {
      "cell_type": "code",
      "execution_count": 3,
      "id": "oVKH4ehvf8Ay",
      "metadata": {
        "id": "oVKH4ehvf8Ay"
      },
      "outputs": [],
      "source": [
        "# вставьте сюда параметры подключения из юнита 1. Работа с базой данных из Python \n",
        "DBNAME = \n",
        "HOST = \n",
        "PORT = \n",
        "USER = \n",
        "PASSWORD = "
      ]
    },
    {
      "cell_type": "code",
      "execution_count": 4,
      "id": "3efe6b30",
      "metadata": {},
      "outputs": [],
      "source": [
        "# создаем соединение к БД с заданными параметрами\n",
        "connection = psycopg2.connect(\n",
        "    dbname=DBNAME,\n",
        "    user=USER,\n",
        "    host=HOST,\n",
        "    password=PASSWORD,\n",
        "    port=PORT\n",
        ")"
      ]
    },
    {
      "cell_type": "markdown",
      "id": "0dc6476b-7a00-44f1-ac93-6e3baed33a29",
      "metadata": {
        "id": "0dc6476b-7a00-44f1-ac93-6e3baed33a29"
      },
      "source": [
        "# Юнит 3. Предварительный анализ данных"
      ]
    },
    {
      "attachments": {},
      "cell_type": "markdown",
      "id": "889782b6-8d1c-410e-8920-e57f27917c64",
      "metadata": {
        "id": "889782b6-8d1c-410e-8920-e57f27917c64"
      },
      "source": [
        "### 1. Напишите запрос, который посчитает **количество вакансий** в нашей базе (вакансии находятся в таблице *vacancies*)."
      ]
    },
    {
      "cell_type": "code",
      "execution_count": 5,
      "id": "bc39e68e-ed02-4ee2-9235-7258a2f867a8",
      "metadata": {
        "id": "bc39e68e-ed02-4ee2-9235-7258a2f867a8"
      },
      "outputs": [],
      "source": [
        "# текст запроса\n",
        "# так как public единственная схема в данной базе, то схема будет \"опущена\" при написании запросов\n",
        "# (на основании на вебинара по SQL)\n",
        "query_3_1 = read_sql_from_file('./SQL/3.1.sql')\n",
        "# метод read_sql_query -> ответ запроса в виде датафрейма\n",
        "df_3_1 = pd.read_sql_query(query_3_1, connection)"
      ]
    },
    {
      "cell_type": "code",
      "execution_count": 6,
      "id": "7mAwtsk4hEHY",
      "metadata": {
        "id": "7mAwtsk4hEHY"
      },
      "outputs": [
        {
          "data": {
            "text/html": [
              "<div>\n",
              "<style scoped>\n",
              "    .dataframe tbody tr th:only-of-type {\n",
              "        vertical-align: middle;\n",
              "    }\n",
              "\n",
              "    .dataframe tbody tr th {\n",
              "        vertical-align: top;\n",
              "    }\n",
              "\n",
              "    .dataframe thead th {\n",
              "        text-align: right;\n",
              "    }\n",
              "</style>\n",
              "<table border=\"1\" class=\"dataframe\">\n",
              "  <thead>\n",
              "    <tr style=\"text-align: right;\">\n",
              "      <th></th>\n",
              "      <th>cnt_vacancies</th>\n",
              "    </tr>\n",
              "  </thead>\n",
              "  <tbody>\n",
              "    <tr>\n",
              "      <th>0</th>\n",
              "      <td>49197</td>\n",
              "    </tr>\n",
              "  </tbody>\n",
              "</table>\n",
              "</div>"
            ],
            "text/plain": [
              "   cnt_vacancies\n",
              "0          49197"
            ]
          },
          "execution_count": 6,
          "metadata": {},
          "output_type": "execute_result"
        }
      ],
      "source": [
        "# результат запроса\n",
        "df_3_1"
      ]
    },
    {
      "attachments": {},
      "cell_type": "markdown",
      "id": "b583485d-1f9e-494e-ada4-80ffff7c53d6",
      "metadata": {
        "id": "b583485d-1f9e-494e-ada4-80ffff7c53d6"
      },
      "source": [
        "### 2. Напишите запрос, который посчитает **количество работодателей** (таблица *employers*)."
      ]
    },
    {
      "cell_type": "code",
      "execution_count": 7,
      "id": "5408c52c-3407-4a63-b25b-1aafa2322d28",
      "metadata": {
        "id": "5408c52c-3407-4a63-b25b-1aafa2322d28"
      },
      "outputs": [],
      "source": [
        "# текст запроса\n",
        "query_3_2 = read_sql_from_file('./SQL/3.2.sql')\n",
        "df_3_2 = pd.read_sql_query(query_3_2, connection)"
      ]
    },
    {
      "cell_type": "code",
      "execution_count": 8,
      "id": "jVL4eshKhdqc",
      "metadata": {
        "id": "jVL4eshKhdqc"
      },
      "outputs": [
        {
          "data": {
            "text/html": [
              "<div>\n",
              "<style scoped>\n",
              "    .dataframe tbody tr th:only-of-type {\n",
              "        vertical-align: middle;\n",
              "    }\n",
              "\n",
              "    .dataframe tbody tr th {\n",
              "        vertical-align: top;\n",
              "    }\n",
              "\n",
              "    .dataframe thead th {\n",
              "        text-align: right;\n",
              "    }\n",
              "</style>\n",
              "<table border=\"1\" class=\"dataframe\">\n",
              "  <thead>\n",
              "    <tr style=\"text-align: right;\">\n",
              "      <th></th>\n",
              "      <th>cnt_employers</th>\n",
              "    </tr>\n",
              "  </thead>\n",
              "  <tbody>\n",
              "    <tr>\n",
              "      <th>0</th>\n",
              "      <td>23501</td>\n",
              "    </tr>\n",
              "  </tbody>\n",
              "</table>\n",
              "</div>"
            ],
            "text/plain": [
              "   cnt_employers\n",
              "0          23501"
            ]
          },
          "execution_count": 8,
          "metadata": {},
          "output_type": "execute_result"
        }
      ],
      "source": [
        "# результат запроса\n",
        "df_3_2"
      ]
    },
    {
      "attachments": {},
      "cell_type": "markdown",
      "id": "a2bfff1f-c975-4bf6-84be-2185d79dcb76",
      "metadata": {
        "id": "a2bfff1f-c975-4bf6-84be-2185d79dcb76"
      },
      "source": [
        "### 3. Посчитайте с помощью запроса **количество регионов** (таблица *areas*)."
      ]
    },
    {
      "cell_type": "code",
      "execution_count": 9,
      "id": "1m8QJwBYhey6",
      "metadata": {
        "id": "1m8QJwBYhey6"
      },
      "outputs": [],
      "source": [
        "# текст запроса\n",
        "query_3_3 = read_sql_from_file('./SQL/3.3.sql')\n",
        "df_3_3 = pd.read_sql_query(query_3_3, connection)"
      ]
    },
    {
      "cell_type": "code",
      "execution_count": 10,
      "id": "EZsn9tlfhe7f",
      "metadata": {
        "id": "EZsn9tlfhe7f"
      },
      "outputs": [
        {
          "data": {
            "text/html": [
              "<div>\n",
              "<style scoped>\n",
              "    .dataframe tbody tr th:only-of-type {\n",
              "        vertical-align: middle;\n",
              "    }\n",
              "\n",
              "    .dataframe tbody tr th {\n",
              "        vertical-align: top;\n",
              "    }\n",
              "\n",
              "    .dataframe thead th {\n",
              "        text-align: right;\n",
              "    }\n",
              "</style>\n",
              "<table border=\"1\" class=\"dataframe\">\n",
              "  <thead>\n",
              "    <tr style=\"text-align: right;\">\n",
              "      <th></th>\n",
              "      <th>cnt_areas</th>\n",
              "    </tr>\n",
              "  </thead>\n",
              "  <tbody>\n",
              "    <tr>\n",
              "      <th>0</th>\n",
              "      <td>1362</td>\n",
              "    </tr>\n",
              "  </tbody>\n",
              "</table>\n",
              "</div>"
            ],
            "text/plain": [
              "   cnt_areas\n",
              "0       1362"
            ]
          },
          "execution_count": 10,
          "metadata": {},
          "output_type": "execute_result"
        }
      ],
      "source": [
        "# результат запроса\n",
        "df_3_3"
      ]
    },
    {
      "attachments": {},
      "cell_type": "markdown",
      "id": "41bb59f3-53cc-4a67-a5bc-bedf573955e4",
      "metadata": {
        "id": "41bb59f3-53cc-4a67-a5bc-bedf573955e4"
      },
      "source": [
        "### 4. Посчитате с помощью запроса **количество сфер деятельности** в базе (таблица *industries*)."
      ]
    },
    {
      "cell_type": "code",
      "execution_count": 11,
      "id": "d286cf4c-707b-4cd2-9190-7ab3587d04a1",
      "metadata": {
        "id": "d286cf4c-707b-4cd2-9190-7ab3587d04a1"
      },
      "outputs": [],
      "source": [
        "# текст запроса\n",
        "query_3_4 = read_sql_from_file('./SQL/3.4.sql')\n",
        "df_3_4 = pd.read_sql_query(query_3_4, connection)"
      ]
    },
    {
      "cell_type": "code",
      "execution_count": 12,
      "id": "JYAaoZ4qhfzW",
      "metadata": {
        "id": "JYAaoZ4qhfzW"
      },
      "outputs": [
        {
          "data": {
            "text/html": [
              "<div>\n",
              "<style scoped>\n",
              "    .dataframe tbody tr th:only-of-type {\n",
              "        vertical-align: middle;\n",
              "    }\n",
              "\n",
              "    .dataframe tbody tr th {\n",
              "        vertical-align: top;\n",
              "    }\n",
              "\n",
              "    .dataframe thead th {\n",
              "        text-align: right;\n",
              "    }\n",
              "</style>\n",
              "<table border=\"1\" class=\"dataframe\">\n",
              "  <thead>\n",
              "    <tr style=\"text-align: right;\">\n",
              "      <th></th>\n",
              "      <th>cnt_industries</th>\n",
              "    </tr>\n",
              "  </thead>\n",
              "  <tbody>\n",
              "    <tr>\n",
              "      <th>0</th>\n",
              "      <td>294</td>\n",
              "    </tr>\n",
              "  </tbody>\n",
              "</table>\n",
              "</div>"
            ],
            "text/plain": [
              "   cnt_industries\n",
              "0             294"
            ]
          },
          "execution_count": 12,
          "metadata": {},
          "output_type": "execute_result"
        }
      ],
      "source": [
        "# результат запроса\n",
        "df_3_4"
      ]
    },
    {
      "attachments": {},
      "cell_type": "markdown",
      "id": "395cdffe",
      "metadata": {},
      "source": [
        "***"
      ]
    },
    {
      "attachments": {},
      "cell_type": "markdown",
      "id": "be4e9bd3-a4db-4a20-82fb-6b02fc2957e0",
      "metadata": {
        "id": "be4e9bd3-a4db-4a20-82fb-6b02fc2957e0"
      },
      "source": [
        "### **Выводы по предварительному анализу данных**\n",
        "\n",
        "Схема данных содержит <font color='LightSeaGreen'>**5 основных таблиц**</font> для анализа вакансий: ***vacancies*** (вакансии), ***employers*** (работодатели), ***areas*** (регионы), ***industries*** (сферы деятельности предприятий), и промежуточная дополнительная таблица ***employers_industries*** (имеет связи по ключам \"многие-ко-многим\" между таблицами *employers* и *industries*).\n",
        "\n",
        "После знакомства с данными в таблицах можно сделать следующие выводы:\n",
        "- Соотношение вакансий и работодателей достигает пропорции **1 : 2**, <font color='LightSeaGreen'>**число работодателей свыше 23 тыс.**</font> (точно, 23501) к <font color='LightSeaGreen'>**числу вакансий почти в 50 тыс.**</font> (точно, 49197).\n",
        "    > Вполне, ожидаемо, так как ***организациям для успешного функционирования могут требоваться как специалисты различного профиля***, особенно в быстрорастущей IT-сфере, так и ***одна вакансия может размещаться в нескольких регионах***;\n",
        "\n",
        "- Табличные данные охватывают довольно широкую географию, включая зарубежные страны (страны СНГ и Европы, и, даже, другие континенты - США, Австралия), в базе представлено <font color='LightSeaGreen'>**почти 1400 регионов**</font> (точно, 1362).\n",
        "    > Некоторые регионы представлены как целой **страной**, так **отдельными городами** входящими в состав страны, что накладывает как неудобства, так и преимущества. Кандидат может рассматривать как глобальный регион (***страну***) в целях релокации, так и выбирать конкретный ***город***, когда выбор сделан. ***Работодатель должен предусмотреть возможность размещения вакансии в обоих регионах*** (дублируя резюме), чтобы соискатель не упустил потенциальный шанс при поиске вакансий;\n",
        "\n",
        "- Работодатели представляют <font color='LightSeaGreen'>**почти 300 различных сфер деятельности**</font> (точно, 294).\n",
        "    > ***Охват достаточный*** для ознакомительного анализа;\n",
        "\n",
        "- В таблице представлено <font color='LightSeaGreen'>**свыше 21 тыс. уникальных вакансий**</font> (точно, 21223). \n",
        "    > Это говорит о ***широких возможностях*** представленных для соискателей, чтобы найти подходящую себе работу (работодателя) из различных сфер деятельности;\n",
        "\n",
        "- <font color='LightSeaGreen'>**Тор-5 популярных вакансий**</font> приходятся **на сферу IT или область анализа данных / аналитики**.\n",
        "\n",
        "<br>\n",
        "\n",
        ">Представленные ***данные содержат достаточный объем информации о вакансиях в разных регионах и сферах деятельности для учебного анализа***, у соискателей есть возможности выбора и шансы для реализации своего профессионального опыта, навыков и знаний."
      ]
    },
    {
      "attachments": {},
      "cell_type": "markdown",
      "id": "9a8a2181-6914-448b-85f1-38f5f18b8a93",
      "metadata": {
        "id": "9a8a2181-6914-448b-85f1-38f5f18b8a93"
      },
      "source": [
        "***"
      ]
    },
    {
      "cell_type": "markdown",
      "id": "8d62a9f3-f64e-4fe7-bdac-c4dffa16155e",
      "metadata": {
        "id": "8d62a9f3-f64e-4fe7-bdac-c4dffa16155e"
      },
      "source": [
        "# Юнит 4. Детальный анализ вакансий"
      ]
    },
    {
      "attachments": {},
      "cell_type": "markdown",
      "id": "93053d3d-b284-481a-9cf7-012d7014c0e0",
      "metadata": {
        "id": "93053d3d-b284-481a-9cf7-012d7014c0e0"
      },
      "source": [
        "### 1. Напишите запрос, который позволит узнать, **сколько** (*cnt*) **вакансий** <font color='LightSeaGreen'>**в каждом регионе**</font> (*area*). <br/>Отсортируйте по <font color='Tomato'>**количеству вакансий в порядке убывания**</font>."
      ]
    },
    {
      "cell_type": "code",
      "execution_count": 13,
      "id": "3f069da6-fdc9-4ae7-b514-fafe2675efd3",
      "metadata": {
        "id": "3f069da6-fdc9-4ae7-b514-fafe2675efd3"
      },
      "outputs": [],
      "source": [
        "# текст запроса\n",
        "query_4_1 = read_sql_from_file('./SQL/4.1.sql')\n",
        "df_4_1 = pd.read_sql_query(query_4_1, connection)"
      ]
    },
    {
      "cell_type": "code",
      "execution_count": 14,
      "id": "P7QL86hrjhRJ",
      "metadata": {
        "id": "P7QL86hrjhRJ"
      },
      "outputs": [
        {
          "data": {
            "text/html": [
              "<div>\n",
              "<style scoped>\n",
              "    .dataframe tbody tr th:only-of-type {\n",
              "        vertical-align: middle;\n",
              "    }\n",
              "\n",
              "    .dataframe tbody tr th {\n",
              "        vertical-align: top;\n",
              "    }\n",
              "\n",
              "    .dataframe thead th {\n",
              "        text-align: right;\n",
              "    }\n",
              "</style>\n",
              "<table border=\"1\" class=\"dataframe\">\n",
              "  <thead>\n",
              "    <tr style=\"text-align: right;\">\n",
              "      <th></th>\n",
              "      <th>area</th>\n",
              "      <th>cnt</th>\n",
              "    </tr>\n",
              "  </thead>\n",
              "  <tbody>\n",
              "    <tr>\n",
              "      <th>0</th>\n",
              "      <td>Москва</td>\n",
              "      <td>5333</td>\n",
              "    </tr>\n",
              "    <tr>\n",
              "      <th>1</th>\n",
              "      <td>Санкт-Петербург</td>\n",
              "      <td>2851</td>\n",
              "    </tr>\n",
              "    <tr>\n",
              "      <th>2</th>\n",
              "      <td>Минск</td>\n",
              "      <td>2112</td>\n",
              "    </tr>\n",
              "    <tr>\n",
              "      <th>3</th>\n",
              "      <td>Новосибирск</td>\n",
              "      <td>2006</td>\n",
              "    </tr>\n",
              "    <tr>\n",
              "      <th>4</th>\n",
              "      <td>Алматы</td>\n",
              "      <td>1892</td>\n",
              "    </tr>\n",
              "  </tbody>\n",
              "</table>\n",
              "</div>"
            ],
            "text/plain": [
              "              area   cnt\n",
              "0           Москва  5333\n",
              "1  Санкт-Петербург  2851\n",
              "2            Минск  2112\n",
              "3      Новосибирск  2006\n",
              "4           Алматы  1892"
            ]
          },
          "execution_count": 14,
          "metadata": {},
          "output_type": "execute_result"
        }
      ],
      "source": [
        "# результат запроса\n",
        "df_4_1"
      ]
    },
    {
      "attachments": {},
      "cell_type": "markdown",
      "id": "4266f0b6-1646-492a-88b4-2f6a46502135",
      "metadata": {
        "id": "4266f0b6-1646-492a-88b4-2f6a46502135"
      },
      "source": [
        "### 2. Напишите запрос, чтобы определить у какого **количества вакансий** <font color='LightSeaGreen'>**заполнено**</font> <font color='Tomato'>**хотя бы одно**</font> <font color='LightSeaGreen'>**из двух полей с зарплатой**</font>."
      ]
    },
    {
      "cell_type": "code",
      "execution_count": 15,
      "id": "0c44b350-72eb-4d65-8b54-a1fc449ba9fd",
      "metadata": {
        "id": "0c44b350-72eb-4d65-8b54-a1fc449ba9fd"
      },
      "outputs": [],
      "source": [
        "# текст запроса\n",
        "query_4_2 = read_sql_from_file('./SQL/4.2.sql')\n",
        "df_4_2 = pd.read_sql_query(query_4_2, connection)"
      ]
    },
    {
      "cell_type": "code",
      "execution_count": 16,
      "id": "rhvwaMDkoWTi",
      "metadata": {
        "id": "rhvwaMDkoWTi"
      },
      "outputs": [
        {
          "data": {
            "text/html": [
              "<div>\n",
              "<style scoped>\n",
              "    .dataframe tbody tr th:only-of-type {\n",
              "        vertical-align: middle;\n",
              "    }\n",
              "\n",
              "    .dataframe tbody tr th {\n",
              "        vertical-align: top;\n",
              "    }\n",
              "\n",
              "    .dataframe thead th {\n",
              "        text-align: right;\n",
              "    }\n",
              "</style>\n",
              "<table border=\"1\" class=\"dataframe\">\n",
              "  <thead>\n",
              "    <tr style=\"text-align: right;\">\n",
              "      <th></th>\n",
              "      <th>cnt_vacancies_filled_salary</th>\n",
              "    </tr>\n",
              "  </thead>\n",
              "  <tbody>\n",
              "    <tr>\n",
              "      <th>0</th>\n",
              "      <td>24073</td>\n",
              "    </tr>\n",
              "  </tbody>\n",
              "</table>\n",
              "</div>"
            ],
            "text/plain": [
              "   cnt_vacancies_filled_salary\n",
              "0                        24073"
            ]
          },
          "execution_count": 16,
          "metadata": {},
          "output_type": "execute_result"
        }
      ],
      "source": [
        "# результат запроса\n",
        "df_4_2"
      ]
    },
    {
      "attachments": {},
      "cell_type": "markdown",
      "id": "635c4d5d-f323-4c66-b428-50a088120aa0",
      "metadata": {
        "id": "635c4d5d-f323-4c66-b428-50a088120aa0"
      },
      "source": [
        "### 3. Найдите **средние значения** <font color='LightSeaGreen'>**для нижней**</font> **и** <font color='LightSeaGreen'>**верхней границы зарплатной вилки**</font>. Округлите значения <font color='Tomato'>**до целого**</font>."
      ]
    },
    {
      "cell_type": "code",
      "execution_count": 17,
      "id": "603cdbe4-0ec3-4106-8eaf-c73fcdd29165",
      "metadata": {
        "id": "603cdbe4-0ec3-4106-8eaf-c73fcdd29165"
      },
      "outputs": [],
      "source": [
        "query_4_3 = read_sql_from_file('./SQL/4.3.sql')\n",
        "df_4_3 = pd.read_sql_query(query_4_3, connection)"
      ]
    },
    {
      "cell_type": "code",
      "execution_count": 18,
      "id": "pswpAb66ovZZ",
      "metadata": {
        "id": "pswpAb66ovZZ"
      },
      "outputs": [
        {
          "data": {
            "text/html": [
              "<div>\n",
              "<style scoped>\n",
              "    .dataframe tbody tr th:only-of-type {\n",
              "        vertical-align: middle;\n",
              "    }\n",
              "\n",
              "    .dataframe tbody tr th {\n",
              "        vertical-align: top;\n",
              "    }\n",
              "\n",
              "    .dataframe thead th {\n",
              "        text-align: right;\n",
              "    }\n",
              "</style>\n",
              "<table border=\"1\" class=\"dataframe\">\n",
              "  <thead>\n",
              "    <tr style=\"text-align: right;\">\n",
              "      <th></th>\n",
              "      <th>Min_AVG_salary_from</th>\n",
              "      <th>Max_AVG_salary_to</th>\n",
              "    </tr>\n",
              "  </thead>\n",
              "  <tbody>\n",
              "    <tr>\n",
              "      <th>0</th>\n",
              "      <td>71065</td>\n",
              "      <td>110537</td>\n",
              "    </tr>\n",
              "  </tbody>\n",
              "</table>\n",
              "</div>"
            ],
            "text/plain": [
              "   Min_AVG_salary_from  Max_AVG_salary_to\n",
              "0                71065             110537"
            ]
          },
          "execution_count": 18,
          "metadata": {},
          "output_type": "execute_result"
        }
      ],
      "source": [
        "# результат запроса\n",
        "df_4_3"
      ]
    },
    {
      "attachments": {},
      "cell_type": "markdown",
      "id": "f3fdaec9-5fd3-4260-9cf5-1d7406b628a5",
      "metadata": {
        "id": "f3fdaec9-5fd3-4260-9cf5-1d7406b628a5"
      },
      "source": [
        "### 4. Напишите запрос, который выведет **количество вакансий** <font color='LightSeaGreen'>**для каждого сочетания типа рабочего графика**</font> (*schedule*) **и** <font color='LightSeaGreen'>**типа трудоустройства**</font> (*employment*), используемого в вакансиях. <br/>Результат отсортируйте по <font color='Tomato'>**убыванию количества**</font>."
      ]
    },
    {
      "cell_type": "code",
      "execution_count": 19,
      "id": "1ea710ec-871b-431e-9462-c7d0fd87011b",
      "metadata": {
        "id": "1ea710ec-871b-431e-9462-c7d0fd87011b"
      },
      "outputs": [],
      "source": [
        "# текст запроса\n",
        "query_4_4 = read_sql_from_file('./SQL/4.4.sql')\n",
        "df_4_4 = pd.read_sql_query(query_4_4, connection)"
      ]
    },
    {
      "cell_type": "code",
      "execution_count": 20,
      "id": "lGUVqavdo4JQ",
      "metadata": {
        "id": "lGUVqavdo4JQ"
      },
      "outputs": [
        {
          "data": {
            "text/html": [
              "<div>\n",
              "<style scoped>\n",
              "    .dataframe tbody tr th:only-of-type {\n",
              "        vertical-align: middle;\n",
              "    }\n",
              "\n",
              "    .dataframe tbody tr th {\n",
              "        vertical-align: top;\n",
              "    }\n",
              "\n",
              "    .dataframe thead th {\n",
              "        text-align: right;\n",
              "    }\n",
              "</style>\n",
              "<table border=\"1\" class=\"dataframe\">\n",
              "  <thead>\n",
              "    <tr style=\"text-align: right;\">\n",
              "      <th></th>\n",
              "      <th>schedule</th>\n",
              "      <th>employment</th>\n",
              "      <th>cnt_vacancies</th>\n",
              "    </tr>\n",
              "  </thead>\n",
              "  <tbody>\n",
              "    <tr>\n",
              "      <th>0</th>\n",
              "      <td>Полный день</td>\n",
              "      <td>Полная занятость</td>\n",
              "      <td>35367</td>\n",
              "    </tr>\n",
              "    <tr>\n",
              "      <th>1</th>\n",
              "      <td>Удаленная работа</td>\n",
              "      <td>Полная занятость</td>\n",
              "      <td>7802</td>\n",
              "    </tr>\n",
              "    <tr>\n",
              "      <th>2</th>\n",
              "      <td>Гибкий график</td>\n",
              "      <td>Полная занятость</td>\n",
              "      <td>1593</td>\n",
              "    </tr>\n",
              "    <tr>\n",
              "      <th>3</th>\n",
              "      <td>Удаленная работа</td>\n",
              "      <td>Частичная занятость</td>\n",
              "      <td>1312</td>\n",
              "    </tr>\n",
              "    <tr>\n",
              "      <th>4</th>\n",
              "      <td>Сменный график</td>\n",
              "      <td>Полная занятость</td>\n",
              "      <td>940</td>\n",
              "    </tr>\n",
              "    <tr>\n",
              "      <th>5</th>\n",
              "      <td>Полный день</td>\n",
              "      <td>Стажировка</td>\n",
              "      <td>569</td>\n",
              "    </tr>\n",
              "    <tr>\n",
              "      <th>6</th>\n",
              "      <td>Вахтовый метод</td>\n",
              "      <td>Полная занятость</td>\n",
              "      <td>367</td>\n",
              "    </tr>\n",
              "    <tr>\n",
              "      <th>7</th>\n",
              "      <td>Полный день</td>\n",
              "      <td>Частичная занятость</td>\n",
              "      <td>347</td>\n",
              "    </tr>\n",
              "    <tr>\n",
              "      <th>8</th>\n",
              "      <td>Гибкий график</td>\n",
              "      <td>Частичная занятость</td>\n",
              "      <td>312</td>\n",
              "    </tr>\n",
              "    <tr>\n",
              "      <th>9</th>\n",
              "      <td>Полный день</td>\n",
              "      <td>Проектная работа</td>\n",
              "      <td>141</td>\n",
              "    </tr>\n",
              "    <tr>\n",
              "      <th>10</th>\n",
              "      <td>Удаленная работа</td>\n",
              "      <td>Проектная работа</td>\n",
              "      <td>133</td>\n",
              "    </tr>\n",
              "    <tr>\n",
              "      <th>11</th>\n",
              "      <td>Гибкий график</td>\n",
              "      <td>Стажировка</td>\n",
              "      <td>116</td>\n",
              "    </tr>\n",
              "    <tr>\n",
              "      <th>12</th>\n",
              "      <td>Сменный график</td>\n",
              "      <td>Частичная занятость</td>\n",
              "      <td>101</td>\n",
              "    </tr>\n",
              "    <tr>\n",
              "      <th>13</th>\n",
              "      <td>Удаленная работа</td>\n",
              "      <td>Стажировка</td>\n",
              "      <td>64</td>\n",
              "    </tr>\n",
              "    <tr>\n",
              "      <th>14</th>\n",
              "      <td>Гибкий график</td>\n",
              "      <td>Проектная работа</td>\n",
              "      <td>18</td>\n",
              "    </tr>\n",
              "    <tr>\n",
              "      <th>15</th>\n",
              "      <td>Сменный график</td>\n",
              "      <td>Стажировка</td>\n",
              "      <td>12</td>\n",
              "    </tr>\n",
              "    <tr>\n",
              "      <th>16</th>\n",
              "      <td>Вахтовый метод</td>\n",
              "      <td>Проектная работа</td>\n",
              "      <td>2</td>\n",
              "    </tr>\n",
              "    <tr>\n",
              "      <th>17</th>\n",
              "      <td>Сменный график</td>\n",
              "      <td>Проектная работа</td>\n",
              "      <td>1</td>\n",
              "    </tr>\n",
              "  </tbody>\n",
              "</table>\n",
              "</div>"
            ],
            "text/plain": [
              "            schedule           employment  cnt_vacancies\n",
              "0        Полный день     Полная занятость          35367\n",
              "1   Удаленная работа     Полная занятость           7802\n",
              "2      Гибкий график     Полная занятость           1593\n",
              "3   Удаленная работа  Частичная занятость           1312\n",
              "4     Сменный график     Полная занятость            940\n",
              "5        Полный день           Стажировка            569\n",
              "6     Вахтовый метод     Полная занятость            367\n",
              "7        Полный день  Частичная занятость            347\n",
              "8      Гибкий график  Частичная занятость            312\n",
              "9        Полный день     Проектная работа            141\n",
              "10  Удаленная работа     Проектная работа            133\n",
              "11     Гибкий график           Стажировка            116\n",
              "12    Сменный график  Частичная занятость            101\n",
              "13  Удаленная работа           Стажировка             64\n",
              "14     Гибкий график     Проектная работа             18\n",
              "15    Сменный график           Стажировка             12\n",
              "16    Вахтовый метод     Проектная работа              2\n",
              "17    Сменный график     Проектная работа              1"
            ]
          },
          "execution_count": 20,
          "metadata": {},
          "output_type": "execute_result"
        }
      ],
      "source": [
        "# результат запроса\n",
        "df_4_4"
      ]
    },
    {
      "attachments": {},
      "cell_type": "markdown",
      "id": "0136ffee-0ead-4a6b-b608-61d1c753a438",
      "metadata": {
        "id": "0136ffee-0ead-4a6b-b608-61d1c753a438"
      },
      "source": [
        "### 5. Напишите запрос, выводящий значения поля требуемый **опыт работы** (*experience*) в порядке <font color='Tomato'>**возрастания количества вакансий**</font>, в которых <font color='LightSeaGreen'>**указан данный вариант опыта**</font>."
      ]
    },
    {
      "cell_type": "code",
      "execution_count": 21,
      "id": "5b3a8e79-f7ab-4008-b767-12aea3a205ea",
      "metadata": {
        "id": "5b3a8e79-f7ab-4008-b767-12aea3a205ea"
      },
      "outputs": [],
      "source": [
        "# текст запроса\n",
        "query_4_5 = read_sql_from_file('./SQL/4.5.sql')\n",
        "df_4_5 = pd.read_sql_query(query_4_5, connection)"
      ]
    },
    {
      "cell_type": "code",
      "execution_count": 22,
      "id": "3Is64Y-hpDpq",
      "metadata": {
        "id": "3Is64Y-hpDpq"
      },
      "outputs": [
        {
          "data": {
            "text/html": [
              "<div>\n",
              "<style scoped>\n",
              "    .dataframe tbody tr th:only-of-type {\n",
              "        vertical-align: middle;\n",
              "    }\n",
              "\n",
              "    .dataframe tbody tr th {\n",
              "        vertical-align: top;\n",
              "    }\n",
              "\n",
              "    .dataframe thead th {\n",
              "        text-align: right;\n",
              "    }\n",
              "</style>\n",
              "<table border=\"1\" class=\"dataframe\">\n",
              "  <thead>\n",
              "    <tr style=\"text-align: right;\">\n",
              "      <th></th>\n",
              "      <th>experience</th>\n",
              "      <th>cnt_vacancies</th>\n",
              "    </tr>\n",
              "  </thead>\n",
              "  <tbody>\n",
              "    <tr>\n",
              "      <th>0</th>\n",
              "      <td>Более 6 лет</td>\n",
              "      <td>1337</td>\n",
              "    </tr>\n",
              "    <tr>\n",
              "      <th>1</th>\n",
              "      <td>Нет опыта</td>\n",
              "      <td>7197</td>\n",
              "    </tr>\n",
              "    <tr>\n",
              "      <th>2</th>\n",
              "      <td>От 3 до 6 лет</td>\n",
              "      <td>14511</td>\n",
              "    </tr>\n",
              "    <tr>\n",
              "      <th>3</th>\n",
              "      <td>От 1 года до 3 лет</td>\n",
              "      <td>26152</td>\n",
              "    </tr>\n",
              "  </tbody>\n",
              "</table>\n",
              "</div>"
            ],
            "text/plain": [
              "           experience  cnt_vacancies\n",
              "0         Более 6 лет           1337\n",
              "1           Нет опыта           7197\n",
              "2       От 3 до 6 лет          14511\n",
              "3  От 1 года до 3 лет          26152"
            ]
          },
          "execution_count": 22,
          "metadata": {},
          "output_type": "execute_result"
        }
      ],
      "source": [
        "# результат запроса\n",
        "df_4_5"
      ]
    },
    {
      "attachments": {},
      "cell_type": "markdown",
      "id": "5af5dc8b",
      "metadata": {},
      "source": [
        "***"
      ]
    },
    {
      "attachments": {},
      "cell_type": "markdown",
      "id": "e91f87ed-e25c-4f96-9f92-b642e8c0b4fa",
      "metadata": {
        "id": "e91f87ed-e25c-4f96-9f92-b642e8c0b4fa"
      },
      "source": [
        "### **Выводы по детальному анализу вакансий**\n",
        "\n",
        "После детального анализа вакансий и дополнительного исследования можно сделать следующие выводы:\n",
        "\n",
        "- Основная доля вакансий размещены в крупных городах-миллионниках, в <font color='LightSeaGreen'>**Топ-5 по числу вакансий**</font> входят:\n",
        "    - Москва, \n",
        "    - Санкт-Петербург, \n",
        "    - Минск, \n",
        "    - Новосибирск,\n",
        "    - Алматы.\n",
        "    \n",
        "    <br>\n",
        "\n",
        "    На данные города приходится 28,85% всех вакансий. <font color='LightSeaGreen'>**Москва**</font> - абсолютный лидер в данном рейтинге, <font color='LightSeaGreen'>**свыше 5,3 тыс.**</font> вакансий. За ним следует <font color='LightSeaGreen'>**Санкт-Петербург**</font>, где <font color='LightSeaGreen'>**почти 2,9 тыс.**</font> вакансий.<br>\n",
        "    > Это связано с тем, что ***крупные города***, где расположено множество бизнес-центров ***представляют более гибкие возможности для развития многих компаний IT-сферы*** и становления стартап-компаний IT-сферы (коворкинг, стабильные и надежные интернет-провайдеры, транспортные узлы и развязки);\n",
        "\n",
        "- Данные о границах зарплатой вилки **доступны только в половине вакансий** - 48,93% (<font color='LightSeaGreen'>**свыше 24 тыс. из более 49 тыс. вакансий**</font>), остальные - гибко обсуждаемы при формировании оффера, возможно, скрыты из соблюдений коммерческой тайны.\n",
        "    > Данное обстоятельство необходимо учесть при разработке алгоритмов рекомендаций вакансий, например, ***предсказывать эти значения*** из аналогичных вакансий ***посредством заполнения модальным значением*** или ***задания весового коэффициента для этого признака*** при отборе подходящих вакансий, и т.д.\n",
        "\n",
        "- В данных **по вакансиям** <font color='Tomato'>**разброс значений**</font> ***для границ зарплатной вилки*** <font color='Tomato'>**слишком велик, присутствуют потенциально аномальные значения**</font> в зарплатной вилке, как по нижней границе: 30-1000000 руб., так и по верхней: 75-1000000 руб.\n",
        "    > <font color='Tomato'>**Что делает расчет среднего значения**</font> для этих параметров <font color='Tomato'>**неинформативным**</font>. \n",
        "    \n",
        "    Например, вакансия \"технический директор\" со стартовой вилкой в 1 млн. руб. присутствует, это единичная вакансия, можно сказать, что это ***\"выброс\"***. Также и по верхней вилке, данные, вероятнее всего, ошибочны - возможно, загружены ошибочные данные или не учтена размерность валютных значений (кратность), в тысячах рублей.\n",
        "\n",
        "    > Как показал анализ, ***разброс уровня ЗП*** <font color='LightSeaGreen'>**может существенно различаться**</font> в зависимости от *региона*, *сферы деятельности предприятия*, так и *потенциально занимаемой должности*. \n",
        "\n",
        "- Работодатели отдают **преимущество сотрудникам, которые** будут заняты и <font color='LightSeaGreen'>**полностью погружены в рабочий процесс**</font> в 71,89% вакансий, сочетание \"Полный день\" - \"Полная занятость\". В 15,86% вакансий работодатели готовы рассмотреть и предложить \"удаленную работу\" с \"полной занятостью\".\n",
        "\n",
        "- Рынок вакансий выглядит **достаточно активным**:\n",
        "    - ${}^2/_3$ ***(67,78%) вакансий*** <font color='LightSeaGreen'>**не требуют сверхвысокой квалификации**</font> - только от года до трёх или, вообще, без опыта. \n",
        "    - В большинстве вакансий (53,15%) требуются соискатели с опытом работы от 1 года до 3 лет, \n",
        "    - Достаточно большое кол-во вакансий (14,63%), где готовы взять соискателя без опыта работы,\n",
        "    - Только в 29,5% вакансий необходимый опыт составляет от 3 до 6 лет.\n",
        "    \n",
        "    <br>\n",
        "\n",
        "    > По зарплатным ожиданиям ***тепловая карта показывает*** <font color='LightSeaGreen'>**прямую зависимость**</font> средних минимальных и максимальных уровней зарплатной вилки <font color='LightSeaGreen'>**от опыта работы**</font> (запрос 7.3). \n",
        "\n",
        "- Результаты запроса 7.2 с точки зрения **финансового вознаграждения по вакансиям из области Data Science**: \n",
        "    - С графиками на \"полный день\" и \"удаленная работа\", *уровни соотношения распределяются, примерно, на одном уровне*, **1 : 1** - Москва, Санкт-Петербург, Рязань, <font color='LightSeaGreen'>**соискатель волен выбирать удобный ему вариант типа занятости**</font>. \n",
        "    - Рязань и Пермь выделяются особо - <font color='LightSeaGreen'>**работодатели готовы больше платить**</font> таким ***талантливым удаленным сотрудникам***, так как локально, видимо, <font color='Tomato'>**не хватает достаточно квалифицированных кадров**</font>. \n",
        "    - Несмотря на близость расположения к столице, Королев *не жалует специалистов DS, как финансово, так и с вариантом работы только из дома*. \n",
        "    - Новосибирск, наоборот, <font color='Tomato'>**вряд ли порадует \"удалёнщиков\"**</font>, разрыв достигает почти 60% (58,33%), но <font color='LightSeaGreen'>**готов оплатить труды и старания при работе в офисе**</font>.\n",
        "    - Армения готова вкладываться в специалистов и <font color='LightSeaGreen'>**щедро платить, почти 270 тыс. руб. в среднем**</font>, но <font color='Tomato'>**придется смириться с отсутствием возможности \"удалёнки\"**</font>, как и **в Белгороде**, город очень небольшой, но <font color='LightSeaGreen'>**хорошим специалистам готовы платить свыше 200 тыс**</font>. \n",
        "    - Города на периферии РФ и Республика Казахстан <font color='Tomato'>**не готовы платить свыше 100 тыс. руб., даже, при работе в офисе**</font>, хотя <font color='LightSeaGreen'>**Уфа выгодно выделяется \"удалённым графиком\"**</font>.\n",
        "    - **Страны Европы и Ближнего Востока** готовы и платить талантам, и открыты к \"удалёнщикам\" - <font color='LightSeaGreen'>**предоставляются все возможности для комфортной и успешной работы**</font>.\n",
        "    \n",
        "    <br>\n",
        "    \n",
        "- По запросу 7.4 <font color='LightSeaGreen'>**Топ-5 работодателей**</font> предлагающих вакансии <font color='LightSeaGreen'>**из области Data Science**</font> приходится на:\n",
        "    - Банковскую деятельность и банки (СБЕР, Банк ВТБ), что, несколько удивляет, так планируешь увидеть на первом и втором местах как минимум VK или Яндекс; \n",
        "    - Системная интеграция и автоматизация, интеграторы, ожидались, как раз, на 1 месте (VK, Bell Integrator, Positive Technologies);\n",
        "    - Замыкает пятерку лидеров - онлайн-казино, что удивило еще больше, хотя взглянув на сайт, понимаешь, что работодатель в тренде - использует криптовалюту <img src='https://discords.com/_next/image?url=https%3A%2F%2Fcdn.discordapp.com%2Femojis%2F869353535416967188.gif%3Fv%3D1&w=64&q=75' width='20'><img src='https://discords.com/_next/image?url=https%3A%2F%2Fcdn.discordapp.com%2Femojis%2F624256731337326592.gif%3Fv%3D1&w=64&q=75' width='20'><img src='https://discords.com/_next/image?url=https%3A%2F%2Fcdn.discordapp.com%2Femojis%2F624235898657046529.gif%3Fv%3D1&w=64&q=75' width='20'>, а, значит, и требуются специалисты с релевантными навыками.\n",
        "    \n",
        "    Оставшиеся в списке: \n",
        "    - Крупные и средние ритейлеры, такие как МТС, Мегафон, Ozon, Лента и Спортмастер;\n",
        "    - Работодатели касающиеся финансовой сферы, в т.ч. банки - Газпромбанк, сюда также могут попасть Яндекс Банк и МТС Банк (но быть под общим названием);\n",
        "    - Интеграторы в списке также знакомы - Andersen (*я лично прошёл успешно вступительные испытания и был зачислен на стажировку*), Бэнкс Софт Системс, Контур, 2ГИС, inDriver, Иннотех.\n",
        "    \n",
        "    <br>\n",
        "    \n",
        "    > Вполне ожидаемая истина: данные компании ***бесспорно преуспевают сегодня*** в современном бизнесе, ***в том числе, благодаря и Data Science***. Как видно, ***компетентные компании - профессионалы своего дела***, закладывая надёжный фундамент ***с помощью специалистов DS управляют ожиданиями потребителей*** и являются лидерами в этом направлении."
      ]
    },
    {
      "cell_type": "markdown",
      "id": "oq2b7n1QpIka",
      "metadata": {
        "id": "oq2b7n1QpIka"
      },
      "source": [
        "***"
      ]
    },
    {
      "cell_type": "markdown",
      "id": "7ea20ab6-04a7-40a0-adec-443a0e5a42c3",
      "metadata": {
        "id": "7ea20ab6-04a7-40a0-adec-443a0e5a42c3"
      },
      "source": [
        "# Юнит 5. Анализ работодателей"
      ]
    },
    {
      "attachments": {},
      "cell_type": "markdown",
      "id": "968aed80-74ef-4ffb-b5bf-c65b84e9caea",
      "metadata": {
        "id": "968aed80-74ef-4ffb-b5bf-c65b84e9caea"
      },
      "source": [
        "### 1. Напишите запрос, который позволит узнать, **какие работодатели** находятся на <font color='LightSeaGreen'>**первом**</font> и <font color='LightSeaGreen'>**пятом**</font> месте **по количеству вакансий**."
      ]
    },
    {
      "cell_type": "code",
      "execution_count": 23,
      "id": "f2d62796-d400-4ec1-a675-88112739a50e",
      "metadata": {
        "id": "f2d62796-d400-4ec1-a675-88112739a50e"
      },
      "outputs": [],
      "source": [
        "# текст запроса\n",
        "query_5_1 = read_sql_from_file('./SQL/5.1.sql')\n",
        "df_5_1 = pd.read_sql_query(query_5_1, connection)"
      ]
    },
    {
      "cell_type": "code",
      "execution_count": 24,
      "id": "64tOMkAxqkQk",
      "metadata": {
        "id": "64tOMkAxqkQk"
      },
      "outputs": [
        {
          "data": {
            "text/html": [
              "<div>\n",
              "<style scoped>\n",
              "    .dataframe tbody tr th:only-of-type {\n",
              "        vertical-align: middle;\n",
              "    }\n",
              "\n",
              "    .dataframe tbody tr th {\n",
              "        vertical-align: top;\n",
              "    }\n",
              "\n",
              "    .dataframe thead th {\n",
              "        text-align: right;\n",
              "    }\n",
              "</style>\n",
              "<table border=\"1\" class=\"dataframe\">\n",
              "  <thead>\n",
              "    <tr style=\"text-align: right;\">\n",
              "      <th></th>\n",
              "      <th>employer_name</th>\n",
              "      <th>cnt_vacancies</th>\n",
              "    </tr>\n",
              "  </thead>\n",
              "  <tbody>\n",
              "    <tr>\n",
              "      <th>0</th>\n",
              "      <td>Яндекс</td>\n",
              "      <td>1933</td>\n",
              "    </tr>\n",
              "    <tr>\n",
              "      <th>1</th>\n",
              "      <td>Газпром нефть</td>\n",
              "      <td>331</td>\n",
              "    </tr>\n",
              "  </tbody>\n",
              "</table>\n",
              "</div>"
            ],
            "text/plain": [
              "   employer_name  cnt_vacancies\n",
              "0         Яндекс           1933\n",
              "1  Газпром нефть            331"
            ]
          },
          "execution_count": 24,
          "metadata": {},
          "output_type": "execute_result"
        }
      ],
      "source": [
        "# результат запроса\n",
        "df_5_1"
      ]
    },
    {
      "attachments": {},
      "cell_type": "markdown",
      "id": "68377cfc-b378-43dc-ab7d-1195abf2c515",
      "metadata": {
        "id": "68377cfc-b378-43dc-ab7d-1195abf2c515"
      },
      "source": [
        "### 2. Напишите запрос, который <font color='LightSeaGreen'>**для каждого региона**</font> выведет **количество работодателей** и **вакансий в нём**. <br><font color=\"Tomato\">**Среди регионов, в которых нет вакансий**</font>, найдите тот, в котором ***наибольшее количество работодателей***\n"
      ]
    },
    {
      "cell_type": "code",
      "execution_count": 25,
      "id": "dd7df27a-e3e8-412e-a21a-5d389b71e891",
      "metadata": {
        "id": "dd7df27a-e3e8-412e-a21a-5d389b71e891"
      },
      "outputs": [],
      "source": [
        "# текст запроса\n",
        "# объёмный запрос, на выполнение требуется время ожидания\n",
        "query_5_2 = read_sql_from_file('./SQL/5.2.sql')\n",
        "df_5_2 = pd.read_sql_query(query_5_2, connection)"
      ]
    },
    {
      "cell_type": "code",
      "execution_count": 26,
      "id": "x1ikWbydrbf6",
      "metadata": {
        "id": "x1ikWbydrbf6"
      },
      "outputs": [
        {
          "data": {
            "text/html": [
              "<div>\n",
              "<style scoped>\n",
              "    .dataframe tbody tr th:only-of-type {\n",
              "        vertical-align: middle;\n",
              "    }\n",
              "\n",
              "    .dataframe tbody tr th {\n",
              "        vertical-align: top;\n",
              "    }\n",
              "\n",
              "    .dataframe thead th {\n",
              "        text-align: right;\n",
              "    }\n",
              "</style>\n",
              "<table border=\"1\" class=\"dataframe\">\n",
              "  <thead>\n",
              "    <tr style=\"text-align: right;\">\n",
              "      <th></th>\n",
              "      <th>area_name</th>\n",
              "      <th>cnt_employers</th>\n",
              "      <th>cnt_vacancies</th>\n",
              "    </tr>\n",
              "  </thead>\n",
              "  <tbody>\n",
              "    <tr>\n",
              "      <th>0</th>\n",
              "      <td>Россия</td>\n",
              "      <td>410</td>\n",
              "      <td>0</td>\n",
              "    </tr>\n",
              "  </tbody>\n",
              "</table>\n",
              "</div>"
            ],
            "text/plain": [
              "  area_name  cnt_employers  cnt_vacancies\n",
              "0    Россия            410              0"
            ]
          },
          "execution_count": 26,
          "metadata": {},
          "output_type": "execute_result"
        }
      ],
      "source": [
        "# результат запроса\n",
        "df_5_2"
      ]
    },
    {
      "attachments": {},
      "cell_type": "markdown",
      "id": "f2fe0acb-ab1a-4e15-9326-2560e22d73c1",
      "metadata": {
        "id": "f2fe0acb-ab1a-4e15-9326-2560e22d73c1"
      },
      "source": [
        "### 3. <font color='LightSeaGreen'>**Для каждого работодателя**</font> посчитайте **количество регионов**, в которых он публикует свои вакансии. Отсортируйте результат по <font color='Tomato'>**убыванию количества**</font>."
      ]
    },
    {
      "cell_type": "code",
      "execution_count": 27,
      "id": "6271f8ad-bd2e-4196-ae4a-5b39c4c1010e",
      "metadata": {
        "id": "6271f8ad-bd2e-4196-ae4a-5b39c4c1010e"
      },
      "outputs": [],
      "source": [
        "# текст запроса\n",
        "query_5_3 = read_sql_from_file('./SQL/5.3.sql')\n",
        "df_5_3 = pd.read_sql_query(query_5_3, connection)"
      ]
    },
    {
      "cell_type": "code",
      "execution_count": 28,
      "id": "1EIvX3HasH4F",
      "metadata": {
        "id": "1EIvX3HasH4F"
      },
      "outputs": [
        {
          "data": {
            "text/html": [
              "<div>\n",
              "<style scoped>\n",
              "    .dataframe tbody tr th:only-of-type {\n",
              "        vertical-align: middle;\n",
              "    }\n",
              "\n",
              "    .dataframe tbody tr th {\n",
              "        vertical-align: top;\n",
              "    }\n",
              "\n",
              "    .dataframe thead th {\n",
              "        text-align: right;\n",
              "    }\n",
              "</style>\n",
              "<table border=\"1\" class=\"dataframe\">\n",
              "  <thead>\n",
              "    <tr style=\"text-align: right;\">\n",
              "      <th></th>\n",
              "      <th>employer_name</th>\n",
              "      <th>cnt_areas</th>\n",
              "    </tr>\n",
              "  </thead>\n",
              "  <tbody>\n",
              "    <tr>\n",
              "      <th>0</th>\n",
              "      <td>Яндекс</td>\n",
              "      <td>181</td>\n",
              "    </tr>\n",
              "    <tr>\n",
              "      <th>1</th>\n",
              "      <td>Ростелеком</td>\n",
              "      <td>152</td>\n",
              "    </tr>\n",
              "    <tr>\n",
              "      <th>2</th>\n",
              "      <td>Спецремонт</td>\n",
              "      <td>116</td>\n",
              "    </tr>\n",
              "    <tr>\n",
              "      <th>3</th>\n",
              "      <td>Поляков Денис Иванович</td>\n",
              "      <td>88</td>\n",
              "    </tr>\n",
              "    <tr>\n",
              "      <th>4</th>\n",
              "      <td>ООО ЕФИН</td>\n",
              "      <td>71</td>\n",
              "    </tr>\n",
              "    <tr>\n",
              "      <th>...</th>\n",
              "      <td>...</td>\n",
              "      <td>...</td>\n",
              "    </tr>\n",
              "    <tr>\n",
              "      <th>14901</th>\n",
              "      <td>НПП Авиатрон</td>\n",
              "      <td>1</td>\n",
              "    </tr>\n",
              "    <tr>\n",
              "      <th>14902</th>\n",
              "      <td>Центр дистанционных торгов</td>\n",
              "      <td>1</td>\n",
              "    </tr>\n",
              "    <tr>\n",
              "      <th>14903</th>\n",
              "      <td>Городские Телекоммуникационные Системы</td>\n",
              "      <td>1</td>\n",
              "    </tr>\n",
              "    <tr>\n",
              "      <th>14904</th>\n",
              "      <td>Введенский, Отель</td>\n",
              "      <td>1</td>\n",
              "    </tr>\n",
              "    <tr>\n",
              "      <th>14905</th>\n",
              "      <td>Группа Компаний Автоимпорт</td>\n",
              "      <td>1</td>\n",
              "    </tr>\n",
              "  </tbody>\n",
              "</table>\n",
              "<p>14906 rows × 2 columns</p>\n",
              "</div>"
            ],
            "text/plain": [
              "                                employer_name  cnt_areas\n",
              "0                                      Яндекс        181\n",
              "1                                  Ростелеком        152\n",
              "2                                  Спецремонт        116\n",
              "3                      Поляков Денис Иванович         88\n",
              "4                                   ООО ЕФИН          71\n",
              "...                                       ...        ...\n",
              "14901                            НПП Авиатрон          1\n",
              "14902              Центр дистанционных торгов          1\n",
              "14903  Городские Телекоммуникационные Системы          1\n",
              "14904                       Введенский, Отель          1\n",
              "14905              Группа Компаний Автоимпорт          1\n",
              "\n",
              "[14906 rows x 2 columns]"
            ]
          },
          "execution_count": 28,
          "metadata": {},
          "output_type": "execute_result"
        }
      ],
      "source": [
        "# результат запроса\n",
        "df_5_3"
      ]
    },
    {
      "attachments": {},
      "cell_type": "markdown",
      "id": "eab2206d-d95b-468b-8e5f-34381abf0ce7",
      "metadata": {
        "id": "eab2206d-d95b-468b-8e5f-34381abf0ce7"
      },
      "source": [
        "### 4. Напишите запрос для **подсчёта количества работодателей**, у которых <font color='Tomato'>**не указана сфера деятельности**</font>. "
      ]
    },
    {
      "cell_type": "code",
      "execution_count": 29,
      "id": "80defb23-bfb1-4a18-8be6-bf36aa7165d5",
      "metadata": {
        "id": "80defb23-bfb1-4a18-8be6-bf36aa7165d5"
      },
      "outputs": [],
      "source": [
        "# текст запроса\n",
        "query_5_4 = read_sql_from_file('./SQL/5.4.sql')\n",
        "df_5_4 = pd.read_sql_query(query_5_4, connection)"
      ]
    },
    {
      "cell_type": "code",
      "execution_count": 30,
      "id": "Dp_yCx6ysQSu",
      "metadata": {
        "id": "Dp_yCx6ysQSu"
      },
      "outputs": [
        {
          "data": {
            "text/html": [
              "<div>\n",
              "<style scoped>\n",
              "    .dataframe tbody tr th:only-of-type {\n",
              "        vertical-align: middle;\n",
              "    }\n",
              "\n",
              "    .dataframe tbody tr th {\n",
              "        vertical-align: top;\n",
              "    }\n",
              "\n",
              "    .dataframe thead th {\n",
              "        text-align: right;\n",
              "    }\n",
              "</style>\n",
              "<table border=\"1\" class=\"dataframe\">\n",
              "  <thead>\n",
              "    <tr style=\"text-align: right;\">\n",
              "      <th></th>\n",
              "      <th>cnt_employers_empty_industries</th>\n",
              "    </tr>\n",
              "  </thead>\n",
              "  <tbody>\n",
              "    <tr>\n",
              "      <th>0</th>\n",
              "      <td>8419</td>\n",
              "    </tr>\n",
              "  </tbody>\n",
              "</table>\n",
              "</div>"
            ],
            "text/plain": [
              "   cnt_employers_empty_industries\n",
              "0                            8419"
            ]
          },
          "execution_count": 30,
          "metadata": {},
          "output_type": "execute_result"
        }
      ],
      "source": [
        "# результат запроса\n",
        "df_5_4"
      ]
    },
    {
      "attachments": {},
      "cell_type": "markdown",
      "id": "0112af31-f6b0-4e3b-82ab-71296e752e5e",
      "metadata": {
        "id": "0112af31-f6b0-4e3b-82ab-71296e752e5e"
      },
      "source": [
        "### 5. Напишите запрос, чтобы узнать **название компании**, находящейся на <font color='LightSeaGreen'>**третьем месте**</font> <font color='Tomato'>**в алфавитном списке**</font> (по названию) <font color='Tomato'>**компаний**</font>, у которых указано ***четыре сферы деятельности***. "
      ]
    },
    {
      "cell_type": "code",
      "execution_count": 31,
      "id": "973b0cfc-a972-470a-8b4a-68744ef220c4",
      "metadata": {
        "id": "973b0cfc-a972-470a-8b4a-68744ef220c4"
      },
      "outputs": [],
      "source": [
        "# текст запроса\n",
        "query_5_5 = read_sql_from_file('./SQL/5.5.sql')\n",
        "df_5_5 = pd.read_sql_query(query_5_5, connection)"
      ]
    },
    {
      "cell_type": "code",
      "execution_count": 32,
      "id": "xsPtpp8EsaED",
      "metadata": {
        "id": "xsPtpp8EsaED"
      },
      "outputs": [
        {
          "data": {
            "text/html": [
              "<div>\n",
              "<style scoped>\n",
              "    .dataframe tbody tr th:only-of-type {\n",
              "        vertical-align: middle;\n",
              "    }\n",
              "\n",
              "    .dataframe tbody tr th {\n",
              "        vertical-align: top;\n",
              "    }\n",
              "\n",
              "    .dataframe thead th {\n",
              "        text-align: right;\n",
              "    }\n",
              "</style>\n",
              "<table border=\"1\" class=\"dataframe\">\n",
              "  <thead>\n",
              "    <tr style=\"text-align: right;\">\n",
              "      <th></th>\n",
              "      <th>employer_with_4_industries</th>\n",
              "    </tr>\n",
              "  </thead>\n",
              "  <tbody>\n",
              "    <tr>\n",
              "      <th>0</th>\n",
              "      <td>2ГИС</td>\n",
              "    </tr>\n",
              "  </tbody>\n",
              "</table>\n",
              "</div>"
            ],
            "text/plain": [
              "  employer_with_4_industries\n",
              "0                       2ГИС"
            ]
          },
          "execution_count": 32,
          "metadata": {},
          "output_type": "execute_result"
        }
      ],
      "source": [
        "# результат запроса\n",
        "df_5_5"
      ]
    },
    {
      "attachments": {},
      "cell_type": "markdown",
      "id": "3bfcfdaf-755d-4d2b-8ed8-326201dc07ab",
      "metadata": {
        "id": "3bfcfdaf-755d-4d2b-8ed8-326201dc07ab"
      },
      "source": [
        "### 6. С помощью запроса выясните, у <font color='LightSeaGreen'>**какого количества работодателей**</font> в качестве ***сферы деятельности*** указана **\"Разработка программного обеспечения\"**."
      ]
    },
    {
      "cell_type": "code",
      "execution_count": 33,
      "id": "ad3f270f-2991-47eb-929b-e8f88a55b0d1",
      "metadata": {
        "id": "ad3f270f-2991-47eb-929b-e8f88a55b0d1"
      },
      "outputs": [],
      "source": [
        "# текст запроса\n",
        "query_5_6 = read_sql_from_file('./SQL/5.6.sql')\n",
        "df_5_6 = pd.read_sql_query(query_5_6, connection)"
      ]
    },
    {
      "cell_type": "code",
      "execution_count": 34,
      "id": "H72qxWM0shPR",
      "metadata": {
        "id": "H72qxWM0shPR"
      },
      "outputs": [
        {
          "data": {
            "text/html": [
              "<div>\n",
              "<style scoped>\n",
              "    .dataframe tbody tr th:only-of-type {\n",
              "        vertical-align: middle;\n",
              "    }\n",
              "\n",
              "    .dataframe tbody tr th {\n",
              "        vertical-align: top;\n",
              "    }\n",
              "\n",
              "    .dataframe thead th {\n",
              "        text-align: right;\n",
              "    }\n",
              "</style>\n",
              "<table border=\"1\" class=\"dataframe\">\n",
              "  <thead>\n",
              "    <tr style=\"text-align: right;\">\n",
              "      <th></th>\n",
              "      <th>cnt_developer_employers</th>\n",
              "    </tr>\n",
              "  </thead>\n",
              "  <tbody>\n",
              "    <tr>\n",
              "      <th>0</th>\n",
              "      <td>3553</td>\n",
              "    </tr>\n",
              "  </tbody>\n",
              "</table>\n",
              "</div>"
            ],
            "text/plain": [
              "   cnt_developer_employers\n",
              "0                     3553"
            ]
          },
          "execution_count": 34,
          "metadata": {},
          "output_type": "execute_result"
        }
      ],
      "source": [
        "# результат запроса\n",
        "df_5_6"
      ]
    },
    {
      "attachments": {},
      "cell_type": "markdown",
      "id": "7b02bb86-0546-40fb-94a4-242f050a5c57",
      "metadata": {
        "id": "7b02bb86-0546-40fb-94a4-242f050a5c57"
      },
      "source": [
        "### 7. **Для компании «Яндекс»** выведите **список регионов-миллионников**, в которых представлены вакансии компании, вместе <font color='LightSeaGreen'>**с количеством вакансий в этих регионах**</font>. Также ***добавьте строку*** (*Total*) ***с общим количеством вакансий компании***. Результат отсортируйте по <font color='Tomato'>**возрастанию количества**</font>.\n",
        "\n",
        "Список городов-милионников надо взять [отсюда](https://ru.wikipedia.org/wiki/%D0%93%D0%BE%D1%80%D0%BE%D0%B4%D0%B0-%D0%BC%D0%B8%D0%BB%D0%BB%D0%B8%D0%BE%D0%BD%D0%B5%D1%80%D1%8B_%D0%A0%D0%BE%D1%81%D1%81%D0%B8%D0%B8). \n",
        "\n",
        "Если возникнут трудности с этим задание посмотрите материалы модуля  PYTHON-17. Как получать данные из веб-источников и API. "
      ]
    },
    {
      "cell_type": "code",
      "execution_count": 35,
      "id": "ZdfrL6gIs1Pn",
      "metadata": {
        "id": "ZdfrL6gIs1Pn"
      },
      "outputs": [],
      "source": [
        "# код для получения списка городов-милионников\n",
        "url = 'https://ru.wikipedia.org/wiki/Города-миллионеры_России'\n",
        "response = requests.get(url)\n",
        "\n",
        "# считываем 2 по порядку таблицу, корректируем \"хвостики\" в названиях городов, собираем в кортеж \n",
        "df = pd.DataFrame(pd.read_html(response.text)[1])\n",
        "cities = tuple(df['Город'].apply(lambda x: x.strip('[a]')))"
      ]
    },
    {
      "cell_type": "code",
      "execution_count": 36,
      "id": "4dd490e7",
      "metadata": {},
      "outputs": [
        {
          "data": {
            "text/plain": [
              "('Москва',\n",
              " 'Санкт-Петербург',\n",
              " 'Новосибирск',\n",
              " 'Екатеринбург',\n",
              " 'Казань',\n",
              " 'Нижний Новгород',\n",
              " 'Челябинск',\n",
              " 'Красноярск',\n",
              " 'Самара',\n",
              " 'Уфа',\n",
              " 'Ростов-на-Дону',\n",
              " 'Омск',\n",
              " 'Краснодар',\n",
              " 'Воронеж',\n",
              " 'Пермь',\n",
              " 'Волгоград')"
            ]
          },
          "execution_count": 36,
          "metadata": {},
          "output_type": "execute_result"
        }
      ],
      "source": [
        "# проверка результата\n",
        "cities"
      ]
    },
    {
      "cell_type": "code",
      "execution_count": 37,
      "id": "5a0e32a4-e68a-4365-8a39-2fe24c542c36",
      "metadata": {
        "id": "5a0e32a4-e68a-4365-8a39-2fe24c542c36"
      },
      "outputs": [],
      "source": [
        "# текст запроса\n",
        "query_5_7 = f\"\"\"\n",
        "-- вывод вакансий Яндекса по регионам\n",
        "(\n",
        "    SELECT\n",
        "        a.name AS area_name,\n",
        "        COUNT(v.id) AS cnt_yandex_vacancies\n",
        "    FROM\n",
        "        employers AS e\n",
        "        JOIN vacancies AS v\n",
        "            ON e.id = v.employer_id\n",
        "            AND\n",
        "            e.name = 'Яндекс' \n",
        "        JOIN areas AS a\n",
        "            ON v.area_id = a.id\n",
        "            AND \n",
        "            a.name IN {cities}\n",
        "    GROUP BY\n",
        "        a.id\n",
        ")\n",
        "UNION ALL\n",
        "-- вывод вакансий Яндекса совокупно\n",
        "(\n",
        "    SELECT\n",
        "        'Total',\n",
        "        COUNT(v.id)\n",
        "    FROM\n",
        "        employers AS e\n",
        "        JOIN vacancies AS v\n",
        "            ON e.id = v.employer_id\n",
        "            AND\n",
        "            e.name = 'Яндекс' \n",
        "        JOIN areas AS a\n",
        "            ON v.area_id = a.id\n",
        "            AND \n",
        "            a.name IN {cities}\n",
        ")\n",
        "ORDER BY\n",
        "    cnt_yandex_vacancies\n",
        "\"\"\"\n",
        "df_5_7 = pd.read_sql_query(query_5_7, connection)"
      ]
    },
    {
      "cell_type": "code",
      "execution_count": 38,
      "id": "ttPhiO1rsvPq",
      "metadata": {
        "id": "ttPhiO1rsvPq"
      },
      "outputs": [
        {
          "data": {
            "text/html": [
              "<div>\n",
              "<style scoped>\n",
              "    .dataframe tbody tr th:only-of-type {\n",
              "        vertical-align: middle;\n",
              "    }\n",
              "\n",
              "    .dataframe tbody tr th {\n",
              "        vertical-align: top;\n",
              "    }\n",
              "\n",
              "    .dataframe thead th {\n",
              "        text-align: right;\n",
              "    }\n",
              "</style>\n",
              "<table border=\"1\" class=\"dataframe\">\n",
              "  <thead>\n",
              "    <tr style=\"text-align: right;\">\n",
              "      <th></th>\n",
              "      <th>area_name</th>\n",
              "      <th>cnt_yandex_vacancies</th>\n",
              "    </tr>\n",
              "  </thead>\n",
              "  <tbody>\n",
              "    <tr>\n",
              "      <th>0</th>\n",
              "      <td>Омск</td>\n",
              "      <td>21</td>\n",
              "    </tr>\n",
              "    <tr>\n",
              "      <th>1</th>\n",
              "      <td>Челябинск</td>\n",
              "      <td>22</td>\n",
              "    </tr>\n",
              "    <tr>\n",
              "      <th>2</th>\n",
              "      <td>Красноярск</td>\n",
              "      <td>23</td>\n",
              "    </tr>\n",
              "    <tr>\n",
              "      <th>3</th>\n",
              "      <td>Волгоград</td>\n",
              "      <td>24</td>\n",
              "    </tr>\n",
              "    <tr>\n",
              "      <th>4</th>\n",
              "      <td>Пермь</td>\n",
              "      <td>25</td>\n",
              "    </tr>\n",
              "    <tr>\n",
              "      <th>5</th>\n",
              "      <td>Казань</td>\n",
              "      <td>25</td>\n",
              "    </tr>\n",
              "    <tr>\n",
              "      <th>6</th>\n",
              "      <td>Ростов-на-Дону</td>\n",
              "      <td>25</td>\n",
              "    </tr>\n",
              "    <tr>\n",
              "      <th>7</th>\n",
              "      <td>Самара</td>\n",
              "      <td>26</td>\n",
              "    </tr>\n",
              "    <tr>\n",
              "      <th>8</th>\n",
              "      <td>Уфа</td>\n",
              "      <td>26</td>\n",
              "    </tr>\n",
              "    <tr>\n",
              "      <th>9</th>\n",
              "      <td>Краснодар</td>\n",
              "      <td>30</td>\n",
              "    </tr>\n",
              "    <tr>\n",
              "      <th>10</th>\n",
              "      <td>Воронеж</td>\n",
              "      <td>32</td>\n",
              "    </tr>\n",
              "    <tr>\n",
              "      <th>11</th>\n",
              "      <td>Новосибирск</td>\n",
              "      <td>35</td>\n",
              "    </tr>\n",
              "    <tr>\n",
              "      <th>12</th>\n",
              "      <td>Нижний Новгород</td>\n",
              "      <td>36</td>\n",
              "    </tr>\n",
              "    <tr>\n",
              "      <th>13</th>\n",
              "      <td>Екатеринбург</td>\n",
              "      <td>39</td>\n",
              "    </tr>\n",
              "    <tr>\n",
              "      <th>14</th>\n",
              "      <td>Санкт-Петербург</td>\n",
              "      <td>42</td>\n",
              "    </tr>\n",
              "    <tr>\n",
              "      <th>15</th>\n",
              "      <td>Москва</td>\n",
              "      <td>54</td>\n",
              "    </tr>\n",
              "    <tr>\n",
              "      <th>16</th>\n",
              "      <td>Total</td>\n",
              "      <td>485</td>\n",
              "    </tr>\n",
              "  </tbody>\n",
              "</table>\n",
              "</div>"
            ],
            "text/plain": [
              "          area_name  cnt_yandex_vacancies\n",
              "0              Омск                    21\n",
              "1         Челябинск                    22\n",
              "2        Красноярск                    23\n",
              "3         Волгоград                    24\n",
              "4             Пермь                    25\n",
              "5            Казань                    25\n",
              "6    Ростов-на-Дону                    25\n",
              "7            Самара                    26\n",
              "8               Уфа                    26\n",
              "9         Краснодар                    30\n",
              "10          Воронеж                    32\n",
              "11      Новосибирск                    35\n",
              "12  Нижний Новгород                    36\n",
              "13     Екатеринбург                    39\n",
              "14  Санкт-Петербург                    42\n",
              "15           Москва                    54\n",
              "16            Total                   485"
            ]
          },
          "execution_count": 38,
          "metadata": {},
          "output_type": "execute_result"
        }
      ],
      "source": [
        "# результат запроса\n",
        "df_5_7"
      ]
    },
    {
      "attachments": {},
      "cell_type": "markdown",
      "id": "5a395f6a",
      "metadata": {},
      "source": [
        "***"
      ]
    },
    {
      "attachments": {},
      "cell_type": "markdown",
      "id": "aGGyER-yt4SR",
      "metadata": {
        "id": "aGGyER-yt4SR"
      },
      "source": [
        "### **Выводы по детальному анализу работодателей**\n",
        "\n",
        "- Всего в БД хранятся данные о <font color='LightSeaGreen'>**более, чем 23 тыс. работодателей**</font> (точно, 23501). <font color='LightSeaGreen'>**Топ-5 лидеров по количеству размещенных вакансий**</font>, ожидаемо, **зарегистрированы от имени крупных компаний**, таких как:\n",
        "    - Яндекс, \n",
        "    - Ростелеком, \n",
        "    - Тинькофф, \n",
        "    - СБЕР, \n",
        "    - Газпром нефть и т.д. \n",
        "    \n",
        "    Абсолютным лидером является **Яндекс**, они <font color='LightSeaGreen'>**предлагают в 4 раза больше вакансий**</font>, чем другие крупные компании.\n",
        "    \n",
        "    > ***Это одни из крупнейших работодателей, имеющих развитую сеть филиалов / представительств и специализирующихся на нескольких смежных областях и направлениях роста***.  \n",
        "\n",
        "- Среди регионов, в которых нет вакансий, по количеству работодателей лидируют:\n",
        "    - Россия, \n",
        "    - Казахстан, \n",
        "    - Московская область с сильным отставанием от Республики Казахстан в 3 раза (207 против 75).\n",
        "    \n",
        "    <br>\n",
        "\n",
        "    > С оглядкой (на запрос 5.7) стоит отметить, что <font color='Tomato'>**данные были собраны не очень аккуратно или так поданы работодателями**</font>, тут сложно судить почему, может, из экономии средств, ***а, может, чтобы потенциальный соискатель искал не только у себя в регионе, но и смотрел более глобально***.\n",
        "    \n",
        "    Всё-таки в базе есть не только населённые пункты, но и регионы, которые указывают работодатели. Однако, некоторыми работодателями <font color='Tomato'>**формат указания региона явно не был согласован**</font>, где-то не указывают вакансии в крупных регионах (*областях*), а только в ***городах***, или, наоборот, только в ***стране*** (*как глобальный регион*). Например, в <font color='Tomato'>**Ростовской области - нет вакансий**</font>, в то время как <font color='LightSeaGreen'>**в Ростове-на-Дону есть 25 вакансий**</font> от компании **Яндекс**.\n",
        "\n",
        "    > Это создает ***дополнительные сложности в процесс анализа данных*** и <font color='Tomato'>**может привести к некорректным результатам**</font>. \n",
        "\n",
        "- Специалисту по Data Science <font color='LightSeaGreen'>**полезно отслеживать появление вакансий у работодателей, находящихся в регионах**</font> (запрос 5.3). Крупные компании имеют возможность специализироваться на нескольких смежных областях и развивать направления роста, следовательно, есть шансы, что их филиалы появятся в городе проживания кандидата. \n",
        "\n",
        "    > Например, ***СБЕР сейчас в 2023 году активно начал продвигать регион [Сочи](https://developers.sber.ru/kak-v-sbere/locations/sochi)*** в привлечении внимания к IT-сфере.\n",
        "\n",
        "- У более ${}^1/_3$ работодателей (36.72%) указано <font color='LightSeaGreen'>**2 и более сфер деятельности**</font>.\n",
        "\n",
        "    > ***Отсутствие данных о сфере деятельности*** у 35,82% работодателей <font color='Tomato'>**создает ограничения по детализации анализа**</font>.\n",
        "\n",
        "- <font color='LightSeaGreen'>**Свыше 15% работодателей занимаются разработкой ПО**</font> (точно 15,12%). Но трудно сказать, много это или мало, в рамках рынка, зависит от релевантности выборки из баз данных HH.ru.\n",
        "\n",
        "    > ***Применительно ко всем сферам***, 1 из 294, ***это значительный показатель по всем работодателям***, как никак, <font color='LightSeaGreen'>**чуть менее ${}^1/_7$**</font>.\n",
        "\n",
        "- **Среди регионов** с доступными вакансиями **прослеживается** <font color='LightSeaGreen'>**линейная зависимость количества работодателей**</font> и <font color='LightSeaGreen'>**числа предложений**</font>. Работодатели размещают свои вакансии, *преимущественно, в городах-миллионниках и столицах*. Например, <font color='LightSeaGreen'>**в Москве находятся почти 25%**</font> (точно 22,69%) из <font color='LightSeaGreen'>**всех работодалей**</font>, сохраненных в БД, <font color='LightSeaGreen'>**в Санкт-Петербурге более 12%**</font> (точно 12,13%), и далее этот процент уменьшается для остальных регионов.\n",
        "\n",
        "    > Это связано с тем, что ***крупные города***, где расположено множество бизнес-центров ***представляют более гибкие возможности для развития многих компаний IT-сферы*** (коворкинг, стабильные и надежные интернет-провайдеры, транспортные узлы и развязки)."
      ]
    },
    {
      "cell_type": "markdown",
      "id": "04966e40-3bc3-4dc8-9ba2-e80580ce3abc",
      "metadata": {
        "id": "04966e40-3bc3-4dc8-9ba2-e80580ce3abc"
      },
      "source": [
        "***"
      ]
    },
    {
      "cell_type": "markdown",
      "id": "b1ef156a-efcb-49ce-bb23-90763e7f35b2",
      "metadata": {
        "id": "b1ef156a-efcb-49ce-bb23-90763e7f35b2",
        "tags": []
      },
      "source": [
        "# Юнит 6. Предметный анализ"
      ]
    },
    {
      "attachments": {},
      "cell_type": "markdown",
      "id": "b9cd50a0-992d-4988-8463-2b2b1c4629b4",
      "metadata": {
        "id": "b9cd50a0-992d-4988-8463-2b2b1c4629b4"
      },
      "source": [
        "### 1. <font color='LightSeaGreen'>**Сколько вакансий**</font> имеет **отношение к данным**?\n",
        "\n",
        "### Считаем, что вакансия имеет отношение к данным, если в её названии содержатся слова '***data***' или '***данн***'.\n",
        "\n",
        "Подсказка: Обратите внимание, что <font color='Tomato'>**названия вакансий могут быть написаны в любом регистре.**</font>\n"
      ]
    },
    {
      "cell_type": "code",
      "execution_count": 39,
      "id": "54ab0e50-c0f1-47cc-a54b-bc5c8bc363f9",
      "metadata": {
        "id": "54ab0e50-c0f1-47cc-a54b-bc5c8bc363f9"
      },
      "outputs": [],
      "source": [
        "# текст запроса\n",
        "query_6_1 = read_sql_from_file('./SQL/6.1.sql')\n",
        "df_6_1 = pd.read_sql_query(query_6_1, connection)"
      ]
    },
    {
      "cell_type": "code",
      "execution_count": 40,
      "id": "9F1meAqsuUjd",
      "metadata": {
        "id": "9F1meAqsuUjd"
      },
      "outputs": [
        {
          "data": {
            "text/html": [
              "<div>\n",
              "<style scoped>\n",
              "    .dataframe tbody tr th:only-of-type {\n",
              "        vertical-align: middle;\n",
              "    }\n",
              "\n",
              "    .dataframe tbody tr th {\n",
              "        vertical-align: top;\n",
              "    }\n",
              "\n",
              "    .dataframe thead th {\n",
              "        text-align: right;\n",
              "    }\n",
              "</style>\n",
              "<table border=\"1\" class=\"dataframe\">\n",
              "  <thead>\n",
              "    <tr style=\"text-align: right;\">\n",
              "      <th></th>\n",
              "      <th>cnt_data_vacancies</th>\n",
              "    </tr>\n",
              "  </thead>\n",
              "  <tbody>\n",
              "    <tr>\n",
              "      <th>0</th>\n",
              "      <td>1771</td>\n",
              "    </tr>\n",
              "  </tbody>\n",
              "</table>\n",
              "</div>"
            ],
            "text/plain": [
              "   cnt_data_vacancies\n",
              "0                1771"
            ]
          },
          "execution_count": 40,
          "metadata": {},
          "output_type": "execute_result"
        }
      ],
      "source": [
        "# результат запроса\n",
        "df_6_1"
      ]
    },
    {
      "attachments": {},
      "cell_type": "markdown",
      "id": "4dea20cb-a36b-474a-a0b9-e08e8e3857a5",
      "metadata": {
        "id": "4dea20cb-a36b-474a-a0b9-e08e8e3857a5"
      },
      "source": [
        "### 2. **Сколько** есть подходящих **вакансий** <font color='LightSeaGreen'>**для начинающего дата-сайентиста**</font>? \n",
        "\n",
        "### Будем считать **вакансиями для дата-сайентистов** такие, <font color='LightSeaGreen'>**в названии**</font> которых <font color='Tomato'>**есть хотя бы одно**</font> <font color='LightSeaGreen'>**из следующих сочетаний**</font>:\n",
        "* 'data scientist'\n",
        "* 'data science'\n",
        "* 'исследователь данных'\n",
        "* 'ML' (здесь не нужно брать вакансии по HTML)\n",
        "* 'machine learning'\n",
        "* 'машинн%обучен%'\n",
        "\n",
        "***В следующих заданиях мы продолжим работать с вакансиями по этому условию ↑.***\n",
        "\n",
        "### Считаем **вакансиями** для специалистов уровня <font color='LightSeaGreen'>**Junior**</font> следующие:\n",
        "* в названии есть слово 'junior' *или*\n",
        "* требуемый опыт — Нет опыта *или*\n",
        "* тип трудоустройства — Стажировка."
      ]
    },
    {
      "cell_type": "code",
      "execution_count": 41,
      "id": "9c61b3c0-bb66-46c9-ae1e-81d3f5752b4a",
      "metadata": {
        "id": "9c61b3c0-bb66-46c9-ae1e-81d3f5752b4a"
      },
      "outputs": [],
      "source": [
        "# текст запроса\n",
        "query_6_2 = read_sql_from_file('./SQL/6.2.sql')\n",
        "df_6_2 = pd.read_sql_query(query_6_2, connection)"
      ]
    },
    {
      "cell_type": "code",
      "execution_count": 42,
      "id": "ZNM-LLYuu1dj",
      "metadata": {
        "id": "ZNM-LLYuu1dj"
      },
      "outputs": [
        {
          "data": {
            "text/html": [
              "<div>\n",
              "<style scoped>\n",
              "    .dataframe tbody tr th:only-of-type {\n",
              "        vertical-align: middle;\n",
              "    }\n",
              "\n",
              "    .dataframe tbody tr th {\n",
              "        vertical-align: top;\n",
              "    }\n",
              "\n",
              "    .dataframe thead th {\n",
              "        text-align: right;\n",
              "    }\n",
              "</style>\n",
              "<table border=\"1\" class=\"dataframe\">\n",
              "  <thead>\n",
              "    <tr style=\"text-align: right;\">\n",
              "      <th></th>\n",
              "      <th>cnt_junior_ds_vacancies</th>\n",
              "    </tr>\n",
              "  </thead>\n",
              "  <tbody>\n",
              "    <tr>\n",
              "      <th>0</th>\n",
              "      <td>51</td>\n",
              "    </tr>\n",
              "  </tbody>\n",
              "</table>\n",
              "</div>"
            ],
            "text/plain": [
              "   cnt_junior_ds_vacancies\n",
              "0                       51"
            ]
          },
          "execution_count": 42,
          "metadata": {},
          "output_type": "execute_result"
        }
      ],
      "source": [
        "# результат запроса\n",
        "df_6_2"
      ]
    },
    {
      "attachments": {},
      "cell_type": "markdown",
      "id": "eedceb80-c5ca-480e-b27a-278dfb8b4438",
      "metadata": {
        "id": "eedceb80-c5ca-480e-b27a-278dfb8b4438"
      },
      "source": [
        "### 3. **Сколько** есть **вакансий** для **DS**, у которых <font color='LightSeaGreen'>**в качестве ключевого навыка указан SQL или Postgres**</font>?\n",
        "\n",
        "***Критерии для отнесения вакансии к DS указаны в предыдущем задании.***"
      ]
    },
    {
      "cell_type": "code",
      "execution_count": 43,
      "id": "69621713-0cc5-4f1b-a1d7-bb144fa6148c",
      "metadata": {
        "id": "69621713-0cc5-4f1b-a1d7-bb144fa6148c"
      },
      "outputs": [],
      "source": [
        "# текст запроса\n",
        "query_6_3 = read_sql_from_file('./SQL/6.3.sql')\n",
        "df_6_3 = pd.read_sql_query(query_6_3, connection)"
      ]
    },
    {
      "cell_type": "code",
      "execution_count": 44,
      "id": "alA8WEAAvGdf",
      "metadata": {
        "id": "alA8WEAAvGdf"
      },
      "outputs": [
        {
          "data": {
            "text/html": [
              "<div>\n",
              "<style scoped>\n",
              "    .dataframe tbody tr th:only-of-type {\n",
              "        vertical-align: middle;\n",
              "    }\n",
              "\n",
              "    .dataframe tbody tr th {\n",
              "        vertical-align: top;\n",
              "    }\n",
              "\n",
              "    .dataframe thead th {\n",
              "        text-align: right;\n",
              "    }\n",
              "</style>\n",
              "<table border=\"1\" class=\"dataframe\">\n",
              "  <thead>\n",
              "    <tr style=\"text-align: right;\">\n",
              "      <th></th>\n",
              "      <th>cnt_postgres_sql_ds_vacancies</th>\n",
              "    </tr>\n",
              "  </thead>\n",
              "  <tbody>\n",
              "    <tr>\n",
              "      <th>0</th>\n",
              "      <td>201</td>\n",
              "    </tr>\n",
              "  </tbody>\n",
              "</table>\n",
              "</div>"
            ],
            "text/plain": [
              "   cnt_postgres_sql_ds_vacancies\n",
              "0                            201"
            ]
          },
          "execution_count": 44,
          "metadata": {},
          "output_type": "execute_result"
        }
      ],
      "source": [
        "# результат запроса\n",
        "df_6_3"
      ]
    },
    {
      "attachments": {},
      "cell_type": "markdown",
      "id": "1be1e9c6-37cf-4a5f-bfeb-04cab799dc80",
      "metadata": {
        "id": "1be1e9c6-37cf-4a5f-bfeb-04cab799dc80"
      },
      "source": [
        "### 4. Проверьте, насколько популярен Python в требованиях работодателей к DS.\n",
        "### Для этого вычислите **количество вакансий**, у которых <font color='LightSeaGreen'>**в качестве ключевого навыка указан Python**</font>.\n",
        "\n",
        "***Это можно сделать помощью запроса, аналогичного предыдущему.***"
      ]
    },
    {
      "cell_type": "code",
      "execution_count": 45,
      "id": "0036a355-9ccf-4564-8b01-73d8194297e7",
      "metadata": {
        "id": "0036a355-9ccf-4564-8b01-73d8194297e7"
      },
      "outputs": [],
      "source": [
        "# текст запроса\n",
        "query_6_4 = read_sql_from_file('./SQL/6.4.sql')\n",
        "df_6_4 = pd.read_sql_query(query_6_4, connection)"
      ]
    },
    {
      "cell_type": "code",
      "execution_count": 46,
      "id": "1i-5WyucvQ6v",
      "metadata": {
        "id": "1i-5WyucvQ6v"
      },
      "outputs": [
        {
          "data": {
            "text/html": [
              "<div>\n",
              "<style scoped>\n",
              "    .dataframe tbody tr th:only-of-type {\n",
              "        vertical-align: middle;\n",
              "    }\n",
              "\n",
              "    .dataframe tbody tr th {\n",
              "        vertical-align: top;\n",
              "    }\n",
              "\n",
              "    .dataframe thead th {\n",
              "        text-align: right;\n",
              "    }\n",
              "</style>\n",
              "<table border=\"1\" class=\"dataframe\">\n",
              "  <thead>\n",
              "    <tr style=\"text-align: right;\">\n",
              "      <th></th>\n",
              "      <th>cnt_python_ds_vacancies</th>\n",
              "    </tr>\n",
              "  </thead>\n",
              "  <tbody>\n",
              "    <tr>\n",
              "      <th>0</th>\n",
              "      <td>351</td>\n",
              "    </tr>\n",
              "  </tbody>\n",
              "</table>\n",
              "</div>"
            ],
            "text/plain": [
              "   cnt_python_ds_vacancies\n",
              "0                      351"
            ]
          },
          "execution_count": 46,
          "metadata": {},
          "output_type": "execute_result"
        }
      ],
      "source": [
        "# результат запроса\n",
        "df_6_4"
      ]
    },
    {
      "attachments": {},
      "cell_type": "markdown",
      "id": "ec3c8db7-fa21-4a41-a994-1af63742a642",
      "metadata": {
        "id": "ec3c8db7-fa21-4a41-a994-1af63742a642"
      },
      "source": [
        "### 5. **Сколько ключевых навыков** <font color='LightSeaGreen'>**в среднем**</font> указывают ***в вакансиях для DS***?\n",
        "### Ответ <font color='Tomato'>**округлите до двух знаков после точки**</font>-разделителя."
      ]
    },
    {
      "cell_type": "code",
      "execution_count": 47,
      "id": "949132bc-d5b6-4611-8218-0b9a504d74f4",
      "metadata": {
        "id": "949132bc-d5b6-4611-8218-0b9a504d74f4"
      },
      "outputs": [],
      "source": [
        "# текст запроса\n",
        "query_6_5 = read_sql_from_file('./SQL/6.5.sql')\n",
        "df_6_5 = pd.read_sql_query(query_6_5, connection)"
      ]
    },
    {
      "cell_type": "code",
      "execution_count": 48,
      "id": "a3V24Tvmviqk",
      "metadata": {
        "id": "a3V24Tvmviqk"
      },
      "outputs": [
        {
          "data": {
            "text/html": [
              "<div>\n",
              "<style scoped>\n",
              "    .dataframe tbody tr th:only-of-type {\n",
              "        vertical-align: middle;\n",
              "    }\n",
              "\n",
              "    .dataframe tbody tr th {\n",
              "        vertical-align: top;\n",
              "    }\n",
              "\n",
              "    .dataframe thead th {\n",
              "        text-align: right;\n",
              "    }\n",
              "</style>\n",
              "<table border=\"1\" class=\"dataframe\">\n",
              "  <thead>\n",
              "    <tr style=\"text-align: right;\">\n",
              "      <th></th>\n",
              "      <th>avg_keyskills</th>\n",
              "    </tr>\n",
              "  </thead>\n",
              "  <tbody>\n",
              "    <tr>\n",
              "      <th>0</th>\n",
              "      <td>6.41</td>\n",
              "    </tr>\n",
              "  </tbody>\n",
              "</table>\n",
              "</div>"
            ],
            "text/plain": [
              "   avg_keyskills\n",
              "0           6.41"
            ]
          },
          "execution_count": 48,
          "metadata": {},
          "output_type": "execute_result"
        }
      ],
      "source": [
        "# результат запроса\n",
        "df_6_5"
      ]
    },
    {
      "attachments": {},
      "cell_type": "markdown",
      "id": "1041c17a-ca8f-4543-a0ca-32778914fb00",
      "metadata": {
        "id": "1041c17a-ca8f-4543-a0ca-32778914fb00"
      },
      "source": [
        "### 6. Напишите запрос, позволяющий вычислить, **какую зарплату для DS** <font color='LightSeaGreen'>**в среднем**</font> указывают <font color='Tomato'>**для каждого типа**</font> требуемого <font color='Tomato'>**опыта**</font> (уникальное значение из поля ***experience***). \n",
        "\n",
        "При решении задачи примите во внимание следующее:\n",
        "1. Рассматриваем только вакансии, у которых заполнено хотя бы одно из двух полей с зарплатой.\n",
        "2. Если заполнены оба поля с зарплатой, то считаем зарплату по каждой вакансии как сумму двух полей, делённую на 2. Если заполнено только одно из полей, то его и считаем зарплатой по вакансии.\n",
        "3. Если в расчётах участвует null, в результате он тоже даст null (посмотрите, что возвращает запрос select 1 + null). Чтобы избежать этой ситуацию, мы воспользуемся функцией [coalesce](https://postgrespro.ru/docs/postgresql/9.5/functions-conditional#functions-coalesce-nvl-ifnull), которая заменит null на значение, которое мы передадим. Например, посмотрите, что возвращает запрос `select 1 + coalesce(null, 0)`\n",
        "\n",
        "### Выясните, на **какую зарплату** <font color='LightSeaGreen'>**в среднем**</font> может рассчитывать ***дата-сайентист*** <font color='LightSeaGreen'>**с опытом работы от 3 до 6 лет**</font>. Результат округлите <font color='Tomato'>**до целого числа**</font>. "
      ]
    },
    {
      "cell_type": "code",
      "execution_count": 49,
      "id": "6a743d39-5204-48d3-8271-b9f88e68d40e",
      "metadata": {
        "id": "6a743d39-5204-48d3-8271-b9f88e68d40e"
      },
      "outputs": [],
      "source": [
        "# текст запроса\n",
        "query_6_6 = read_sql_from_file('./SQL/6.6.sql')\n",
        "df_6_6 = pd.read_sql_query(query_6_6, connection)"
      ]
    },
    {
      "cell_type": "code",
      "execution_count": 50,
      "id": "aRIJ0mZEwU1_",
      "metadata": {
        "id": "aRIJ0mZEwU1_"
      },
      "outputs": [
        {
          "data": {
            "text/html": [
              "<div>\n",
              "<style scoped>\n",
              "    .dataframe tbody tr th:only-of-type {\n",
              "        vertical-align: middle;\n",
              "    }\n",
              "\n",
              "    .dataframe tbody tr th {\n",
              "        vertical-align: top;\n",
              "    }\n",
              "\n",
              "    .dataframe thead th {\n",
              "        text-align: right;\n",
              "    }\n",
              "</style>\n",
              "<table border=\"1\" class=\"dataframe\">\n",
              "  <thead>\n",
              "    <tr style=\"text-align: right;\">\n",
              "      <th></th>\n",
              "      <th>experience</th>\n",
              "      <th>avg_salary</th>\n",
              "    </tr>\n",
              "  </thead>\n",
              "  <tbody>\n",
              "    <tr>\n",
              "      <th>0</th>\n",
              "      <td>Нет опыта</td>\n",
              "      <td>74643</td>\n",
              "    </tr>\n",
              "    <tr>\n",
              "      <th>1</th>\n",
              "      <td>От 1 года до 3 лет</td>\n",
              "      <td>139675</td>\n",
              "    </tr>\n",
              "    <tr>\n",
              "      <th>2</th>\n",
              "      <td>От 3 до 6 лет</td>\n",
              "      <td>243115</td>\n",
              "    </tr>\n",
              "  </tbody>\n",
              "</table>\n",
              "</div>"
            ],
            "text/plain": [
              "           experience  avg_salary\n",
              "0           Нет опыта       74643\n",
              "1  От 1 года до 3 лет      139675\n",
              "2       От 3 до 6 лет      243115"
            ]
          },
          "execution_count": 50,
          "metadata": {},
          "output_type": "execute_result"
        }
      ],
      "source": [
        "# результат запроса\n",
        "df_6_6"
      ]
    },
    {
      "attachments": {},
      "cell_type": "markdown",
      "id": "18df8608",
      "metadata": {},
      "source": [
        "***"
      ]
    },
    {
      "attachments": {},
      "cell_type": "markdown",
      "id": "ea96bcb9",
      "metadata": {},
      "source": [
        "### Выводы по предметному анализу:\n",
        "\n",
        "- Найдена <font color='LightSeaGreen'>**1771 вакансия**</font>, где в названии встречается '**data**' / '**данн**'. Это примерно 3,6% от общего числа вакансий. \n",
        "  >Однако, <font color='Tomato'>**не все из них имеют отношение к DS**</font>.\n",
        "\n",
        "- Было принято считать **вакансиями для дата-сайентистов** такие, <font color='LightSeaGreen'>**в названии**</font> которых <font color='Tomato'>**есть хотя бы одно**</font> <font color='LightSeaGreen'>**из следующих сочетаний**</font>:\n",
        "  - 'data scientist'\n",
        "  - 'data science'\n",
        "  - 'исследователь данных'\n",
        "  - 'ML' (здесь не нужно брать вакансии по HTML)\n",
        "  - 'machine learning'\n",
        "  - 'машинн%обучен%'\n",
        "\n",
        "  В ходе исследования данных были обнаружены вакансии, которые <font color='Tomato'>**ошибочно попали под указанные условия фильтрации**</font>, например, \"C++ разработчик (QML)\". Также были замечены <font color='Tomato'>**вакансии в сфере DS, которые не попадали под указанные критерии**</font>, например, \"DataOps\", \"Data engineer\", \"Data analyst\".\n",
        "  \n",
        "  <font color='LightSeaGreen'>**Возможно их следовало бы включить в запрос**</font>. Запрос не был дополнен условием по условиям постановки задания.\n",
        "  \n",
        "  >***Новичку войти в отрасль Data Science не просто*** - только в 2,88% вакансий работодатель готов принять специалиста без опыта работы.\n",
        " \n",
        "- **Одним из ключевых навыков** для специалиста в области **Data Science является** владение языком **Python**. В явном виде этот навык указан в более чем 80% (точно, 81,44%) DS вакансий, но, реальное количество будет больше, т.к. в требованиях работодателя встречаются описания владения, как конкретными питоновскими фреймворками и библиотеками (scikit-learn, pandas, numpy, nltk, keras, pytorch, opencv и т.п.), так и специфичными для проектов работодателя.\n",
        "  - Также довольно важны навыки Postgres/SQL, встречается почти в 50% (точно 46,64%) DS-вакансий.\n",
        "  - В представленных вакансиях запрос на наличие у кандидата навыков Postgres/SQL/Python встречается почти в 88% (87,7%) случаев (запрос 7.1).\n",
        "\n",
        "  <br>\n",
        "\n",
        "  > ***Для успешной работы в области Data Science*** к кандидату ***предъявляются высокие входные требования по hardskills*** - требуется владение <font color='LightSeaGreen'>**6 и более**</font> (6.41) различными навыками. Основные из них: Python, SQL, Git, Linux, Pandas, Nupmy и др.\n",
        "\n",
        "- Для совсем начинающих специалистов **средняя зарплата выглядит очень оптимистично и привлекательно**, <font color='LightSeaGreen'>**каждые 3 года средняя заработная плата**</font> увеличивается пропорциально - <font color='LightSeaGreen'>**почти в двукратном размере**</font>. Вероятно, данные показатели могут отличаться в зависимости от региона, рекомендуются дополнительные исследования.\n",
        "  По таблице из запроса 6.6, на самом деле, <font color='LightSeaGreen'>**вакансии для опыта более 6 лет присутствуют**</font>, <font color='Tomato'>**но вилка зарплат не указана**</font>, т.к. в обоих полях присутствуют значения NULL. Видимо, зарплатные ожидания кандидатов настолько высокие, что все детали гибко решаются работодателем при собеседовании, либо, как вариант, скрыты из соблюдений коммерческой тайны.\n",
        "\n",
        "  > Это является дополнительным подтверждением того, что ***Data Science - является одной из наиболее высокооплачиваемых и востребованных профессий в наши дни***. \n",
        "\n",
        "- В отрасль Data Science чаще требуются специалисты с опытом работы от 1 года и более, но <font color='LightSeaGreen'>**вакансии для начинающих специалистов также присутствуют на рынке вакансий**</font> (2,88%) **в регионе (СПб и Ленинградская область)**, из результатов запроса 7.5, на данный момент видно, что:\n",
        "\t- Зарплатные предложения не указаны в 66,67% случаев, что <font color='LightSeaGreen'>**повышает шансы на получение оффера с зарплатной вилкой выше средней**</font>;\n",
        "\t- Требуемый опыт работы также не указан в 66,67% случаев, что <font color='LightSeaGreen'>**повышает шансы на трудоустройство**</font>;\n",
        "\t- Привлекательные крупные работодатели в 33,33% присутствуют в списке - DINS, Банк ВТБ (ПАО) и Самокат.\n",
        "\n",
        "  <br>\n",
        "\n",
        "  > Для начинающих дата-сайентистов ***в регионе Санкт-Петербург и Ленинградской области есть возможности***, при появлении новых вакансий результаты отобразятся в запросе, так как он подготовлен с учётом этих условий."
      ]
    },
    {
      "cell_type": "markdown",
      "id": "6a7892b4-4113-4746-adce-18aa2844f18e",
      "metadata": {
        "id": "6a7892b4-4113-4746-adce-18aa2844f18e"
      },
      "source": [
        "***"
      ]
    },
    {
      "attachments": {},
      "cell_type": "markdown",
      "id": "eed6e3eb",
      "metadata": {},
      "source": [
        "# 7. Дополнительные исследования\n",
        "### 1. Рассмотрим **частоту запросов требований работодателей** <font color='LightSeaGreen'>**по знаниям Python & SQL/Postgres**</font> от специалистов ***в области DataScience***."
      ]
    },
    {
      "cell_type": "code",
      "execution_count": 51,
      "id": "ef5ce64e",
      "metadata": {},
      "outputs": [],
      "source": [
        "# текст запроса\n",
        "query_7_1 = read_sql_from_file('./SQL/7.1.sql')\n",
        "df_7_1 = pd.read_sql_query(query_7_1, connection)"
      ]
    },
    {
      "cell_type": "code",
      "execution_count": 52,
      "id": "cbae6c39",
      "metadata": {},
      "outputs": [
        {
          "data": {
            "text/html": [
              "<div>\n",
              "<style scoped>\n",
              "    .dataframe tbody tr th:only-of-type {\n",
              "        vertical-align: middle;\n",
              "    }\n",
              "\n",
              "    .dataframe tbody tr th {\n",
              "        vertical-align: top;\n",
              "    }\n",
              "\n",
              "    .dataframe thead th {\n",
              "        text-align: right;\n",
              "    }\n",
              "</style>\n",
              "<table border=\"1\" class=\"dataframe\">\n",
              "  <thead>\n",
              "    <tr style=\"text-align: right;\">\n",
              "      <th></th>\n",
              "      <th>ds_skills</th>\n",
              "      <th>cnt_vacancies</th>\n",
              "    </tr>\n",
              "  </thead>\n",
              "  <tbody>\n",
              "    <tr>\n",
              "      <th>0</th>\n",
              "      <td>Postgres/SQL</td>\n",
              "      <td>201</td>\n",
              "    </tr>\n",
              "    <tr>\n",
              "      <th>1</th>\n",
              "      <td>Python</td>\n",
              "      <td>351</td>\n",
              "    </tr>\n",
              "    <tr>\n",
              "      <th>2</th>\n",
              "      <td>Postgres/SQL/Python</td>\n",
              "      <td>378</td>\n",
              "    </tr>\n",
              "    <tr>\n",
              "      <th>3</th>\n",
              "      <td>Total</td>\n",
              "      <td>431</td>\n",
              "    </tr>\n",
              "  </tbody>\n",
              "</table>\n",
              "</div>"
            ],
            "text/plain": [
              "             ds_skills  cnt_vacancies\n",
              "0         Postgres/SQL            201\n",
              "1               Python            351\n",
              "2  Postgres/SQL/Python            378\n",
              "3                Total            431"
            ]
          },
          "execution_count": 52,
          "metadata": {},
          "output_type": "execute_result"
        }
      ],
      "source": [
        "# результат запроса\n",
        "df_7_1"
      ]
    },
    {
      "cell_type": "code",
      "execution_count": 53,
      "id": "663e9c9b",
      "metadata": {},
      "outputs": [],
      "source": [
        "fig_bar = px.bar(\n",
        "    data_frame=df_7_1,\n",
        "    x='ds_skills',\n",
        "    y='cnt_vacancies',\n",
        "    color='ds_skills',\n",
        "    text='cnt_vacancies',                                    # текст внутри баров\n",
        "    orientation='v',\n",
        "    width=1000,\n",
        "    height=500\n",
        ")\n",
        "\n",
        "fig_bar.update_layout(\n",
        "    title='Количество вакансий Data Science с навыками Postgres/SQL/Python',\n",
        "    title_x=0.5,                                             # центрировать заголовок\n",
        "    xaxis_title='Требуемые навыки',\n",
        "    yaxis_title='Количество вакансий DS',\n",
        "    legend_title='DS Skills:'                                # заголовок легенды\n",
        ")\n",
        "\n",
        "# fig_bar.show()\n",
        "# fig_bar.show('svg')                                          # сформировать картинку в векторном формате\n",
        "\n",
        "fig_bar.write_image('./images/fig_bar_7_1.svg')"
      ]
    },
    {
      "attachments": {},
      "cell_type": "markdown",
      "id": "05cadc53",
      "metadata": {},
      "source": [
        "![Alt text](./images/fig_bar_7_1.svg)"
      ]
    },
    {
      "attachments": {},
      "cell_type": "markdown",
      "id": "5883f1fb",
      "metadata": {},
      "source": [
        "### 2. Интересно взглянуть на **распределение зарплатных предложений** <font color='LightSeaGreen'>**по типу ожидаемой занятости**</font> ***исходя из региона***."
      ]
    },
    {
      "cell_type": "code",
      "execution_count": 54,
      "id": "UjLWUptVwY1o",
      "metadata": {
        "id": "UjLWUptVwY1o"
      },
      "outputs": [],
      "source": [
        "# текст запроса\n",
        "query_7_2 = read_sql_from_file('./SQL/7.2.sql')\n",
        "df_7_2 = pd.read_sql_query(query_7_2, connection)"
      ]
    },
    {
      "cell_type": "code",
      "execution_count": 55,
      "id": "0d7898b2",
      "metadata": {},
      "outputs": [
        {
          "data": {
            "text/html": [
              "<div>\n",
              "<style scoped>\n",
              "    .dataframe tbody tr th:only-of-type {\n",
              "        vertical-align: middle;\n",
              "    }\n",
              "\n",
              "    .dataframe tbody tr th {\n",
              "        vertical-align: top;\n",
              "    }\n",
              "\n",
              "    .dataframe thead th {\n",
              "        text-align: right;\n",
              "    }\n",
              "</style>\n",
              "<table border=\"1\" class=\"dataframe\">\n",
              "  <thead>\n",
              "    <tr style=\"text-align: right;\">\n",
              "      <th></th>\n",
              "      <th>area_name</th>\n",
              "      <th>schedule</th>\n",
              "      <th>avg_salary</th>\n",
              "    </tr>\n",
              "  </thead>\n",
              "  <tbody>\n",
              "    <tr>\n",
              "      <th>0</th>\n",
              "      <td>Алматы</td>\n",
              "      <td>Полный день</td>\n",
              "      <td>95000</td>\n",
              "    </tr>\n",
              "    <tr>\n",
              "      <th>1</th>\n",
              "      <td>Армения</td>\n",
              "      <td>Полный день</td>\n",
              "      <td>269000</td>\n",
              "    </tr>\n",
              "    <tr>\n",
              "      <th>2</th>\n",
              "      <td>Барнаул</td>\n",
              "      <td>Полный день</td>\n",
              "      <td>60000</td>\n",
              "    </tr>\n",
              "    <tr>\n",
              "      <th>3</th>\n",
              "      <td>Белгород</td>\n",
              "      <td>Полный день</td>\n",
              "      <td>200000</td>\n",
              "    </tr>\n",
              "    <tr>\n",
              "      <th>4</th>\n",
              "      <td>Владивосток</td>\n",
              "      <td>Полный день</td>\n",
              "      <td>85000</td>\n",
              "    </tr>\n",
              "    <tr>\n",
              "      <th>5</th>\n",
              "      <td>Екатеринбург</td>\n",
              "      <td>Полный день</td>\n",
              "      <td>168000</td>\n",
              "    </tr>\n",
              "    <tr>\n",
              "      <th>6</th>\n",
              "      <td>Екатеринбург</td>\n",
              "      <td>Гибкий график</td>\n",
              "      <td>37000</td>\n",
              "    </tr>\n",
              "    <tr>\n",
              "      <th>7</th>\n",
              "      <td>Казань</td>\n",
              "      <td>Полный день</td>\n",
              "      <td>50000</td>\n",
              "    </tr>\n",
              "    <tr>\n",
              "      <th>8</th>\n",
              "      <td>Кипр</td>\n",
              "      <td>Удаленная работа</td>\n",
              "      <td>300000</td>\n",
              "    </tr>\n",
              "    <tr>\n",
              "      <th>9</th>\n",
              "      <td>Королев</td>\n",
              "      <td>Полный день</td>\n",
              "      <td>130000</td>\n",
              "    </tr>\n",
              "    <tr>\n",
              "      <th>10</th>\n",
              "      <td>Москва</td>\n",
              "      <td>Полный день</td>\n",
              "      <td>211000</td>\n",
              "    </tr>\n",
              "    <tr>\n",
              "      <th>11</th>\n",
              "      <td>Москва</td>\n",
              "      <td>Гибкий график</td>\n",
              "      <td>210000</td>\n",
              "    </tr>\n",
              "    <tr>\n",
              "      <th>12</th>\n",
              "      <td>Москва</td>\n",
              "      <td>Удаленная работа</td>\n",
              "      <td>200000</td>\n",
              "    </tr>\n",
              "    <tr>\n",
              "      <th>13</th>\n",
              "      <td>Новосибирск</td>\n",
              "      <td>Полный день</td>\n",
              "      <td>190000</td>\n",
              "    </tr>\n",
              "    <tr>\n",
              "      <th>14</th>\n",
              "      <td>Новосибирск</td>\n",
              "      <td>Удаленная работа</td>\n",
              "      <td>119000</td>\n",
              "    </tr>\n",
              "    <tr>\n",
              "      <th>15</th>\n",
              "      <td>Пермь</td>\n",
              "      <td>Удаленная работа</td>\n",
              "      <td>90000</td>\n",
              "    </tr>\n",
              "    <tr>\n",
              "      <th>16</th>\n",
              "      <td>Пермь</td>\n",
              "      <td>Полный день</td>\n",
              "      <td>60000</td>\n",
              "    </tr>\n",
              "    <tr>\n",
              "      <th>17</th>\n",
              "      <td>Ростов-на-Дону</td>\n",
              "      <td>Полный день</td>\n",
              "      <td>50000</td>\n",
              "    </tr>\n",
              "    <tr>\n",
              "      <th>18</th>\n",
              "      <td>Рязань</td>\n",
              "      <td>Удаленная работа</td>\n",
              "      <td>155000</td>\n",
              "    </tr>\n",
              "    <tr>\n",
              "      <th>19</th>\n",
              "      <td>Рязань</td>\n",
              "      <td>Полный день</td>\n",
              "      <td>150000</td>\n",
              "    </tr>\n",
              "    <tr>\n",
              "      <th>20</th>\n",
              "      <td>Рязань</td>\n",
              "      <td>Гибкий график</td>\n",
              "      <td>105000</td>\n",
              "    </tr>\n",
              "    <tr>\n",
              "      <th>21</th>\n",
              "      <td>Санкт-Петербург</td>\n",
              "      <td>Удаленная работа</td>\n",
              "      <td>175000</td>\n",
              "    </tr>\n",
              "    <tr>\n",
              "      <th>22</th>\n",
              "      <td>Санкт-Петербург</td>\n",
              "      <td>Полный день</td>\n",
              "      <td>173000</td>\n",
              "    </tr>\n",
              "    <tr>\n",
              "      <th>23</th>\n",
              "      <td>Сербия</td>\n",
              "      <td>Удаленная работа</td>\n",
              "      <td>234000</td>\n",
              "    </tr>\n",
              "    <tr>\n",
              "      <th>24</th>\n",
              "      <td>Турция</td>\n",
              "      <td>Удаленная работа</td>\n",
              "      <td>234000</td>\n",
              "    </tr>\n",
              "    <tr>\n",
              "      <th>25</th>\n",
              "      <td>Уфа</td>\n",
              "      <td>Удаленная работа</td>\n",
              "      <td>90000</td>\n",
              "    </tr>\n",
              "    <tr>\n",
              "      <th>26</th>\n",
              "      <td>Черногория</td>\n",
              "      <td>Удаленная работа</td>\n",
              "      <td>234000</td>\n",
              "    </tr>\n",
              "  </tbody>\n",
              "</table>\n",
              "</div>"
            ],
            "text/plain": [
              "          area_name          schedule  avg_salary\n",
              "0            Алматы       Полный день       95000\n",
              "1           Армения       Полный день      269000\n",
              "2           Барнаул       Полный день       60000\n",
              "3          Белгород       Полный день      200000\n",
              "4       Владивосток       Полный день       85000\n",
              "5      Екатеринбург       Полный день      168000\n",
              "6      Екатеринбург     Гибкий график       37000\n",
              "7            Казань       Полный день       50000\n",
              "8              Кипр  Удаленная работа      300000\n",
              "9           Королев       Полный день      130000\n",
              "10           Москва       Полный день      211000\n",
              "11           Москва     Гибкий график      210000\n",
              "12           Москва  Удаленная работа      200000\n",
              "13      Новосибирск       Полный день      190000\n",
              "14      Новосибирск  Удаленная работа      119000\n",
              "15            Пермь  Удаленная работа       90000\n",
              "16            Пермь       Полный день       60000\n",
              "17   Ростов-на-Дону       Полный день       50000\n",
              "18           Рязань  Удаленная работа      155000\n",
              "19           Рязань       Полный день      150000\n",
              "20           Рязань     Гибкий график      105000\n",
              "21  Санкт-Петербург  Удаленная работа      175000\n",
              "22  Санкт-Петербург       Полный день      173000\n",
              "23           Сербия  Удаленная работа      234000\n",
              "24           Турция  Удаленная работа      234000\n",
              "25              Уфа  Удаленная работа       90000\n",
              "26       Черногория  Удаленная работа      234000"
            ]
          },
          "execution_count": 55,
          "metadata": {},
          "output_type": "execute_result"
        }
      ],
      "source": [
        "# результат запроса\n",
        "df_7_2"
      ]
    },
    {
      "cell_type": "code",
      "execution_count": 56,
      "id": "a5c2ff5d",
      "metadata": {},
      "outputs": [],
      "source": [
        "fig_bar = px.bar(\n",
        "    data_frame=df_7_2,\n",
        "    x='avg_salary',\n",
        "    y='area_name',\n",
        "    color='schedule',\n",
        "    text='avg_salary',                                      # текст внутри баров\n",
        "    text_auto=True,                                         # привести метрики текста к единой представлению\n",
        "    orientation='h',\n",
        "    width=800,\n",
        "    height=800\n",
        ")\n",
        "\n",
        "fig_bar.update_layout(\n",
        "    title='Распределение з/п Data Science по регионам и типу занятости',\n",
        "    title_x=0.5,                                            # центрировать заголовок\n",
        "    xaxis_title='Средняя з/п по вакансиям DS',\n",
        "    yaxis_title='Регионы',\n",
        "    yaxis_autorange='reversed',                             # расположить города на оси ординат в порядке сверху вниз\n",
        "    legend_title='Тип занятости:',                          # заголовок легенды\n",
        "    legend=dict(                                            # расположить легенду в правом верхнем углу\n",
        "        yanchor='top',\n",
        "        y=0.99,\n",
        "        xanchor='right',\n",
        "        x=0.99\n",
        "    )\n",
        ")\n",
        "\n",
        "# fig_bar.show()\n",
        "# fig_bar.show('svg')                                          # сформировать картинку в векторном формате\n",
        "\n",
        "fig_bar.write_image('./images/fig_bar_7_2.svg')"
      ]
    },
    {
      "attachments": {},
      "cell_type": "markdown",
      "id": "7a79d694",
      "metadata": {},
      "source": [
        "![Alt text](./images/fig_bar_7_2.svg)"
      ]
    },
    {
      "attachments": {},
      "cell_type": "markdown",
      "id": "781af859",
      "metadata": {},
      "source": [
        "### 3. Обзор **границ средней вилки заработной платы** в зависимости <font color='LightSeaGreen'>**от опыта работы**</font>."
      ]
    },
    {
      "cell_type": "code",
      "execution_count": 57,
      "id": "822f91a8",
      "metadata": {},
      "outputs": [],
      "source": [
        "# текст запроса\n",
        "query_7_3 = read_sql_from_file('./SQL/7.3.sql')\n",
        "df_7_3 = pd.read_sql_query(query_7_3, connection)"
      ]
    },
    {
      "cell_type": "code",
      "execution_count": 58,
      "id": "f8f9a786",
      "metadata": {},
      "outputs": [
        {
          "data": {
            "text/html": [
              "<div>\n",
              "<style scoped>\n",
              "    .dataframe tbody tr th:only-of-type {\n",
              "        vertical-align: middle;\n",
              "    }\n",
              "\n",
              "    .dataframe tbody tr th {\n",
              "        vertical-align: top;\n",
              "    }\n",
              "\n",
              "    .dataframe thead th {\n",
              "        text-align: right;\n",
              "    }\n",
              "</style>\n",
              "<table border=\"1\" class=\"dataframe\">\n",
              "  <thead>\n",
              "    <tr style=\"text-align: right;\">\n",
              "      <th></th>\n",
              "      <th>experience</th>\n",
              "      <th>Мин. средн. от</th>\n",
              "      <th>Макс. средн. до</th>\n",
              "    </tr>\n",
              "  </thead>\n",
              "  <tbody>\n",
              "    <tr>\n",
              "      <th>0</th>\n",
              "      <td>Более 6 лет</td>\n",
              "      <td>153172</td>\n",
              "      <td>179341</td>\n",
              "    </tr>\n",
              "    <tr>\n",
              "      <th>1</th>\n",
              "      <td>От 3 до 6 лет</td>\n",
              "      <td>121409</td>\n",
              "      <td>145013</td>\n",
              "    </tr>\n",
              "    <tr>\n",
              "      <th>2</th>\n",
              "      <td>От 1 года до 3 лет</td>\n",
              "      <td>69206</td>\n",
              "      <td>83876</td>\n",
              "    </tr>\n",
              "    <tr>\n",
              "      <th>3</th>\n",
              "      <td>Нет опыта</td>\n",
              "      <td>36534</td>\n",
              "      <td>44410</td>\n",
              "    </tr>\n",
              "  </tbody>\n",
              "</table>\n",
              "</div>"
            ],
            "text/plain": [
              "           experience  Мин. средн. от  Макс. средн. до\n",
              "0         Более 6 лет          153172           179341\n",
              "1       От 3 до 6 лет          121409           145013\n",
              "2  От 1 года до 3 лет           69206            83876\n",
              "3           Нет опыта           36534            44410"
            ]
          },
          "execution_count": 58,
          "metadata": {},
          "output_type": "execute_result"
        }
      ],
      "source": [
        "# результат запроса\n",
        "df_7_3"
      ]
    },
    {
      "cell_type": "code",
      "execution_count": 59,
      "id": "1c58a20c",
      "metadata": {},
      "outputs": [],
      "source": [
        "df_heat = df_7_3.copy().set_index('experience')             # создать копию данных и перенести столбец индексов\n",
        "\n",
        "fig_heat = px.imshow(\n",
        "    df_heat,\n",
        "    color_continuous_scale=['crimson', 'orange', 'yellow', 'lime', 'green'],\n",
        "    title='Тепловая карта границ средней з/п вилки в зависимости от опыта работы',\n",
        "    width=700,\n",
        "    height=600\n",
        "    )\n",
        "\n",
        "fig_heat.update_traces(\n",
        "    hovertemplate='З/п (средняя): %{z}<extra></extra>'       # отобразить подсказку при наведении\n",
        "    )\n",
        "\n",
        "fig_heat.update_layout(\n",
        "    title_x=0.5,                                             # центрировать заголовок\n",
        "    xaxis_title='З/п вилка',\n",
        "    yaxis_title='Опыт работы',\n",
        ")\n",
        "\n",
        "# fig_heat.show()\n",
        "# fig_heat.show('svg')                                         # сформировать картинку в векторном формате\n",
        "\n",
        "fig_heat.write_image('./images/fig_heat_7_3.svg')"
      ]
    },
    {
      "attachments": {},
      "cell_type": "markdown",
      "id": "3c7d3037",
      "metadata": {},
      "source": [
        "![Alt text](./images/fig_heat_7_3.svg)"
      ]
    },
    {
      "attachments": {},
      "cell_type": "markdown",
      "id": "308e2c7b",
      "metadata": {},
      "source": [
        "### 4. **Какие компании** <font color='LightSeaGreen'>**чаще всего**</font> ***ищут специалистов по Data Science***, объем предложений на рынке вакансий."
      ]
    },
    {
      "cell_type": "code",
      "execution_count": 60,
      "id": "8f811509",
      "metadata": {},
      "outputs": [],
      "source": [
        "# текст запроса\n",
        "query_7_4 = read_sql_from_file('./SQL/7.4.sql')\n",
        "df_7_4 = pd.read_sql_query(query_7_4, connection)"
      ]
    },
    {
      "cell_type": "code",
      "execution_count": 61,
      "id": "887b73ce",
      "metadata": {},
      "outputs": [
        {
          "data": {
            "text/html": [
              "<div>\n",
              "<style scoped>\n",
              "    .dataframe tbody tr th:only-of-type {\n",
              "        vertical-align: middle;\n",
              "    }\n",
              "\n",
              "    .dataframe tbody tr th {\n",
              "        vertical-align: top;\n",
              "    }\n",
              "\n",
              "    .dataframe thead th {\n",
              "        text-align: right;\n",
              "    }\n",
              "</style>\n",
              "<table border=\"1\" class=\"dataframe\">\n",
              "  <thead>\n",
              "    <tr style=\"text-align: right;\">\n",
              "      <th></th>\n",
              "      <th>employer_name</th>\n",
              "      <th>cnt_ds_vacancies</th>\n",
              "    </tr>\n",
              "  </thead>\n",
              "  <tbody>\n",
              "    <tr>\n",
              "      <th>0</th>\n",
              "      <td>СБЕР</td>\n",
              "      <td>37</td>\n",
              "    </tr>\n",
              "    <tr>\n",
              "      <th>1</th>\n",
              "      <td>Bell Integrator</td>\n",
              "      <td>25</td>\n",
              "    </tr>\n",
              "    <tr>\n",
              "      <th>2</th>\n",
              "      <td>Банк ВТБ (ПАО)</td>\n",
              "      <td>18</td>\n",
              "    </tr>\n",
              "    <tr>\n",
              "      <th>3</th>\n",
              "      <td>VK</td>\n",
              "      <td>15</td>\n",
              "    </tr>\n",
              "    <tr>\n",
              "      <th>4</th>\n",
              "      <td>Positive Technologies</td>\n",
              "      <td>11</td>\n",
              "    </tr>\n",
              "    <tr>\n",
              "      <th>5</th>\n",
              "      <td>EvenBet Gaming</td>\n",
              "      <td>9</td>\n",
              "    </tr>\n",
              "    <tr>\n",
              "      <th>6</th>\n",
              "      <td>Яндекс</td>\n",
              "      <td>9</td>\n",
              "    </tr>\n",
              "    <tr>\n",
              "      <th>7</th>\n",
              "      <td>МегаФон</td>\n",
              "      <td>8</td>\n",
              "    </tr>\n",
              "    <tr>\n",
              "      <th>8</th>\n",
              "      <td>Andersen</td>\n",
              "      <td>7</td>\n",
              "    </tr>\n",
              "    <tr>\n",
              "      <th>9</th>\n",
              "      <td>МТС</td>\n",
              "      <td>6</td>\n",
              "    </tr>\n",
              "    <tr>\n",
              "      <th>10</th>\n",
              "      <td>Бэнкс Софт Системс</td>\n",
              "      <td>6</td>\n",
              "    </tr>\n",
              "    <tr>\n",
              "      <th>11</th>\n",
              "      <td>Ozon</td>\n",
              "      <td>6</td>\n",
              "    </tr>\n",
              "    <tr>\n",
              "      <th>12</th>\n",
              "      <td>Контур</td>\n",
              "      <td>6</td>\n",
              "    </tr>\n",
              "    <tr>\n",
              "      <th>13</th>\n",
              "      <td>Газпромбанк</td>\n",
              "      <td>5</td>\n",
              "    </tr>\n",
              "    <tr>\n",
              "      <th>14</th>\n",
              "      <td>2ГИС</td>\n",
              "      <td>5</td>\n",
              "    </tr>\n",
              "    <tr>\n",
              "      <th>15</th>\n",
              "      <td>Лента, федеральная розничная сеть</td>\n",
              "      <td>5</td>\n",
              "    </tr>\n",
              "    <tr>\n",
              "      <th>16</th>\n",
              "      <td>inDriver</td>\n",
              "      <td>5</td>\n",
              "    </tr>\n",
              "    <tr>\n",
              "      <th>17</th>\n",
              "      <td>Спортмастер</td>\n",
              "      <td>5</td>\n",
              "    </tr>\n",
              "    <tr>\n",
              "      <th>18</th>\n",
              "      <td>Иннотех, Группа компаний</td>\n",
              "      <td>5</td>\n",
              "    </tr>\n",
              "  </tbody>\n",
              "</table>\n",
              "</div>"
            ],
            "text/plain": [
              "                        employer_name  cnt_ds_vacancies\n",
              "0                                СБЕР                37\n",
              "1                     Bell Integrator                25\n",
              "2                      Банк ВТБ (ПАО)                18\n",
              "3                                  VK                15\n",
              "4               Positive Technologies                11\n",
              "5                      EvenBet Gaming                 9\n",
              "6                              Яндекс                 9\n",
              "7                             МегаФон                 8\n",
              "8                            Andersen                 7\n",
              "9                                 МТС                 6\n",
              "10                 Бэнкс Софт Системс                 6\n",
              "11                               Ozon                 6\n",
              "12                             Контур                 6\n",
              "13                        Газпромбанк                 5\n",
              "14                               2ГИС                 5\n",
              "15  Лента, федеральная розничная сеть                 5\n",
              "16                           inDriver                 5\n",
              "17                        Спортмастер                 5\n",
              "18           Иннотех, Группа компаний                 5"
            ]
          },
          "execution_count": 61,
          "metadata": {},
          "output_type": "execute_result"
        }
      ],
      "source": [
        "# результат запроса\n",
        "df_7_4"
      ]
    },
    {
      "attachments": {},
      "cell_type": "markdown",
      "id": "f97d5dca",
      "metadata": {},
      "source": [
        "### 5. Какие есть **вакансии** для ***начинающих DS-специалистов*** </font> <font color='LightSeaGreen'>**по Санкт-петербургу и Ленинградской области**?"
      ]
    },
    {
      "cell_type": "code",
      "execution_count": 62,
      "id": "219f8717",
      "metadata": {},
      "outputs": [],
      "source": [
        "url = 'https://www.locdb.ru/info/region/1078/'\n",
        "response = requests.get(url)\n",
        "\n",
        "# населённые пункты Санкт-Петербурга, включая сам г. Санкт-Петербург\n",
        "df_cities_78_big = pd.DataFrame([])\n",
        "table = 0\n",
        "\n",
        "# перебираем все таблицы пока не сработает IndexError\n",
        "while True:\n",
        "    try:\n",
        "        # каждую найденную таблицу, добавляем в общую, вносим приращение счётчика\n",
        "        df_cities_78_small = pd.DataFrame(pd.read_html(response.text)[table])\n",
        "        df_cities_78_big = pd.concat([df_cities_78_big, df_cities_78_small])\n",
        "        table += 1\n",
        "    except IndexError:\n",
        "        break"
      ]
    },
    {
      "cell_type": "code",
      "execution_count": 63,
      "id": "4e9d7c77",
      "metadata": {},
      "outputs": [],
      "source": [
        "# очистка таблицы от лишних данных\n",
        "df_cities_78_big.dropna(how='any', inplace=True)\n",
        "df_cities_78_big.drop(columns=[0, 2], axis=1, inplace=True)\n",
        "\n",
        "# дубликация наименований населённых пунктов с 'ё' -> 'е', чтобы учесть все варианты при поиске\n",
        "df_replace_78 = df_cities_78_big[df_cities_78_big[1].str.contains('ё')].copy()\n",
        "df_replace_78[1] = df_replace_78[1].apply(lambda x: x.replace('ё', 'е'))\n",
        "df_cities_78_big = pd.concat([df_cities_78_big, df_replace_78])\n",
        "\n",
        "# сброс индекса\n",
        "df_cities_78_big.reset_index(drop=True, inplace=True)\n",
        "\n",
        "# 28 населённых пунктов Санкт-Петербурга, включая сам г. Санкт-Петербург, отсортированный кортеж\n",
        "spb_78 = tuple(sorted(df_cities_78_big[1]))"
      ]
    },
    {
      "cell_type": "code",
      "execution_count": 64,
      "id": "b66a535f",
      "metadata": {},
      "outputs": [
        {
          "data": {
            "text/plain": [
              "('Александровская',\n",
              " 'Белоостров',\n",
              " 'Зеленогорск',\n",
              " 'Колпино',\n",
              " 'Комарово',\n",
              " 'Красное Село',\n",
              " 'Кронштадт',\n",
              " 'Левашово',\n",
              " 'Лисий Нос',\n",
              " 'Ломоносов',\n",
              " 'Металлострой',\n",
              " 'Молодежное',\n",
              " 'Молодёжное',\n",
              " 'Павловск',\n",
              " 'Парголово',\n",
              " 'Песочный',\n",
              " 'Петергоф',\n",
              " 'Петро-Славянка',\n",
              " 'Понтонный',\n",
              " 'Пушкин',\n",
              " 'Репино',\n",
              " 'Санкт-Петербург',\n",
              " 'Саперный',\n",
              " 'Сапёрный',\n",
              " 'Сестрорецк',\n",
              " 'Солнечное',\n",
              " 'Стрельна',\n",
              " 'Тярлево',\n",
              " 'Усть-Ижора',\n",
              " 'Шушары')"
            ]
          },
          "execution_count": 64,
          "metadata": {},
          "output_type": "execute_result"
        }
      ],
      "source": [
        "# проверка результата\n",
        "# df_cities_78_big\n",
        "spb_78"
      ]
    },
    {
      "cell_type": "code",
      "execution_count": 65,
      "id": "6b4b0898",
      "metadata": {},
      "outputs": [],
      "source": [
        "url = 'https://www.locdb.ru/info/region/1047/'\n",
        "response = requests.get(url)\n",
        "\n",
        "# населённые пункты Ленинградской области\n",
        "df_cities_47_big = pd.DataFrame([])\n",
        "table = 0\n",
        "\n",
        "# перебираем все таблицы пока не сработает IndexError\n",
        "while True:\n",
        "    try:\n",
        "        # каждую найденную таблицу, добавляем в общую, вносим приращение счётчика\n",
        "        df_cities_47_small = pd.DataFrame(pd.read_html(response.text)[table])\n",
        "        df_cities_47_big = pd.concat([df_cities_47_big, df_cities_47_small])\n",
        "        table += 1\n",
        "    except IndexError:\n",
        "        break"
      ]
    },
    {
      "cell_type": "code",
      "execution_count": 66,
      "id": "85ef1ccd",
      "metadata": {},
      "outputs": [],
      "source": [
        "# очистка таблицы от лишних данных\n",
        "df_cities_47_big.dropna(how='any', inplace=True)\n",
        "df_cities_47_big.drop(columns=[0, 2], axis=1, inplace=True)\n",
        "\n",
        "# очистка дубликатов, есть населённые пункты в Ленинградской области\n",
        "# с одинаковым наименованием в разных районах или разным типом город-село-поселок\n",
        "df_cities_47_big[1] = df_cities_47_big[1].apply(lambda x: x.split('  ')[0])\n",
        "df_cities_47_big.drop_duplicates(inplace=True)\n",
        "\n",
        "# дубликация наименований населённых пунктов с 'ё' -> 'е', чтобы учесть все варианты при поиске\n",
        "df_replace_47 = df_cities_47_big[df_cities_47_big[1].str.contains('ё')].copy()\n",
        "df_replace_47[1] = df_replace_47[1].apply(lambda x: x.replace('ё', 'е'))\n",
        "df_cities_47_big = pd.concat([df_cities_47_big, df_replace_47])\n",
        "\n",
        "# сброс индекса\n",
        "df_cities_47_big.reset_index(drop=True, inplace=True)\n",
        "\n",
        "# более 240 населённых пунктов Ленинградской области, отсортированный кортеж\n",
        "lo_47 = tuple(sorted(df_cities_47_big[1]))"
      ]
    },
    {
      "cell_type": "code",
      "execution_count": 67,
      "id": "7a225e36",
      "metadata": {},
      "outputs": [
        {
          "data": {
            "text/plain": [
              "('Агалатово',\n",
              " 'Алеховщина',\n",
              " 'Алёховщина',\n",
              " 'Аннино',\n",
              " 'Батово',\n",
              " 'Бегуницы',\n",
              " 'Белогорка',\n",
              " 'Бережки',\n",
              " 'Беседа',\n",
              " 'Бокситогорск',\n",
              " 'Большая Вруда',\n",
              " 'Большая Ижора',\n",
              " 'Большая Пустомержа',\n",
              " 'Большие Колпаны',\n",
              " 'Большие Тайцы',\n",
              " 'Большое Рейзино',\n",
              " 'Большой Двор',\n",
              " 'Большой Сабск',\n",
              " 'Бор',\n",
              " 'Борисова Грива',\n",
              " 'Бугры',\n",
              " 'Будогощь',\n",
              " 'Ваганово',\n",
              " 'Важины',\n",
              " 'Вартемяги',\n",
              " 'Верхние Осельки',\n",
              " 'Вещево',\n",
              " 'Виллози',\n",
              " 'Винницы',\n",
              " 'Вознесенье',\n",
              " 'Возрождение',\n",
              " 'Войсковицы',\n",
              " 'Войскорово',\n",
              " 'Володарское',\n",
              " 'Волосово',\n",
              " 'Волошово',\n",
              " 'Волхов',\n",
              " 'Всеволожск',\n",
              " 'Выборг',\n",
              " 'Вындин Остров',\n",
              " 'Вырица',\n",
              " 'Выскатка',\n",
              " 'Высокоключевой',\n",
              " 'Высоцк',\n",
              " 'Гаврилово',\n",
              " 'Гарболово',\n",
              " 'Гатчина',\n",
              " 'Глажево',\n",
              " 'Глебычево',\n",
              " 'Гончарово',\n",
              " 'Горбунки',\n",
              " 'Гостилицы',\n",
              " 'Гостицы',\n",
              " 'Громово',\n",
              " 'Дзержинского',\n",
              " 'Дружная Горка',\n",
              " 'Дружноселье',\n",
              " 'Дубровка',\n",
              " 'Елизаветинка',\n",
              " 'Елизаветино',\n",
              " 'Ермилово',\n",
              " 'Ефимовский',\n",
              " 'Заборье',\n",
              " 'Заклинье',\n",
              " 'Заневка',\n",
              " 'Запорожское',\n",
              " 'Зимитицы',\n",
              " 'Ивангород',\n",
              " 'Ивановка',\n",
              " 'Извара',\n",
              " 'Имени Морозова',\n",
              " 'Имени Свердлова',\n",
              " 'Иссад',\n",
              " 'Калитино',\n",
              " 'Кальтино',\n",
              " 'Каменка',\n",
              " 'Каменногорск',\n",
              " 'Келози',\n",
              " 'Кикерино',\n",
              " 'Кингисепп',\n",
              " 'Кингисеппский',\n",
              " 'Кипень',\n",
              " 'Кириши',\n",
              " 'Кировск',\n",
              " 'Кирпичное',\n",
              " 'Кисельня',\n",
              " 'Клопицы',\n",
              " 'Кобралово',\n",
              " 'Кобринское',\n",
              " 'Колчаново',\n",
              " 'Коммунар',\n",
              " 'Копорье',\n",
              " 'Коробицыно',\n",
              " 'Котельский',\n",
              " 'Красная Долина',\n",
              " 'Красносельское',\n",
              " 'Красный Бор',\n",
              " 'Кривко',\n",
              " 'Кудрово',\n",
              " 'Кузнечное',\n",
              " 'Кузьмоловский',\n",
              " 'Куйвози',\n",
              " 'Курковицы',\n",
              " 'Курск',\n",
              " 'Лаголово',\n",
              " 'Лампово',\n",
              " 'Лебяжье',\n",
              " 'Ленинское',\n",
              " 'Лесколово',\n",
              " 'Лесное',\n",
              " 'Лесогорский',\n",
              " 'Лодейное Поле',\n",
              " 'Лопухинка',\n",
              " 'Луга',\n",
              " 'Лукаши',\n",
              " 'Лупполово',\n",
              " 'Любань',\n",
              " 'Малое Верево',\n",
              " 'Малое Карлино',\n",
              " 'Мга',\n",
              " 'Мельниково',\n",
              " 'Мины',\n",
              " 'Мичуринское',\n",
              " 'Молодцово',\n",
              " 'Мурино',\n",
              " 'Мшинская',\n",
              " 'Мыза-Ивановка',\n",
              " 'Назия',\n",
              " 'Ненимяки',\n",
              " 'Низино',\n",
              " 'Никольский',\n",
              " 'Никольское',\n",
              " 'Новая Ладога',\n",
              " 'Новое Девяткино',\n",
              " 'Новолисино',\n",
              " 'Новоселье',\n",
              " 'Новый Свет',\n",
              " 'Новый Учхоз',\n",
              " 'Нурма',\n",
              " 'Ополье',\n",
              " 'Оредеж',\n",
              " 'Оржицы',\n",
              " 'Осельки',\n",
              " 'Осьмино',\n",
              " 'Отрадное',\n",
              " 'Павлово',\n",
              " 'Паша',\n",
              " 'Пеники',\n",
              " 'Первомайское',\n",
              " 'Перово',\n",
              " 'Петровское',\n",
              " 'Пикалево',\n",
              " 'Пикалёво',\n",
              " 'Плодовое',\n",
              " 'Победа',\n",
              " 'Подпорожье',\n",
              " 'Поляны',\n",
              " 'Почап',\n",
              " 'Починок',\n",
              " 'Приладожский',\n",
              " 'Приморск',\n",
              " 'Приозерск',\n",
              " 'Пудомяги',\n",
              " 'Пудость',\n",
              " 'Путилово',\n",
              " 'Пушное',\n",
              " 'Пчева',\n",
              " 'Пчевжа',\n",
              " 'Пчёвжа',\n",
              " 'Рабитицы',\n",
              " 'Разбегаево',\n",
              " 'Раздолье',\n",
              " 'Разметелево',\n",
              " 'Рахья',\n",
              " 'Ретюнь',\n",
              " 'Рождествено',\n",
              " 'Романовка',\n",
              " 'Ромашки',\n",
              " 'Ропша',\n",
              " 'Рощино',\n",
              " 'Русско-Высоцкое',\n",
              " 'Рябово',\n",
              " 'Саперное',\n",
              " 'Сапёрное',\n",
              " 'Светогорск',\n",
              " 'Селезнево',\n",
              " 'Селезнёво',\n",
              " 'Сельцо',\n",
              " 'Семиозерье',\n",
              " 'Семрино',\n",
              " 'Серебрянский',\n",
              " 'Сертолово',\n",
              " 'Сиверский',\n",
              " 'Синявино',\n",
              " 'Скреблово',\n",
              " 'Сланцы',\n",
              " 'Снегиревка',\n",
              " 'Снегирёвка',\n",
              " 'Советский',\n",
              " 'Сосново',\n",
              " 'Сосновый Бор',\n",
              " 'Старая',\n",
              " 'Старая Ладога',\n",
              " 'Старосиверская',\n",
              " 'Стеклянный',\n",
              " 'Суйда',\n",
              " 'Сумино',\n",
              " 'Сусанино',\n",
              " 'Суходолье',\n",
              " 'Сяськелево',\n",
              " 'Сясьстрой',\n",
              " 'Тайцы',\n",
              " 'Тельмана',\n",
              " 'Терволово',\n",
              " 'Терпилицы',\n",
              " 'Тихвин',\n",
              " 'Токсово',\n",
              " 'Толмачево',\n",
              " 'Толмачёво',\n",
              " 'Торковичи',\n",
              " 'Торосово',\n",
              " 'Торошковичи',\n",
              " 'Торфяное',\n",
              " 'Тосно',\n",
              " 'Углово',\n",
              " 'Ульяновка',\n",
              " 'Усадище',\n",
              " 'Усть-Луга',\n",
              " 'Ушаки',\n",
              " 'Фалилеево',\n",
              " 'Федоровское',\n",
              " 'Форносово',\n",
              " 'Фёдоровское',\n",
              " 'Хапо-Ое',\n",
              " 'Хвалово',\n",
              " 'Цвелодубово',\n",
              " 'Шлиссельбург',\n",
              " 'Шпаньково',\n",
              " 'Шугозеро',\n",
              " 'Шум',\n",
              " 'Щеглово',\n",
              " 'Яльгелево',\n",
              " 'Ям-Тесово',\n",
              " 'Ям-Тёсово',\n",
              " 'Янега',\n",
              " 'Янино-1')"
            ]
          },
          "execution_count": 67,
          "metadata": {},
          "output_type": "execute_result"
        }
      ],
      "source": [
        "# проверка результата\n",
        "# df_cities_47_big\n",
        "lo_47"
      ]
    },
    {
      "cell_type": "code",
      "execution_count": 68,
      "id": "9608ade2",
      "metadata": {},
      "outputs": [],
      "source": [
        "# текст запроса\n",
        "query_7_5 = f\"\"\"\n",
        "SELECT\n",
        "    a.name AS area_name,\n",
        "    v.name AS vacancy_name,\n",
        "    e.name AS employer_name,\n",
        "    v.experience,\n",
        "    v.employment,\n",
        "    v.salary_from,\n",
        "    v.salary_to\n",
        "FROM\n",
        "    employers AS e\n",
        "    JOIN vacancies AS v\n",
        "        ON e.id = v.employer_id\n",
        "    JOIN areas AS a\n",
        "        ON v.area_id = a.id\n",
        "        AND \n",
        "        (\n",
        "            -- г. Санкт-Петербург и муниципальные населённые пункты\n",
        "            a.name IN {spb_78}\n",
        "            OR\n",
        "            -- города Ленинградской области и муниципальные населённые пункты\n",
        "            a.name IN {lo_47}\n",
        "            OR\n",
        "            -- регионы имеющие в названии присутствие (Ленинградская обл) или (Ленинградская область) с учётом регистра\n",
        "            a.name ILIKE '%ленингр%'\n",
        "            )\n",
        "WHERE\n",
        "    (\n",
        "        LOWER(v.name) SIMILAR TO '%(data scientist|data science|исследователь данных|machine learning|машинн%обучен)%'\n",
        "        OR \n",
        "        (\n",
        "            v.name LIKE '%ML%' \n",
        "            AND \n",
        "            v.name NOT ILIKE '%HTML%'\n",
        "        )\n",
        "    )\n",
        "    AND \n",
        "    (\n",
        "        v.name ILIKE '%junior%' \n",
        "        OR \n",
        "        v.experience = 'Нет опыта'\n",
        "        OR \n",
        "        v.employment = 'Стажировка'\n",
        "    )\n",
        "ORDER BY\n",
        "    area_name,\n",
        "    employer_name,\n",
        "    vacancy_name\n",
        "\"\"\"\n",
        "df_7_5 = pd.read_sql_query(query_7_5, connection)"
      ]
    },
    {
      "cell_type": "code",
      "execution_count": 69,
      "id": "3741c94a",
      "metadata": {},
      "outputs": [
        {
          "data": {
            "text/html": [
              "<div>\n",
              "<style scoped>\n",
              "    .dataframe tbody tr th:only-of-type {\n",
              "        vertical-align: middle;\n",
              "    }\n",
              "\n",
              "    .dataframe tbody tr th {\n",
              "        vertical-align: top;\n",
              "    }\n",
              "\n",
              "    .dataframe thead th {\n",
              "        text-align: right;\n",
              "    }\n",
              "</style>\n",
              "<table border=\"1\" class=\"dataframe\">\n",
              "  <thead>\n",
              "    <tr style=\"text-align: right;\">\n",
              "      <th></th>\n",
              "      <th>area_name</th>\n",
              "      <th>vacancy_name</th>\n",
              "      <th>employer_name</th>\n",
              "      <th>experience</th>\n",
              "      <th>employment</th>\n",
              "      <th>salary_from</th>\n",
              "      <th>salary_to</th>\n",
              "    </tr>\n",
              "  </thead>\n",
              "  <tbody>\n",
              "    <tr>\n",
              "      <th>0</th>\n",
              "      <td>Санкт-Петербург</td>\n",
              "      <td>Data Scientist/Machine Learning Engineer (Deve...</td>\n",
              "      <td>Comexp</td>\n",
              "      <td>Нет опыта</td>\n",
              "      <td>Частичная занятость</td>\n",
              "      <td>NaN</td>\n",
              "      <td>NaN</td>\n",
              "    </tr>\n",
              "    <tr>\n",
              "      <th>1</th>\n",
              "      <td>Санкт-Петербург</td>\n",
              "      <td>Senior Data Scientist (AI)</td>\n",
              "      <td>DINS</td>\n",
              "      <td>Нет опыта</td>\n",
              "      <td>Полная занятость</td>\n",
              "      <td>NaN</td>\n",
              "      <td>NaN</td>\n",
              "    </tr>\n",
              "    <tr>\n",
              "      <th>2</th>\n",
              "      <td>Санкт-Петербург</td>\n",
              "      <td>Junior Data Scientist (Валидация скоринговых м...</td>\n",
              "      <td>Банк ВТБ (ПАО)</td>\n",
              "      <td>От 1 года до 3 лет</td>\n",
              "      <td>Полная занятость</td>\n",
              "      <td>NaN</td>\n",
              "      <td>NaN</td>\n",
              "    </tr>\n",
              "    <tr>\n",
              "      <th>3</th>\n",
              "      <td>Санкт-Петербург</td>\n",
              "      <td>Математик-аналитик (data scientist / data anal...</td>\n",
              "      <td>ННФормат</td>\n",
              "      <td>Нет опыта</td>\n",
              "      <td>Полная занятость</td>\n",
              "      <td>NaN</td>\n",
              "      <td>98000.0</td>\n",
              "    </tr>\n",
              "    <tr>\n",
              "      <th>4</th>\n",
              "      <td>Санкт-Петербург</td>\n",
              "      <td>Junior Data Scientist</td>\n",
              "      <td>Самокат (ООО Умное пространство)</td>\n",
              "      <td>От 1 года до 3 лет</td>\n",
              "      <td>Полная занятость</td>\n",
              "      <td>NaN</td>\n",
              "      <td>NaN</td>\n",
              "    </tr>\n",
              "    <tr>\n",
              "      <th>5</th>\n",
              "      <td>Санкт-Петербург</td>\n",
              "      <td>Intern/Junior Data Scientist</td>\n",
              "      <td>СтарЛайн, Научно-производственное объединение</td>\n",
              "      <td>Нет опыта</td>\n",
              "      <td>Стажировка</td>\n",
              "      <td>NaN</td>\n",
              "      <td>NaN</td>\n",
              "    </tr>\n",
              "    <tr>\n",
              "      <th>6</th>\n",
              "      <td>Санкт-Петербург</td>\n",
              "      <td>Junior/Middle Data Scientist</td>\n",
              "      <td>СтарЛайн, Научно-производственное объединение</td>\n",
              "      <td>От 1 года до 3 лет</td>\n",
              "      <td>Полная занятость</td>\n",
              "      <td>NaN</td>\n",
              "      <td>NaN</td>\n",
              "    </tr>\n",
              "    <tr>\n",
              "      <th>7</th>\n",
              "      <td>Санкт-Петербург</td>\n",
              "      <td>Junior Data Scientist</td>\n",
              "      <td>Улыбка радуги</td>\n",
              "      <td>Нет опыта</td>\n",
              "      <td>Полная занятость</td>\n",
              "      <td>50000.0</td>\n",
              "      <td>NaN</td>\n",
              "    </tr>\n",
              "    <tr>\n",
              "      <th>8</th>\n",
              "      <td>Санкт-Петербург</td>\n",
              "      <td>Исследователь в области машинного обучения и м...</td>\n",
              "      <td>Университет ИТМО</td>\n",
              "      <td>Нет опыта</td>\n",
              "      <td>Полная занятость</td>\n",
              "      <td>80000.0</td>\n",
              "      <td>150000.0</td>\n",
              "    </tr>\n",
              "  </tbody>\n",
              "</table>\n",
              "</div>"
            ],
            "text/plain": [
              "         area_name                                       vacancy_name  \\\n",
              "0  Санкт-Петербург  Data Scientist/Machine Learning Engineer (Deve...   \n",
              "1  Санкт-Петербург                         Senior Data Scientist (AI)   \n",
              "2  Санкт-Петербург  Junior Data Scientist (Валидация скоринговых м...   \n",
              "3  Санкт-Петербург  Математик-аналитик (data scientist / data anal...   \n",
              "4  Санкт-Петербург                              Junior Data Scientist   \n",
              "5  Санкт-Петербург                       Intern/Junior Data Scientist   \n",
              "6  Санкт-Петербург                       Junior/Middle Data Scientist   \n",
              "7  Санкт-Петербург                              Junior Data Scientist   \n",
              "8  Санкт-Петербург  Исследователь в области машинного обучения и м...   \n",
              "\n",
              "                                   employer_name          experience  \\\n",
              "0                                         Comexp           Нет опыта   \n",
              "1                                           DINS           Нет опыта   \n",
              "2                                 Банк ВТБ (ПАО)  От 1 года до 3 лет   \n",
              "3                                       ННФормат           Нет опыта   \n",
              "4               Самокат (ООО Умное пространство)  От 1 года до 3 лет   \n",
              "5  СтарЛайн, Научно-производственное объединение           Нет опыта   \n",
              "6  СтарЛайн, Научно-производственное объединение  От 1 года до 3 лет   \n",
              "7                                  Улыбка радуги           Нет опыта   \n",
              "8                               Университет ИТМО           Нет опыта   \n",
              "\n",
              "            employment  salary_from  salary_to  \n",
              "0  Частичная занятость          NaN        NaN  \n",
              "1     Полная занятость          NaN        NaN  \n",
              "2     Полная занятость          NaN        NaN  \n",
              "3     Полная занятость          NaN    98000.0  \n",
              "4     Полная занятость          NaN        NaN  \n",
              "5           Стажировка          NaN        NaN  \n",
              "6     Полная занятость          NaN        NaN  \n",
              "7     Полная занятость      50000.0        NaN  \n",
              "8     Полная занятость      80000.0   150000.0  "
            ]
          },
          "execution_count": 69,
          "metadata": {},
          "output_type": "execute_result"
        }
      ],
      "source": [
        "# результат запроса\n",
        "df_7_5"
      ]
    },
    {
      "cell_type": "code",
      "execution_count": 70,
      "id": "107180cb",
      "metadata": {},
      "outputs": [],
      "source": [
        "# закрываем соединение\n",
        "connection.close()"
      ]
    },
    {
      "attachments": {},
      "cell_type": "markdown",
      "id": "a2cf7bb2",
      "metadata": {},
      "source": [
        "***"
      ]
    },
    {
      "cell_type": "markdown",
      "id": "c0ED6fh7wiBT",
      "metadata": {
        "id": "c0ED6fh7wiBT"
      },
      "source": [
        "# Общий вывод по проекту"
      ]
    },
    {
      "attachments": {},
      "cell_type": "markdown",
      "id": "h9B3BL-wwj18",
      "metadata": {
        "id": "h9B3BL-wwj18"
      },
      "source": [
        "- Итак, мы провели практическую работу по <font color='LightSeaGreen'>**CRISP в части Data Understanding**</font>, а именно:\n",
        "\t- Внимательно изучили данные вакансий HeadHunter;\n",
        "\t- Провели детальный анализ вакансий и работодателей;\n",
        "\t- Более подробно предметно остановившись на вакансиях из области Data Science;\n",
        "\t- Провели дополнительные исследования для лучшего понимания представленных данных. \n",
        "\n",
        "\t<br>\n",
        "\n",
        "\t> В целом, <font color='LightSeaGreen'>***по результатам анализа данных можно сказать, что данные соответствуют ожиданиям и позволят в дальнейшем реализовать цель проекта***</font> - **Создание модели машинного обучения, которая будет рекомендовать вакансии клиентам агентства, претендующим на позицию Data Scientist**\n",
        "\n",
        "- Основные выводы по анализу данных, применимых к Data Science:\n",
        "\t- Специальность, весьма, востребована на рынка труда, рынок ещё не перегрет и очень быстрорастущий;\n",
        "\t- Достойный уровень оплаты труда, растет пропорционально опыту работы, примерно x2, каждые 3 года;\n",
        "\t- Достаточно высокие требования по основным навыкам для успешной работы. Основной инструмент - SQL запросы, но количество требуемых навыков 6 и более, такие как Python, Git, Pandas, Nupmy и другие hardskills;\n",
        "\t- Опыт работы и обладаемые навыки - самое большое преимущество, как с точки зрения финансов, так и преимуществ, в плане remote / part-time и проектных вариантов работы;\n",
        "\t- Достаточно обширный спектр направлений сфер деятельности и географии (Европа, Восток и другие континенты);\n",
        "\t- Для начинающего специалиста отрасль закрыта в плане удалёнки (на испытательном сроке контроль в офисе), но если \"пробиться\", то открываются дополнительные возможности по занятости.\n",
        "\n",
        "\t<br>\n",
        "\n",
        "\t> Однако, было отмечено, что в <font color='Tomato'>***процессе сбора данных были допущены некоторые отклонения / неточности (ошибки?)***</font>, которые могли бы облегчить последующий анализ при их наличии:\n",
        "\t- Неточный формат указания адреса регистрации работодателя, региона вакансии;\n",
        "\t- Незаполненные сферы деятельности;\n",
        "\t- Зарплатные вилки содержат аномальные или отсутствующие значения;\n",
        "\t- Было бы полезно добавить в выборку данных различные временнЫе метки.\n",
        "\n",
        "\t<br>\n",
        "\t\n",
        "- Для полной реализации проекта потребуется пройти следующие шаги:\n",
        "\t- Очистка и нормализация грязных данных (отсутствующие данные, выбросы),\n",
        "\t- Моделирование (агрегирование данных, выбор ключевых признаков, выбор алгоритмов),\n",
        "\t- Тестирование модели,\n",
        "\t- Обучение модели,\n",
        "\t- Оценка результатов."
      ]
    }
  ],
  "metadata": {
    "colab": {
      "collapsed_sections": [
        "8d62a9f3-f64e-4fe7-bdac-c4dffa16155e"
      ],
      "provenance": []
    },
    "kernelspec": {
      "display_name": "Python 3",
      "language": "python",
      "name": "python3"
    },
    "language_info": {
      "codemirror_mode": {
        "name": "ipython",
        "version": 3
      },
      "file_extension": ".py",
      "mimetype": "text/x-python",
      "name": "python",
      "nbconvert_exporter": "python",
      "pygments_lexer": "ipython3",
      "version": "3.10.9"
    },
    "vscode": {
      "interpreter": {
        "hash": "7b02cfcd8fef71610b44bd5f27af7343a9a16576c901d976aa2b0be0e7f076cc"
      }
    }
  },
  "nbformat": 4,
  "nbformat_minor": 5
}
