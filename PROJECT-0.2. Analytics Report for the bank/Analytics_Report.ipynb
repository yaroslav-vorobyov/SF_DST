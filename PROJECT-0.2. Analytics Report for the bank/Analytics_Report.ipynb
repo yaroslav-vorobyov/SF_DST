{
 "cells": [
  {
   "cell_type": "code",
   "execution_count": 1,
   "metadata": {},
   "outputs": [],
   "source": [
    "import pandas as pd\n",
    "import plotly.express as px\n",
    "import matplotlib.pyplot as plt\n",
    "import seaborn as sns\n",
    "%matplotlib inline\n",
    "import plotly.io as pio\n",
    "\n",
    "# выводить все результаты вычислений в ячейках Code\n",
    "# from IPython.core.interactiveshell import InteractiveShell\n",
    "# InteractiveShell.ast_node_interactivity = \"all\""
   ]
  },
  {
   "cell_type": "markdown",
   "metadata": {},
   "source": [
    "# <center> Закрепление знаний"
   ]
  },
  {
   "cell_type": "code",
   "execution_count": 2,
   "metadata": {},
   "outputs": [
    {
     "data": {
      "text/html": [
       "<div>\n",
       "<style scoped>\n",
       "    .dataframe tbody tr th:only-of-type {\n",
       "        vertical-align: middle;\n",
       "    }\n",
       "\n",
       "    .dataframe tbody tr th {\n",
       "        vertical-align: top;\n",
       "    }\n",
       "\n",
       "    .dataframe thead th {\n",
       "        text-align: right;\n",
       "    }\n",
       "</style>\n",
       "<table border=\"1\" class=\"dataframe\">\n",
       "  <thead>\n",
       "    <tr style=\"text-align: right;\">\n",
       "      <th></th>\n",
       "      <th>CustomerId</th>\n",
       "      <th>Surname</th>\n",
       "      <th>CreditScore</th>\n",
       "      <th>Geography</th>\n",
       "      <th>Gender</th>\n",
       "      <th>Age</th>\n",
       "      <th>Tenure</th>\n",
       "      <th>Balance</th>\n",
       "      <th>NumOfProducts</th>\n",
       "      <th>HasCrCard</th>\n",
       "      <th>IsActiveMember</th>\n",
       "      <th>EstimatedSalary</th>\n",
       "      <th>Exited</th>\n",
       "    </tr>\n",
       "  </thead>\n",
       "  <tbody>\n",
       "    <tr>\n",
       "      <th>0</th>\n",
       "      <td>15634602</td>\n",
       "      <td>Hargrave</td>\n",
       "      <td>619</td>\n",
       "      <td>France</td>\n",
       "      <td>Female</td>\n",
       "      <td>42</td>\n",
       "      <td>2</td>\n",
       "      <td>0.00</td>\n",
       "      <td>1</td>\n",
       "      <td>1</td>\n",
       "      <td>1</td>\n",
       "      <td>101348.88</td>\n",
       "      <td>1</td>\n",
       "    </tr>\n",
       "    <tr>\n",
       "      <th>1</th>\n",
       "      <td>15647311</td>\n",
       "      <td>Hill</td>\n",
       "      <td>608</td>\n",
       "      <td>Spain</td>\n",
       "      <td>Female</td>\n",
       "      <td>41</td>\n",
       "      <td>1</td>\n",
       "      <td>83807.86</td>\n",
       "      <td>1</td>\n",
       "      <td>0</td>\n",
       "      <td>1</td>\n",
       "      <td>112542.58</td>\n",
       "      <td>0</td>\n",
       "    </tr>\n",
       "    <tr>\n",
       "      <th>2</th>\n",
       "      <td>15619304</td>\n",
       "      <td>Onio</td>\n",
       "      <td>502</td>\n",
       "      <td>France</td>\n",
       "      <td>Female</td>\n",
       "      <td>42</td>\n",
       "      <td>8</td>\n",
       "      <td>159660.80</td>\n",
       "      <td>3</td>\n",
       "      <td>1</td>\n",
       "      <td>0</td>\n",
       "      <td>113931.57</td>\n",
       "      <td>1</td>\n",
       "    </tr>\n",
       "    <tr>\n",
       "      <th>3</th>\n",
       "      <td>15701354</td>\n",
       "      <td>Boni</td>\n",
       "      <td>699</td>\n",
       "      <td>France</td>\n",
       "      <td>Female</td>\n",
       "      <td>39</td>\n",
       "      <td>1</td>\n",
       "      <td>0.00</td>\n",
       "      <td>2</td>\n",
       "      <td>0</td>\n",
       "      <td>0</td>\n",
       "      <td>93826.63</td>\n",
       "      <td>0</td>\n",
       "    </tr>\n",
       "    <tr>\n",
       "      <th>4</th>\n",
       "      <td>15737888</td>\n",
       "      <td>Mitchell</td>\n",
       "      <td>850</td>\n",
       "      <td>Spain</td>\n",
       "      <td>Female</td>\n",
       "      <td>43</td>\n",
       "      <td>2</td>\n",
       "      <td>125510.82</td>\n",
       "      <td>1</td>\n",
       "      <td>1</td>\n",
       "      <td>1</td>\n",
       "      <td>79084.10</td>\n",
       "      <td>0</td>\n",
       "    </tr>\n",
       "  </tbody>\n",
       "</table>\n",
       "</div>"
      ],
      "text/plain": [
       "   CustomerId   Surname  CreditScore Geography  Gender  Age  Tenure  \\\n",
       "0    15634602  Hargrave          619    France  Female   42       2   \n",
       "1    15647311      Hill          608     Spain  Female   41       1   \n",
       "2    15619304      Onio          502    France  Female   42       8   \n",
       "3    15701354      Boni          699    France  Female   39       1   \n",
       "4    15737888  Mitchell          850     Spain  Female   43       2   \n",
       "\n",
       "     Balance  NumOfProducts  HasCrCard  IsActiveMember  EstimatedSalary  \\\n",
       "0       0.00              1          1               1        101348.88   \n",
       "1   83807.86              1          0               1        112542.58   \n",
       "2  159660.80              3          1               0        113931.57   \n",
       "3       0.00              2          0               0         93826.63   \n",
       "4  125510.82              1          1               1         79084.10   \n",
       "\n",
       "   Exited  \n",
       "0       1  \n",
       "1       0  \n",
       "2       1  \n",
       "3       0  \n",
       "4       0  "
      ]
     },
     "execution_count": 2,
     "metadata": {},
     "output_type": "execute_result"
    }
   ],
   "source": [
    "# если файла нет и нужно его подготовить\n",
    "# url = 'https://lms.skillfactory.ru/assets/courseware/v1/c903ecd0b0c995c44213d620ab6ae94d/asset-v1:SkillFactory+DST-3.0+28FEB2021+type@asset+block/churn.zip'\n",
    "# churn_data = pd.read_csv(url, compression='zip', sep=',')\n",
    "# # churn_data = pd.read_csv(url, compression='zip', index_col=[0], sep=',')\n",
    "# churn_data.drop(churn_data.columns[0], axis=1, inplace=True)\n",
    "\n",
    "# если таблица данных подготовлена к анализу\n",
    "churn_data = pd.read_csv('data/churn.csv')\n",
    "churn_df = churn_data.copy()\n",
    "churn_df.head()"
   ]
  },
  {
   "cell_type": "markdown",
   "metadata": {},
   "source": [
    "В таблице churn будем работать со следующими столбцами:\n",
    "\n",
    "0. RowNumber — номер строки таблицы (это лишняя информация, можно сразу от неё избавиться)\n",
    "1. CustomerId — идентификатор клиента\n",
    "2. Surname — фамилия клиента\n",
    "3. CreditScore — кредитный рейтинг клиента (чем он выше, тем больше клиент брал кредитов и возвращал их)\n",
    "4. Geography — страна клиента (банк международный)\n",
    "5. Gender — пол клиента\n",
    "6. Age — возраст клиента\n",
    "7. Tenure — сколько лет клиент пользуется услугами банка\n",
    "8. Balance — баланс на счетах клиента в банке\n",
    "9. NumOfProducts — количество услуг банка, которые приобрёл клиент\n",
    "10. HasCrCard — есть ли у клиента кредитная карта (1 — да, 0 — нет)\n",
    "11. IsActiveMember — есть ли у клиента статус активного клиента банка (1 — да, 0 — нет)\n",
    "12. EstimatedSalary — предполагаемая заработная плата клиента\n",
    "13. Exited — статус лояльности (1 — ушедший клиент, 0 — лояльный клиент)\n"
   ]
  },
  {
   "cell_type": "markdown",
   "metadata": {},
   "source": [
    "Банк обращается к вам за помощью: он хочет разработать кампанию лояльности по удержанию клиентов, \n",
    "но для этого ему необходимо, чтобы вы выяснили основные причины оттока клиентов. \n",
    "Иными словами, нужно **установить, чем ушедшие клиенты отличаются от лояльных \n",
    "и как между собой связаны различные признаки, определяющие клиентов**.\n",
    "\n",
    "После разведывательного анализа, с целью выявления наиболее важных признаков оттока, банк сможет построить модель машинного обучения, которая будет прогнозировать уход клиента. "
   ]
  },
  {
   "cell_type": "markdown",
   "metadata": {},
   "source": [
    "## <center> Анализ данных"
   ]
  },
  {
   "cell_type": "code",
   "execution_count": 3,
   "metadata": {},
   "outputs": [
    {
     "data": {
      "text/plain": [
       "(10000, 13)"
      ]
     },
     "execution_count": 3,
     "metadata": {},
     "output_type": "execute_result"
    }
   ],
   "source": [
    "churn_df.shape"
   ]
  },
  {
   "cell_type": "code",
   "execution_count": 4,
   "metadata": {},
   "outputs": [
    {
     "name": "stdout",
     "output_type": "stream",
     "text": [
      "<class 'pandas.core.frame.DataFrame'>\n",
      "RangeIndex: 10000 entries, 0 to 9999\n",
      "Data columns (total 13 columns):\n",
      " #   Column           Non-Null Count  Dtype  \n",
      "---  ------           --------------  -----  \n",
      " 0   CustomerId       10000 non-null  int64  \n",
      " 1   Surname          10000 non-null  object \n",
      " 2   CreditScore      10000 non-null  int64  \n",
      " 3   Geography        10000 non-null  object \n",
      " 4   Gender           10000 non-null  object \n",
      " 5   Age              10000 non-null  int64  \n",
      " 6   Tenure           10000 non-null  int64  \n",
      " 7   Balance          10000 non-null  float64\n",
      " 8   NumOfProducts    10000 non-null  int64  \n",
      " 9   HasCrCard        10000 non-null  int64  \n",
      " 10  IsActiveMember   10000 non-null  int64  \n",
      " 11  EstimatedSalary  10000 non-null  float64\n",
      " 12  Exited           10000 non-null  int64  \n",
      "dtypes: float64(2), int64(8), object(3)\n",
      "memory usage: 1015.8+ KB\n"
     ]
    }
   ],
   "source": [
    "churn_df.info()"
   ]
  },
  {
   "cell_type": "code",
   "execution_count": 5,
   "metadata": {},
   "outputs": [
    {
     "data": {
      "text/html": [
       "<div>\n",
       "<style scoped>\n",
       "    .dataframe tbody tr th:only-of-type {\n",
       "        vertical-align: middle;\n",
       "    }\n",
       "\n",
       "    .dataframe tbody tr th {\n",
       "        vertical-align: top;\n",
       "    }\n",
       "\n",
       "    .dataframe thead th {\n",
       "        text-align: right;\n",
       "    }\n",
       "</style>\n",
       "<table border=\"1\" class=\"dataframe\">\n",
       "  <thead>\n",
       "    <tr style=\"text-align: right;\">\n",
       "      <th></th>\n",
       "      <th>CustomerId</th>\n",
       "      <th>CreditScore</th>\n",
       "      <th>Age</th>\n",
       "      <th>Tenure</th>\n",
       "      <th>Balance</th>\n",
       "      <th>NumOfProducts</th>\n",
       "      <th>HasCrCard</th>\n",
       "      <th>IsActiveMember</th>\n",
       "      <th>EstimatedSalary</th>\n",
       "      <th>Exited</th>\n",
       "    </tr>\n",
       "  </thead>\n",
       "  <tbody>\n",
       "    <tr>\n",
       "      <th>count</th>\n",
       "      <td>1.000000e+04</td>\n",
       "      <td>10000.000000</td>\n",
       "      <td>10000.000000</td>\n",
       "      <td>10000.000000</td>\n",
       "      <td>10000.000000</td>\n",
       "      <td>10000.000000</td>\n",
       "      <td>10000.00000</td>\n",
       "      <td>10000.000000</td>\n",
       "      <td>10000.000000</td>\n",
       "      <td>10000.000000</td>\n",
       "    </tr>\n",
       "    <tr>\n",
       "      <th>mean</th>\n",
       "      <td>1.569094e+07</td>\n",
       "      <td>650.528800</td>\n",
       "      <td>38.921800</td>\n",
       "      <td>5.012800</td>\n",
       "      <td>76485.889288</td>\n",
       "      <td>1.530200</td>\n",
       "      <td>0.70550</td>\n",
       "      <td>0.515100</td>\n",
       "      <td>100090.239881</td>\n",
       "      <td>0.203700</td>\n",
       "    </tr>\n",
       "    <tr>\n",
       "      <th>std</th>\n",
       "      <td>7.193619e+04</td>\n",
       "      <td>96.653299</td>\n",
       "      <td>10.487806</td>\n",
       "      <td>2.892174</td>\n",
       "      <td>62397.405202</td>\n",
       "      <td>0.581654</td>\n",
       "      <td>0.45584</td>\n",
       "      <td>0.499797</td>\n",
       "      <td>57510.492818</td>\n",
       "      <td>0.402769</td>\n",
       "    </tr>\n",
       "    <tr>\n",
       "      <th>min</th>\n",
       "      <td>1.556570e+07</td>\n",
       "      <td>350.000000</td>\n",
       "      <td>18.000000</td>\n",
       "      <td>0.000000</td>\n",
       "      <td>0.000000</td>\n",
       "      <td>1.000000</td>\n",
       "      <td>0.00000</td>\n",
       "      <td>0.000000</td>\n",
       "      <td>11.580000</td>\n",
       "      <td>0.000000</td>\n",
       "    </tr>\n",
       "    <tr>\n",
       "      <th>25%</th>\n",
       "      <td>1.562853e+07</td>\n",
       "      <td>584.000000</td>\n",
       "      <td>32.000000</td>\n",
       "      <td>3.000000</td>\n",
       "      <td>0.000000</td>\n",
       "      <td>1.000000</td>\n",
       "      <td>0.00000</td>\n",
       "      <td>0.000000</td>\n",
       "      <td>51002.110000</td>\n",
       "      <td>0.000000</td>\n",
       "    </tr>\n",
       "    <tr>\n",
       "      <th>50%</th>\n",
       "      <td>1.569074e+07</td>\n",
       "      <td>652.000000</td>\n",
       "      <td>37.000000</td>\n",
       "      <td>5.000000</td>\n",
       "      <td>97198.540000</td>\n",
       "      <td>1.000000</td>\n",
       "      <td>1.00000</td>\n",
       "      <td>1.000000</td>\n",
       "      <td>100193.915000</td>\n",
       "      <td>0.000000</td>\n",
       "    </tr>\n",
       "    <tr>\n",
       "      <th>75%</th>\n",
       "      <td>1.575323e+07</td>\n",
       "      <td>718.000000</td>\n",
       "      <td>44.000000</td>\n",
       "      <td>7.000000</td>\n",
       "      <td>127644.240000</td>\n",
       "      <td>2.000000</td>\n",
       "      <td>1.00000</td>\n",
       "      <td>1.000000</td>\n",
       "      <td>149388.247500</td>\n",
       "      <td>0.000000</td>\n",
       "    </tr>\n",
       "    <tr>\n",
       "      <th>max</th>\n",
       "      <td>1.581569e+07</td>\n",
       "      <td>850.000000</td>\n",
       "      <td>92.000000</td>\n",
       "      <td>10.000000</td>\n",
       "      <td>250898.090000</td>\n",
       "      <td>4.000000</td>\n",
       "      <td>1.00000</td>\n",
       "      <td>1.000000</td>\n",
       "      <td>199992.480000</td>\n",
       "      <td>1.000000</td>\n",
       "    </tr>\n",
       "  </tbody>\n",
       "</table>\n",
       "</div>"
      ],
      "text/plain": [
       "         CustomerId   CreditScore           Age        Tenure        Balance  \\\n",
       "count  1.000000e+04  10000.000000  10000.000000  10000.000000   10000.000000   \n",
       "mean   1.569094e+07    650.528800     38.921800      5.012800   76485.889288   \n",
       "std    7.193619e+04     96.653299     10.487806      2.892174   62397.405202   \n",
       "min    1.556570e+07    350.000000     18.000000      0.000000       0.000000   \n",
       "25%    1.562853e+07    584.000000     32.000000      3.000000       0.000000   \n",
       "50%    1.569074e+07    652.000000     37.000000      5.000000   97198.540000   \n",
       "75%    1.575323e+07    718.000000     44.000000      7.000000  127644.240000   \n",
       "max    1.581569e+07    850.000000     92.000000     10.000000  250898.090000   \n",
       "\n",
       "       NumOfProducts    HasCrCard  IsActiveMember  EstimatedSalary  \\\n",
       "count   10000.000000  10000.00000    10000.000000     10000.000000   \n",
       "mean        1.530200      0.70550        0.515100    100090.239881   \n",
       "std         0.581654      0.45584        0.499797     57510.492818   \n",
       "min         1.000000      0.00000        0.000000        11.580000   \n",
       "25%         1.000000      0.00000        0.000000     51002.110000   \n",
       "50%         1.000000      1.00000        1.000000    100193.915000   \n",
       "75%         2.000000      1.00000        1.000000    149388.247500   \n",
       "max         4.000000      1.00000        1.000000    199992.480000   \n",
       "\n",
       "             Exited  \n",
       "count  10000.000000  \n",
       "mean       0.203700  \n",
       "std        0.402769  \n",
       "min        0.000000  \n",
       "25%        0.000000  \n",
       "50%        0.000000  \n",
       "75%        0.000000  \n",
       "max        1.000000  "
      ]
     },
     "execution_count": 5,
     "metadata": {},
     "output_type": "execute_result"
    }
   ],
   "source": [
    "churn_df.describe()"
   ]
  },
  {
   "cell_type": "code",
   "execution_count": 6,
   "metadata": {},
   "outputs": [
    {
     "data": {
      "text/html": [
       "<div>\n",
       "<style scoped>\n",
       "    .dataframe tbody tr th:only-of-type {\n",
       "        vertical-align: middle;\n",
       "    }\n",
       "\n",
       "    .dataframe tbody tr th {\n",
       "        vertical-align: top;\n",
       "    }\n",
       "\n",
       "    .dataframe thead th {\n",
       "        text-align: right;\n",
       "    }\n",
       "</style>\n",
       "<table border=\"1\" class=\"dataframe\">\n",
       "  <thead>\n",
       "    <tr style=\"text-align: right;\">\n",
       "      <th></th>\n",
       "      <th>Surname</th>\n",
       "      <th>Geography</th>\n",
       "      <th>Gender</th>\n",
       "    </tr>\n",
       "  </thead>\n",
       "  <tbody>\n",
       "    <tr>\n",
       "      <th>count</th>\n",
       "      <td>10000</td>\n",
       "      <td>10000</td>\n",
       "      <td>10000</td>\n",
       "    </tr>\n",
       "    <tr>\n",
       "      <th>unique</th>\n",
       "      <td>2932</td>\n",
       "      <td>3</td>\n",
       "      <td>2</td>\n",
       "    </tr>\n",
       "    <tr>\n",
       "      <th>top</th>\n",
       "      <td>Smith</td>\n",
       "      <td>France</td>\n",
       "      <td>Male</td>\n",
       "    </tr>\n",
       "    <tr>\n",
       "      <th>freq</th>\n",
       "      <td>32</td>\n",
       "      <td>5014</td>\n",
       "      <td>5457</td>\n",
       "    </tr>\n",
       "  </tbody>\n",
       "</table>\n",
       "</div>"
      ],
      "text/plain": [
       "       Surname Geography Gender\n",
       "count    10000     10000  10000\n",
       "unique    2932         3      2\n",
       "top      Smith    France   Male\n",
       "freq        32      5014   5457"
      ]
     },
     "execution_count": 6,
     "metadata": {},
     "output_type": "execute_result"
    }
   ],
   "source": [
    "churn_df.describe(include=['object'])"
   ]
  },
  {
   "cell_type": "markdown",
   "metadata": {},
   "source": [
    "### 9.1. Каково соотношение ушедших и лояльных клиентов? Покажите это на графике и дайте комментарий по соотношению."
   ]
  },
  {
   "cell_type": "code",
   "execution_count": 10,
   "metadata": {},
   "outputs": [],
   "source": [
    "# строим график\n",
    "fig_pie = px.pie(\n",
    "        data_frame=churn_df,                                            # DataFrame\n",
    "        names=churn_df['Exited'].map({0: 'Loyal', 1: 'Churn'}),         # от чего зависит цвет\n",
    "        height=500,                                                     # высота\n",
    "        width=700,                                                      # ширина\n",
    "        color_discrete_sequence=['LimeGreen', 'Crimson'],               # палитра цветов\n",
    "        title='Distribution of churn and loyal customers',              # заголовок\n",
    ")\n",
    "\n",
    "# выделяем сектор\n",
    "# fig_pie.update_layout(pull=[0.1, 0])\n",
    "# fig_pie.show()\n",
    "\n",
    "pio.write_image(fig_pie, file='./images/fig_pie_1.svg', engine='orca')"
   ]
  },
  {
   "attachments": {},
   "cell_type": "markdown",
   "metadata": {},
   "source": [
    "![Alt text](./images/fig_pie_1.svg)"
   ]
  },
  {
   "cell_type": "markdown",
   "metadata": {},
   "source": [
    "#### **Выводы:**\n",
    "\n",
    "* https://survicate.com/customer-satisfaction/customer-churn/\n",
    "* https://www.cossa.ru/mytracker/282258/\n",
    "\n",
    "Если ссылаться на источники, то цифра по банковской индустрии в US составляет, в среднем, около 20%.\n",
    "\n",
    "По графику цифра - 20.4 %, что, в принципе, укладывается в статистику; получается, что как у всех банков, по-среднему, вроде. Банк ищет причины оттока, значит, есть повод и причины для беспокойства.\n",
    "\n",
    "Рекомендация - уменьшать на 5-10% (до churn - 10-15%), вполне, реально. Идеально - стремиться к \"вилкам\" churn 0%-5%-10%."
   ]
  },
  {
   "attachments": {},
   "cell_type": "markdown",
   "metadata": {},
   "source": [
    "***"
   ]
  },
  {
   "attachments": {},
   "cell_type": "markdown",
   "metadata": {},
   "source": [
    "### 9.2. Постройте график, показывающий распределение баланса пользователей, у которых на счету больше 2 500 долларов. Опишите распределение и сделайте выводы."
   ]
  },
  {
   "cell_type": "code",
   "execution_count": 11,
   "metadata": {},
   "outputs": [],
   "source": [
    "# функция расчета выборки клиентской группы\n",
    "def get_clients_volume(df, low, high):\n",
    "    clients = df[(df['Balance'] > low) & (df['Balance'] < high)].shape[0]   # считаем сколько людей в заданной группе\n",
    "    percentage = round((clients /df['Balance'].shape[0]) * 100, 2)          # вычисляем их процентное соотношение\n",
    "    return clients, percentage                                              # возвращаем (сколько в группе, процент группы)\n",
    "\n",
    "filtered = churn_df[churn_df['Balance'] > 2500].copy()                      # делаем выборку с балансом более 2500\n",
    "\n",
    "# строим график\n",
    "fig_box = px.box(\n",
    "            data_frame=filtered,                                            # DataFrame\n",
    "            x='Balance',                                                    # ось абсцисс\n",
    "            orientation='h',                                                # ориентация графика\n",
    "            height=400,                                                     # высота\n",
    "            width=1000,                                                     # ширина\n",
    "            color_discrete_sequence=['RoyalBlue'],                          # палитра цветов\n",
    "            title=\"Balance's distribution with balance over $2.5k\"          # заголовок\n",
    "            )\n",
    "\n",
    "#отображаем его\n",
    "# fig_box.show()\n",
    "\n",
    "pio.write_image(fig_box, file='./images/fig_box_2.svg', engine='orca')"
   ]
  },
  {
   "attachments": {},
   "cell_type": "markdown",
   "metadata": {},
   "source": [
    "![Alt text](./images/fig_box_2.svg)"
   ]
  },
  {
   "cell_type": "code",
   "execution_count": null,
   "metadata": {},
   "outputs": [],
   "source": [
    "# Формирование групп по количеству и процентному соотношению\n",
    "get_clients_volume(filtered, 0, 41000)\n",
    "get_clients_volume(filtered, 41000, 100000)\n",
    "get_clients_volume(filtered, 100000, 119839)\n",
    "get_clients_volume(filtered, 119839, 139512)\n",
    "get_clients_volume(filtered, 139512, 198500)\n",
    "get_clients_volume(filtered, 198500, 300000)\n",
    "get_clients_volume(filtered, 0, 300000)\n",
    "# filtered['Balance'].describe()"
   ]
  },
  {
   "cell_type": "markdown",
   "metadata": {},
   "source": [
    "* < 41000             : 36\n",
    "* 41000  <  < 100000  : 1548\n",
    "* 100000 <  < 119839  : 1607\n",
    "* 119839 <  < 139512  : 1596\n",
    "* 139512 <  < 198500  : 1559\n",
    "* \\> 198500           : 37\n",
    "\n",
    "Всего               : 6383\n",
    "\n",
    "Всего в выборке 6383 записи (клиента), где баланс более $2500. Распределение таково, что количество клиентов делится, примерно, поровну, на 4 части (крайние группы слева и справа чрезвычайно малы 0.56% и 0.58%, ими можно пренебречь при рассмотрении выборки), то есть:\n",
    "* 1 группа - 24.25 % от выборки\n",
    "* 2 группа - 25.18 % от выборки\n",
    "* 3 группа - 25.0  % от выборки \n",
    "* 4 группа - 24.42 % от выборки\n",
    "\n",
    "#### **Выводы:**\n",
    "\n",
    "Выборка, конечно, слишком идеальная, ровно плюс-минус по четвертям, выглядит, слишком равновзвешенно, с учетом 3 географических наций.\n",
    "\n",
    "Примерно четверть клиентов, около 25% имеют средства в диапазоне от $40k до $100k, причины могут быть разные - от форс-мажоров до \"просто жить ни в чем себе не отказывая\".\n",
    "\n",
    "Большинство клиентов - 75%, на балансе имеют от $100k и более (q2-q4), сильно сказывается доходность в европейских странах и менталитет, люди стараются больше откладывать средства, чем тратить их."
   ]
  },
  {
   "attachments": {},
   "cell_type": "markdown",
   "metadata": {},
   "source": [
    "***"
   ]
  },
  {
   "attachments": {},
   "cell_type": "markdown",
   "metadata": {},
   "source": [
    "### 9.3. Посмотрите на распределение баланса клиента в разрезе признака оттока. Как различаются суммы на накопительном счёте ушедших и лояльных клиентов? Подумайте и напишите, с чем это может быть связано, что может не устраивать ушедших клиентов в банке."
   ]
  },
  {
   "cell_type": "code",
   "execution_count": 12,
   "metadata": {},
   "outputs": [],
   "source": [
    "# строим график\n",
    "fig_hist = px.histogram(\n",
    "    barmode='group',                                                        # тип группировки данных при выводе графика\n",
    "    # data_frame=churn_df,                                                    # DataFrame\n",
    "    data_frame=filtered,                                                    # DataFrame с балансом более $2.5k\n",
    "    x = 'Balance',                                                          # ось абсцисс\n",
    "    # color=churn_df['Exited'].map({0: 'Loyal', 1: 'Churn'}),                 # от чего зависит цвет\n",
    "    color=filtered['Exited'].map({0: 'Loyal', 1: 'Churn'}),                 # от чего зависит цвет с балансом более $2.5k\n",
    "    nbins=30,                                                               # число меток на оси\n",
    "    height=600,                                                             # высота\n",
    "    width=1000,                                                             # ширина\n",
    "    marginal='box',                                                         # отображение коробочного графика\n",
    "    color_discrete_sequence=['RoyalBlue', 'Crimson'],                       # палитра цветов\n",
    "    title='Distribution of leftover on balance to churn and loyal clients', # заголовок\n",
    ")\n",
    "\n",
    "# отображаем его\n",
    "fig_hist.update_layout(\n",
    "    yaxis = dict(\n",
    "        title='Count of customers',                             # обновляем подпись к оси ординат\n",
    "        visible=True,                                           # отображаем подпись\n",
    "        showticklabels=True                                     # отображаем метки\n",
    "        )\n",
    ")\n",
    "\n",
    "# fig_hist.show()\n",
    "\n",
    "pio.write_image(fig_hist, file='./images/fig_hist_3.svg', engine='orca')"
   ]
  },
  {
   "attachments": {},
   "cell_type": "markdown",
   "metadata": {},
   "source": [
    "![Alt text](./images/fig_hist_3.svg)"
   ]
  },
  {
   "cell_type": "code",
   "execution_count": null,
   "metadata": {},
   "outputs": [],
   "source": [
    "# сводные таблицы для описания выводов\n",
    "active = churn_df['IsActiveMember']\n",
    "filtered_0 = churn_df[active == 0].copy()\n",
    "filtered_1 = churn_df[active == 1].copy()\n",
    "\n",
    "# сводная таблица зависимости минимального кредитного рейтинга от числа продуктов банка, географии ушедших клиентов\n",
    "filtered_0.pivot_table(\n",
    "    index=['Exited', 'Geography'],\n",
    "    values=['CreditScore'],\n",
    "    columns=['NumOfProducts'],\n",
    "    aggfunc=['min']\n",
    ")\n",
    "\n",
    "# сводная таблица зависимости числа кредитных карт от числа продуктов банка, географии ушедших клиентов\n",
    "# filtered_0.pivot_table(\n",
    "#     index=['Exited', 'Geography'],\n",
    "#     values=['HasCrCard'],\n",
    "#     columns=['NumOfProducts'],\n",
    "#     aggfunc=['count']\n",
    "# )\n",
    "\n",
    "# сводная таблица зависимости числа клиентов с активным статусом от числа продуктов банка, географии ушедших клиентов\n",
    "# filtered_0.pivot_table(\n",
    "#     index=['Exited', 'Geography'],\n",
    "#     values=['IsActiveMember'],\n",
    "#     columns=['NumOfProducts'],\n",
    "#     aggfunc=['count']\n",
    "# )\n",
    "filtered_0.shape[0]\n",
    "\n",
    "# сводная таблица зависимости минимального кредитного рейтинга от числа продуктов банка, географии лояльных клиентов\n",
    "filtered_1.pivot_table(\n",
    "    index=['Exited', 'Geography'],\n",
    "    values=['CreditScore'],\n",
    "    columns=['NumOfProducts'],\n",
    "    aggfunc=['min']\n",
    ")\n",
    "\n",
    "# сводная таблица зависимости числа кредитных карт от числа продуктов банка, географии лояльных клиентов\n",
    "# filtered_1.pivot_table(\n",
    "#     index=['Exited', 'Geography'],\n",
    "#     values=['HasCrCard'],\n",
    "#     columns=['NumOfProducts'],\n",
    "#     aggfunc=['count']\n",
    "# )\n",
    "\n",
    "# сводная таблица зависимости числа клиентов с активным статусом от числа продуктов банка, географии лояльных клиентов\n",
    "# filtered_1.pivot_table(\n",
    "#     index=['Exited', 'Geography'],\n",
    "#     values=['IsActiveMember'],\n",
    "#     columns=['NumOfProducts'],\n",
    "#     aggfunc=['count']\n",
    "# )\n",
    "filtered_1.shape[0]"
   ]
  },
  {
   "attachments": {},
   "cell_type": "markdown",
   "metadata": {},
   "source": [
    "#### **Выводы:**\n",
    "\n",
    "* По графикам заметно, что число ушедших клиентов достаточно значительное, об этом говорит первая диаграмма, более 20%, и как подтверждение - столбик ушедших более 500 человек с балансом менее $5k, это 1/4 часть ушедших клиентов.\n",
    "\n",
    "* Основной группой ушедших, около 60% от общего числа ушедших являются держатели крупных сумм на балансе - от $100k.\n",
    "\n",
    "* Факт оттока ещё более примечателен тем, что у ушедших клиентов граница минимального баланса располагается в районе $53k \\(если рассматривать срез с балансом выше $2.5k), в то время, как у оставшихся клиентов эта цифра сильно меньше - $38.5k, разница составляет - 37%.\n",
    "\n",
    "Анализ имеющихся сведений показал, что вне зависимости от географического положения недостаточно развиты:\n",
    "* \"Cтатус активного клиента\", его следует пересмотреть его получение, данные показывают, что клиент часто уходит не имея такого статуса, при этом число число ушедших клиентов, имеющих статус \"активный клиент\" и получивших услуги составляет - от 50 до 100% от объёма ушедших клиентов, получивших такое же количество услуг банка и НЕ имеющих такой статус;\n",
    "\n",
    "* Услуги оказываемые банком, максимальное число услуг, оказанных банком, у постоянных клиентов - не более 3, у ушедших - 4. Полученные данные могут говорить о том, что оформив очередной продукт банка, клиент покидает банк, так как он может не отвечать в перспективе ожиданиям клиента. А постоянные клиенты, зная об особенностях конкретного продукта банка, не оформляют его. Также о неэффективности услуг стоит судить по цифрам ухода после получения 1 услуги - максимальный отток клиентов, 2 услуги и более - далее по убывающей, на спад.\n",
    "\n",
    "* Кредитный рейтинг, часть данных показывает, что, ни статус активного клиента, ни число полученных услуг от банка не сказывается на поддержании высокого кредитного рейтинга. Следует пересмотреть кредитные предложения от банка.\n"
   ]
  },
  {
   "attachments": {},
   "cell_type": "markdown",
   "metadata": {},
   "source": [
    "***"
   ]
  },
  {
   "attachments": {},
   "cell_type": "markdown",
   "metadata": {},
   "source": [
    "### 9.4. Посмотрите на распределение возраста в разрезе признака оттока. В какой группе больше потенциальных выбросов? На какую возрастную категорию клиентов стоит обратить внимание банку?"
   ]
  },
  {
   "cell_type": "code",
   "execution_count": 13,
   "metadata": {},
   "outputs": [],
   "source": [
    "# фильтры\n",
    "age = churn_df['Age']\n",
    "exited = churn_df['Exited']\n",
    "\n",
    "# формирование возрастных групп\n",
    "filter_exited = churn_df[(age > 35) & (age < 57) & (exited == 1)].copy()\n",
    "filter_loyal = churn_df[(age > 56) & (exited == 0)].copy()\n",
    "\n",
    "# подсчёт значений для выводов\n",
    "mean_age_group_exited = filter_exited.groupby(by='Age')['Exited'].value_counts().mean()\n",
    "total_age_exited = filter_exited.groupby(by='Age')['Exited'].value_counts().sum()\n",
    "emissions_age_loyal = filter_loyal.groupby(by='Age')['Exited'].value_counts().sum()\n",
    "# mean_age_group_exited\n",
    "# total_age_exited\n",
    "# emissions_age_loyal\n",
    "\n",
    "# строим график\n",
    "fig_hist = px.histogram(\n",
    "    barmode='stack',                                            # тип группировки данных при выводе графика\n",
    "    data_frame=churn_df,                                        # DataFrame\n",
    "    x = 'Age',                                                  # ось абсцисс\n",
    "    y = 'Exited',                                               # ось ординат\n",
    "    color=churn_df['Exited'].map({0: 'Loyal', 1: 'Churn'}),     # от чего зависит цвет\n",
    "    orientation='v',                                            # ориентация графика\n",
    "    height=600,                                                 # высота\n",
    "    width=1000,                                                 # ширина\n",
    "    histfunc='count',                                           # агрегирующая функция\n",
    "    marginal='box',                                             # отображение коробочного графика\n",
    "    color_discrete_sequence=['Crimson', 'RoyalBlue'],           # палитра цветов\n",
    "    title='Age distribution to churn and loyal clients',        # заголовок\n",
    ")\n",
    "\n",
    "# отображаем его\n",
    "fig_hist.update_layout(\n",
    "    yaxis = dict(\n",
    "        title='Count of customers',                             # обновляем подпись к оси ординат\n",
    "        )\n",
    ")\n",
    "\n",
    "pio.write_image(fig_hist, file='./images/fig_hist_4.svg', engine='orca')"
   ]
  },
  {
   "attachments": {},
   "cell_type": "markdown",
   "metadata": {},
   "source": [
    "![Alt text](./images/fig_hist_4.svg)"
   ]
  },
  {
   "cell_type": "markdown",
   "metadata": {},
   "source": [
    "#### **Выводы:**\n",
    "\n",
    "Проанализировав график видно, что:\n",
    "* Стоит обратить внимание на возрастную категорию 35-55 лет. \n",
    "\n",
    "<p style=\"margin-left: 40px\">Именно это основная масса клиентов уходящей группы, среднее число клиентов на каждую возрастную группу в указанной \"вилке\" - почти 70 человек (68.86 человека на группу), суммарно почти 1450 (точно - 1446) человек. </p>\n",
    "\n",
    "* Особо стоит обратить внимание на возрастную категорию лояльных клиентов, в правой части очень большое число выбросов, верхняя граница основной массы постоянных клиентов 56 лет достаточно близко к верхней границе \"коробки ушедших клиентов\" - 51 год. \n",
    "\n",
    "<p style=\"margin-left: 40px\">Отток может составить почти 500 человек (точно - 486), если банк не предпримет меры. </p>"
   ]
  },
  {
   "attachments": {},
   "cell_type": "markdown",
   "metadata": {},
   "source": [
    "***"
   ]
  },
  {
   "attachments": {},
   "cell_type": "markdown",
   "metadata": {},
   "source": [
    "### 9.5. Постройте график, который показывает взаимосвязь кредитного рейтинга клиента и его предполагаемой зарплаты. Добавьте расцветку по признаку оттока клиентов. Какова взаимосвязь между признаками? Если не видите явной взаимосвязи, укажите это."
   ]
  },
  {
   "cell_type": "code",
   "execution_count": 14,
   "metadata": {},
   "outputs": [],
   "source": [
    "# выборка \n",
    "salary_score_df = churn_df.groupby(['CreditScore', 'Exited'], as_index=False)['EstimatedSalary'].median()\n",
    "\n",
    "# строим график\n",
    "fig_scatt = px.scatter(\n",
    "    data_frame = salary_score_df,                                       # DataFrame\n",
    "    x='EstimatedSalary',                                                # ось абсцисс\n",
    "    y='CreditScore',                                                    # ось ординат\n",
    "    color=salary_score_df['Exited'].map({0: 'Loyal', 1: 'Churn'}),      # от чего зависит цвет\n",
    "    height=500,                                                         # высота\n",
    "    width=1000,                                                         # ширина\n",
    "    color_discrete_sequence=['RoyalBlue', 'Crimson'],                   # палитра цветов\n",
    "    title='Dependence of the credit rating on the estimated salary',    # заголовок\n",
    ")\n",
    "\n",
    "# отображаем его\n",
    "fig_scatt.update_layout(\n",
    "    xaxis = dict(\n",
    "        title='Estimated salary',                                       # обновляем подпись к оси абсцисс\n",
    "        ),\n",
    "    yaxis = dict(\n",
    "        title='Credit score',                                           # обновляем подпись к оси ординат\n",
    "        )\n",
    ")\n",
    "\n",
    "# fig_scatt.show()\n",
    "\n",
    "pio.write_image(fig_scatt, file='./images/fig_scatt_5.svg', engine='orca')"
   ]
  },
  {
   "attachments": {},
   "cell_type": "markdown",
   "metadata": {},
   "source": [
    "![Alt text](./images/fig_scatt_5.svg)"
   ]
  },
  {
   "cell_type": "markdown",
   "metadata": {},
   "source": [
    "#### **Выводы:**\n",
    "\n",
    "На представленной диаграмме точки разбросаны хаотично и не сгруппированы в какой-то конкретной области диаграммы, это означает только одно - отсутствие взаимосвязей между предполагаемой заработной платой и кредитным рейтингом. Зависимость признака оттока от двух этих признаков также определить невозможно."
   ]
  },
  {
   "attachments": {},
   "cell_type": "markdown",
   "metadata": {},
   "source": [
    "***"
   ]
  },
  {
   "attachments": {},
   "cell_type": "markdown",
   "metadata": {},
   "source": [
    "### 9.6. Кто чаще уходит, мужчины или женщины? Постройте график, который иллюстрирует это."
   ]
  },
  {
   "cell_type": "code",
   "execution_count": 15,
   "metadata": {},
   "outputs": [],
   "source": [
    "# строим график\n",
    "fig_sun = px.sunburst(\n",
    "    churn_df,                                                   # DataFrame\n",
    "    names=churn_df['Exited'].map({0: 'Loyal', 1: 'Churn'}),     # от чего зависит цвет\n",
    "    path=['Gender', 'Exited'],                                  # выбор данных для построения \"солнца\"\n",
    "    height=600,                                                 # высота\n",
    "    width=800,                                                  # ширина\n",
    "    color_discrete_sequence=['RoyalBlue', 'DeepPink'],          # палитра цветов\n",
    "    title='Gender distribution to churn and loyal customers',   # заголовок\n",
    ")\n",
    "\n",
    "fig_sun.data[0].insidetextorientation='horizontal'                  # горизонтальное расположение надписей в секторах\n",
    "fig_sun.data[0].hovertemplate = '%{label}<br>%{value}'              # формирование подписей в контекстной подсказке\n",
    "fig_sun.data[0].texttemplate = '%{label}<br>%{percentEntry:.2%}'    # формирование формата вывода\n",
    "\n",
    "# формирование меток в секторах\n",
    "fig_sun.update_traces(labels=('Loyal', 'Loyal', 'Churn', 'Churn', 'Female', 'Male'), selector=dict(type='sunburst'))\n",
    "# fig_sun.show()\n",
    "\n",
    "pio.write_image(fig_sun, file='./images/fig_sun_6.svg', engine='orca')"
   ]
  },
  {
   "attachments": {},
   "cell_type": "markdown",
   "metadata": {},
   "source": [
    "![Alt text](./images/fig_sun_6.svg)"
   ]
  },
  {
   "cell_type": "markdown",
   "metadata": {},
   "source": [
    "#### **Выводы:**\n",
    "\n",
    "По графику видно и следует, что:\n",
    "* Доля ушедших \"мужчин\" (Male, 1) - 8,98%\n",
    "* Доля ушедших \"женщин\" (Female, 1) - 11,39%\n",
    "\n",
    "<p style=\"margin-left: 40px\">Бóльшая часть клиентов, прекращающих пользоваться услугами банка и покидающих банк - женщины. </p>"
   ]
  },
  {
   "attachments": {},
   "cell_type": "markdown",
   "metadata": {},
   "source": [
    "***"
   ]
  },
  {
   "attachments": {},
   "cell_type": "markdown",
   "metadata": {},
   "source": [
    "### 9.7. Как отток клиентов зависит от числа приобретённых у банка услуг? Для ответа на этот вопрос постройте многоуровневую столбчатую диаграмму."
   ]
  },
  {
   "cell_type": "code",
   "execution_count": 18,
   "metadata": {},
   "outputs": [],
   "source": [
    "# выборка\n",
    "bar_data = churn_df.groupby(by=['NumOfProducts', 'Exited'], as_index=False)['Exited'].value_counts().copy()\n",
    "\n",
    "# строим график\n",
    "fig_bar = px.bar(\n",
    "    data_frame=bar_data,                                        # DataFrame\n",
    "    x = 'NumOfProducts',                                        # ось абсцисс\n",
    "    y = 'count',                                                # ось ординат\n",
    "    color=bar_data['Exited'].map({0: 'Loyal', 1: 'Churn'}),     # от чего зависит цвет\n",
    "    orientation='v',                                            # ориентация графика\n",
    "    height=400,                                                 # высота\n",
    "    width=800,                                                  # ширина\n",
    "    color_discrete_sequence=['RoyalBlue', 'Crimson'],           # палитра цветов\n",
    "    # заголовок\n",
    "    title=\"Distribution of received bank's products to churn and loyal customers\",\n",
    ")\n",
    "\n",
    "# отображаем его\n",
    "fig_bar.update_layout(\n",
    "    xaxis = dict(\n",
    "        dtick = 1,                                              # формирование меток\n",
    "        title='Number of products',                             # обновляем подпись к оси абсцисс\n",
    "        ),\n",
    "    yaxis = dict(\n",
    "        title='Count of customers',                             # обновляем подпись к оси ординат\n",
    "        visible=True,                                           # отображаем подпись\n",
    "        showticklabels=True                                     # отображаем метки\n",
    "        )\n",
    ")\n",
    "\n",
    "# fig_bar.show()\n",
    "\n",
    "pio.write_image(fig_bar, file='./images/fig_bar_7.svg', engine='orca')"
   ]
  },
  {
   "attachments": {},
   "cell_type": "markdown",
   "metadata": {},
   "source": [
    "![Alt text](./images/fig_bar_7.svg)"
   ]
  },
  {
   "cell_type": "markdown",
   "metadata": {},
   "source": [
    "#### **Выводы:**\n",
    "\n",
    "* Максимальное число услуг оказанных банком у постоянных клиентов - не более 3, у ушедших - 4.\n",
    "\n",
    "* Независимо от числа полученных услуг от банка присутствует отток, он минимален когда оказанное банком клиенту число услуг максимально, но и лояльных клиентов нет. Возможно, постоянные клиенты, знают об особенностях конкретного продукта банка и не оформляют его, имеет \"подводные камни\", или \"последняя услуга не интересна\" - не отвечает ожиданиям,  или произошло, так называемое \"насыщение\" - то есть клиенту более услуги не требуются;\n",
    "\n",
    "* Максимальный отток начиная с получения хотя бы 1 услуги, далее - по убывающей, то есть, банк предлагая дополнительные услуги клиенту, увеличивает лояльность, уменьшая отток. При этом после получения второй услуги отток уменьшается более, чем в 4 раза."
   ]
  },
  {
   "attachments": {},
   "cell_type": "markdown",
   "metadata": {},
   "source": [
    "***"
   ]
  },
  {
   "attachments": {},
   "cell_type": "markdown",
   "metadata": {},
   "source": [
    "### 9.8. Как влияет наличие статуса активного клиента на отток клиентов? Постройте диаграмму, иллюстрирующую это. Что бы вы предложили банку, чтобы уменьшить отток клиентов среди неактивных?"
   ]
  },
  {
   "cell_type": "code",
   "execution_count": 19,
   "metadata": {},
   "outputs": [],
   "source": [
    "# выборка\n",
    "bar_data = churn_df.groupby(by=['Tenure', 'Exited'], as_index=False)[['IsActiveMember', 'Exited']].value_counts().copy()\n",
    "\n",
    "# строим график\n",
    "fig_hist_1 = px.histogram(\n",
    "    barmode='group',                                            # тип группировки данных при выводе графика\n",
    "    data_frame=bar_data,                                        # DataFrame\n",
    "    x = 'IsActiveMember',                                       # ось абсцисс\n",
    "    y = 'count',                                                # ось ординат\n",
    "    color=bar_data['Exited'].map({0: 'Loyal', 1: 'Churn'}),     # от чего зависит цвет\n",
    "    height=400,                                                 # высота\n",
    "    width=800,                                                  # ширина\n",
    "    color_discrete_sequence=['RoyalBlue', 'Crimson'],           # палитра цветов\n",
    "    title='Distribution by status to churn and loyal customers' # заголовок\n",
    ")\n",
    "\n",
    "# отображаем его\n",
    "fig_hist_1.update_layout(\n",
    "    xaxis = dict(\n",
    "        dtick = 1,                                              # формирование меток\n",
    "        title='Active membership',                              # обновляем подпись к оси абсцисс\n",
    "        ),\n",
    "    yaxis = dict(\n",
    "        title='Count of customers',                             # обновляем подпись к оси ординат\n",
    "        visible=True,                                           # отображаем подпись\n",
    "        showticklabels=True                                     # отображаем метки\n",
    "        )\n",
    ")\n",
    "\n",
    "# строим график 2\n",
    "fig_hist_2= px.histogram(\n",
    "    barmode='group',                                            # тип группировки данных при выводе графика\n",
    "    data_frame=bar_data,                                        # DataFrame\n",
    "    x = 'Tenure',                                               # ось абсцисс\n",
    "    y = 'count',                                                # ось ординат\n",
    "    # от чего зависит цвет\n",
    "    color=bar_data['IsActiveMember'].map({0: 'non-Active', 1: 'Active'}),\n",
    "    color_discrete_sequence=['LimeGreen', 'Crimson'],           # палитра цветов\n",
    "    nbins=11,                                                   # число меток\n",
    "    height=500,                                                 # высота\n",
    "    width=800,                                                  # ширина\n",
    "    title='Distribution by tenure and status to customers'      # заголовок\n",
    ")\n",
    "\n",
    "# отображаем его\n",
    "fig_hist_2.update_layout(\n",
    "    bargap=0.2,                                                 # расстояние между группами баров\n",
    "    bargroupgap=0.1,                                            # расстояние баров в группе\n",
    "    yaxis = dict(\n",
    "        title='Count of customers',                             # обновляем подпись к оси ординат\n",
    "        visible=True,                                           # отображаем подпись\n",
    "        showticklabels=True                                     # отображаем метки\n",
    "        )\n",
    ")\n",
    "\n",
    "# fig_hist_1.show()\n",
    "# fig_hist_2.show()\n",
    "\n",
    "pio.write_image(fig_hist_1, file='./images/fig_hist_8_1.svg', engine='orca')\n",
    "pio.write_image(fig_hist_2, file='./images/fig_hist_8_2.svg', engine='orca')"
   ]
  },
  {
   "attachments": {},
   "cell_type": "markdown",
   "metadata": {},
   "source": [
    "![Alt text](./images/fig_hist_8_1.svg)\n",
    "![Alt text](./images/fig_hist_8_2.svg)"
   ]
  },
  {
   "cell_type": "markdown",
   "metadata": {},
   "source": [
    "#### **Выводы:**\n",
    "\n",
    "* По наблюдениям из 1-го графика видно, что клиенты в статусе \"неактивного\" имеют отток почти на 80% больше в общем исчислении за весь временной период.\n",
    "\n",
    "<p style=\"margin-left: 40px\">Из 1-го графика также видно, что число постоянных клиентов со статусом \"активный клиент\" больше, чем без него, то есть это свидетельствует о том, что статус \"активный клиент\" следует развивать и дальше.\"</p>\n",
    "\n",
    "* По наблюдениям из 2-го графика видно, что утечка клиентов на второй год почти достигает разницы в 2,5 раза. Есть просадка по оттоку клиентов на 6 год присутствия клиентов в банке до уровня оттока на 2 году присутствия, но затем отток вновь нарастает.\n",
    "\n",
    "<p style=\"margin-left: 40px\">Также, из 2-го графика видно, что число клиентов с \"активным статусом\" уменьшается не смотря на его наличие, это говорит, о том, что есть дополнительные факторы влияющие на отток клиентов в банке.</p>\n",
    "\n",
    "Получение статуса \"активного клиента\" следует пересмотреть как по срокам, так и по условиям получения такого статуса, данные показывают, что клиент часто уходит не имея такой привилегии и тенденция с каждым годом нарастает."
   ]
  },
  {
   "attachments": {},
   "cell_type": "markdown",
   "metadata": {},
   "source": [
    "***"
   ]
  },
  {
   "attachments": {},
   "cell_type": "markdown",
   "metadata": {},
   "source": [
    "### 9.9. В какой стране доля ушедших клиентов больше? Постройте тепловую картограмму, которая покажет это соотношение на карте мира. Предположите, с чем это может быть связано."
   ]
  },
  {
   "cell_type": "code",
   "execution_count": null,
   "metadata": {},
   "outputs": [],
   "source": [
    "# выборка\n",
    "country = churn_df.groupby(['Geography'], as_index=False).mean(numeric_only=True).copy()\n",
    "# country\n",
    "\n",
    "# строим график\n",
    "fig_choro = px.choropleth(\n",
    "    data_frame=country,                         # DataFrame\n",
    "    locations='Geography',                      # столбец с локациями\n",
    "    locationmode = \"country names\",             # режим сопоставления локаций с базой Plotly\n",
    "    color='Exited',                             # от чего зависит цвет\n",
    "    hover_name='Geography',                     # выделение региона в контекстной подсказке\n",
    "    range_color=[0, 0.5],                       # диапазон цвета\n",
    "    title='Volume of churn customers',          # заголовок\n",
    "    width=800,                                  # ширина\n",
    "    height=500,                                 # высота\n",
    "    color_continuous_scale='Reds',              # палитра цветов\n",
    ")\n",
    "\n",
    "#отображаем график\n",
    "# fig_choro.show()\n",
    "\n",
    "pio.write_image(fig_choro, file='./images/fig_choro_9.svg', engine='orca')"
   ]
  },
  {
   "attachments": {},
   "cell_type": "markdown",
   "metadata": {},
   "source": [
    "![Alt text](./images/fig_choro_9.svg)"
   ]
  },
  {
   "cell_type": "markdown",
   "metadata": {},
   "source": [
    "#### **Выводы:**\n",
    "\n",
    "* Среднее значение числа полученных услуг от банка ниже, чем в остальных странах. \n",
    "\n",
    "* Среднее значение числа статуса \"активного клиента банка\" также ниже, чем в остальных странах. \n",
    "\n",
    "Как уже было ранее отмечено, существует необходимость и потребность в пересмотре существующих услуг банка, выведение неактуальных, введение новых; получение статуса \"активного клиента\" также следует пересмотреть как по срокам, так и по условиям."
   ]
  },
  {
   "attachments": {},
   "cell_type": "markdown",
   "metadata": {},
   "source": [
    "***"
   ]
  },
  {
   "attachments": {},
   "cell_type": "markdown",
   "metadata": {},
   "source": [
    "### 9.10. Переведите числовой признак CreditScore в категориальный. Для этого воспользуйтесь функцией get_credit_score_cat(), которая приведена ниже. Примените её к столбцу CreditScore и создайте новый признак CreditScoreCat — категории кредитного рейтинга.\n",
    "\n",
    "Постройте сводную таблицу, строками которой являются категории кредитного рейтинга (CreditScoreCat), а столбцами — количество лет, в течение которых клиент пользуется услугами банка (Tenure). В ячейках сводной таблицы должно находиться среднее по признаку оттока (Exited) — доля ушедших пользователей.\n",
    "\n",
    "На основе полученной сводной таблицы постройте тепловую карту с аннотацией. Найдите на тепловой карте категории клиентов, которые уходят чаще всего."
   ]
  },
  {
   "cell_type": "code",
   "execution_count": 5,
   "metadata": {},
   "outputs": [
    {
     "data": {
      "image/png": "[encoded data removed]",
      "text/plain": [
       "<Figure size 1200x600 with 2 Axes>"
      ]
     },
     "metadata": {},
     "output_type": "display_data"
    }
   ],
   "source": [
    "# функция перевода числового признака 'CreditScore' в категориальный\n",
    "def get_credit_score_rate(credit_sc):\n",
    "    if credit_sc < 300:\n",
    "        return \"Deep\"\n",
    "    elif credit_sc >= 300 and credit_sc < 500:\n",
    "        return \"Very_Poor\"\n",
    "    elif credit_sc >= 500 and credit_sc < 601:\n",
    "        return \"Poor\"\n",
    "    elif credit_sc >= 601 and credit_sc < 661:\n",
    "        return \"Fair\"\n",
    "    elif credit_sc >= 661 and credit_sc < 781:\n",
    "        return \"Good\"\n",
    "    elif credit_sc >= 781 and credit_sc < 851:\n",
    "        return \"Excellent\"\n",
    "    elif credit_sc >= 851:\n",
    "        return \"Top\"\n",
    "\n",
    "# формирование сводной таблицы и нового признака 'CreditScoreCat'\n",
    "churn_df['CreditScoreCat'] = churn_df['CreditScore'].apply(get_credit_score_rate)\n",
    "pivot = churn_df.pivot_table(\n",
    "    values='Exited',\n",
    "    index='CreditScoreCat',\n",
    "    columns='Tenure',\n",
    "    aggfunc='mean'\n",
    ").copy()\n",
    "\n",
    "# подсчёт значений для выводов\n",
    "# display(pivot.mean(axis=1))\n",
    "\n",
    "# строим график\n",
    "fig = plt.figure(figsize=(12, 6))                   # задаем размер полотна\n",
    "ax = sns.heatmap(\n",
    "    data=pivot,                                     # DataFrame\n",
    "    annot=True,                                     # отображение значений (аннотаций) в ячейках диаграммы\n",
    "    fmt='.3g',                                      # формирование формата вывода\n",
    "    cmap='coolwarm',                                # палитра цветов\n",
    "    linewidths=0.1,                                 # отображение разделителей между ячейками диаграммы\n",
    "    square=True                                     # выводить ячейки диаграммы квадратными\n",
    ")\n",
    "\n",
    "ax.set_ylabel('Credit score category')              # обновляем подпись к оси ординат\n",
    "\n",
    "# заголовок\n",
    "ax.set_title(\"Dependence of churn customers on credit rating and tenure's years\");"
   ]
  },
  {
   "cell_type": "markdown",
   "metadata": {},
   "source": [
    "#### **Выводы:**\n",
    "\n",
    "Принимая, условно, за 0.25 и выше - пороговое значение для клиентов, к которым следует присмотреться:\n",
    "\n",
    "* Клиенты с самым низким кредитным рейтингом. В 6 группах из 10 уходят;\n",
    "\n",
    "* Клиенты с самым высоким кредитным рейтингом. В 3 группах из 10 уходят;\n",
    "\n",
    "* Есть видимая связь по просадкам кредитного рейтинга (график 2 из п.9.8) в нулевой и первый год сотрудничества и 5-6 год сотрудничества;\n",
    "\n",
    "* Ко всем клиентам, особенно, в нулевой и первый год сотрудничества, когда еще клиент пытается наработать кредитный рейтинг, и 9-10 год сотрудничества, когда клиент за такое долгое время сотрудничества кредитный рейтинг поднимать уже не собирается и уходит, следует обратить тщательное внимание.\n",
    "\n",
    "Рекомендация - пересмотр кредитных программ и условий по программам кредитования, как для новых клиентов, так и для постоянных клиентов, \"со стажем обслуживания\" в банке."
   ]
  }
 ],
 "metadata": {
  "kernelspec": {
   "display_name": "Python 3.10.8 64-bit (microsoft store)",
   "language": "python",
   "name": "python3"
  },
  "language_info": {
   "codemirror_mode": {
    "name": "ipython",
    "version": 3
   },
   "file_extension": ".py",
   "mimetype": "text/x-python",
   "name": "python",
   "nbconvert_exporter": "python",
   "pygments_lexer": "ipython3",
   "version": "3.10.8 (tags/v3.10.8:aaaf517, Oct 11 2022, 16:50:30) [MSC v.1933 64 bit (AMD64)]"
  },
  "orig_nbformat": 4,
  "vscode": {
   "interpreter": {
    "hash": "7b02cfcd8fef71610b44bd5f27af7343a9a16576c901d976aa2b0be0e7f076cc"
   }
  }
 },
 "nbformat": 4,
 "nbformat_minor": 2
}
