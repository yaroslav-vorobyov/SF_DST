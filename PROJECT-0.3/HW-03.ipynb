{
 "cells": [
  {
   "cell_type": "code",
   "execution_count": 55,
   "metadata": {},
   "outputs": [],
   "source": [
    "import os, sys, re\n",
    "import pandas as pd\n",
    "import numpy as np\n",
    "import plotly.express as px\n",
    "import matplotlib.pyplot as plt\n",
    "import seaborn as sns\n",
    "%matplotlib inline\n",
    "\n",
    "# EDA библиотеки\n",
    "import statistics as stcs\n",
    "\n",
    "# библиотека для расчетов корреляций\n",
    "from scipy import stats\n",
    "\n",
    "# скрытие сообщений об ошибках при обработке ответов\n",
    "import warnings\n",
    "warnings.filterwarnings('ignore')\n",
    "\n",
    "# выводить все результаты вычислений в ячейках Code\n",
    "from IPython.core.interactiveshell import InteractiveShell\n",
    "InteractiveShell.ast_node_interactivity = \"all\"\n",
    "\n",
    "# подключить Latex\n",
    "from IPython.display import Latex\n",
    "\n",
    "# изменить формат вывода pandas\n",
    "# pd.set_option('display.float_format', lambda x: '%.2f' % x)\n",
    "# pd.set_option('display.max_info_rows', 500)\n",
    "# pd.set_option('display.max_info_columns', 500)\n",
    "# pd.set_option('display.width', 1000)\n",
    "# pd.set_option('display.max_columns', None)\n",
    "# pd.set_option('display.large_repr', 'truncate')"
   ]
  },
  {
   "attachments": {},
   "cell_type": "markdown",
   "metadata": {},
   "source": [
    "# <center> Домашнее задание\n",
    "\n",
    "Используя информацию по мидиям Петербурга и Магадана, которые представлены в виде двух массивов *petersburg* и *magadan*, проверьте данные на нормальность и на наличие корреляции. \n",
    "\n",
    "Для этого:\n",
    "\n",
    "* Объедините два массива в DataFrame. \n",
    "* Обоснуйте выбор теста на корреляцию. \n",
    "* Сделайте вывод по гипотезе.\n",
    "* Ответьте на вопрос: <font color='LightSeaGreen'>**Какова разница в среднем размере мидии в зависимости от города-производителя**</font>\n",
    "* Обоснуйте выбор теста. \n",
    "* Сделайте вывод по гипотезе."
   ]
  },
  {
   "attachments": {},
   "cell_type": "markdown",
   "metadata": {},
   "source": [
    "# <center> Создание Dataframe"
   ]
  },
  {
   "cell_type": "code",
   "execution_count": 56,
   "metadata": {},
   "outputs": [],
   "source": [
    "# исходные данные по размерам мидий\n",
    "mussels_spb = [0.0974, 0.1352, 0.0817, 0.1016, 0.0968, 0.1064, 0.105]\n",
    "mussels_mgdn = [0.1033, 0.0915, 0.0781, 0.0685, 0.0677, 0.0697, 0.0764, 0.0689]"
   ]
  },
  {
   "cell_type": "code",
   "execution_count": 57,
   "metadata": {},
   "outputs": [
    {
     "data": {
      "text/html": [
       "<div>\n",
       "<style scoped>\n",
       "    .dataframe tbody tr th:only-of-type {\n",
       "        vertical-align: middle;\n",
       "    }\n",
       "\n",
       "    .dataframe tbody tr th {\n",
       "        vertical-align: top;\n",
       "    }\n",
       "\n",
       "    .dataframe thead th {\n",
       "        text-align: right;\n",
       "    }\n",
       "</style>\n",
       "<table border=\"1\" class=\"dataframe\">\n",
       "  <thead>\n",
       "    <tr style=\"text-align: right;\">\n",
       "      <th></th>\n",
       "      <th>spb</th>\n",
       "      <th>mgdn</th>\n",
       "    </tr>\n",
       "  </thead>\n",
       "  <tbody>\n",
       "    <tr>\n",
       "      <th>0</th>\n",
       "      <td>0.0974</td>\n",
       "      <td>0.1033</td>\n",
       "    </tr>\n",
       "    <tr>\n",
       "      <th>1</th>\n",
       "      <td>0.1352</td>\n",
       "      <td>0.0915</td>\n",
       "    </tr>\n",
       "    <tr>\n",
       "      <th>2</th>\n",
       "      <td>0.0817</td>\n",
       "      <td>0.0781</td>\n",
       "    </tr>\n",
       "    <tr>\n",
       "      <th>3</th>\n",
       "      <td>0.1016</td>\n",
       "      <td>0.0685</td>\n",
       "    </tr>\n",
       "    <tr>\n",
       "      <th>4</th>\n",
       "      <td>0.0968</td>\n",
       "      <td>0.0677</td>\n",
       "    </tr>\n",
       "    <tr>\n",
       "      <th>5</th>\n",
       "      <td>0.1064</td>\n",
       "      <td>0.0697</td>\n",
       "    </tr>\n",
       "    <tr>\n",
       "      <th>6</th>\n",
       "      <td>0.1050</td>\n",
       "      <td>0.0764</td>\n",
       "    </tr>\n",
       "    <tr>\n",
       "      <th>7</th>\n",
       "      <td>0.1033</td>\n",
       "      <td>0.0689</td>\n",
       "    </tr>\n",
       "  </tbody>\n",
       "</table>\n",
       "</div>"
      ],
      "text/plain": [
       "      spb    mgdn\n",
       "0  0.0974  0.1033\n",
       "1  0.1352  0.0915\n",
       "2  0.0817  0.0781\n",
       "3  0.1016  0.0685\n",
       "4  0.0968  0.0677\n",
       "5  0.1064  0.0697\n",
       "6  0.1050  0.0764\n",
       "7  0.1033  0.0689"
      ]
     },
     "execution_count": 57,
     "metadata": {},
     "output_type": "execute_result"
    }
   ],
   "source": [
    "# формируем массивы данных\n",
    "df_spb = pd.DataFrame({'spb': mussels_spb})\n",
    "df_mgdn = pd.DataFrame({'mgdn': mussels_mgdn})\n",
    "\n",
    "# создаём общий датафрейм\n",
    "df = pd.concat([df_spb, df_mgdn], axis=1)\n",
    "\n",
    "# т.к. массивы значений разной длины, то Nan-значения подвергнуты обработке\n",
    "# заменяем пропущенное NaN-значение медианным\n",
    "df.fillna(stcs.median(df['spb']).__round__(4), inplace=True)\n",
    "\n",
    "# проверяем данные\n",
    "df"
   ]
  },
  {
   "attachments": {},
   "cell_type": "markdown",
   "metadata": {},
   "source": [
    "# <center> Тест на нормальность"
   ]
  },
  {
   "attachments": {},
   "cell_type": "markdown",
   "metadata": {},
   "source": [
    "## <center> <font color='LightSeaGreen'>Тест Шапиро-Уилка</font>"
   ]
  },
  {
   "attachments": {},
   "cell_type": "markdown",
   "metadata": {},
   "source": [
    "Тест проверяет, имеет ли выборка данных распределение Гаусса (нормальное, в виде \"колокола\").<br> Если полученная с его помощью статистическая значимость (*P-value*) больше уровня значимости, то мы не вправе отвергать нулевую гипотезу:"
   ]
  },
  {
   "cell_type": "code",
   "execution_count": 58,
   "metadata": {},
   "outputs": [],
   "source": [
    "# нулевая гипотеза\n",
    "H_0 = 'Данные имеют гауссово распределение'\n",
    "\n",
    "# альтернативная гипотеза\n",
    "H_a = 'Данные не имеют гауссовского распределения'\n",
    "\n",
    "# уровень значимости\n",
    "alpha = 0.05"
   ]
  },
  {
   "cell_type": "code",
   "execution_count": 59,
   "metadata": {},
   "outputs": [
    {
     "name": "stdout",
     "output_type": "stream",
     "text": [
      "Мы не можем отвергнуть нулевую гипотезу. Данные имеют гауссово распределение, так как P-value (0.1218) больше уровня значимости (0.05)\n"
     ]
    }
   ],
   "source": [
    "# статистическая значимость для теста Шапиро-Уилка (для мидий из Санкт-Петербурга)\n",
    "p_val_sh_wlks_spb = stats.shapiro(df['spb'])[1].__round__(4)\n",
    "\n",
    "# интерпретация\n",
    "if p_val_sh_wlks_spb > alpha:\n",
    "    print(f'Мы не можем отвергнуть нулевую гипотезу. {H_0}, '\\\n",
    "        f'так как P-value ({p_val_sh_wlks_spb}) больше уровня значимости ({alpha})')\n",
    "else:\n",
    "\tprint(f'Мы отвергаем нулевую гипотезу. {H_a}, '\\\n",
    "        f'так как P-value ({p_val_sh_wlks_spb}) меньше уровня значимости ({alpha})')"
   ]
  },
  {
   "cell_type": "code",
   "execution_count": 60,
   "metadata": {},
   "outputs": [
    {
     "name": "stdout",
     "output_type": "stream",
     "text": [
      "Мы отвергаем нулевую гипотезу. Данные не имеют гауссовского распределения, так как P-value (0.0357) меньше уровня значимости (0.05)\n"
     ]
    }
   ],
   "source": [
    "# статистическая значимость для теста Шапиро-Уилка (для мидий из Магадана)\n",
    "p_val_sh_wlks_mgdn = stats.shapiro(df['mgdn'])[1].__round__(4)\n",
    "\n",
    "# интерпретация\n",
    "if p_val_sh_wlks_mgdn > alpha:\n",
    "    print(f'Мы не можем отвергнуть нулевую гипотезу. {H_0}, '\\\n",
    "        f'так как P-value ({p_val_sh_wlks_mgdn}) больше уровня значимости ({alpha})')\n",
    "else:\n",
    "\tprint(f'Мы отвергаем нулевую гипотезу. {H_a}, '\\\n",
    "        f'так как P-value ({p_val_sh_wlks_mgdn}) меньше уровня значимости ({alpha})')"
   ]
  },
  {
   "attachments": {},
   "cell_type": "markdown",
   "metadata": {},
   "source": [
    "Таким образом, по ***результатам теста Шапиро-Уилка*** данные столбца по мидиям из '*spb*' распределены нормально, а данные столбца '*mgdn*' не соответствуют нормальному распределению."
   ]
  },
  {
   "attachments": {},
   "cell_type": "markdown",
   "metadata": {},
   "source": [
    "## <center> <font color='LightSeaGreen'>Тест Д'Агостино</font>"
   ]
  },
  {
   "attachments": {},
   "cell_type": "markdown",
   "metadata": {},
   "source": [
    "Метод *normaltest* модуля ***scipy*** в данном выдаёт предупреждение о действительности теста на эксцесс в связи с малой выборкой, **требуется выборка имеющая 20 и более значений** (в связи с этим, системное сообщение скрыто, \"подавлено\").\n",
    "\n",
    "Данный тест является двусторонним, то есть рассчитывается статистическая значимость попадания как в левый, так и в правый хвост (эксцесс), поэтому для проверки нулевой гипотезы статистическую значимость (P-value) будем сравнивать с \"половинной величиной\" уровня значимости:"
   ]
  },
  {
   "cell_type": "code",
   "execution_count": 61,
   "metadata": {},
   "outputs": [
    {
     "name": "stdout",
     "output_type": "stream",
     "text": [
      "Мы не можем отвергнуть нулевую гипотезу. Данные имеют гауссово распределение, так как P-value (0.1543) больше половины уровня значимости (0.025)\n"
     ]
    }
   ],
   "source": [
    "# статистическая значимость для теста Д'Агостино (для мидий из Магадана)\n",
    "p_val_K_2 = stats.normaltest(df)[1][1].__round__(4)\n",
    "\n",
    "# интерпретация\n",
    "if p_val_K_2 > (alpha / 2):\n",
    "    print(f'Мы не можем отвергнуть нулевую гипотезу. {H_0}, '\\\n",
    "        f'так как P-value ({p_val_K_2}) больше половины уровня значимости ({alpha / 2})')\n",
    "else:\n",
    "\tprint(f'Мы отвергаем нулевую гипотезу. {H_a}, '\\\n",
    "        f'так как P-value ({p_val_K_2}) меньше половины уровня значимости ({alpha / 2})')"
   ]
  },
  {
   "attachments": {},
   "cell_type": "markdown",
   "metadata": {},
   "source": [
    "## <center> <font color='LightSeaGreen'>Оценка плотности</font>"
   ]
  },
  {
   "attachments": {},
   "cell_type": "markdown",
   "metadata": {},
   "source": [
    "Проверим распределения данных визуально, на графике:"
   ]
  },
  {
   "cell_type": "code",
   "execution_count": 62,
   "metadata": {},
   "outputs": [
    {
     "data": {
      "image/png": "[encoded data removed]",
      "text/plain": [
       "<Figure size 1000x800 with 1 Axes>"
      ]
     },
     "metadata": {},
     "output_type": "display_data"
    }
   ],
   "source": [
    "# параметры полотна и число графиков\n",
    "fig, (ax1) = plt.subplots(ncols=1, figsize=(10, 8))\n",
    "\n",
    "# задаем названия графика и осей\n",
    "ax1.set_title('Оценочные распределения размеров мидий по городам')\n",
    "ax1.set(xlabel='Размер мидий', ylabel='Плотность распределения признака')\n",
    "\n",
    "# kdeplot() (KDE – оценка плотности ядра) – специальный метод для графиков распределений\n",
    "sns.kdeplot(df['spb'], ax=ax1, label ='Санкт-Петербург')\n",
    "sns.kdeplot(df['mgdn'], ax=ax1, label ='Магадан')\n",
    "\n",
    "# отобразить легенду\n",
    "plt.legend();"
   ]
  },
  {
   "attachments": {},
   "cell_type": "markdown",
   "metadata": {},
   "source": [
    "### **Выводы**:\n",
    "1. Два списка, изначально, разной длины, в связи с этим тесты на нормальность проведены на каждом признаке отдельно, несколькими тестами;\n",
    "2. В регионе Санкт-Петербург, имея всего 7 элементов без учета NaN, можем провести только тест Шапиро-Уилка (т.к. имеется предупреждение, что он не применим на малых выборках, у нас выборка менее 20 элементов), данные распределены нормально;\n",
    "4. В регионе Магадан на тесте Шапиро-Уилка - *данные не распределены нормально*, тест Д’Агостино - **данные имеют нормальное распределение**, то ***принимаем, предварительно, версию о нормально распределённых данных***;\n",
    "5. Кривые плотности распределений визуализируют, что **данные распределены нормально у обоих признаков**;\n",
    "6. Принимая во внимание расчёты алгоритмов и визуальную составляющую графиков, <font color='LightSeaGreen'>***предварительно, исходим из того, что оба признака распределены нормально***</font>, но на всякий случай выполним параметрический и непараметрические тесты."
   ]
  },
  {
   "attachments": {},
   "cell_type": "markdown",
   "metadata": {},
   "source": [
    "---"
   ]
  },
  {
   "attachments": {},
   "cell_type": "markdown",
   "metadata": {},
   "source": [
    "# <center> Корреляционные тесты. Обоснование выбора теста"
   ]
  },
  {
   "attachments": {},
   "cell_type": "markdown",
   "metadata": {},
   "source": [
    "1. Коэффициент корреляции Пирсона может быть рассчитан для непрерывных нормально распределённых признаков\n",
    "2. Лучшим вариантом будет придерживаться правил корреляций каждого из методов:\n",
    "\n",
    "    * для непрерывных нормально распределённых используем корреляцию Пирсона;\n",
    "\n",
    "    * для категориальных — ранговую. \n",
    "\n",
    "    Так как у нас спорный случай, то рассмотрим ещё и вариант корреляции по Спирману, ведь, иногда мы можем применить ранговую корреляцию и для числовых переменных, которые распределены ***ненормально*** или если между ними существует нелинейная связь.<br> А у нас как раз такой неявный случай, а так как у нас количественные переменные в обоих выборках, то использование теста по Спирману в качестве корреляционного непараметрического теста обосновано."
   ]
  },
  {
   "attachments": {},
   "cell_type": "markdown",
   "metadata": {},
   "source": [
    "## <center> <font color='LightSeaGreen'>Корреляция Пирсона</font>"
   ]
  },
  {
   "cell_type": "code",
   "execution_count": 63,
   "metadata": {},
   "outputs": [],
   "source": [
    "# нулевая гипотеза\n",
    "H_0 = 'Отсутствует взаимосвязь между переменными'\n",
    "\n",
    "# альтернативная гипотеза\n",
    "H_a = 'Взаимосвязь между переменными есть'\n",
    "\n",
    "# уровень значимости\n",
    "alpha = 0.05"
   ]
  },
  {
   "cell_type": "code",
   "execution_count": 64,
   "metadata": {},
   "outputs": [
    {
     "name": "stdout",
     "output_type": "stream",
     "text": [
      "Мы не можем отвергнуть нулевую гипотезу. Отсутствует взаимосвязь между переменными, так как P-value (0.5578) больше уровня значимости (0.05)\n"
     ]
    }
   ],
   "source": [
    "# статистическая значимость для теста Пирсона\n",
    "p_val_pearson = stats.pearsonr(df['spb'], df['mgdn'])[1].__round__(4)\n",
    "\n",
    "# интерпретация\n",
    "if p_val_pearson > alpha:\n",
    "    print(f'Мы не можем отвергнуть нулевую гипотезу. {H_0}, '\\\n",
    "        f'так как P-value ({p_val_pearson}) больше уровня значимости ({alpha})')\n",
    "else:\n",
    "\tprint(f'Мы отвергаем нулевую гипотезу. {H_a}, '\\\n",
    "        f'так как P-value ({p_val_pearson}) меньше уровня значимости ({alpha})')"
   ]
  },
  {
   "cell_type": "code",
   "execution_count": 65,
   "metadata": {},
   "outputs": [
    {
     "data": {
      "image/png": "[encoded data removed]",
      "text/plain": [
       "<Figure size 500x300 with 2 Axes>"
      ]
     },
     "metadata": {},
     "output_type": "display_data"
    }
   ],
   "source": [
    "# визуализация матрицы корреляции по Пирсону\n",
    "fig = plt.figure(figsize=(5, 3))\n",
    "ax = sns.heatmap(\n",
    "    df.corr(method='pearson', numeric_only=True), \n",
    "    annot = True, \n",
    "    fmt='.4g', \n",
    "    cmap='coolwarm', \n",
    "    square=True,\n",
    "    vmin=0, \n",
    "    vmax=1,\n",
    ")\n",
    "ax.set_title(\"Корреляция по Пирсону\");"
   ]
  },
  {
   "attachments": {},
   "cell_type": "markdown",
   "metadata": {},
   "source": [
    "## <center> <font color='LightSeaGreen'>Корреляция Спирмана</font>"
   ]
  },
  {
   "cell_type": "code",
   "execution_count": 66,
   "metadata": {},
   "outputs": [
    {
     "name": "stdout",
     "output_type": "stream",
     "text": [
      "Мы не можем отвергнуть нулевую гипотезу. Отсутствует взаимосвязь между переменными, так как P-value (0.6932) больше уровня значимости (0.05)\n"
     ]
    }
   ],
   "source": [
    "# статистическая значимость для теста Спирмана\n",
    "p_val_spearman = stats.spearmanr(df['spb'], df['mgdn'])[1].__round__(4)\n",
    "\n",
    "# интерпретация\n",
    "if p_val_spearman > alpha:\n",
    "    print(f'Мы не можем отвергнуть нулевую гипотезу. {H_0}, '\\\n",
    "        f'так как P-value ({p_val_spearman}) больше уровня значимости ({alpha})')\n",
    "else:\n",
    "\tprint(f'Мы отвергаем нулевую гипотезу. {H_a}, '\\\n",
    "        f'так как P-value ({p_val_spearman}) меньше уровня значимости ({alpha})')"
   ]
  },
  {
   "cell_type": "code",
   "execution_count": 67,
   "metadata": {},
   "outputs": [
    {
     "data": {
      "image/png": "[encoded data removed]",
      "text/plain": [
       "<Figure size 500x300 with 2 Axes>"
      ]
     },
     "metadata": {},
     "output_type": "display_data"
    }
   ],
   "source": [
    "# визуализация матрицы корреляции по Смирману\n",
    "fig = plt.figure(figsize=(5, 3))\n",
    "ax = sns.heatmap(\n",
    "    df.corr(method='spearman', numeric_only=True), \n",
    "    annot = True, \n",
    "    fmt='.4g', \n",
    "    cmap='coolwarm', \n",
    "    square=True,\n",
    "    vmin=0, \n",
    "    vmax=1,\n",
    ")\n",
    "ax.set_title(\"Корреляция по Спирману\");"
   ]
  },
  {
   "attachments": {},
   "cell_type": "markdown",
   "metadata": {},
   "source": [
    "### **Выводы**:\n",
    "\n",
    "Оба теста свидетельствуют об отсутствии связи (очень слабой связи) между признаками (коэффициент корреляции < 0.3)\n",
    "\n",
    "Корреляционные тесты использовать не совсем корректно, так как нет как таковых пар значений, данные в выборках не связаны кроме одного признака - это размер мидий. Целесообразно применять только тесты на сравнение выборок."
   ]
  },
  {
   "attachments": {},
   "cell_type": "markdown",
   "metadata": {},
   "source": [
    "---"
   ]
  },
  {
   "attachments": {},
   "cell_type": "markdown",
   "metadata": {},
   "source": [
    "# <center> Сравнительные тесты выборок"
   ]
  },
  {
   "cell_type": "code",
   "execution_count": 68,
   "metadata": {},
   "outputs": [],
   "source": [
    "# нулевая гипотеза\n",
    "H_0 = 'Средние значения размеров раковин мидий, выращенных в 2 разных местах, равны'\n",
    "\n",
    "# альтернативная гипотеза\n",
    "H_a = 'Среднее значение размеров раковин мидий из одного места больше, чем из другого'\n",
    "\n",
    "# уровень значимости\n",
    "alpha = 0.05"
   ]
  },
  {
   "attachments": {},
   "cell_type": "markdown",
   "metadata": {},
   "source": [
    "На основании схемы предложенной в материалах обучения:\n",
    "\n",
    "1. В качестве параметрического сравнительного теста, если исходить из того, что распределение данных близко к гауссовскому (нормальному распределению) - выбираем независимый t-критерий Стюдента (независимый t-тест). \n",
    "    \n",
    "    Так как у нас:\n",
    "\n",
    "    * 1 количественная переменная;\n",
    "\n",
    "    * данные из разных совокупностей;\n",
    "\n",
    "    * всего две группы для сравнения (магаданские и петербургские мидии);\n",
    "\n",
    "    * выборки независимы друг от друга;\n",
    "\n",
    "    * объём каждой выборки не превышает 30 элементов.\n",
    "\n",
    "2. В качестве непараметрического сравнительного теста - выбираем U-критерий Манна-Уитни (сумма рангов Уилкоксона), принимая во внимание вышеперечисленные факты."
   ]
  },
  {
   "attachments": {},
   "cell_type": "markdown",
   "metadata": {},
   "source": [
    "## <center> <font color='LightSeaGreen'>Параметрический тест.<br> t-критерий Стюдента (независимый t-тест)</font>"
   ]
  },
  {
   "cell_type": "code",
   "execution_count": 69,
   "metadata": {},
   "outputs": [
    {
     "name": "stdout",
     "output_type": "stream",
     "text": [
      "Мы отвергаем нулевую гипотезу. Среднее значение размеров раковин мидий из одного места больше, чем из другого, так как P-value (0.0027) меньше уровня значимости (0.05)\n"
     ]
    }
   ],
   "source": [
    "# статистическая значимость для t-критерия Стьюдента\n",
    "p_val_t_test = stats.ttest_ind(df['spb'], df['mgdn'])[1].__round__(4)\n",
    "\n",
    "# интерпретация\n",
    "if p_val_t_test > alpha:\n",
    "    print(f'Мы не можем отвергнуть нулевую гипотезу. {H_0}, '\\\n",
    "        f'так как P-value ({p_val_t_test}) больше уровня значимости ({alpha})')\n",
    "else:\n",
    "\tprint(f'Мы отвергаем нулевую гипотезу. {H_a}, '\\\n",
    "        f'так как P-value ({p_val_t_test}) меньше уровня значимости ({alpha})')"
   ]
  },
  {
   "attachments": {},
   "cell_type": "markdown",
   "metadata": {},
   "source": [
    "## <center> <font color='LightSeaGreen'>Непараметрический тест.<br> U-критерий Манна-Уитни (сумма рангов Уилкоксона)</font>"
   ]
  },
  {
   "cell_type": "code",
   "execution_count": 70,
   "metadata": {},
   "outputs": [
    {
     "name": "stdout",
     "output_type": "stream",
     "text": [
      "Мы отвергаем нулевую гипотезу. Среднее значение размеров раковин мидий из одного места больше, чем из другого, так как P-value (0.0063) меньше уровня значимости (0.05)\n"
     ]
    }
   ],
   "source": [
    "# статистическая значимость для U-критерия Манна-Уитни\n",
    "p_val_mw_test = stats.mannwhitneyu(df['spb'], df['mgdn'])[1].__round__(4)\n",
    "\n",
    "# интерпретация\n",
    "if p_val_mw_test > alpha:\n",
    "    print(f'Мы не можем отвергнуть нулевую гипотезу. {H_0}, '\\\n",
    "        f'так как P-value ({p_val_mw_test}) больше уровня значимости ({alpha})')\n",
    "else:\n",
    "\tprint(f'Мы отвергаем нулевую гипотезу. {H_a}, '\\\n",
    "        f'так как P-value ({p_val_mw_test}) меньше уровня значимости ({alpha})')"
   ]
  },
  {
   "cell_type": "code",
   "execution_count": 71,
   "metadata": {},
   "outputs": [
    {
     "name": "stdout",
     "output_type": "stream",
     "text": [
      "Мы отвергаем нулевую гипотезу. Среднее значение размеров раковин мидий из одного места больше, чем из другого, так как P-value (0.0054) меньше уровня значимости (0.05)\n"
     ]
    }
   ],
   "source": [
    "# статистическая значимость для теста \"сумма рангов Уилкоксона\"\n",
    "p_val_w_rank_test = stats.ranksums(df['spb'], df['mgdn'])[1].__round__(4)\n",
    "\n",
    "# интерпретация\n",
    "if p_val_w_rank_test > alpha:\n",
    "    print(f'Мы не можем отвергнуть нулевую гипотезу. {H_0}, '\\\n",
    "        f'так как P-value ({p_val_w_rank_test}) больше уровня значимости ({alpha})')\n",
    "else:\n",
    "\tprint(f'Мы отвергаем нулевую гипотезу. {H_a}, '\\\n",
    "        f'так как P-value ({p_val_w_rank_test}) меньше уровня значимости ({alpha})')"
   ]
  },
  {
   "attachments": {},
   "cell_type": "markdown",
   "metadata": {},
   "source": [
    "Так как *P-value* теста ниже уровня значимости, результаты статистически значимы и согласуются с альтернативной гипотезой.\n",
    "\n",
    "Найдём фактическую разницу средних значений мидий в зависимости от города происхождения:"
   ]
  },
  {
   "cell_type": "code",
   "execution_count": 72,
   "metadata": {},
   "outputs": [
    {
     "data": {
      "text/plain": [
       "spb     10.34\n",
       "mgdn     7.80\n",
       "dtype: float64"
      ]
     },
     "execution_count": 72,
     "metadata": {},
     "output_type": "execute_result"
    },
    {
     "name": "stdout",
     "output_type": "stream",
     "text": [
      "Разница средних размеров мидий составила 2.54 см\n"
     ]
    }
   ],
   "source": [
    "(df.mean() * 100).round(2)\n",
    "\n",
    "print(f\"Разница средних размеров мидий составила {((df['spb'].mean() - df['mgdn'].mean())* 100).round(2)} см\")"
   ]
  },
  {
   "attachments": {},
   "cell_type": "markdown",
   "metadata": {},
   "source": [
    "### **Общие выводы по проекту:**\n",
    "\n",
    "1. Выборка слишком мала, разной длины, образовавшийся пропуск - сильно не осложняет сильно работу, но может внести коррективы при использовании тестов;\n",
    "2. Алгоритмы не дали однозначного явного представления о \"нормальности выборки\", поэтому выполнены сравнительные тесты обоих видов - и параметрические, и не параметрические;\n",
    "3. Тесты на корреляцию показали отсутствие взаимосвязи между данными;\n",
    "4. В Петербурге средний размер мидий составляет - 10,3 см, в Магадане - 7.8 см, разница, в среднем - ~2.5см"
   ]
  }
 ],
 "metadata": {
  "kernelspec": {
   "display_name": "Python 3",
   "language": "python",
   "name": "python3"
  },
  "language_info": {
   "codemirror_mode": {
    "name": "ipython",
    "version": 3
   },
   "file_extension": ".py",
   "mimetype": "text/x-python",
   "name": "python",
   "nbconvert_exporter": "python",
   "pygments_lexer": "ipython3",
   "version": "3.10.10"
  },
  "orig_nbformat": 4,
  "vscode": {
   "interpreter": {
    "hash": "7b02cfcd8fef71610b44bd5f27af7343a9a16576c901d976aa2b0be0e7f076cc"
   }
  }
 },
 "nbformat": 4,
 "nbformat_minor": 2
}
