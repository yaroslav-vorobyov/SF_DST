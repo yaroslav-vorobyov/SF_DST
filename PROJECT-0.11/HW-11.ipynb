{
  "cells": [
    {
      "cell_type": "code",
      "execution_count": 1,
      "metadata": {},
      "outputs": [],
      "source": [
        "import os, sys, re\n",
        "import pandas as pd\n",
        "import numpy as np\n",
        "import plotly.express as px\n",
        "import matplotlib\n",
        "import matplotlib.pyplot as plt\n",
        "import seaborn as sns\n",
        "\n",
        "# установка стиля matplotlib\n",
        "%matplotlib inline\n",
        "# plt.style.use('ggplot')\n",
        "\n",
        "# доступные стили отображения графика в matplotlib\n",
        "# plt.style.available\n",
        "\n",
        "# библиотека иерархической кластеризации (для построения дендрограммы) \n",
        "# from scipy.cluster import hierarchy\n",
        "\n",
        "# библиотека для построения выпуклой оболочки множества точек \n",
        "# from scipy import spatial\n",
        "\n",
        "# from ydata_profiling import ProfileReport         # отключено пока не \"починят\"\n",
        "# import sweetviz as sv\n",
        "# import dtale\n",
        "# import statistics as stcs\n",
        "# import statsmodels.stats.proportion as stsmdls\n",
        "\n",
        "# библиотека для расчетов корреляций\n",
        "# from scipy import stats\n",
        "from sklearn import metrics\n",
        "\n",
        "# библиотека для нормализации, стандартизации\n",
        "# from sklearn import preprocessing\n",
        "\n",
        "# библиотека модели линейной регрессии\n",
        "from sklearn import linear_model\n",
        "\n",
        "# библиотека модели деревьев решения\n",
        "# from sklearn import tree\n",
        "\n",
        "# библиотека модели ансамблей\n",
        "# from sklearn import ensemble\n",
        "\n",
        "# библиотека модели кластеризации\n",
        "# from sklearn import cluster\n",
        "\n",
        "# библиотека модели эллиптической кластеризации\n",
        "# from sklearn import mixture\n",
        "\n",
        "# библиотека модели метода главных компонент PCA\n",
        "# from sklearn import decomposition\n",
        "\n",
        "# библиотека модели TSNE\n",
        "# from sklearn import manifold\n",
        "\n",
        "# библиотека clustergram-кластеризации\n",
        "# from clustergram import Clustergram\n",
        "\n",
        "# библиотека для разделения датасета\n",
        "# from sklearn import model_selection\n",
        "\n",
        "# библиотека для исключения признаков RFE\n",
        "# from sklearn import feature_selection\n",
        "\n",
        "# библиотека для кодирования признаков\n",
        "# import category_encoders as ce\n",
        "\n",
        "# для обработки timestamp в формате utc\n",
        "# import datetime, time\n",
        "\n",
        "# работа с json\n",
        "# import json\n",
        "# from pprint import pprint\n",
        "\n",
        "# веб-скрэпинг сайтов\n",
        "# import requests\n",
        "# from bs4 import BeautifulSoup\n",
        "\n",
        "# выводить все результаты вычислений в ячейках Code\n",
        "from IPython.core.interactiveshell import InteractiveShell\n",
        "InteractiveShell.ast_node_interactivity = \"all\"\n",
        "\n",
        "# подключить Latex\n",
        "from IPython.display import Latex\n",
        "\n",
        "# загрузка файлов\n",
        "import wget\n",
        "# import kaggle\n",
        "\n",
        "# логгирование / логирование\n",
        "# import logging\n",
        "\n",
        "# скрытие сообщений об ошибках при обработке ответов\n",
        "import warnings\n",
        "# игнорируем предупреждения\n",
        "warnings.filterwarnings('ignore')\n",
        "\n",
        "# библиотека для передачи функции обратного вызова\n",
        "# from functools import partial\n",
        "\n",
        "# библиотека поиска гиперпараметров hyperopt\n",
        "# import hyperopt\n",
        "# from hyperopt import hp, fmin, tpe, Trials\n",
        "\n",
        "# библиотека поиска гиперпараметров optuna\n",
        "# import optuna\n",
        "# from optuna import Trial, study, samplers\n",
        "\n",
        "# библиотека для обработки символьных переменных и операций\n",
        "# import sympy as sp\n",
        "\n",
        "# импортируем подкласс для поиска области значений / определения\n",
        "# from sympy.calculus import util\n",
        "\n",
        "# изменить формат вывода pandas\n",
        "# pd.set_option('display.float_format', lambda x: '%.2f' % x)\n",
        "# pd.set_option('display.max_info_rows', 500)\n",
        "# pd.set_option('display.max_info_columns', 500)\n",
        "# pd.set_option('display.width', 1000)\n",
        "# pd.set_option('display.max_columns', None)\n",
        "# pd.set_option('display.large_repr', 'truncate')"
      ]
    },
    {
      "cell_type": "code",
      "execution_count": 2,
      "metadata": {},
      "outputs": [],
      "source": [
        "# КОНСТАНТЫ\n",
        "\n",
        "# фиксация генерации воспроизведения\n",
        "RANDOM_SEED = 42\n",
        "\n",
        "# фиксируем seed для воспроизводимости решения\n",
        "np.random.seed(RANDOM_SEED)"
      ]
    },
    {
      "cell_type": "markdown",
      "metadata": {
        "id": "NyHIGVhfa_Wf"
      },
      "source": [
        "# Стохастический градиентный и координатный спуски"
      ]
    },
    {
      "cell_type": "markdown",
      "metadata": {
        "id": "gn6lluIADUKa"
      },
      "source": [
        "Для каждого задания указано количество баллов (если они оцениваются отдельно) + 1 балл за аккуратное и полное выполнение всего задания"
      ]
    },
    {
      "cell_type": "markdown",
      "metadata": {
        "id": "txCccYvha_Wv"
      },
      "source": [
        "## Загрузка и подготовка данных"
      ]
    },
    {
      "cell_type": "markdown",
      "metadata": {
        "id": "NbyOzeZ6a_Wx"
      },
      "source": [
        "**Загрузите уже знакомый вам файл *Advertising.csv* как объект DataFrame.** "
      ]
    },
    {
      "cell_type": "code",
      "execution_count": 3,
      "metadata": {
        "id": "E1L4_xeDa_Wz"
      },
      "outputs": [],
      "source": [
        "url_dataset = 'https://lms-cdn.skillfactory.ru/assets/courseware/v1/be9ea3bcfb9e5ebc744c1f2af98fed61/asset-v1:SkillFactory+DST-3.0+28FEB2021+type@asset+block/Advertising.zip'\n",
        "filename = './data/Advertising.csv'\n",
        "\n",
        "# если файл есть - просто читаем с диска    \n",
        "if os.path.exists(filename):\n",
        "    df = pd.read_csv(filename)\n",
        "\n",
        "# если файла нет - выгружаем, сохраняем, читаем с диска\n",
        "else:\n",
        "    # загружаем датасет\n",
        "    df = pd.read_csv(url_dataset, compression='zip')\n",
        "    \n",
        "    # убираем \"лишнюю\" колонку с индексами\n",
        "    df.drop(columns='Unnamed: 0', inplace=True)\n",
        "    \n",
        "    # создаём подкаталог для записи датасета\n",
        "    if os.path.exists('data') == False:\n",
        "        os.mkdir('data')\n",
        "\n",
        "    # записываем датасет\n",
        "    df.to_csv('./data/Advertising.csv', index=False)\n",
        "\n",
        "    # читаем предварительно \"подготовленный\" датасет из каталога\n",
        "    df = pd.read_csv('./data/Advertising.csv')"
      ]
    },
    {
      "cell_type": "code",
      "execution_count": 4,
      "metadata": {},
      "outputs": [
        {
          "data": {
            "text/html": [
              "<div>\n",
              "<style scoped>\n",
              "    .dataframe tbody tr th:only-of-type {\n",
              "        vertical-align: middle;\n",
              "    }\n",
              "\n",
              "    .dataframe tbody tr th {\n",
              "        vertical-align: top;\n",
              "    }\n",
              "\n",
              "    .dataframe thead th {\n",
              "        text-align: right;\n",
              "    }\n",
              "</style>\n",
              "<table border=\"1\" class=\"dataframe\">\n",
              "  <thead>\n",
              "    <tr style=\"text-align: right;\">\n",
              "      <th></th>\n",
              "      <th>TV</th>\n",
              "      <th>radio</th>\n",
              "      <th>newspaper</th>\n",
              "      <th>sales</th>\n",
              "    </tr>\n",
              "  </thead>\n",
              "  <tbody>\n",
              "    <tr>\n",
              "      <th>0</th>\n",
              "      <td>230.1</td>\n",
              "      <td>37.8</td>\n",
              "      <td>69.2</td>\n",
              "      <td>22.1</td>\n",
              "    </tr>\n",
              "    <tr>\n",
              "      <th>1</th>\n",
              "      <td>44.5</td>\n",
              "      <td>39.3</td>\n",
              "      <td>45.1</td>\n",
              "      <td>10.4</td>\n",
              "    </tr>\n",
              "    <tr>\n",
              "      <th>2</th>\n",
              "      <td>17.2</td>\n",
              "      <td>45.9</td>\n",
              "      <td>69.3</td>\n",
              "      <td>9.3</td>\n",
              "    </tr>\n",
              "    <tr>\n",
              "      <th>3</th>\n",
              "      <td>151.5</td>\n",
              "      <td>41.3</td>\n",
              "      <td>58.5</td>\n",
              "      <td>18.5</td>\n",
              "    </tr>\n",
              "    <tr>\n",
              "      <th>4</th>\n",
              "      <td>180.8</td>\n",
              "      <td>10.8</td>\n",
              "      <td>58.4</td>\n",
              "      <td>12.9</td>\n",
              "    </tr>\n",
              "  </tbody>\n",
              "</table>\n",
              "</div>"
            ],
            "text/plain": [
              "      TV  radio  newspaper  sales\n",
              "0  230.1   37.8       69.2   22.1\n",
              "1   44.5   39.3       45.1   10.4\n",
              "2   17.2   45.9       69.3    9.3\n",
              "3  151.5   41.3       58.5   18.5\n",
              "4  180.8   10.8       58.4   12.9"
            ]
          },
          "execution_count": 4,
          "metadata": {},
          "output_type": "execute_result"
        },
        {
          "data": {
            "text/html": [
              "<div>\n",
              "<style scoped>\n",
              "    .dataframe tbody tr th:only-of-type {\n",
              "        vertical-align: middle;\n",
              "    }\n",
              "\n",
              "    .dataframe tbody tr th {\n",
              "        vertical-align: top;\n",
              "    }\n",
              "\n",
              "    .dataframe thead th {\n",
              "        text-align: right;\n",
              "    }\n",
              "</style>\n",
              "<table border=\"1\" class=\"dataframe\">\n",
              "  <thead>\n",
              "    <tr style=\"text-align: right;\">\n",
              "      <th></th>\n",
              "      <th>TV</th>\n",
              "      <th>radio</th>\n",
              "      <th>newspaper</th>\n",
              "      <th>sales</th>\n",
              "    </tr>\n",
              "  </thead>\n",
              "  <tbody>\n",
              "    <tr>\n",
              "      <th>count</th>\n",
              "      <td>200.000000</td>\n",
              "      <td>200.000000</td>\n",
              "      <td>200.000000</td>\n",
              "      <td>200.000000</td>\n",
              "    </tr>\n",
              "    <tr>\n",
              "      <th>mean</th>\n",
              "      <td>147.042500</td>\n",
              "      <td>23.264000</td>\n",
              "      <td>30.554000</td>\n",
              "      <td>14.022500</td>\n",
              "    </tr>\n",
              "    <tr>\n",
              "      <th>std</th>\n",
              "      <td>85.854236</td>\n",
              "      <td>14.846809</td>\n",
              "      <td>21.778621</td>\n",
              "      <td>5.217457</td>\n",
              "    </tr>\n",
              "    <tr>\n",
              "      <th>min</th>\n",
              "      <td>0.700000</td>\n",
              "      <td>0.000000</td>\n",
              "      <td>0.300000</td>\n",
              "      <td>1.600000</td>\n",
              "    </tr>\n",
              "    <tr>\n",
              "      <th>25%</th>\n",
              "      <td>74.375000</td>\n",
              "      <td>9.975000</td>\n",
              "      <td>12.750000</td>\n",
              "      <td>10.375000</td>\n",
              "    </tr>\n",
              "    <tr>\n",
              "      <th>50%</th>\n",
              "      <td>149.750000</td>\n",
              "      <td>22.900000</td>\n",
              "      <td>25.750000</td>\n",
              "      <td>12.900000</td>\n",
              "    </tr>\n",
              "    <tr>\n",
              "      <th>75%</th>\n",
              "      <td>218.825000</td>\n",
              "      <td>36.525000</td>\n",
              "      <td>45.100000</td>\n",
              "      <td>17.400000</td>\n",
              "    </tr>\n",
              "    <tr>\n",
              "      <th>max</th>\n",
              "      <td>296.400000</td>\n",
              "      <td>49.600000</td>\n",
              "      <td>114.000000</td>\n",
              "      <td>27.000000</td>\n",
              "    </tr>\n",
              "  </tbody>\n",
              "</table>\n",
              "</div>"
            ],
            "text/plain": [
              "               TV       radio   newspaper       sales\n",
              "count  200.000000  200.000000  200.000000  200.000000\n",
              "mean   147.042500   23.264000   30.554000   14.022500\n",
              "std     85.854236   14.846809   21.778621    5.217457\n",
              "min      0.700000    0.000000    0.300000    1.600000\n",
              "25%     74.375000    9.975000   12.750000   10.375000\n",
              "50%    149.750000   22.900000   25.750000   12.900000\n",
              "75%    218.825000   36.525000   45.100000   17.400000\n",
              "max    296.400000   49.600000  114.000000   27.000000"
            ]
          },
          "execution_count": 4,
          "metadata": {},
          "output_type": "execute_result"
        }
      ],
      "source": [
        "df.head()\n",
        "df.describe()"
      ]
    },
    {
      "cell_type": "markdown",
      "metadata": {
        "id": "bf4aVFndDUKf"
      },
      "source": [
        "**Проверьте, есть ли в данных пропуски и, если они есть - удалите их**"
      ]
    },
    {
      "cell_type": "code",
      "execution_count": 5,
      "metadata": {
        "id": "tiVeFnR5DUKg"
      },
      "outputs": [
        {
          "name": "stdout",
          "output_type": "stream",
          "text": [
            "<class 'pandas.core.frame.DataFrame'>\n",
            "RangeIndex: 200 entries, 0 to 199\n",
            "Data columns (total 4 columns):\n",
            " #   Column     Non-Null Count  Dtype  \n",
            "---  ------     --------------  -----  \n",
            " 0   TV         200 non-null    float64\n",
            " 1   radio      200 non-null    float64\n",
            " 2   newspaper  200 non-null    float64\n",
            " 3   sales      200 non-null    float64\n",
            "dtypes: float64(4)\n",
            "memory usage: 6.4 KB\n"
          ]
        }
      ],
      "source": [
        "df.info()"
      ]
    },
    {
      "cell_type": "code",
      "execution_count": 6,
      "metadata": {},
      "outputs": [
        {
          "data": {
            "text/plain": [
              "TV           0\n",
              "radio        0\n",
              "newspaper    0\n",
              "sales        0\n",
              "dtype: int64"
            ]
          },
          "execution_count": 6,
          "metadata": {},
          "output_type": "execute_result"
        }
      ],
      "source": [
        "df.isna().sum()"
      ]
    },
    {
      "cell_type": "markdown",
      "metadata": {
        "id": "rTkiqPr_DUKh"
      },
      "source": [
        "**Преобразуйте ваши признаки в массивы NumPy и разделите их на переменные X (предикторы) и y(целевая переменная)** "
      ]
    },
    {
      "cell_type": "code",
      "execution_count": 7,
      "metadata": {},
      "outputs": [],
      "source": [
        "def get_arrays(\n",
        "        df_:pd.DataFrame=df\n",
        "    ) -> np.ndarray:\n",
        "    \"\"\" Функция, реализующая разделение признаков на массив наблюдений и вектор целевых значений\n",
        "\n",
        "    Args:\n",
        "        df_ (pd.DataFrame, optional):   исходный датасет для обработки. \n",
        "                                        Defaults to df.\n",
        "\n",
        "    Returns:\n",
        "        X_ (np.ndarray): матрица наблюдений (предикторы)\n",
        "        \n",
        "        y_ (np.ndarray): вектор целевых значений (таргет)\n",
        "    \"\"\"\n",
        "    \n",
        "    # формируем переменные типа ndarray\n",
        "    X_ = df_.iloc[:, :3].values\n",
        "    y_ = df_.iloc[:, 3].values.reshape(-1, 1)\n",
        "\n",
        "    return X_, y_"
      ]
    },
    {
      "cell_type": "code",
      "execution_count": 8,
      "metadata": {
        "id": "R9OHIRB3a_Xa"
      },
      "outputs": [
        {
          "data": {
            "text/plain": [
              "((200, 3), (200, 1))"
            ]
          },
          "execution_count": 8,
          "metadata": {},
          "output_type": "execute_result"
        }
      ],
      "source": [
        "# выполняем преобразование и разделение признаков\n",
        "X, y = get_arrays()\n",
        "\n",
        "# выводим результаты\n",
        "X.shape, y.shape"
      ]
    },
    {
      "cell_type": "markdown",
      "metadata": {
        "id": "KCvjSoHEDUKo"
      },
      "source": [
        "## Координатный спуск (3 балла)"
      ]
    },
    {
      "cell_type": "markdown",
      "metadata": {
        "id": "yjNm8dATDUKq"
      },
      "source": [
        "**Добавим единичный столбец для того, чтобы у нас был свободный коэффициент в уравнении регрессии:**"
      ]
    },
    {
      "cell_type": "code",
      "execution_count": 9,
      "metadata": {
        "id": "LMgq0fmKDUKr"
      },
      "outputs": [
        {
          "name": "stdout",
          "output_type": "stream",
          "text": [
            "(200, 4) (200, 1)\n"
          ]
        }
      ],
      "source": [
        "X = np.hstack([np.ones(X.shape[0]).reshape(-1, 1), X])\n",
        "print(X.shape, y.shape)"
      ]
    },
    {
      "cell_type": "code",
      "execution_count": 10,
      "metadata": {},
      "outputs": [
        {
          "data": {
            "text/plain": [
              "array([[  1. , 230.1,  37.8,  69.2],\n",
              "       [  1. ,  44.5,  39.3,  45.1],\n",
              "       [  1. ,  17.2,  45.9,  69.3],\n",
              "       [  1. , 151.5,  41.3,  58.5],\n",
              "       [  1. , 180.8,  10.8,  58.4]])"
            ]
          },
          "execution_count": 10,
          "metadata": {},
          "output_type": "execute_result"
        },
        {
          "data": {
            "text/plain": [
              "array([[22.1],\n",
              "       [10.4],\n",
              "       [ 9.3],\n",
              "       [18.5],\n",
              "       [12.9]])"
            ]
          },
          "execution_count": 10,
          "metadata": {},
          "output_type": "execute_result"
        }
      ],
      "source": [
        "# выводим результаты\n",
        "X[:5]\n",
        "y[:5]"
      ]
    },
    {
      "cell_type": "markdown",
      "metadata": {
        "id": "R008OQwcDUKt"
      },
      "source": [
        "**Нормализуем данные: обычно это необходимо для корректной работы алгоритма**"
      ]
    },
    {
      "cell_type": "code",
      "execution_count": 11,
      "metadata": {
        "id": "2Sk7Wx-SDUKt"
      },
      "outputs": [],
      "source": [
        "X = X / np.sqrt(np.sum(np.square(X), axis=0))"
      ]
    },
    {
      "cell_type": "markdown",
      "metadata": {
        "id": "F_pHHbAdDUKu"
      },
      "source": [
        "**Реализуйте алгоритм координатного спуска:** (3 балла)\n",
        "\n",
        "Ниже приведен алгоритм координатного спуска для случая нормализованных данных:"
      ]
    },
    {
      "cell_type": "markdown",
      "metadata": {},
      "source": [
        "**Задано:**\n",
        "\n",
        "* $X=(x_{ij})$ - матрица наблюдений, размерностью $dim(X)=(n, m)$\n",
        "* $N=1000$ - количество итераций\n",
        "\n",
        "**Примечание:** *1000 итераций здесь указаны для этого задания, на самом деле их может быть намного больше, нет детерменированного значения.*\n",
        "\n",
        "**Алгоритм (математическая запись):**\n",
        "* Создать нулевой вектор параметров $w_0=(0, 0,..., 0)^T$\n",
        "* Для всех $t=1, 2, ..., N$ итераций:\n",
        "    * Для всех $k = 1, 2,..., m$:\n",
        "        * Фиксируем значение всех признаков, кроме $k$-ого и вычисляем прогноз модели линейной регрессии.Для этого исключаем признак $k$-ый из данных и $w_j$ из параметров при построении прогноза.\n",
        "        Математически это можно записать следующим образом:\n",
        "\n",
        "        $$h_i = \\sum_{j=1}^{k-1} x_{ij}w_{j} + \\sum_{j=k+1}^{m} x_{ij}w_j $$\n",
        "\n",
        "        **Примечание:**\n",
        "        \n",
        "        *Обратите, что в данной записи текущий признак под номером $k$ не участвует в сумме.Сравните эту запись с классической записью прогноза линейной регрессии в случае нормированных данных (когда участвуют все признаки):*\n",
        "\n",
        "        $$h_i = \\sum_{j=1}^{m} x_{ij}w_{j}$$ \n",
        "        \n",
        "        * Вычисляем новое значение параметра $k$-ого коэффициента: \n",
        "        $$w_k = \\sum_{i=1}^{n} x_{ik} (y_i - h_i) = x_k^T(y-h) $$\n",
        "\n",
        "    * Вычисляем значение функции потерь и сохраняем в историю изменения функции потерь (В оценке функции потерь участвуют все признаки):\n",
        "        $$\\hat{y_i} = \\sum_{j=1}^{m}x_{ij}w_j$$\n",
        "        $$Loss_t = \\frac{1}{n} \\sum_{i=1}^{n}(y_i-\\hat{y_i})^2$$\n",
        "        \n",
        "        или в векторном виде:\n",
        "        \n",
        "        $$\\hat{y} = Xw$$\n",
        "        $$Loss_t = \\frac{1}{n}(y-\\hat{y})^T(y-\\hat{y})$$\n",
        "    \n",
        "\n"
      ]
    },
    {
      "cell_type": "markdown",
      "metadata": {},
      "source": [
        "**Алгоритм (псевдокод):**\n",
        "```python\n",
        "\n",
        "num_iters = #количество итераций\n",
        "m = # количество строк в матрице X\n",
        "n = # количество столбцов в матрице X\n",
        "w = #вектор размера nx1, состояющий из нулей\n",
        "\n",
        "for i in range(num_iters):\n",
        "    for k in range(n):\n",
        "        # Вычисляем прогноз без k-ого фактора\n",
        "        h = (X[:,0:k] @ w[0:k]) + (X[:,k+1:] @ w[k+1:])\n",
        "        # Обновляем новое значение k-ого коэффициента\n",
        "        w[k] =  (X[:,k].T @ (y - h))\n",
        "        # Вычисляем функцию потерь\n",
        "        cost = sum((X @ w) - y) ** 2)/(len(y))\n",
        "\n",
        "```"
      ]
    },
    {
      "cell_type": "markdown",
      "metadata": {
        "id": "y3IdiHm9DUKv"
      },
      "source": [
        "Вам необходимо реализовать координатный спуск, и вывести веса в модели линейной регрессии."
      ]
    },
    {
      "cell_type": "code",
      "execution_count": 12,
      "metadata": {},
      "outputs": [],
      "source": [
        "# задаём количество столбцов в матрице X\n",
        "m = X.shape[1]\n",
        "\n",
        "# задаём количество строк в матрице X\n",
        "n = X.shape[0]\n",
        "\n",
        "# задаём пустой вектор коэффициентов\n",
        "w = np.zeros(m).reshape(-1, 1)\n",
        "\n",
        "def coordinate_descent(\n",
        "        X_:np.ndarray=X, y_:np.ndarray=y, \n",
        "        w_:np.ndarray=w, \n",
        "        num_iters_:int=1000\n",
        "    ) -> np.ndarray | float:\n",
        "    \"\"\" Функция, реализующая вычисление вектора коэффициентов методом координатного спуска.\n",
        "\n",
        "    Args:\n",
        "        X_ (np.ndarray): матрица наблюдений (предикторы). Defaults to X.\n",
        "        \n",
        "        y_ (np.ndarray): вектор целевых значений (таргет). Defaults to y.\n",
        "        \n",
        "        w_ (np.ndarray): пустой вектор коэффициентов. Defaults to w.\n",
        "        \n",
        "        num_iters_ (int, optional): количество итераций. Defaults to 1000.\n",
        "\n",
        "    Returns:\n",
        "        w_ (np.ndarray): вектор вычисленных коэффициентов\n",
        "        \n",
        "        mse_ (float): значение метрики MSE (функция потерь)\n",
        "        \n",
        "        mae_ (float): значение метрики MAE\n",
        "    \"\"\"\n",
        "\n",
        "    # начальные значения метрик\n",
        "    mse_, mae_  = [], []\n",
        "\n",
        "    for _ in range(num_iters_):\n",
        "        for k in range(m):\n",
        "            # вычисляем прогноз без k-ого фактора\n",
        "            h = (X_[:, 0:k] @ w[0:k]) + (X_[:, k + 1:] @ w[k + 1:])\n",
        "            \n",
        "            # вычисляем новое значение k-ого коэффициента\n",
        "            w_[k] = (X_[:, k].T @ (y_ - h))\n",
        "            \n",
        "            # вычисляем метрику MSE\n",
        "            mse_ = np.sum((y_ - (X_ @ w))**2) / (len(y_))\n",
        "            \n",
        "            # вычисляем метрику MAE\n",
        "            mae_ = np.sum(abs(y_ - (X_ @ w))) / (len(y_))\n",
        "    \n",
        "    return w_, mse_, mae_"
      ]
    },
    {
      "cell_type": "code",
      "execution_count": 13,
      "metadata": {},
      "outputs": [
        {
          "name": "stdout",
          "output_type": "stream",
          "text": [
            "Коэффициенты линейной регрессии:\n",
            "[ 41.56217205 110.13144155  73.52860638  -0.55006384]\n",
            "Метрика MSE: 2.78412631\n",
            "Метрика MAE: 1.25201123\n"
          ]
        }
      ],
      "source": [
        "# выполняем алгоритм координатного спуска, получаем результаты\n",
        "w_coord_desc, mse, mae = coordinate_descent(X, y, w)\n",
        "\n",
        "# выводим результаты, разворачиваем вектор w_coord_desc горизонтально\n",
        "print(f'Коэффициенты линейной регрессии:\\n{w_coord_desc.flatten()}')\n",
        "print(f'Метрика MSE: {mse:.8f}')\n",
        "print(f'Метрика MAE: {mae:.8f}')"
      ]
    },
    {
      "cell_type": "markdown",
      "metadata": {
        "id": "a3jG-7UADUKx"
      },
      "source": [
        "Сравните результаты с реализацией линейной регрессии из библиотеки sklearn:"
      ]
    },
    {
      "cell_type": "code",
      "execution_count": 14,
      "metadata": {
        "id": "SBl-1Yb5DUKy"
      },
      "outputs": [
        {
          "data": {
            "text/html": [
              "<style>#sk-container-id-1 {color: black;background-color: white;}#sk-container-id-1 pre{padding: 0;}#sk-container-id-1 div.sk-toggleable {background-color: white;}#sk-container-id-1 label.sk-toggleable__label {cursor: pointer;display: block;width: 100%;margin-bottom: 0;padding: 0.3em;box-sizing: border-box;text-align: center;}#sk-container-id-1 label.sk-toggleable__label-arrow:before {content: \"▸\";float: left;margin-right: 0.25em;color: #696969;}#sk-container-id-1 label.sk-toggleable__label-arrow:hover:before {color: black;}#sk-container-id-1 div.sk-estimator:hover label.sk-toggleable__label-arrow:before {color: black;}#sk-container-id-1 div.sk-toggleable__content {max-height: 0;max-width: 0;overflow: hidden;text-align: left;background-color: #f0f8ff;}#sk-container-id-1 div.sk-toggleable__content pre {margin: 0.2em;color: black;border-radius: 0.25em;background-color: #f0f8ff;}#sk-container-id-1 input.sk-toggleable__control:checked~div.sk-toggleable__content {max-height: 200px;max-width: 100%;overflow: auto;}#sk-container-id-1 input.sk-toggleable__control:checked~label.sk-toggleable__label-arrow:before {content: \"▾\";}#sk-container-id-1 div.sk-estimator input.sk-toggleable__control:checked~label.sk-toggleable__label {background-color: #d4ebff;}#sk-container-id-1 div.sk-label input.sk-toggleable__control:checked~label.sk-toggleable__label {background-color: #d4ebff;}#sk-container-id-1 input.sk-hidden--visually {border: 0;clip: rect(1px 1px 1px 1px);clip: rect(1px, 1px, 1px, 1px);height: 1px;margin: -1px;overflow: hidden;padding: 0;position: absolute;width: 1px;}#sk-container-id-1 div.sk-estimator {font-family: monospace;background-color: #f0f8ff;border: 1px dotted black;border-radius: 0.25em;box-sizing: border-box;margin-bottom: 0.5em;}#sk-container-id-1 div.sk-estimator:hover {background-color: #d4ebff;}#sk-container-id-1 div.sk-parallel-item::after {content: \"\";width: 100%;border-bottom: 1px solid gray;flex-grow: 1;}#sk-container-id-1 div.sk-label:hover label.sk-toggleable__label {background-color: #d4ebff;}#sk-container-id-1 div.sk-serial::before {content: \"\";position: absolute;border-left: 1px solid gray;box-sizing: border-box;top: 0;bottom: 0;left: 50%;z-index: 0;}#sk-container-id-1 div.sk-serial {display: flex;flex-direction: column;align-items: center;background-color: white;padding-right: 0.2em;padding-left: 0.2em;position: relative;}#sk-container-id-1 div.sk-item {position: relative;z-index: 1;}#sk-container-id-1 div.sk-parallel {display: flex;align-items: stretch;justify-content: center;background-color: white;position: relative;}#sk-container-id-1 div.sk-item::before, #sk-container-id-1 div.sk-parallel-item::before {content: \"\";position: absolute;border-left: 1px solid gray;box-sizing: border-box;top: 0;bottom: 0;left: 50%;z-index: -1;}#sk-container-id-1 div.sk-parallel-item {display: flex;flex-direction: column;z-index: 1;position: relative;background-color: white;}#sk-container-id-1 div.sk-parallel-item:first-child::after {align-self: flex-end;width: 50%;}#sk-container-id-1 div.sk-parallel-item:last-child::after {align-self: flex-start;width: 50%;}#sk-container-id-1 div.sk-parallel-item:only-child::after {width: 0;}#sk-container-id-1 div.sk-dashed-wrapped {border: 1px dashed gray;margin: 0 0.4em 0.5em 0.4em;box-sizing: border-box;padding-bottom: 0.4em;background-color: white;}#sk-container-id-1 div.sk-label label {font-family: monospace;font-weight: bold;display: inline-block;line-height: 1.2em;}#sk-container-id-1 div.sk-label-container {text-align: center;}#sk-container-id-1 div.sk-container {/* jupyter's `normalize.less` sets `[hidden] { display: none; }` but bootstrap.min.css set `[hidden] { display: none !important; }` so we also need the `!important` here to be able to override the default hidden behavior on the sphinx rendered scikit-learn.org. See: https://github.com/scikit-learn/scikit-learn/issues/21755 */display: inline-block !important;position: relative;}#sk-container-id-1 div.sk-text-repr-fallback {display: none;}</style><div id=\"sk-container-id-1\" class=\"sk-top-container\"><div class=\"sk-text-repr-fallback\"><pre>LinearRegression(fit_intercept=False)</pre><b>In a Jupyter environment, please rerun this cell to show the HTML representation or trust the notebook. <br />On GitHub, the HTML representation is unable to render, please try loading this page with nbviewer.org.</b></div><div class=\"sk-container\" hidden><div class=\"sk-item\"><div class=\"sk-estimator sk-toggleable\"><input class=\"sk-toggleable__control sk-hidden--visually\" id=\"sk-estimator-id-1\" type=\"checkbox\" checked><label for=\"sk-estimator-id-1\" class=\"sk-toggleable__label sk-toggleable__label-arrow\">LinearRegression</label><div class=\"sk-toggleable__content\"><pre>LinearRegression(fit_intercept=False)</pre></div></div></div></div></div>"
            ],
            "text/plain": [
              "LinearRegression(fit_intercept=False)"
            ]
          },
          "execution_count": 14,
          "metadata": {},
          "output_type": "execute_result"
        },
        {
          "name": "stdout",
          "output_type": "stream",
          "text": [
            "Коэффициенты модели линейной регрессии:\n",
            "[[ 41.56217205 110.13144155  73.52860638  -0.55006384]]\n",
            "Метрика MSE LinearRegression: 2.78412631\n",
            "Метрика MAE LinearRegression: 1.25201123\n"
          ]
        }
      ],
      "source": [
        "# создаём и обучаем модель линейной регрессии\n",
        "LR = linear_model.LinearRegression(fit_intercept=False)\n",
        "LR.fit(X, y)\n",
        "\n",
        "# выполняем предсказание значений\n",
        "y_pred_LR = LR.predict(X)\n",
        "\n",
        "# выводим результаты\n",
        "print(f'Коэффициенты модели линейной регрессии:\\n{LR.coef_}')\n",
        "print(f'Метрика MSE {LR.__class__.__name__}: '\\\n",
        "    f'{metrics.mean_squared_error(y, y_pred_LR):.8f}')\n",
        "print(f'Метрика MAE {LR.__class__.__name__}: '\\\n",
        "    f'{metrics.mean_absolute_error(y, y_pred_LR):.8f}')"
      ]
    },
    {
      "cell_type": "markdown",
      "metadata": {
        "id": "hIl0AGLyDUKy"
      },
      "source": [
        "Если вы все сделали верно, они должны практически совпасть!"
      ]
    },
    {
      "cell_type": "markdown",
      "metadata": {
        "id": "VCGwFnPdDUKz"
      },
      "source": [
        "## Стохастический градиентный спуск (6 баллов)"
      ]
    },
    {
      "cell_type": "markdown",
      "metadata": {
        "id": "5u7Q2YJla_Xk"
      },
      "source": [
        "**Отмасштабируйте столбцы исходной матрицы *X* (которую мы не нормализовали еще!). Для того, чтобы это сделать, надо вычесть из каждого значения среднее и разделить на стандартное отклонение** (0.5 баллов)"
      ]
    },
    {
      "cell_type": "code",
      "execution_count": 15,
      "metadata": {
        "id": "9cEpV_5La_Xo"
      },
      "outputs": [],
      "source": [
        "# выполняем преобразование и разделение признаков\n",
        "X, y = get_arrays()\n",
        "\n",
        "# выполняем стандартизацию матрицы наблюдений\n",
        "X = (X - np.mean(X, axis=0)) / np.std(X, axis=0)"
      ]
    },
    {
      "cell_type": "markdown",
      "metadata": {
        "id": "8WkNYILHDUK1"
      },
      "source": [
        "**Добавим единичный столбец**"
      ]
    },
    {
      "cell_type": "code",
      "execution_count": 16,
      "metadata": {
        "id": "EVl5tEGtDUK1"
      },
      "outputs": [
        {
          "name": "stdout",
          "output_type": "stream",
          "text": [
            "(200, 4) (200, 1)\n"
          ]
        },
        {
          "data": {
            "text/plain": [
              "array([[ 1.        ,  0.96985227,  0.98152247,  1.77894547],\n",
              "       [ 1.        , -1.19737623,  1.08280781,  0.66957876],\n",
              "       [ 1.        , -1.51615499,  1.52846331,  1.78354865],\n",
              "       [ 1.        ,  0.05204968,  1.21785493,  1.28640506],\n",
              "       [ 1.        ,  0.3941822 , -0.84161366,  1.28180188]])"
            ]
          },
          "execution_count": 16,
          "metadata": {},
          "output_type": "execute_result"
        },
        {
          "data": {
            "text/plain": [
              "array([[22.1],\n",
              "       [10.4],\n",
              "       [ 9.3],\n",
              "       [18.5],\n",
              "       [12.9]])"
            ]
          },
          "execution_count": 16,
          "metadata": {},
          "output_type": "execute_result"
        }
      ],
      "source": [
        "X = np.hstack([np.ones(X.shape[0]).reshape(-1, 1), X])\n",
        "\n",
        "# выводим результаты\n",
        "print(X.shape, y.shape)\n",
        "X[:5]\n",
        "y[:5]"
      ]
    },
    {
      "cell_type": "markdown",
      "metadata": {
        "id": "m53tZA5fDUK1"
      },
      "source": [
        "**Создайте функцию mse_error для вычисления среднеквадратичной ошибки, принимающую два аргумента: реальные значения и предсказывающие, и возвращающую значение mse** (0.5 балла)"
      ]
    },
    {
      "cell_type": "code",
      "execution_count": 17,
      "metadata": {
        "id": "0cvtC08Aa_YK"
      },
      "outputs": [],
      "source": [
        "def mse_error(\n",
        "        y_:np.ndarray, \n",
        "        y_pred_:np.ndarray\n",
        "    ) -> float:\n",
        "    \"\"\" Функция, реализующая вычисление среднеквадратичной ошибки. \n",
        "\n",
        "    Args:\n",
        "        y_ (np.ndarray): вектор целевых значений (таргет)\n",
        "        \n",
        "        y_pred_ (np.ndarray): вектор предсказанных целевых значений\n",
        "\n",
        "    Returns:\n",
        "        (float): значение среднеквадратичной ошибки\n",
        "    \"\"\"\n",
        "\n",
        "    return np.sum((y_ - y_pred_)**2) / len(y)"
      ]
    },
    {
      "cell_type": "markdown",
      "metadata": {
        "id": "lpOLhdvBDUK2"
      },
      "source": [
        "**Сделайте наивный прогноз: предскажите продажи средним значением. После этого рассчитайте среднеквадратичную ошибку для этого прогноза** (0.5 балла)"
      ]
    },
    {
      "cell_type": "code",
      "execution_count": 18,
      "metadata": {
        "id": "kLV_XljVa_YZ"
      },
      "outputs": [
        {
          "name": "stdout",
          "output_type": "stream",
          "text": [
            "Метрика MSE для наивного прогноза: 27.08574375\n"
          ]
        }
      ],
      "source": [
        "# прогноз средним значением\n",
        "y_pred_naive = np.full(y.shape, y.mean())\n",
        "\n",
        "# выводим результаты\n",
        "print(f'Метрика MSE для наивного прогноза: {mse_error(y, y_pred_naive):.8f}')"
      ]
    },
    {
      "cell_type": "code",
      "execution_count": 19,
      "metadata": {},
      "outputs": [
        {
          "data": {
            "text/plain": [
              "27.085743750000002"
            ]
          },
          "execution_count": 19,
          "metadata": {},
          "output_type": "execute_result"
        }
      ],
      "source": [
        "# проверяем полученный результат для среднеквадратичной ошибки с помощью sklearn\n",
        "metrics.mean_squared_error(y, y_pred_naive)"
      ]
    },
    {
      "cell_type": "markdown",
      "metadata": {
        "id": "BbybL2ola_ZM"
      },
      "source": [
        "**Создайте функцию *lin_pred*, которая может по матрице предикторов *X* и вектору весов линейной модели *w* получить вектор прогнозов** (0.5 балла)"
      ]
    },
    {
      "cell_type": "code",
      "execution_count": 20,
      "metadata": {},
      "outputs": [],
      "source": [
        "def lin_pred(\n",
        "        X_:np.ndarray, \n",
        "        w_:np.ndarray\n",
        "    ) -> np.ndarray:\n",
        "    \"\"\" Функция, реализующая вектор прогнозов\n",
        "\n",
        "    Args:\n",
        "        X_ (np.ndarray): матрица наблюдений (предикторы)\n",
        "\n",
        "        w_ (np.ndarray): вектор весов линейной модели\n",
        "\n",
        "    Returns:\n",
        "        (np.ndarray): вектор прогнозов\n",
        "    \"\"\"\n",
        "\n",
        "    # преобразуем вектор в одномерный массив\n",
        "    w_ = w_.reshape(-1, 1)\n",
        "    \n",
        "    # получаем вектор прогнозов линейной модели, \n",
        "    # преобразуем в одномерный массив\n",
        "    return (X_ @ w_).reshape(-1, 1)"
      ]
    },
    {
      "cell_type": "markdown",
      "metadata": {
        "id": "BU4adBrya_Zm"
      },
      "source": [
        "**Создайте функцию *stoch_grad_step* для реализации шага стохастического градиентного спуска. (1.5 балла) \n",
        "Функция должна принимать на вход следующие аргументы:**\n",
        "* матрицу *X*\n",
        "* вектора *y* и *w*\n",
        "* число *train_ind* - индекс объекта обучающей выборки (строки матрицы *X*), по которому считается изменение весов\n",
        "* число *$\\eta$* (eta) - шаг градиентного спуска\n",
        "\n",
        "Результатом будет вектор обновленных весов"
      ]
    },
    {
      "cell_type": "markdown",
      "metadata": {
        "id": "dyLY-P02DUK5"
      },
      "source": [
        "Шаг для стохастического градиентного спуска выглядит следующим образом:"
      ]
    },
    {
      "cell_type": "markdown",
      "metadata": {
        "id": "ORsAyIKNDUK5"
      },
      "source": [
        "$$\\Large w_j \\leftarrow w_j - \\frac{2\\eta}{\\ell} \\sum_{i=1}^\\ell{{x_{ij}((w_0 + w_1x_{i1} + w_2x_{i2} +  w_3x_{i3}) - y_i)}}$$"
      ]
    },
    {
      "cell_type": "markdown",
      "metadata": {
        "id": "CQl2FrpuDUK6"
      },
      "source": [
        "Для того, чтобы написать функцию, нужно сделать следующее:\n",
        "    \n",
        "*  посчитать направление изменения: умножить объект обучающей выборки на 2 и на разницу между предсказанным значением и реальным, а потом поделить на количество элементов в выборке.\n",
        "* вернуть разницу между вектором весов и направлением изменения, умноженным на шаг градиентного спуска"
      ]
    },
    {
      "cell_type": "code",
      "execution_count": 21,
      "metadata": {},
      "outputs": [],
      "source": [
        "def stoch_grad_step(\n",
        "        X_:np.ndarray, \n",
        "        y_:np.ndarray, \n",
        "        w_:np.ndarray, \n",
        "        train_ind:int, \n",
        "        eta:float\n",
        "    ) -> np.ndarray:\n",
        "    \"\"\" Функция, реализующая шаг стохастического градиентного спуска\n",
        "\n",
        "    Args:\n",
        "        X_ (np.ndarray): матрица наблюдений (предикторы)\n",
        "\n",
        "        y_ (np.ndarray): вектор целевых значений (таргет)\n",
        "        \n",
        "        w_ (np.ndarray): вектор весов линейной модели\n",
        "        \n",
        "        train_ind (int):    индекс объекта обучающей выборки (строки матрицы X), \n",
        "                            по которому считается изменение весов\n",
        "\n",
        "        eta (float): шаг градиентного спуска\n",
        "\n",
        "    Returns:\n",
        "        (np.ndarray): обновленный вектор весов линейной модели\n",
        "    \"\"\"\n",
        "\n",
        "    # вычисляем разницу между предсказанным и реальным значением\n",
        "    diff = lin_pred(X_[train_ind], w_) - y_[train_ind]\n",
        "\n",
        "    # вычисляем направление изменения весов модели\n",
        "    direction = X_[train_ind, :] * 2 * diff / len(y_)\n",
        "    \n",
        "    # обновляем веса (коэффициенты) модели\n",
        "    return  w_ - direction * eta"
      ]
    },
    {
      "cell_type": "markdown",
      "metadata": {
        "id": "pXwIFd0Ma_Zx"
      },
      "source": [
        "**Создайте функцию *stochastic_gradient_descent*, для реализации стохастического градиентного спуска (2.5 балла)**\n",
        "\n",
        "**Функция принимает на вход следующие аргументы:**\n",
        "- Матрицу признаков X\n",
        "- Целевую переменнную\n",
        "- Изначальную точку (веса модели)\n",
        "- Параметр, определяющий темп обучения\n",
        "- Максимальное число итераций\n",
        "- Евклидово расстояние между векторами весов на соседних итерациях градиентного спуска,при котором алгоритм прекращает работу \n",
        "\n",
        "**На каждой итерации в вектор (список) должно записываться текущее значение среднеквадратичной ошибки. Функция должна возвращать вектор весов $w$, а также вектор (список) ошибок.**"
      ]
    },
    {
      "cell_type": "markdown",
      "metadata": {
        "id": "ZVeoNF1JDUK7"
      },
      "source": [
        "Алгоритм сследующий:\n",
        "    \n",
        "* Инициализируйте расстояние между векторами весов на соседних итерациях большим числом (можно бесконечностью)\n",
        "* Создайте пустой список для фиксации ошибок\n",
        "* Создайте счетчик итераций\n",
        "* Реализуйте оновной цикл обучения пока расстояние между векторами весов больше того, при котором надо прекратить работу (когда расстояния станут слишком маленькими - значит, мы застряли в одном месте) и количество итераций меньше максимально разрешенного: сгенерируйте случайный индекс, запишите текущую ошибку в вектор ошибок, запишите в переменную текущий шаг стохастического спуска с использованием функции, написанной ранее. Далее рассчитайте текущее расстояние между векторами весов и прибавьте к счетчику итераций 1.\n",
        "* Верните вектор весов и вектор ошибок"
      ]
    },
    {
      "cell_type": "code",
      "execution_count": 22,
      "metadata": {},
      "outputs": [],
      "source": [
        "# создадим функцию для реализации стохастического градиентного спуска\n",
        "def stochastic_gradient_descent(\n",
        "        X_:np.ndarray=X, \n",
        "        y_:np.ndarray=y, \n",
        "        w_init:np.ndarray=w, \n",
        "        eta:float=0.01, \n",
        "        max_iter:int=1e5, \n",
        "        min_weight_dist:float=1e-8\n",
        "    ) -> np.ndarray | list[float]:\n",
        "    \"\"\"_summary_\n",
        "\n",
        "    Args:\n",
        "        X_ (np.ndarray, optional): матрица наблюдений (предикторы). Defaults to X.\n",
        "        \n",
        "        y_ (np.ndarray, optional): вектор целевых значений (таргет). Defaults to y.\n",
        "        \n",
        "        w_init (np.ndarray, optional): пустой вектор коэффициентов. Defaults to w.\n",
        "        \n",
        "        eta (float, optional): темп обучения. Defaults to 0.01.\n",
        "        \n",
        "        max_iter (int, optional): максимальное число итераций. Defaults to 1e5.\n",
        "        \n",
        "        min_weight_dist (float, optional):  между векторами весов на соседних итерациях градиентного спуска, \n",
        "                                            при котором алгоритм прекращает работу. Defaults to 1e-8.\n",
        "\n",
        "    Returns:\n",
        "        w (np.ndarray): веса (коэффициенты) линейной модели\n",
        "        \n",
        "        errors (list[float]): список значений среднеквадратичных ошибок\n",
        "    \"\"\"\n",
        "    \n",
        "    # задаём расстояние между векторами весов бесконечностью\n",
        "    weight_dist = np.inf\n",
        "\n",
        "    # создаём пустой список для фиксации ошибок\n",
        "    errors = []\n",
        "\n",
        "    # создаём счетчик итераций\n",
        "    iter_num = 0\n",
        "\n",
        "    # задаём начальный вектор весов\n",
        "    w = w_init\n",
        "\n",
        "    # выполняем цикл пока расстояние между векторами весов больше того,\n",
        "    # при котором будет прекращена работа и количество итераций меньше максимума\n",
        "    while weight_dist > min_weight_dist and iter_num < max_iter:\n",
        "        # задаём случайный индекс\n",
        "        random_index = np.random.randint(len(y))\n",
        "\n",
        "        # записываем в переменную текущий шаг стохастического спуска\n",
        "        w_new = stoch_grad_step(X_, y_, w, random_index, eta)\n",
        "\n",
        "        # вычисляем текущее расстояние между векторами весов\n",
        "        weight_dist = np.linalg.norm(w - w_new)\n",
        "\n",
        "        # записываем среднеквадратичную ошибку предсказания\n",
        "        errors.append(mse_error(y, lin_pred(X, w)))\n",
        "\n",
        "        # обновляем вектор весов и индекс итерации\n",
        "        w = w_new\n",
        "        iter_num += 1\n",
        "\n",
        "    return w, errors"
      ]
    },
    {
      "cell_type": "markdown",
      "metadata": {
        "id": "0OqHO1Rta_Z7"
      },
      "source": [
        " **Запустите $10^5$ итераций стохастического градиентного спуска. Укажите вектор начальных весов, состоящий из нулей. Можете поэкспериментировать с параметром, отвечающим за темп обучения.**"
      ]
    },
    {
      "cell_type": "code",
      "execution_count": 23,
      "metadata": {},
      "outputs": [],
      "source": [
        "# задаем нулевой вектор коэффициентов (весов модели)\n",
        "w = np.zeros(4)\n",
        "\n",
        "# выполняем алгоритм стохастического градиентного спуска, получаем результаты\n",
        "w_stoch_grad_desc, errors = stochastic_gradient_descent(X, y, w)"
      ]
    },
    {
      "cell_type": "code",
      "execution_count": 24,
      "metadata": {},
      "outputs": [
        {
          "name": "stdout",
          "output_type": "stream",
          "text": [
            "Количество итераций: 84501\n"
          ]
        }
      ],
      "source": [
        "print(f'Количество итераций: {len(errors)}')"
      ]
    },
    {
      "cell_type": "markdown",
      "metadata": {
        "id": "N6fHHT6vDUK8"
      },
      "source": [
        "**Постройте график зависимости ошибки от номера итерации**"
      ]
    },
    {
      "cell_type": "code",
      "execution_count": 25,
      "metadata": {
        "id": "zsSfHDzLDUK9"
      },
      "outputs": [
        {
          "data": {
            "image/png": "[encoded data removed]",
            "text/plain": [
              "<Figure size 1600x800 with 1 Axes>"
            ]
          },
          "metadata": {},
          "output_type": "display_data"
        }
      ],
      "source": [
        "# задаём размер полотна\n",
        "fig = plt.figure(figsize=(16, 8))\n",
        "plt.grid()\n",
        "\n",
        "# рисуем график уровня последнего значения MSE\n",
        "plt.axhline(errors[-1], lw=1, c='deeppink', linestyle='--', label=f'y={errors[-1]:.8f}')\n",
        "\n",
        "# рисуем график MSE\n",
        "plt.plot(errors, label='MSE')\n",
        "\n",
        "# задаём отображение легенды\n",
        "plt.legend()\n",
        "\n",
        "# задаём заголовок и подписи осей\n",
        "plt.title(f'График зависимости MSE на {len(errors)} итерациях')\n",
        "plt.ylabel('MSE')\n",
        "plt.xlabel('Номер итерации');"
      ]
    },
    {
      "cell_type": "markdown",
      "metadata": {
        "id": "O-MVOcJ6a_aY"
      },
      "source": [
        "**Выведите вектор весов, к которому сошелся метод.**"
      ]
    },
    {
      "cell_type": "code",
      "execution_count": 26,
      "metadata": {
        "id": "MPjVkXe4DUK9"
      },
      "outputs": [
        {
          "data": {
            "text/plain": [
              "array([[ 1.40190566e+01,  3.91069256e+00,  2.78209808e+00,\n",
              "        -8.10462217e-03]])"
            ]
          },
          "execution_count": 26,
          "metadata": {},
          "output_type": "execute_result"
        }
      ],
      "source": [
        "w_stoch_grad_desc"
      ]
    },
    {
      "cell_type": "markdown",
      "metadata": {
        "id": "qabzMc3Qa_a5"
      },
      "source": [
        "**Выведите среднеквадратичную ошибку на последней итерации.**"
      ]
    },
    {
      "cell_type": "code",
      "execution_count": 27,
      "metadata": {
        "id": "7tPWleMIa_a7"
      },
      "outputs": [
        {
          "name": "stdout",
          "output_type": "stream",
          "text": [
            "MSE на последней итерации: 2.78441259\n"
          ]
        }
      ],
      "source": [
        "print(f'MSE на последней итерации: {errors[-1]:.8f}')"
      ]
    },
    {
      "cell_type": "code",
      "execution_count": 28,
      "metadata": {},
      "outputs": [
        {
          "name": "stdout",
          "output_type": "stream",
          "text": [
            "Метрика MSE: 2.78441259\n",
            "Метрика MAE: 1.25362502\n"
          ]
        }
      ],
      "source": [
        "# выводим результаты метрики MSE и MAE на всех данных\n",
        "print(f'Метрика MSE: {metrics.mean_squared_error(y, lin_pred(X, w_stoch_grad_desc)):.8f}')\n",
        "print(f'Метрика MAE: {metrics.mean_absolute_error(y, lin_pred(X, w_stoch_grad_desc)):.8f}')"
      ]
    },
    {
      "attachments": {},
      "cell_type": "markdown",
      "metadata": {},
      "source": [
        "---"
      ]
    },
    {
      "attachments": {},
      "cell_type": "markdown",
      "metadata": {},
      "source": [
        "## **Выводы**:\n",
        "\n",
        "* Решение, полученное при самостоятельной реализации координатного спуска для линейной регрессии, совпадает с реализацией линейной регрессии с библиотекой *sklearn*;\n",
        "\n",
        "* Наивный прогноз дает результат в 10 раз хуже;\n",
        "\n",
        "* Стохастический градиентный спуск быстрее минимизирует ошибку, за меньшее количество итераций, чем 1e5 на 15%;\n",
        "\n",
        "* Метрики MSE и MAE совпадают до 2-го знака после запятой включительно, коэффициенты вектора весов отличны друг от друга;\n",
        "\n",
        "* Оба алгоритма (ручные - координатный и стохастический градиентный и из библиотеки *sklearn*) сошлись на одном уровне - об этом говорят одинаковые метрики MSE, но в разных точках пространства - об этом говорят разные вектора весов."
      ]
    }
  ],
  "metadata": {
    "colab": {
      "collapsed_sections": [],
      "name": "Практика_Оптимизация.ipynb",
      "provenance": [],
      "toc_visible": true
    },
    "kernelspec": {
      "display_name": "Python 3.10.8 ('base')",
      "language": "python",
      "name": "python3"
    },
    "language_info": {
      "codemirror_mode": {
        "name": "ipython",
        "version": 3
      },
      "file_extension": ".py",
      "mimetype": "text/x-python",
      "name": "python",
      "nbconvert_exporter": "python",
      "pygments_lexer": "ipython3",
      "version": "3.10.11"
    },
    "vscode": {
      "interpreter": {
        "hash": "86c56a74836ad344b00594bf6f38fa6a676a207ceefe20d101fbc465800ccb8d"
      }
    }
  },
  "nbformat": 4,
  "nbformat_minor": 0
}
