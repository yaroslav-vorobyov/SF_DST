{
 "cells": [
  {
   "cell_type": "code",
   "execution_count": 1,
   "id": "ecb50d61",
   "metadata": {},
   "outputs": [],
   "source": [
    "import os, sys, re\n",
    "import pandas as pd\n",
    "import numpy as np\n",
    "import plotly.express as px\n",
    "import matplotlib\n",
    "import matplotlib.pyplot as plt\n",
    "import seaborn as sns\n",
    "%matplotlib inline\n",
    "matplotlib.style.use('ggplot')\n",
    "\n",
    "# EDA библиотеки\n",
    "import statistics as stcs\n",
    "import statsmodels.stats.proportion as stsmdls\n",
    "\n",
    "# библиотека для расчетов корреляций\n",
    "from scipy import stats\n",
    "\n",
    "# библиотека для кодирования признаков\n",
    "import category_encoders as ce\n",
    "\n",
    "# для обработки timestamp в формате utc\n",
    "import datetime, time\n",
    "\n",
    "# выводить все результаты вычислений в ячейках Code\n",
    "from IPython.core.interactiveshell import InteractiveShell\n",
    "InteractiveShell.ast_node_interactivity = \"all\"\n",
    "\n",
    "# подключить Latex\n",
    "from IPython.display import Latex\n",
    "\n",
    "# изменить формат вывода pandas\n",
    "# pd.set_option('display.float_format', lambda x: '%.2f' % x)\n",
    "# pd.set_option('display.max_info_rows', 500)\n",
    "# pd.set_option('display.max_info_columns', 500)\n",
    "# pd.set_option('display.width', 1000)\n",
    "# pd.set_option('display.max_columns', None)\n",
    "# pd.set_option('display.large_repr', 'truncate')"
   ]
  },
  {
   "cell_type": "markdown",
   "id": "c8a6af25-08d3-487a-bd90-001772ac9161",
   "metadata": {},
   "source": [
    "## <center> **Анализ результатов A/B-тестирования**"
   ]
  },
  {
   "cell_type": "markdown",
   "id": "d7d45571-6545-4904-a86b-9b3b6b8163d3",
   "metadata": {},
   "source": [
    "Компания планирует запустить новую акцию, чтобы продать как можно больше туров. Команда разработала два варианта посадочной страницы официального сайта компании и провела A/B-тестирование. Собранные в результате проведения эксперимента данные вы можете найти здесь.\n",
    "\n",
    "Вам предстоит решить настоящую бизнес-задачу: проанализировать эффективность обоих вариантов посадочной страницы сразу по двум критериям: конверсии покупки и среднему чеку. На основе проведенного анализа вам будет необходимо сделать выводы и принять решение: какой из вариантов дизайна более предпочтительный.\n",
    "\n",
    "Итак, наша фирма предлагает следующие варианты туров и их соответствующие стоимости:\n",
    "* Таиланд — 100000 рублей;\n",
    "* Турция — 60000 рублей;\n",
    "* Мальдивы — 200000 рублей;\n",
    "* Санкт-Петербург — 10000 рублей;\n",
    "* Камчатка — 150000 рублей."
   ]
  },
  {
   "cell_type": "markdown",
   "id": "55c84550-4162-4325-acc2-7d3c0aafe6f0",
   "metadata": {},
   "source": [
    "Прочитаем наши данные и посмотрим на столбцы таблицы:"
   ]
  },
  {
   "cell_type": "code",
   "execution_count": 3,
   "id": "b0d18245-b9da-44bd-8aea-d272ea74b63a",
   "metadata": {},
   "outputs": [
    {
     "data": {
      "text/html": [
       "<div>\n",
       "<style scoped>\n",
       "    .dataframe tbody tr th:only-of-type {\n",
       "        vertical-align: middle;\n",
       "    }\n",
       "\n",
       "    .dataframe tbody tr th {\n",
       "        vertical-align: top;\n",
       "    }\n",
       "\n",
       "    .dataframe thead th {\n",
       "        text-align: right;\n",
       "    }\n",
       "</style>\n",
       "<table border=\"1\" class=\"dataframe\">\n",
       "  <thead>\n",
       "    <tr style=\"text-align: right;\">\n",
       "      <th></th>\n",
       "      <th>user_id</th>\n",
       "      <th>date</th>\n",
       "      <th>group</th>\n",
       "      <th>purchase</th>\n",
       "      <th>price</th>\n",
       "    </tr>\n",
       "  </thead>\n",
       "  <tbody>\n",
       "    <tr>\n",
       "      <th>0</th>\n",
       "      <td>851104</td>\n",
       "      <td>2021-01-21</td>\n",
       "      <td>A</td>\n",
       "      <td>0</td>\n",
       "      <td>0</td>\n",
       "    </tr>\n",
       "    <tr>\n",
       "      <th>1</th>\n",
       "      <td>804228</td>\n",
       "      <td>2021-01-12</td>\n",
       "      <td>A</td>\n",
       "      <td>0</td>\n",
       "      <td>0</td>\n",
       "    </tr>\n",
       "    <tr>\n",
       "      <th>2</th>\n",
       "      <td>661590</td>\n",
       "      <td>2021-01-11</td>\n",
       "      <td>B</td>\n",
       "      <td>0</td>\n",
       "      <td>0</td>\n",
       "    </tr>\n",
       "    <tr>\n",
       "      <th>3</th>\n",
       "      <td>853541</td>\n",
       "      <td>2021-01-08</td>\n",
       "      <td>B</td>\n",
       "      <td>0</td>\n",
       "      <td>0</td>\n",
       "    </tr>\n",
       "    <tr>\n",
       "      <th>4</th>\n",
       "      <td>864975</td>\n",
       "      <td>2021-01-21</td>\n",
       "      <td>A</td>\n",
       "      <td>1</td>\n",
       "      <td>150000</td>\n",
       "    </tr>\n",
       "    <tr>\n",
       "      <th>5</th>\n",
       "      <td>936923</td>\n",
       "      <td>2021-01-10</td>\n",
       "      <td>A</td>\n",
       "      <td>0</td>\n",
       "      <td>0</td>\n",
       "    </tr>\n",
       "    <tr>\n",
       "      <th>6</th>\n",
       "      <td>679687</td>\n",
       "      <td>2021-01-19</td>\n",
       "      <td>B</td>\n",
       "      <td>1</td>\n",
       "      <td>10000</td>\n",
       "    </tr>\n",
       "    <tr>\n",
       "      <th>7</th>\n",
       "      <td>719014</td>\n",
       "      <td>2021-01-17</td>\n",
       "      <td>A</td>\n",
       "      <td>0</td>\n",
       "      <td>0</td>\n",
       "    </tr>\n",
       "    <tr>\n",
       "      <th>8</th>\n",
       "      <td>817355</td>\n",
       "      <td>2021-01-04</td>\n",
       "      <td>B</td>\n",
       "      <td>1</td>\n",
       "      <td>60000</td>\n",
       "    </tr>\n",
       "    <tr>\n",
       "      <th>9</th>\n",
       "      <td>839785</td>\n",
       "      <td>2021-01-15</td>\n",
       "      <td>B</td>\n",
       "      <td>1</td>\n",
       "      <td>10000</td>\n",
       "    </tr>\n",
       "  </tbody>\n",
       "</table>\n",
       "</div>"
      ],
      "text/plain": [
       "   user_id        date group  purchase   price\n",
       "0   851104  2021-01-21     A         0       0\n",
       "1   804228  2021-01-12     A         0       0\n",
       "2   661590  2021-01-11     B         0       0\n",
       "3   853541  2021-01-08     B         0       0\n",
       "4   864975  2021-01-21     A         1  150000\n",
       "5   936923  2021-01-10     A         0       0\n",
       "6   679687  2021-01-19     B         1   10000\n",
       "7   719014  2021-01-17     A         0       0\n",
       "8   817355  2021-01-04     B         1   60000\n",
       "9   839785  2021-01-15     B         1   10000"
      ]
     },
     "execution_count": 3,
     "metadata": {},
     "output_type": "execute_result"
    }
   ],
   "source": [
    "# читаем dataframe и создаём копию\n",
    "df = pd.read_csv('./data/ab_data_tourist.csv')\n",
    "data = df.copy()\n",
    "\n",
    "# знакомимся с данными\n",
    "data.head(10)"
   ]
  },
  {
   "attachments": {},
   "cell_type": "markdown",
   "id": "2f3a3394",
   "metadata": {},
   "source": [
    "### **Признаки**\n",
    "\n",
    "* *user_id* - идентификатор пользователя, зашедшего на сайт;\n",
    "\n",
    "* *date* - дата захода;\n",
    "\n",
    "* *group* - группа теста (контрольная — А или тестовая — B);\n",
    "\n",
    "* *purchase* - признак покупки: совершил ли пользователь покупку тура (1 — да, 0 — нет);\n",
    "\n",
    "* *price* - цена купленного тура (если покупка не состоялась, цена равна 0)."
   ]
  },
  {
   "cell_type": "markdown",
   "id": "2fc48225-26ac-49c4-b99d-8b2a03dd74a1",
   "metadata": {
    "tags": []
   },
   "source": [
    "## **Задание 7.1.**\n",
    "\n",
    "Начнем с исследования структуры наших данных. С помощью метода info() выведите информацию о типах данных и количестве непустых значений. Какой тип данных имеет столбец date?"
   ]
  },
  {
   "cell_type": "code",
   "execution_count": 4,
   "id": "23496521-4878-46e2-ab02-1a98be14884a",
   "metadata": {},
   "outputs": [
    {
     "name": "stdout",
     "output_type": "stream",
     "text": [
      "<class 'pandas.core.frame.DataFrame'>\n",
      "RangeIndex: 294478 entries, 0 to 294477\n",
      "Data columns (total 5 columns):\n",
      " #   Column    Non-Null Count   Dtype \n",
      "---  ------    --------------   ----- \n",
      " 0   user_id   294478 non-null  int64 \n",
      " 1   date      294478 non-null  object\n",
      " 2   group     294478 non-null  object\n",
      " 3   purchase  294478 non-null  int64 \n",
      " 4   price     294478 non-null  int64 \n",
      "dtypes: int64(3), object(2)\n",
      "memory usage: 11.2+ MB\n",
      "\n",
      "Точный тип данных в признаке 'date' - <class 'str'>\n"
     ]
    }
   ],
   "source": [
    "# сводный вывод данных о типах\n",
    "data.info()\n",
    "print()\n",
    "\n",
    "# конкретизируем тип данных\n",
    "print(f\"Точный тип данных в признаке 'date' - {type(data['date'][0])}\")"
   ]
  },
  {
   "attachments": {},
   "cell_type": "markdown",
   "id": "3c7dfdb6",
   "metadata": {},
   "source": [
    "### **Выводы 7.1:**\n",
    "\n",
    "Изначально признак **date** типа '*object*', а конкретнее - '***str***'."
   ]
  },
  {
   "attachments": {},
   "cell_type": "markdown",
   "id": "d36a4c94",
   "metadata": {},
   "source": [
    "---"
   ]
  },
  {
   "cell_type": "markdown",
   "id": "946d017d-b4fe-4a17-b91d-0ce369d1ab2e",
   "metadata": {
    "tags": []
   },
   "source": [
    "## **Задание 7.2.**\n",
    "\n",
    "Приведите столбец date к типу данных datetime. Убедитесь в равной длительности проведения тестирования для каждой из группы. Для этого сгруппируйте данные по признаку группы и определите первую и последнюю дату наблюдения для каждой из групп. \n",
    "\n",
    "В какой промежуток времени проводился A/B-тест?\n"
   ]
  },
  {
   "cell_type": "code",
   "execution_count": 5,
   "id": "604c619d-6338-45c8-8248-ac098a2366bb",
   "metadata": {},
   "outputs": [
    {
     "name": "stdout",
     "output_type": "stream",
     "text": [
      "Начало теста: \n",
      "group\n",
      "A   2021-01-02\n",
      "B   2021-01-02\n",
      "Name: date, dtype: datetime64[ns]\n",
      "\n",
      "Конец теста: \n",
      "group\n",
      "A   2021-01-24\n",
      "B   2021-01-24\n",
      "Name: date, dtype: datetime64[ns]\n",
      "\n"
     ]
    }
   ],
   "source": [
    "# переводим даты в формат datetime по шаблону YYYY-MM-DD\n",
    "data['date'] = pd.to_datetime(data['date'], format='%Y-%m-%d')\n",
    "\n",
    "# ответ на вопрос когда проводился A/B-тест\n",
    "print(f'Начало теста: \\n' \\\n",
    "    f\"{data.groupby(['group'])['date'].agg('min')}\\n\")\n",
    "\n",
    "print(f'Конец теста: \\n' \\\n",
    "    f\"{data.groupby(['group'])['date'].agg('max')}\\n\")\n",
    "\n",
    "\n",
    "# data.groupby(by=['group'])['date'].agg(['min', 'max'])"
   ]
  },
  {
   "attachments": {},
   "cell_type": "markdown",
   "id": "9e30413d",
   "metadata": {},
   "source": [
    "### **Выводы 7.2:**\n",
    "\n",
    "Начальные и конечные даты проведения A/B-теста для обеих групп совпадают."
   ]
  },
  {
   "cell_type": "markdown",
   "id": "1ce3e1e8",
   "metadata": {},
   "source": [
    "---"
   ]
  },
  {
   "cell_type": "markdown",
   "id": "e04eb341-52ae-48b3-9dc2-0578ca91641a",
   "metadata": {},
   "source": [
    "## **Задание 7.3.**\n",
    "\n",
    "* Чему равно количество посещений сайта в группах А и B?\n",
    "\n",
    "* Чему равно суммарное количество покупок в группах А и B?\n",
    "\n",
    "* Чему равна сумма всех покупок в группах А и B? Ответ приведите в миллионах рублей. Например, 185.52 млн. руб."
   ]
  },
  {
   "cell_type": "code",
   "execution_count": 6,
   "id": "02bf0148-488e-4f34-95bf-37794b2fa98b",
   "metadata": {},
   "outputs": [
    {
     "name": "stdout",
     "output_type": "stream",
     "text": [
      "Количество посещений сайта в группах А и B: \n",
      "group\n",
      "A    147202\n",
      "B    147276\n",
      "Name: user_id, dtype: int64\n",
      "\n",
      "Суммарное количество покупок в группах А и B: \n",
      "group\n",
      "A    17723\n",
      "B    17514\n",
      "Name: purchase, dtype: int64\n",
      "\n",
      "Сумма всех покупок в группах А и B, млн. руб.: \n",
      "group\n",
      "A    1436.26\n",
      "B    1554.10\n",
      "Name: price, dtype: float64\n",
      "\n"
     ]
    }
   ],
   "source": [
    "print(f'Количество посещений сайта в группах А и B: \\n' \\\n",
    "    f\"{data.groupby(by=['group'])['user_id'].agg('count')}\\n\")\n",
    "\n",
    "print(f'Суммарное количество покупок в группах А и B: \\n' \\\n",
    "    f\"{data.groupby(by=['group'])['purchase'].agg('sum')}\\n\")\n",
    "\n",
    "print(f'Сумма всех покупок в группах А и B, млн. руб.: \\n' \\\n",
    "    f\"{data.groupby(by=['group'])['price'].agg('sum') / 1e6}\\n\")"
   ]
  },
  {
   "attachments": {},
   "cell_type": "markdown",
   "id": "67b93997",
   "metadata": {},
   "source": [
    "### **Выводы 7.3:**\n",
    "\n",
    "По предварительным данным, группа **B** по сравнению с группой **A**:\n",
    "* **имеет больше посещений сайта**;\n",
    "* меньшее число суммарных покупок;\n",
    "* **значительно большую сумму покупок** в денежном эквиваленте (почти 120 млн. руб.)\n",
    "\n",
    "Исходя из этого, заранее предположу, что <font color='LightSeaGreen'>**средние затраты (средний чек) в группе B выше**</font>, чем в группе **A**."
   ]
  },
  {
   "cell_type": "markdown",
   "id": "11e44b34",
   "metadata": {},
   "source": [
    "---"
   ]
  },
  {
   "cell_type": "markdown",
   "id": "2434db1b-17e6-4977-8e54-1df875c6f221",
   "metadata": {
    "tags": []
   },
   "source": [
    "## **Задание 7.4.**\n",
    "\n",
    "Проверьте, есть ли пользователи, которые в процессе A/B-теста попали в обе тестовые группы? Если да, то сколько таких уникальных пользователей, если нет - введите в поле для ответа 0?\n",
    "\n",
    "**Подсказка:**\n",
    "\n",
    "*Создайте множество пользователей группы А и множество пользователей группы B. Пересеките два этих множества (операция intersection) и вычислите количество элементов в полученном множестве.*\n"
   ]
  },
  {
   "cell_type": "code",
   "execution_count": 7,
   "id": "57a2d711-057d-4f8b-9f56-df0f772d41c8",
   "metadata": {},
   "outputs": [
    {
     "name": "stdout",
     "output_type": "stream",
     "text": [
      "1895 пользователей попали в обе группы\n"
     ]
    }
   ],
   "source": [
    "# создаём множества\n",
    "set_users_A = set(data[data['group'] == 'A']['user_id'])\n",
    "set_users_B = set(data[data['group'] == 'B']['user_id'])\n",
    "\n",
    "# пересекаем множества\n",
    "user_intersection = set_users_A.intersection(set_users_B)\n",
    "\n",
    "# выводим длину получившегося множества\n",
    "print(f'{len(user_intersection)} пользователей попали в обе группы')"
   ]
  },
  {
   "cell_type": "markdown",
   "id": "118b1904-7d7a-4935-825e-535da45c611b",
   "metadata": {
    "tags": []
   },
   "source": [
    "## **Исключите пользователей, оказавшихся в обеих группах**\n",
    "\n",
    "Так как мы не можем определить, какая из версий сайта повлияла на принятие решения, исключим этих пользователей. Далее мы будем работать только с очищенными от пересечений данными.\n",
    "\n",
    "Возможный вариант исключения пользователей:"
   ]
  },
  {
   "cell_type": "code",
   "execution_count": 8,
   "id": "f618b34b-35a3-4bf1-8d6d-38b3401930b7",
   "metadata": {},
   "outputs": [],
   "source": [
    "# исключаем пользователей\n",
    "data = data[data['user_id'].apply(lambda x: x not in user_intersection)]\n",
    "data.reset_index(inplace=True)"
   ]
  },
  {
   "cell_type": "markdown",
   "id": "2bce6c9a-6580-4250-b280-204d40d20da2",
   "metadata": {},
   "source": [
    "Где user_intersection - множество пересечений пользователей групп А и B."
   ]
  },
  {
   "cell_type": "code",
   "execution_count": 9,
   "id": "b8644fdf",
   "metadata": {},
   "outputs": [
    {
     "name": "stdout",
     "output_type": "stream",
     "text": [
      "<class 'pandas.core.frame.DataFrame'>\n",
      "RangeIndex: 290688 entries, 0 to 290687\n",
      "Data columns (total 6 columns):\n",
      " #   Column    Non-Null Count   Dtype         \n",
      "---  ------    --------------   -----         \n",
      " 0   index     290688 non-null  int64         \n",
      " 1   user_id   290688 non-null  int64         \n",
      " 2   date      290688 non-null  datetime64[ns]\n",
      " 3   group     290688 non-null  object        \n",
      " 4   purchase  290688 non-null  int64         \n",
      " 5   price     290688 non-null  int64         \n",
      "dtypes: datetime64[ns](1), int64(4), object(1)\n",
      "memory usage: 13.3+ MB\n"
     ]
    }
   ],
   "source": [
    "# проверка данных\n",
    "data.info()"
   ]
  },
  {
   "attachments": {},
   "cell_type": "markdown",
   "id": "9f24370a",
   "metadata": {},
   "source": [
    "### **Выводы 7.4:**\n",
    "\n",
    "1895 пользователей - погрешность, которую исключили. Составляет в процентном соотношении **1.29% для группы A и B**, соответственно."
   ]
  },
  {
   "cell_type": "markdown",
   "id": "7cc2a49a",
   "metadata": {},
   "source": [
    "---"
   ]
  },
  {
   "attachments": {},
   "cell_type": "markdown",
   "id": "2ddf6b2c-7987-41f3-82b1-8992630ae97b",
   "metadata": {
    "tags": []
   },
   "source": [
    "## **Задание 7.5.**\n",
    "\n",
    "Для первичного анализа результатов A/B-тестирования нам понадобится таблица следующего вида:\n",
    "\n",
    "| <center>group | <center>count_visits | <center>count_purchases | <center>sum_price |\n",
    "| --- | --- | --- | --- |\n",
    "| <center>A | <center>? | <center>? | <center>? |\n",
    "| <center>B | <center>? | <center>? | <center>? |\n",
    "\n",
    "Для того, чтобы получить такую таблицу, сгруппируйте данные по признаку группы. В каждой группе рассчитайте следующие показатели:\n",
    "* количество посещений (количество пользователей)\n",
    "* количество совершенных покупок\n",
    "* сумма всех покупок в группе\n",
    "\n",
    "В полученной сгруппированной таблице переименуйте столбцы на **count_visits, count_purchases и sum_price**.\n",
    "\n",
    "**Подсказка:**\n",
    "\n",
    "*Для переименования столбцов можно использовать метод rename() с параметром columns, в который передается словарь. Ключи этого словаря - старые имена столбцов, а значения - новые.*\n",
    "\n",
    "Чему на этот раз равно количество посещений сайта в группах А и B?"
   ]
  },
  {
   "cell_type": "code",
   "execution_count": 10,
   "id": "5c0c018e-a250-48e9-b72a-e3c7be586ebd",
   "metadata": {},
   "outputs": [
    {
     "data": {
      "text/html": [
       "<div>\n",
       "<style scoped>\n",
       "    .dataframe tbody tr th:only-of-type {\n",
       "        vertical-align: middle;\n",
       "    }\n",
       "\n",
       "    .dataframe tbody tr th {\n",
       "        vertical-align: top;\n",
       "    }\n",
       "\n",
       "    .dataframe thead th {\n",
       "        text-align: right;\n",
       "    }\n",
       "</style>\n",
       "<table border=\"1\" class=\"dataframe\">\n",
       "  <thead>\n",
       "    <tr style=\"text-align: right;\">\n",
       "      <th></th>\n",
       "      <th>group</th>\n",
       "      <th>count_visits</th>\n",
       "      <th>count_purchases</th>\n",
       "      <th>sum_price</th>\n",
       "    </tr>\n",
       "  </thead>\n",
       "  <tbody>\n",
       "    <tr>\n",
       "      <th>0</th>\n",
       "      <td>A</td>\n",
       "      <td>145307</td>\n",
       "      <td>17487</td>\n",
       "      <td>1417780000</td>\n",
       "    </tr>\n",
       "    <tr>\n",
       "      <th>1</th>\n",
       "      <td>B</td>\n",
       "      <td>145381</td>\n",
       "      <td>17290</td>\n",
       "      <td>1533010000</td>\n",
       "    </tr>\n",
       "  </tbody>\n",
       "</table>\n",
       "</div>"
      ],
      "text/plain": [
       "  group  count_visits  count_purchases   sum_price\n",
       "0     A        145307            17487  1417780000\n",
       "1     B        145381            17290  1533010000"
      ]
     },
     "execution_count": 10,
     "metadata": {},
     "output_type": "execute_result"
    }
   ],
   "source": [
    "# формирование датафрейма с агрегированными показателями\n",
    "grouped = data.groupby(by=['group']\n",
    "    ).agg({\n",
    "        'user_id':'count',\n",
    "        'purchase':'sum',\n",
    "        'price':'sum'\n",
    "        }).reset_index().rename(\n",
    "            columns={\n",
    "                'user_id': 'count_visits',\n",
    "                'purchase': 'count_purchases',\n",
    "                'price': 'sum_price',\n",
    "                })\n",
    "\n",
    "# проверка данных\n",
    "grouped.head()"
   ]
  },
  {
   "cell_type": "markdown",
   "id": "b71e1390-9846-4a8e-b357-f82b847d1952",
   "metadata": {},
   "source": [
    "Приведите промежуточные выводы по построенной таблице. Сопоставимо ли количество посещений обоих вариантов посадочной странице, можно ли говорить о сбалансированности выборок?"
   ]
  },
  {
   "attachments": {},
   "cell_type": "markdown",
   "id": "4ea1b65b-475e-4bff-9460-fac0acdb9620",
   "metadata": {},
   "source": [
    "### **Выводы 7.5:**\n",
    "\n",
    "* **Число уникальных посещений сайта примерно равно**, разница между группами составляет 74 пользователя;\n",
    "* Количество совершенных покупок между группами также незначительно уменьшилось, для группы **A** - 236, группы **B** - 224 покупки;\n",
    "* Сумма покупок уменьшилась на чуть более 2,5 млн. руб. (~ 2,61 млн. руб.)\n",
    "\n",
    "Касательно количества посещений, можно сказать, что <font color='LightSeaGreen'>**выборка сбалансирована, количество сопоставимо**</font>, а минимальная разница пройдет как статистическая погрешность (допуск), так как разница в уникальных посещениях между группами составляет 0,0254% !"
   ]
  },
  {
   "attachments": {},
   "cell_type": "markdown",
   "id": "3a822f53",
   "metadata": {},
   "source": [
    "---"
   ]
  },
  {
   "cell_type": "markdown",
   "id": "afb2ee0a-31d1-45a5-be42-a2bf168b9448",
   "metadata": {
    "tags": []
   },
   "source": [
    "## **Задание 7.6.**\n",
    "\n",
    "Добавьте в сгруппированную таблицу столбцы conversion - конверсия покупки (отношение количества покупок к количеству посещений сайта в каждой группе, выраженное в процентах) и mean_check - средний чек (отношение суммы покупок к количеству покупок в каждой группе).\n",
    "\n",
    "* Чему равна конверсия в группах? Ответ приведите в процентах и округлите до сотых. Например, 75.12 %\n",
    "* Чему равен средний чек в группах? Ответ приведите в рублях и округлите до целых. Например, 120519 рублей."
   ]
  },
  {
   "cell_type": "code",
   "execution_count": 11,
   "id": "bd9c3b3e-5956-41a8-bae0-43693f6de1f2",
   "metadata": {},
   "outputs": [
    {
     "data": {
      "text/html": [
       "<div>\n",
       "<style scoped>\n",
       "    .dataframe tbody tr th:only-of-type {\n",
       "        vertical-align: middle;\n",
       "    }\n",
       "\n",
       "    .dataframe tbody tr th {\n",
       "        vertical-align: top;\n",
       "    }\n",
       "\n",
       "    .dataframe thead th {\n",
       "        text-align: right;\n",
       "    }\n",
       "</style>\n",
       "<table border=\"1\" class=\"dataframe\">\n",
       "  <thead>\n",
       "    <tr style=\"text-align: right;\">\n",
       "      <th></th>\n",
       "      <th>group</th>\n",
       "      <th>count_visits</th>\n",
       "      <th>count_purchases</th>\n",
       "      <th>sum_price</th>\n",
       "      <th>conversion</th>\n",
       "      <th>mean_check</th>\n",
       "    </tr>\n",
       "  </thead>\n",
       "  <tbody>\n",
       "    <tr>\n",
       "      <th>0</th>\n",
       "      <td>A</td>\n",
       "      <td>145307</td>\n",
       "      <td>17487</td>\n",
       "      <td>1417780000</td>\n",
       "      <td>12.034520</td>\n",
       "      <td>81076.228055</td>\n",
       "    </tr>\n",
       "    <tr>\n",
       "      <th>1</th>\n",
       "      <td>B</td>\n",
       "      <td>145381</td>\n",
       "      <td>17290</td>\n",
       "      <td>1533010000</td>\n",
       "      <td>11.892888</td>\n",
       "      <td>88664.545980</td>\n",
       "    </tr>\n",
       "  </tbody>\n",
       "</table>\n",
       "</div>"
      ],
      "text/plain": [
       "  group  count_visits  count_purchases   sum_price  conversion    mean_check\n",
       "0     A        145307            17487  1417780000   12.034520  81076.228055\n",
       "1     B        145381            17290  1533010000   11.892888  88664.545980"
      ]
     },
     "execution_count": 11,
     "metadata": {},
     "output_type": "execute_result"
    },
    {
     "name": "stdout",
     "output_type": "stream",
     "text": [
      "Конверсия в группе A: 12.03%\n",
      "Конверсия в группе B: 11.89%\n",
      "Средний чек в группе A: 81076 руб.\n",
      "Средний чек в группе B: 88665 руб.\n"
     ]
    }
   ],
   "source": [
    "# добавление новых признаков\n",
    "grouped['conversion'] = grouped['count_purchases'] / grouped['count_visits'] * 100\n",
    "grouped['mean_check'] = grouped['sum_price'] / grouped['count_purchases']\n",
    "grouped\n",
    "\n",
    "# ответы на вопросы\n",
    "print(f\"Конверсия в группе A: {grouped['conversion'][0].__round__(2)}%\")\n",
    "print(f\"Конверсия в группе B: {grouped['conversion'][1].__round__(2)}%\")\n",
    "print(f\"Средний чек в группе A: {grouped['mean_check'][0].__round__()} руб.\")\n",
    "print(f\"Средний чек в группе B: {grouped['mean_check'][1].__round__()} руб.\")"
   ]
  },
  {
   "cell_type": "markdown",
   "id": "1eb6e140-c702-43e0-b301-9914a7f49448",
   "metadata": {},
   "source": [
    "Приведите промежуточные выводы по таблице. По какому(им) показателю(ям) вариант А эффективнее варианта B и наоборот?"
   ]
  },
  {
   "attachments": {},
   "cell_type": "markdown",
   "id": "9e88c883-84f9-44ec-accd-04d5d459b261",
   "metadata": {},
   "source": [
    "### **Выводы 7.6:**\n",
    "\n",
    "**При переходе на вариант В**:\n",
    "* <font color='Tomato'>**Конверсия сайта незначительно ухудшится**</font> на ~ 0,14%. Конверсия в группе **А** больше;\n",
    "* <font color='LightSeaGreen'>**Вырастет средний чек, и при том, довольно существенно**</font>, разница между группами составляет чуть менее 10% (~ 8,67%), в числовом выражении - чуть более 7,5 тыс. руб. (~ 7589 руб.)."
   ]
  },
  {
   "cell_type": "markdown",
   "id": "7f9f1ae0-f12f-49b3-8b57-1c299c208c49",
   "metadata": {
    "tags": []
   },
   "source": [
    "## **Задание 7.7.**\n",
    "\n",
    "Теперь давайте сравним варианты по покупательской способности туров. Для этого постройте сводную таблицу, которая покажет зависимость количества продаж от группы и цены тура. "
   ]
  },
  {
   "cell_type": "code",
   "execution_count": 12,
   "id": "78d46a02-cc30-4783-9b18-9fc9c6a08012",
   "metadata": {},
   "outputs": [
    {
     "data": {
      "text/html": [
       "<div>\n",
       "<style scoped>\n",
       "    .dataframe tbody tr th:only-of-type {\n",
       "        vertical-align: middle;\n",
       "    }\n",
       "\n",
       "    .dataframe tbody tr th {\n",
       "        vertical-align: top;\n",
       "    }\n",
       "\n",
       "    .dataframe thead th {\n",
       "        text-align: right;\n",
       "    }\n",
       "</style>\n",
       "<table border=\"1\" class=\"dataframe\">\n",
       "  <thead>\n",
       "    <tr style=\"text-align: right;\">\n",
       "      <th>price</th>\n",
       "      <th>10000</th>\n",
       "      <th>60000</th>\n",
       "      <th>100000</th>\n",
       "      <th>150000</th>\n",
       "      <th>200000</th>\n",
       "    </tr>\n",
       "    <tr>\n",
       "      <th>group</th>\n",
       "      <th></th>\n",
       "      <th></th>\n",
       "      <th></th>\n",
       "      <th></th>\n",
       "      <th></th>\n",
       "    </tr>\n",
       "  </thead>\n",
       "  <tbody>\n",
       "    <tr>\n",
       "      <th>A</th>\n",
       "      <td>5182</td>\n",
       "      <td>5271</td>\n",
       "      <td>1832</td>\n",
       "      <td>3478</td>\n",
       "      <td>1724</td>\n",
       "    </tr>\n",
       "    <tr>\n",
       "      <th>B</th>\n",
       "      <td>5201</td>\n",
       "      <td>1730</td>\n",
       "      <td>5227</td>\n",
       "      <td>3438</td>\n",
       "      <td>1694</td>\n",
       "    </tr>\n",
       "  </tbody>\n",
       "</table>\n",
       "</div>"
      ],
      "text/plain": [
       "price  10000   60000   100000  150000  200000\n",
       "group                                        \n",
       "A        5182    5271    1832    3478    1724\n",
       "B        5201    1730    5227    3438    1694"
      ]
     },
     "execution_count": 12,
     "metadata": {},
     "output_type": "execute_result"
    }
   ],
   "source": [
    "# оставляем в данных только строки с покупками (конверсией)\n",
    "purchase_mask = data['purchase'] == 1\n",
    "\n",
    "# формирование датафрейма\n",
    "heat_data = data[purchase_mask].pivot_table(\n",
    "    values='purchase',\n",
    "    index='group',\n",
    "    columns='price',\n",
    "    aggfunc='count'\n",
    ")\n",
    "\n",
    "# проверка данных\n",
    "heat_data"
   ]
  },
  {
   "cell_type": "markdown",
   "id": "977423ed-8f8d-475c-b773-621edd95338d",
   "metadata": {},
   "source": [
    "Визуализируйте полученную сводную таблицу с помощью тепловой карты с аннотацией. \n",
    "Чему равно количество проданных туров за 60000 рублей в группах?"
   ]
  },
  {
   "cell_type": "code",
   "execution_count": 13,
   "id": "f634fa8d-585c-42e3-b7d5-78e8d9eaa8c5",
   "metadata": {},
   "outputs": [
    {
     "data": {
      "image/png": "[encoded data removed]",
      "text/plain": [
       "<Figure size 1000x500 with 2 Axes>"
      ]
     },
     "metadata": {},
     "output_type": "display_data"
    }
   ],
   "source": [
    "# формируем полотно\n",
    "fig, ax = plt.subplots(figsize=(10, 5))\n",
    "\n",
    "# строим график\n",
    "heatmap = sns.heatmap(\n",
    "    data=heat_data, \n",
    "    annot=True, \n",
    "    fmt='d',\n",
    "    cmap='coolwarm', \n",
    "    square=True,\n",
    "    linewidths=0.1,\n",
    "    ax=ax\n",
    ")\n",
    "\n",
    "# меняем подписи осей и заголовок графика\n",
    "ax.set(\n",
    "    xlabel='Стоимость тура',\n",
    "    ylabel='Группа',\n",
    "    title='Тепловая карта покупательной способности туров'\n",
    ");"
   ]
  },
  {
   "cell_type": "code",
   "execution_count": 14,
   "id": "760eec5f",
   "metadata": {},
   "outputs": [
    {
     "name": "stdout",
     "output_type": "stream",
     "text": [
      "Количество проданных туров за 60000 рублей (Турция) в группе A: 5271\n",
      "Количество проданных туров за 60000 рублей (Турция) в группе B: 1730\n"
     ]
    }
   ],
   "source": [
    "# ответы ны вопросы\n",
    "print(f'Количество проданных туров за 60000 рублей (Турция) в группе A: ' \\\n",
    "    f\"{heat_data[60000].loc['A']}\")\n",
    "print(f'Количество проданных туров за 60000 рублей (Турция) в группе B: ' \\\n",
    "    f\"{heat_data[60000].loc['B']}\");"
   ]
  },
  {
   "cell_type": "markdown",
   "id": "9caa92ca-e261-4b8f-a16c-2abc322c9ffb",
   "metadata": {},
   "source": [
    "Сделайте выводы по построенной таблице. По каким турам покупательская способность участников группы А выше, чем участников группы B и наоборот?"
   ]
  },
  {
   "attachments": {},
   "cell_type": "markdown",
   "id": "6d13fd45-e3df-468f-9d32-1fc45d38b10c",
   "metadata": {},
   "source": [
    "### **Выводы 7.7:**\n",
    "\n",
    "* **Конверсия**, примерно, **идентична в обеих группах в рамках самых недорогих и самых дорогих направлений**:\n",
    "    * Санкт-Петербург (10000),\n",
    "    * Камчатка (150000),\n",
    "    * Мальдивы (200000)\n",
    "    \n",
    "    <br>\n",
    "* Если взглянуть **на средне-ценовую категорию, то здесь предпочтения диаметрально противоположно различаются**, но в, примерно, одинаковых пропорциях:\n",
    "    * В группе **A** больше направлений в Турцию (60000);\n",
    "    * В группе **B** больше направлений в Тайланд (100000).\n",
    "\n",
    "<font color='LightSeaGreen'>**Отсюда и следует повышенный средний чек в группе B**</font>."
   ]
  },
  {
   "attachments": {},
   "cell_type": "markdown",
   "id": "7a82eb1d",
   "metadata": {},
   "source": [
    "---"
   ]
  },
  {
   "cell_type": "markdown",
   "id": "8f021fb4-d0f6-4e43-b518-1a96c07a4531",
   "metadata": {
    "tags": []
   },
   "source": [
    "## **Задание 7.8.**\n",
    "\n",
    "Настало время поговорить о стабилизации кумулятивных метрик во времени. Но прежде, чем перейти к кумулятивным метрикам, нам необходимо построить таблицу с ежедневными данными результатов проведения A/B-тестирования.\n",
    "\n",
    "Сгруппируйте данные по дате и группе тестирования. В каждой группе вычислите количество посещений страницы, количество покупок и сумму покупок. \n",
    "\n",
    "Добавьте в таблицу информацию о ежедневной конверсии (ежедневное количество покупок / ежедневное количество посещений) в группе и ежедневном среднем чеке (ежедневная сумма покупок / ежедневное количество покупок)\n",
    "* Чему равна конверсия 3 января 2021 года? Ответ приведите в процентах и округлите до сотых.\n",
    "\n",
    "* Чему равен средний чек 3 января 2021 года? Ответ приведите в рублях и округлите до целого."
   ]
  },
  {
   "cell_type": "code",
   "execution_count": 15,
   "id": "4503b528-412e-433a-bc03-da7da52fa1a3",
   "metadata": {},
   "outputs": [
    {
     "data": {
      "text/html": [
       "<div>\n",
       "<style scoped>\n",
       "    .dataframe tbody tr th:only-of-type {\n",
       "        vertical-align: middle;\n",
       "    }\n",
       "\n",
       "    .dataframe tbody tr th {\n",
       "        vertical-align: top;\n",
       "    }\n",
       "\n",
       "    .dataframe thead th {\n",
       "        text-align: right;\n",
       "    }\n",
       "</style>\n",
       "<table border=\"1\" class=\"dataframe\">\n",
       "  <thead>\n",
       "    <tr style=\"text-align: right;\">\n",
       "      <th></th>\n",
       "      <th>date</th>\n",
       "      <th>group</th>\n",
       "      <th>count_visits</th>\n",
       "      <th>sum_purchases</th>\n",
       "      <th>sum_price</th>\n",
       "      <th>conversion</th>\n",
       "      <th>mean_check</th>\n",
       "    </tr>\n",
       "  </thead>\n",
       "  <tbody>\n",
       "    <tr>\n",
       "      <th>0</th>\n",
       "      <td>2021-01-02</td>\n",
       "      <td>A</td>\n",
       "      <td>2854</td>\n",
       "      <td>359</td>\n",
       "      <td>29410000</td>\n",
       "      <td>12.578837</td>\n",
       "      <td>81922.005571</td>\n",
       "    </tr>\n",
       "    <tr>\n",
       "      <th>1</th>\n",
       "      <td>2021-01-02</td>\n",
       "      <td>B</td>\n",
       "      <td>2861</td>\n",
       "      <td>345</td>\n",
       "      <td>29660000</td>\n",
       "      <td>12.058721</td>\n",
       "      <td>85971.014493</td>\n",
       "    </tr>\n",
       "    <tr>\n",
       "      <th>2</th>\n",
       "      <td>2021-01-03</td>\n",
       "      <td>A</td>\n",
       "      <td>6596</td>\n",
       "      <td>748</td>\n",
       "      <td>62000000</td>\n",
       "      <td>11.340206</td>\n",
       "      <td>82887.700535</td>\n",
       "    </tr>\n",
       "    <tr>\n",
       "      <th>3</th>\n",
       "      <td>2021-01-03</td>\n",
       "      <td>B</td>\n",
       "      <td>6619</td>\n",
       "      <td>754</td>\n",
       "      <td>65960000</td>\n",
       "      <td>11.391449</td>\n",
       "      <td>87480.106101</td>\n",
       "    </tr>\n",
       "  </tbody>\n",
       "</table>\n",
       "</div>"
      ],
      "text/plain": [
       "        date group  count_visits  sum_purchases  sum_price  conversion  \\\n",
       "0 2021-01-02     A          2854            359   29410000   12.578837   \n",
       "1 2021-01-02     B          2861            345   29660000   12.058721   \n",
       "2 2021-01-03     A          6596            748   62000000   11.340206   \n",
       "3 2021-01-03     B          6619            754   65960000   11.391449   \n",
       "\n",
       "     mean_check  \n",
       "0  81922.005571  \n",
       "1  85971.014493  \n",
       "2  82887.700535  \n",
       "3  87480.106101  "
      ]
     },
     "execution_count": 15,
     "metadata": {},
     "output_type": "execute_result"
    },
    {
     "name": "stdout",
     "output_type": "stream",
     "text": [
      "Конверсия на 03-01-2021 в группе A: 11.34%\n",
      "Конверсия на 03-01-2021 в группе B: 11.39%\n",
      "Средний чек на 03-01-2021 в группе A: 82888 руб.\n",
      "Средний чек на 03-01-2021 в группе B: 87480 руб.\n"
     ]
    }
   ],
   "source": [
    "# формируем датафрейм с ежедневными метриками\n",
    "data_daily = data.groupby(by=['date', 'group']\n",
    "    ).agg({\n",
    "        'user_id':'count',\n",
    "        'purchase':'sum',\n",
    "        'price':'sum'\n",
    "        }).reset_index().rename(\n",
    "            columns={\n",
    "                'user_id': 'count_visits',\n",
    "                'purchase': 'sum_purchases',\n",
    "                'price': 'sum_price'\n",
    "                })\n",
    "\n",
    "data_daily['conversion'] = data_daily['sum_purchases'] / data_daily['count_visits'] * 100\n",
    "data_daily['mean_check'] = data_daily['sum_price'] / data_daily['sum_purchases']\n",
    "\n",
    "# проверка данных\n",
    "data_daily.head(4)\n",
    "\n",
    "# задаём маски\n",
    "mask_date = data_daily['date'] == '2021-01-03'\n",
    "mask_grp_A = data_daily['group'] == 'A'\n",
    "mask_grp_B = data_daily['group'] == 'B'\n",
    "\n",
    "# ответы на вопросы\n",
    "print(f'Конверсия на 03-01-2021 в группе A: ' \\\n",
    "    f\"{data_daily[mask_date].loc[mask_grp_A]['conversion'].values[0].__round__(2)}%\")\n",
    "\n",
    "print(f'Конверсия на 03-01-2021 в группе B: ' \\\n",
    "    f\"{data_daily[mask_date].loc[mask_grp_B]['conversion'].values[0].__round__(2)}%\")\n",
    "\n",
    "print(f'Средний чек на 03-01-2021 в группе A: ' \\\n",
    "    f\"{data_daily[mask_date].loc[mask_grp_A]['mean_check'].values[0].__round__()} руб.\")\n",
    "\n",
    "print(f'Средний чек на 03-01-2021 в группе B: ' \\\n",
    "    f\"{data_daily[mask_date].loc[mask_grp_B]['mean_check'].values[0].__round__()} руб.\")"
   ]
  },
  {
   "attachments": {},
   "cell_type": "markdown",
   "id": "c7ea0d7c",
   "metadata": {},
   "source": [
    "### **Выводы 7.8:**\n",
    "\n",
    "* Конверсия, примерно, идентична в обеих группах;\n",
    "* Заметна <font color='LightSeaGreen'>**сильная разница в среднем чеке - заметно больше в группе B**</font>, более, чем на 5% (~ 5,29%)."
   ]
  },
  {
   "attachments": {},
   "cell_type": "markdown",
   "id": "6dad2337",
   "metadata": {},
   "source": [
    "---"
   ]
  },
  {
   "cell_type": "markdown",
   "id": "bc8e241b-1ef1-4f67-ab90-77251889b7f2",
   "metadata": {},
   "source": [
    "## **Задание 7.9.** \n",
    "\n",
    "Добавьте в таблицу с ежедневными показателями кумулятивные признаки:\n",
    "* кумулятивное количество посещений страницы\n",
    "* кумулятивное количество покупок\n",
    "* кумулятивную сумму покупок\n",
    "\n",
    "Не забудьте при расчете кумулятивной суммы сгруппировать данные по группам. \n",
    "\n",
    "Вычислите кумулятивную конверсию и кумулятивный средний чек на основе полученных кумулятивных показателей. \n",
    "\n",
    "* Какая **кумулятивная** конверсия была в группе B на 20 января? Ответ приведите в процентах, округлив до сотых.\n",
    "* Какой **кумулятивный** средний чек был в группе А на 12 января 2021 года? Ответ приведите в рублях, округлив до целых."
   ]
  },
  {
   "cell_type": "code",
   "execution_count": 16,
   "id": "afe59f9a-8d39-45c1-a14f-9f62091d81a1",
   "metadata": {},
   "outputs": [
    {
     "data": {
      "text/html": [
       "<div>\n",
       "<style scoped>\n",
       "    .dataframe tbody tr th:only-of-type {\n",
       "        vertical-align: middle;\n",
       "    }\n",
       "\n",
       "    .dataframe tbody tr th {\n",
       "        vertical-align: top;\n",
       "    }\n",
       "\n",
       "    .dataframe thead th {\n",
       "        text-align: right;\n",
       "    }\n",
       "</style>\n",
       "<table border=\"1\" class=\"dataframe\">\n",
       "  <thead>\n",
       "    <tr style=\"text-align: right;\">\n",
       "      <th></th>\n",
       "      <th>date</th>\n",
       "      <th>group</th>\n",
       "      <th>count_visits</th>\n",
       "      <th>sum_purchases</th>\n",
       "      <th>sum_price</th>\n",
       "      <th>conversion</th>\n",
       "      <th>mean_check</th>\n",
       "      <th>cum_visits</th>\n",
       "      <th>cum_purchases</th>\n",
       "      <th>cum_price</th>\n",
       "      <th>cum_conversion</th>\n",
       "      <th>cum_mean_check</th>\n",
       "    </tr>\n",
       "  </thead>\n",
       "  <tbody>\n",
       "    <tr>\n",
       "      <th>0</th>\n",
       "      <td>2021-01-02</td>\n",
       "      <td>A</td>\n",
       "      <td>2854</td>\n",
       "      <td>359</td>\n",
       "      <td>29410000</td>\n",
       "      <td>12.578837</td>\n",
       "      <td>81922.005571</td>\n",
       "      <td>2854</td>\n",
       "      <td>359</td>\n",
       "      <td>29410000</td>\n",
       "      <td>12.578837</td>\n",
       "      <td>81922.005571</td>\n",
       "    </tr>\n",
       "    <tr>\n",
       "      <th>1</th>\n",
       "      <td>2021-01-02</td>\n",
       "      <td>B</td>\n",
       "      <td>2861</td>\n",
       "      <td>345</td>\n",
       "      <td>29660000</td>\n",
       "      <td>12.058721</td>\n",
       "      <td>85971.014493</td>\n",
       "      <td>2861</td>\n",
       "      <td>345</td>\n",
       "      <td>29660000</td>\n",
       "      <td>12.058721</td>\n",
       "      <td>85971.014493</td>\n",
       "    </tr>\n",
       "    <tr>\n",
       "      <th>2</th>\n",
       "      <td>2021-01-03</td>\n",
       "      <td>A</td>\n",
       "      <td>6596</td>\n",
       "      <td>748</td>\n",
       "      <td>62000000</td>\n",
       "      <td>11.340206</td>\n",
       "      <td>82887.700535</td>\n",
       "      <td>9450</td>\n",
       "      <td>1107</td>\n",
       "      <td>91410000</td>\n",
       "      <td>11.714286</td>\n",
       "      <td>82574.525745</td>\n",
       "    </tr>\n",
       "    <tr>\n",
       "      <th>3</th>\n",
       "      <td>2021-01-03</td>\n",
       "      <td>B</td>\n",
       "      <td>6619</td>\n",
       "      <td>754</td>\n",
       "      <td>65960000</td>\n",
       "      <td>11.391449</td>\n",
       "      <td>87480.106101</td>\n",
       "      <td>9480</td>\n",
       "      <td>1099</td>\n",
       "      <td>95620000</td>\n",
       "      <td>11.592827</td>\n",
       "      <td>87006.369427</td>\n",
       "    </tr>\n",
       "  </tbody>\n",
       "</table>\n",
       "</div>"
      ],
      "text/plain": [
       "        date group  count_visits  sum_purchases  sum_price  conversion  \\\n",
       "0 2021-01-02     A          2854            359   29410000   12.578837   \n",
       "1 2021-01-02     B          2861            345   29660000   12.058721   \n",
       "2 2021-01-03     A          6596            748   62000000   11.340206   \n",
       "3 2021-01-03     B          6619            754   65960000   11.391449   \n",
       "\n",
       "     mean_check  cum_visits  cum_purchases  cum_price  cum_conversion  \\\n",
       "0  81922.005571        2854            359   29410000       12.578837   \n",
       "1  85971.014493        2861            345   29660000       12.058721   \n",
       "2  82887.700535        9450           1107   91410000       11.714286   \n",
       "3  87480.106101        9480           1099   95620000       11.592827   \n",
       "\n",
       "   cum_mean_check  \n",
       "0    81922.005571  \n",
       "1    85971.014493  \n",
       "2    82574.525745  \n",
       "3    87006.369427  "
      ]
     },
     "execution_count": 16,
     "metadata": {},
     "output_type": "execute_result"
    },
    {
     "name": "stdout",
     "output_type": "stream",
     "text": [
      "Кумулятивная конверсия на 20-01-2021 в группе B: 11.9%\n",
      "Кумулятивный средний чек на 12-01-2021 в группе A: 81492 руб.\n"
     ]
    }
   ],
   "source": [
    "# формируем кумулятивные признаки\n",
    "data_daily['cum_visits'] = data_daily.groupby(['group'])['count_visits'].cumsum()\n",
    "data_daily['cum_purchases'] = data_daily.groupby(['group'])['sum_purchases'].cumsum()\n",
    "data_daily['cum_price'] = data_daily.groupby(['group'])['sum_price'].cumsum()\n",
    "\n",
    "# формируем кумулятивную конверсию и кумулятивный средний чек\n",
    "data_daily['cum_conversion'] = data_daily['cum_purchases'] / data_daily['cum_visits'] * 100\n",
    "data_daily['cum_mean_check'] = data_daily['cum_price'] / data_daily['cum_purchases']\n",
    "\n",
    "# проверка данных\n",
    "data_daily.head(4)\n",
    "\n",
    "# задаём маски\n",
    "mask_B_date = data_daily['date'] == '2021-01-20'\n",
    "mask_A_date = data_daily['date'] == '2021-01-12'\n",
    "\n",
    "# ответы на вопросы\n",
    "print(f'Кумулятивная конверсия на 20-01-2021 в группе B: ' \\\n",
    "    f\"{data_daily[mask_B_date]['cum_conversion'].values[1].__round__(2)}%\"\n",
    ")\n",
    "print(f'Кумулятивный средний чек на 12-01-2021 в группе A: ' \\\n",
    "    f\"{data_daily[mask_A_date]['cum_mean_check'].values[0].__round__()} руб.\"\n",
    ")"
   ]
  },
  {
   "attachments": {},
   "cell_type": "markdown",
   "id": "c252b8ba-371b-4795-8fc3-a62317e9ba39",
   "metadata": {},
   "source": [
    "Постройте кумулятивные графики конверсии и среднего чека в каждой группе по дням. Сделайте выводы. Можно ли назвать A/B-тест завершенным - стабилизировались ли значения метрик во времени? Как соотносятся кумулятивные показатели в каждой группе?"
   ]
  },
  {
   "cell_type": "code",
   "execution_count": 17,
   "id": "27e23d20-7ed6-4a26-973d-6d0320b81adb",
   "metadata": {},
   "outputs": [
    {
     "data": {
      "image/png": "[encoded data removed]",
      "text/plain": [
       "<Figure size 1200x800 with 2 Axes>"
      ]
     },
     "metadata": {},
     "output_type": "display_data"
    }
   ],
   "source": [
    "# задаём полотно\n",
    "fig, ax = plt.subplots(nrows=2, ncols=1, figsize=(12, 8), sharex='row')\n",
    "\n",
    "# строим графики\n",
    "sns.lineplot(\n",
    "    data=data_daily,\n",
    "    x='date',\n",
    "    y='cum_conversion',\n",
    "    hue='group',\n",
    "    ax=ax[0],\n",
    "    palette='bright'\n",
    ")\n",
    "sns.lineplot(\n",
    "    data=data_daily,\n",
    "    x='date',\n",
    "    y='cum_mean_check',\n",
    "    hue='group',\n",
    "    ax=ax[1],\n",
    "    palette='bright'\n",
    ")\n",
    "\n",
    "# меняем подписи осей, заголовок графика, легенду\n",
    "ax[0].legend(title='Группа')\n",
    "ax[0].set(xticklabels=[], xlabel='', ylabel='Кумулятивная конверсия', title='График кумулятивной конверсии, %')\n",
    "ax[0].grid(True)\n",
    "\n",
    "ax[1].legend(title='Группа', loc='center right')\n",
    "ax[1].set(xlabel='Дата', ylabel='Кумулятивный средний чек' , title='График кумулятивного среднего чека, руб.')\n",
    "ax[1].grid(True);\n",
    "ax[1].xaxis.set_tick_params(rotation=45);"
   ]
  },
  {
   "attachments": {},
   "cell_type": "markdown",
   "id": "5f5e7f96",
   "metadata": {},
   "source": [
    "### **Выводы 7.9:**\n",
    "\n",
    "* <font color='Tomato'>***Считать тест А/В завершённым нельзя, потому что ещё не проведён анализ результатов с помощью статистических тестов***</font> и поэтому принимать окончательное решение преждевременно;\n",
    "* Можно сделать вывод о том что, кумулятивные метрики \"успокоились\" после 13-01-2021, так как \"сходят на нет\" резкие пики и спады показателей, линия постепенно выравнивается, незначительно отклоняясь от некоторой средней, <font color='LightSeaGreen'>***наблюдается стабилизация данных метрик, что позволяет признать длительность теста достаточной***</font>;\n",
    "* **Визуализация значений кумулятивных значений подтверждают выводы**, сделанные ранее в предыдущих заданиях - <font color='LightSeaGreen'>**изменение сайта ухудшит коверсию, но существенно повысит средний чек**</font>."
   ]
  },
  {
   "cell_type": "markdown",
   "id": "f80f1546",
   "metadata": {},
   "source": [
    "---"
   ]
  },
  {
   "cell_type": "markdown",
   "id": "2ecaa382-56e2-47f4-b086-24b4742570a3",
   "metadata": {
    "tags": []
   },
   "source": [
    "## **Задание 7.10.**\n",
    "\n",
    "Настало время переходить к проверке статистической значимости разницы между метриками в группах. Начнем с конверсии.\n",
    "\n",
    "Какой тест вы примените для проверки гипотезы о равенстве конверсий в группах?\n",
    "\n",
    "Проведите тестирование при следующих нулевой и альтернативной гипотезе:\n",
    "* $H_0$: Конверсии в группах А и B равны; \n",
    "* $H_1$: Конверсия в группе А больше чем конверсия в группе B;\n",
    "\n",
    "Вычислите p-value вашего теста для конверсий в группах А и B. Сравните полученное значение p-value с уровнем значимости $\\alpha$=0.05. "
   ]
  },
  {
   "cell_type": "code",
   "execution_count": 18,
   "id": "9dd1f6fd-2fa0-4a2f-8181-dbed4c302bce",
   "metadata": {},
   "outputs": [
    {
     "data": {
      "text/html": [
       "<div>\n",
       "<style scoped>\n",
       "    .dataframe tbody tr th:only-of-type {\n",
       "        vertical-align: middle;\n",
       "    }\n",
       "\n",
       "    .dataframe tbody tr th {\n",
       "        vertical-align: top;\n",
       "    }\n",
       "\n",
       "    .dataframe thead th {\n",
       "        text-align: right;\n",
       "    }\n",
       "</style>\n",
       "<table border=\"1\" class=\"dataframe\">\n",
       "  <thead>\n",
       "    <tr style=\"text-align: right;\">\n",
       "      <th></th>\n",
       "      <th>sum</th>\n",
       "      <th>count</th>\n",
       "    </tr>\n",
       "    <tr>\n",
       "      <th>group</th>\n",
       "      <th></th>\n",
       "      <th></th>\n",
       "    </tr>\n",
       "  </thead>\n",
       "  <tbody>\n",
       "    <tr>\n",
       "      <th>A</th>\n",
       "      <td>17487</td>\n",
       "      <td>145307</td>\n",
       "    </tr>\n",
       "    <tr>\n",
       "      <th>B</th>\n",
       "      <td>17290</td>\n",
       "      <td>145381</td>\n",
       "    </tr>\n",
       "  </tbody>\n",
       "</table>\n",
       "</div>"
      ],
      "text/plain": [
       "         sum   count\n",
       "group               \n",
       "A      17487  145307\n",
       "B      17290  145381"
      ]
     },
     "execution_count": 18,
     "metadata": {},
     "output_type": "execute_result"
    },
    {
     "name": "stdout",
     "output_type": "stream",
     "text": [
      "P-value: 0.12\n",
      "Принимаем нулевую гипотезу: Конверсии в группах А и B равны\n"
     ]
    }
   ],
   "source": [
    "# формирование датафрейма\n",
    "conversion_piv= data.groupby('group')['purchase'].agg(\n",
    "    ['sum', 'count']\n",
    ")\n",
    "\n",
    "# проверка данных\n",
    "conversion_piv\n",
    "\n",
    "# нулевая и альтернативная гипотезы\n",
    "H0 = 'Конверсии в группах А и B равны'\n",
    "H1 = 'Конверсия в группе А выше, чем конверсия в группе B'\n",
    "\n",
    "# уровень значимости\n",
    "alpha = 0.05\n",
    "\n",
    "# вычисляем значение P-value для z-теста для пропорций\n",
    "p_value = stsmdls.proportions_ztest(\n",
    "    count=conversion_piv['sum'],  # число \"успехов\"\n",
    "    nobs=conversion_piv['count'], # общее число наблюдений\n",
    "    alternative='larger',\n",
    ")[1]\n",
    "\n",
    "# выводим результат на экран\n",
    "print('P-value:', round(p_value, 2))\n",
    "\n",
    "# сравниваем полученное P-value с уровнем значимости\n",
    "if (p_value < alpha):\n",
    "    print(f\"Отвергаем нулевую гипотезу: {H0}\")\n",
    "    print(f\"Альтернативная гипотеза. H1: {H1}\")\n",
    "else:\n",
    "    print(f\"Принимаем нулевую гипотезу: {H0}\")"
   ]
  },
  {
   "cell_type": "markdown",
   "id": "da794b48-80e3-47af-aceb-084a1862c86b",
   "metadata": {},
   "source": [
    "Приведите свои выводы по результатам проведенного статистического теста. Есть ли статистическая разница между конверсиями в группах А и B?"
   ]
  },
  {
   "attachments": {},
   "cell_type": "markdown",
   "id": "3a2b5bcd",
   "metadata": {},
   "source": [
    "### **Выводы 7.10:**\n",
    "\n",
    "Для опеределения **статистической разницы был применён z-тест (метод proportions_ztest())**:\n",
    "* сравниваются конверсии (пропорции) по двум выборкам,\n",
    "* число наблюдений достаточно велико.\n",
    "\n",
    "<font color='LightSeaGreen'>**P-value превысил уровень значимости**</font>, следовательно, мы не можем отвергнуть нулевую гипотезу, а, это значит, что <font color='Tomato'>***статистическая разница между конверсиями в группе А и в группе В не обнаружена / отсутствует***</font>."
   ]
  },
  {
   "cell_type": "markdown",
   "id": "306a714c",
   "metadata": {},
   "source": [
    "---"
   ]
  },
  {
   "cell_type": "markdown",
   "id": "32c5a1af-8cb2-4f3c-a126-410b70fb3ff3",
   "metadata": {
    "tags": []
   },
   "source": [
    "## **Задание 7.11.**\n",
    "Убедитесь в своих рассуждениях, построив 95%-ый доверительный интервал для конверсий и разницы между ними. Используйте $z_{крит}$ в своих расчетах\n",
    "\n",
    "Укажите нижнюю и верхнюю границы доверительных интервалов. Границы приведите в процентах и округлите до 2 знака после запятой. Например: нижняя граница 89.24%, верхняя граница 91.25%."
   ]
  },
  {
   "cell_type": "code",
   "execution_count": 19,
   "id": "e9decb7d-ff5e-40a6-8b71-63627c4ef64a",
   "metadata": {},
   "outputs": [],
   "source": [
    "# фильтруем данные группы А\n",
    "a_data = data[data['group'] == 'A'].copy()\n",
    "\n",
    "# фильтруем данные группы B\n",
    "b_data = data[data['group'] == 'B'].copy()"
   ]
  },
  {
   "cell_type": "code",
   "execution_count": 20,
   "id": "a32bf74e",
   "metadata": {},
   "outputs": [],
   "source": [
    "def proportions_conf_interval(n, X_p, gamma=0.95):\n",
    "    \"\"\" Рассчитывает двусторонний доверительный интервал конверсии в группе\n",
    "\n",
    "    Args:\n",
    "        n (int): размер выборки\n",
    "        X_p (float): средняя конверсия в выборке / выборочная пропорция\n",
    "        gamma (float, optional): уровень надёжности. Defaults to 0.95.\n",
    "\n",
    "    Returns:\n",
    "        (tuple): кортеж из нижней и верхней границ двустороннего доверительного интервала в процентах с огруглением до сотых\n",
    "    \"\"\"\n",
    "    # уровень значимости\n",
    "    alpha = 1 - gamma\n",
    "\n",
    "    # z-критическое\n",
    "    z_crit = -stats.norm.ppf(alpha / 2)\n",
    "\n",
    "    # погрешность\n",
    "    eps = z_crit * (X_p * (1 - X_p) / n) ** 0.5\n",
    "\n",
    "    # левая (нижняя) граница\n",
    "    lower_bound = X_p - eps\n",
    "\n",
    "    # правая (верхняя) граница\n",
    "    upper_bound = X_p + eps\n",
    "\n",
    "    # возвращаем кортеж из округлённых границ интервала\n",
    "    return round(lower_bound * 100, 2), round(upper_bound * 100, 2)"
   ]
  },
  {
   "cell_type": "code",
   "execution_count": 21,
   "id": "2c3aec34",
   "metadata": {},
   "outputs": [],
   "source": [
    "def diff_proportions_conf_interval(n, X_p, gamma=0.95):\n",
    "    \"\"\" Рассчитывает доверительный интервал разницы конверсии между группами\n",
    "\n",
    "    Args:\n",
    "        n (list): список размеров выборок по группам A и B, соответственно\n",
    "        X_p (_type_): список из средних конверсий (выборочных пропорций) в выборках групп A и B, соответственно\n",
    "        gamma (float, optional): уровень надёжности. Defaults to 0.95.\n",
    "\n",
    "    Returns:\n",
    "        (tuple): кортеж из нижней и верхней границ доверительного интервала разницы конверсий, умноженных на 100% и с огруглением до сотых\n",
    "    \"\"\"\n",
    "    # уровень значимости\n",
    "    alpha = 1 - gamma\n",
    "\n",
    "    # выборочная разница конверсий групп B и A\n",
    "    diff = X_p[1] - X_p[0]\n",
    "\n",
    "    # z-критическое\n",
    "    z_crit = -stats.norm.ppf(alpha / 2)\n",
    "\n",
    "    # погрешность\n",
    "    eps = z_crit * (X_p[0] * (1 - X_p[0]) / n[0] + X_p[1] * (1 - X_p[1]) / n[1]) ** 0.5\n",
    "\n",
    "    # левая (нижняя) граница\n",
    "    lower_bound = diff - eps\n",
    "\n",
    "    # правая (верхняя) граница\n",
    "    upper_bound = diff + eps\n",
    "\n",
    "    # возвращаем кортеж из округлённых границ интервала\n",
    "    return round(lower_bound *100, 2), round(upper_bound * 100, 2)"
   ]
  },
  {
   "cell_type": "code",
   "execution_count": 22,
   "id": "24e01238",
   "metadata": {},
   "outputs": [
    {
     "name": "stdout",
     "output_type": "stream",
     "text": [
      "Доверительный интервал для конверсии группы А: (11.87, 12.2)\n",
      "Доверительный интервал для конверсии группы B: (11.73, 12.06)\n"
     ]
    }
   ],
   "source": [
    "# расчёт двусторонних доверительных интервалов конверсии по группам\n",
    "conf_interval_a = proportions_conf_interval(\n",
    "    n=a_data['user_id'].count(),    # размер выборки\n",
    "    X_p=a_data['purchase'].mean()   # выборочная пропорция\n",
    ")\n",
    "conf_interval_b = proportions_conf_interval(\n",
    "    n=b_data['user_id'].count(),    # размер выборки\n",
    "    X_p=b_data['purchase'].mean()   # выборочная пропорция\n",
    ")\n",
    "\n",
    "print(f'Доверительный интервал для конверсии группы А: {conf_interval_a}')\n",
    "print(f'Доверительный интервал для конверсии группы B: {conf_interval_b}')"
   ]
  },
  {
   "cell_type": "code",
   "execution_count": 23,
   "id": "b0347c4a",
   "metadata": {},
   "outputs": [
    {
     "name": "stdout",
     "output_type": "stream",
     "text": [
      "Доверительный интервал для разности конверсий: (-0.38, 0.09)\n"
     ]
    }
   ],
   "source": [
    "# расчёт доверительного интервала разницы конверсии между группами\n",
    "\n",
    "# размеры выборок групп А и B\n",
    "n = [a_data['user_id'].count(), b_data['user_id'].count()]\n",
    "\n",
    "# выборочная пропорция групп A и B\n",
    "X_p = [a_data['purchase'].mean(), b_data['purchase'].mean()]\n",
    "\n",
    "# строим доверительный интервал для разности конверсий\n",
    "diff_inverval = diff_proportions_conf_interval(n, X_p)\n",
    "\n",
    "print(f'Доверительный интервал для разности конверсий: {diff_inverval}')"
   ]
  },
  {
   "cell_type": "markdown",
   "id": "9332372d-66b2-45e9-a74c-f5d8b1d44afb",
   "metadata": {},
   "source": [
    "Проинтерпретируйте построенные доверительные интервалы для конверсий в группах. Есть ли перекрытие между доверительными интервалами для групп? Есть ли статистическая разница между конверсиями в группах А и B?"
   ]
  },
  {
   "attachments": {},
   "cell_type": "markdown",
   "id": "cfbf25ab",
   "metadata": {},
   "source": [
    "### **Выводы 7.11:**\n",
    "\n",
    "* Доверительные интервалы конверсий групп А и В значительно пересекаются, это означает достаточно большую вероятность совпадения истинных конверсий каждой из групп;\n",
    "* Границы доверительного интервала разницы конверсий охватывает точку 0. Разница в конверсии с 95%-ой надёжностью может быть как положительной, так и отрицательной.\n",
    "\n",
    "Можно сделать вывод, что <font color='Tomato'>***статистической разницы в конверсии между вариантами А и B не существует***</font>, **то есть, они являются равнозначными по данной метрике**."
   ]
  },
  {
   "cell_type": "markdown",
   "id": "bd6d49c7",
   "metadata": {},
   "source": [
    "---"
   ]
  },
  {
   "cell_type": "markdown",
   "id": "73c54883-b919-4889-bbf2-e1bdeb0b7055",
   "metadata": {},
   "source": [
    "## **Задание 7.12.**\n",
    "\n",
    "Ранее мы построили таблицу с ежедневными показателями. Теперь она нам снова понадобится, так как нас интересует ежедневный средний чек.\n",
    "\n",
    "Проверьте гипотезу о нормальности распределения ежедневного среднего чека в каждой из групп тестирования. \n",
    "\n",
    "* Какой тест вы примените  для проверки гипотезы о нормальности распределения ежедневного среднего чека?\n",
    "* Как будут звучать нулевая и альтернативная гипотезы?\n",
    "* Каковы результаты статистического теста с уровнем значимости $\\alpha$ =0.05?"
   ]
  },
  {
   "cell_type": "code",
   "execution_count": 24,
   "id": "898041ae-de7e-4b74-975e-111d494fbb82",
   "metadata": {},
   "outputs": [],
   "source": [
    "# фильтруем данные группы А\n",
    "daily_a = data_daily[data_daily['group'] == 'A']\n",
    "\n",
    "# фильтруем данные группы B\n",
    "daily_b = data_daily[data_daily['group'] == 'B']"
   ]
  },
  {
   "cell_type": "code",
   "execution_count": 25,
   "id": "b0e83b07",
   "metadata": {},
   "outputs": [
    {
     "name": "stdout",
     "output_type": "stream",
     "text": [
      "P-value группы А: 0.25\n",
      "P-value группы B: 0.09\n",
      "Для группы A: Распределение выборки нормальное\n",
      "Для группы B: Распределение выборки нормальное\n"
     ]
    }
   ],
   "source": [
    "# нулевая и альтернативная гипотезы\n",
    "H0 = 'Распределение выборки нормальное'\n",
    "H1 = 'Распределение выборки отлично от нормального'\n",
    "\n",
    "# уровень значимости\n",
    "alpha = 0.05\n",
    "\n",
    "# вычисляем результат теста Шапиро-Уилка для выборок\n",
    "p_val_shapiro_a = stats.shapiro(daily_a['mean_check'])[1]\n",
    "p_val_shapiro_b = stats.shapiro(daily_b['mean_check'])[1]\n",
    "\n",
    "print(f'P-value группы А: {p_val_shapiro_a.__round__(2)}')\n",
    "print(f'P-value группы B: {p_val_shapiro_b.__round__(2)}')\n",
    "\n",
    "# сравниваем полученное P-value с уровнем значимости\n",
    "if p_val_shapiro_a > alpha:\n",
    "    print(f'Для группы A: {H0}')\n",
    "else:\n",
    "    print(f'Для группы A: {H1}')\n",
    "if p_val_shapiro_b > alpha:\n",
    "    print(f'Для группы B: {H0}')\n",
    "else:\n",
    "    print(f'Для группы B: {H1}')"
   ]
  },
  {
   "attachments": {},
   "cell_type": "markdown",
   "id": "e0cdfac8",
   "metadata": {},
   "source": [
    "### **Выводы 7.12:**\n",
    "\n",
    "* Для определения нормальности распределения данных по средним чекам используем **тест Шапиро-Уилка**;    \n",
    "* <font color='LightSeaGreen'>***Данные в обеих группах распределены нормально***</font>, так как P-value для каждой из выборок больше заданного уровня значимости."
   ]
  },
  {
   "cell_type": "markdown",
   "id": "5cf95c46",
   "metadata": {},
   "source": [
    "---"
   ]
  },
  {
   "cell_type": "markdown",
   "id": "cbddecf9-4d15-4ff1-84e9-46c4d98fc1e0",
   "metadata": {
    "tags": []
   },
   "source": [
    "## **Задание 7.13.**\n",
    "Настало время сравнить варианты дизайна страницы по метрике среднего чека. \n",
    "\n",
    "Какой тест вы примените для проверки гипотезы о равенстве средних чеков по дням в группах?\n",
    "\n",
    "Проведите тестирование при следующих нулевой и альтернативной гипотезе:\n",
    "* $H_0$: Ежедневные средние чеки в группах А и B равны; \n",
    "* $H_1$: Ежедневный средний чек в группе А меньше чем в группе B;\n",
    "\n",
    "Вычислите p-value вашего теста для ежедневного среднего чека в группах А и B. Сравните полученное значение p-value с уровнем значимости $\\alpha$ =0.05. "
   ]
  },
  {
   "cell_type": "code",
   "execution_count": 26,
   "id": "05d43f23-2c2d-4795-bb96-1ffbfe81c391",
   "metadata": {},
   "outputs": [
    {
     "name": "stdout",
     "output_type": "stream",
     "text": [
      "P-value: 0.000000000001126\n",
      "Отвергаем нулевую гипотезу: Ежедневные средние чеки в группах А и B равны\n",
      "Альтернативная гипотеза H1: Ежедневный средний чек в группе А меньше, чем в группе B\n"
     ]
    }
   ],
   "source": [
    "# нулевая и альтернативная гипотезы\n",
    "H0 = 'Ежедневные средние чеки в группах А и B равны'\n",
    "H1 = 'Ежедневный средний чек в группе А меньше, чем в группе B'\n",
    "\n",
    "# уровень значимости\n",
    "alpha = 0.05 \n",
    "\n",
    "# вычисляем результат T-теста для выборок\n",
    "p_val_t_test = stats.ttest_ind(\n",
    "    daily_a['mean_check'],\n",
    "    daily_b['mean_check'],\n",
    "    alternative='less'\n",
    ")[1]\n",
    "\n",
    "print(f'P-value: {p_val_t_test:.15f}')\n",
    "\n",
    "# сравниваем полученное P-value с уровнем значимости\n",
    "if p_val_t_test < alpha:\n",
    "    print(f\"Отвергаем нулевую гипотезу: {H0}\")\n",
    "    print(f\"Альтернативная гипотеза H1: {H1}\")\n",
    "else:\n",
    "    print(f\"Принимаем нулевую гипотезу: {H0}\")"
   ]
  },
  {
   "cell_type": "markdown",
   "id": "8534ab25-68b8-48f7-b2c1-ef1b72d8a767",
   "metadata": {},
   "source": [
    " Приведите свои выводы по проведенному статистическому тесту. Есть ли статистическая разница между ежедневными средними чеками в группах А и B?"
   ]
  },
  {
   "attachments": {},
   "cell_type": "markdown",
   "id": "68369b88",
   "metadata": {},
   "source": [
    "### **Выводы 7.13:**\n",
    "\n",
    "* <font color='LightSeaGreen'>***Между ежедневными средними чеками в группах А и B есть статистически значимая разница***</font>, что следует из графика ранее, стабилизация кумулятивных средних чеков со временем (Задание 7.9);\n",
    "* **Применение T-теста подтвердило альтернативную гипотезу**, ежедневный средний чек в группе **А** меньше, чем в группе **B**. <font color='LightSeaGreen'>**Изменение посадочной страницы официального сайта компании приведёт к росту выручки компании с каждой продажи**</font>."
   ]
  },
  {
   "cell_type": "markdown",
   "id": "5c34aa48",
   "metadata": {},
   "source": [
    "---"
   ]
  },
  {
   "cell_type": "markdown",
   "id": "5e46c9a6-a943-48b4-ad72-935337469613",
   "metadata": {
    "tags": []
   },
   "source": [
    "## **Задание 7.14.**\n",
    "\n",
    "Постройте 95%-ый доверительный интервал для среднего чека в каждой группе. Так как выборка средних чеков небольшая, используйте  $t_{крит}$ в своих расчетах.\n",
    "\n",
    "Укажите нижнюю границу доверительного интервала для истинного среднего чека каждой из групп. Ответ приведите в процентах и округлите до целого."
   ]
  },
  {
   "cell_type": "code",
   "execution_count": 27,
   "id": "480430db-ffae-4aad-8e22-f5c70d4800b8",
   "metadata": {},
   "outputs": [
    {
     "name": "stdout",
     "output_type": "stream",
     "text": [
      "Доверительный интервал среднего чека в группе А: (79630, 82308)\n",
      "Доверительный интервал среднего чека в группе B: (87626, 89526)\n"
     ]
    }
   ],
   "source": [
    "def t_crit_conf_interval(n, X_mean, X_std, gamma=0.95):\n",
    "    \"\"\" Рассчитывает доверительный интервал при выборочном стандартном отклонении\n",
    "\n",
    "    Args:\n",
    "        n (int): размер выборки\n",
    "        X_mean (float): выборочное среднее\n",
    "        X_std (float): выборочное стандартное отклонение\n",
    "        gamma (float, optional): уровень надёжности. Defaults to 0.95.\n",
    "\n",
    "    Returns:\n",
    "        _type_: кортеж из нижней и верхней границ доверительного интервала с огруглением до целого\n",
    "    \"\"\"\n",
    "    # уровень значимости\n",
    "    alpha = 1 - gamma\n",
    "\n",
    "    # число степеней свободы\n",
    "    k = n - 1\n",
    "\n",
    "    # t-критическое\n",
    "    t_crit = -stats.t.ppf(alpha / 2, k)\n",
    "\n",
    "    # погрешность\n",
    "    eps = t_crit * X_std / (n ** 0.5)\n",
    "\n",
    "    # левая (нижняя) граница\n",
    "    lower_bound = X_mean - eps\n",
    "\n",
    "    # правая (верхняя) граница\n",
    "    upper_bound = X_mean + eps\n",
    "\n",
    "    # возвращаем кортеж из округлённых границ интервала\n",
    "    return (round(lower_bound), round(upper_bound))\n",
    "\n",
    "# размер выборки\n",
    "n_a = daily_a['mean_check'].count()  \n",
    "n_b = daily_b['mean_check'].count()\n",
    "\n",
    "# выборочное среднее\n",
    "mean_a = daily_a['mean_check'].mean()\n",
    "mean_b = daily_b['mean_check'].mean()\n",
    "\n",
    "# выборочное стандартное отклонение\n",
    "std_a = daily_a['mean_check'].std()\n",
    "std_b = daily_b['mean_check'].std()\n",
    "\n",
    "print(f'Доверительный интервал среднего чека в группе А: {t_crit_conf_interval(n_a, mean_a, std_a)}')\n",
    "print(f'Доверительный интервал среднего чека в группе B: {t_crit_conf_interval(n_b, mean_b, std_b)}')"
   ]
  },
  {
   "cell_type": "markdown",
   "id": "74a78db8-48f7-41d2-94cb-faefb30b8f76",
   "metadata": {},
   "source": [
    "Проинтерпретируйте построенные доверительные интервалы для ежедневных средних чеков в группах. Есть ли между ними пересечения?"
   ]
  },
  {
   "attachments": {},
   "cell_type": "markdown",
   "id": "6312fb52",
   "metadata": {},
   "source": [
    "### **Выводы 7.14:**\n",
    "\n",
    "* Интервал для среднего чека группы А лежит в диапазоне (79630, 82308);\n",
    "* Интервал для среднего чека группы B лежит в диапазоне (87626, 89526).\n",
    "\n",
    "**Доверительные интервалы средних чеков в группах не пересекаются**, то есть <font color='LightSeaGreen'>***с 95%-ной вероятностью можно сказать, что истинный средний чек группы В больше аналогичной метрики группы А***</font>, что подтверждает результат, ранее полученный при помощи статистического теста."
   ]
  },
  {
   "cell_type": "markdown",
   "id": "d958cd74",
   "metadata": {},
   "source": [
    "---"
   ]
  },
  {
   "cell_type": "markdown",
   "id": "c078852f-892f-42ed-8d78-73edf8eb1f5e",
   "metadata": {
    "tags": []
   },
   "source": [
    "## **Сделайте общий вывод по результатам A/B-теста**\n",
    "\n",
    "Какой варианта дизайна посадочной страницы является более эффективным в комплексе по метрикам конверсии и среднего чека и почему? "
   ]
  },
  {
   "attachments": {},
   "cell_type": "markdown",
   "id": "f58594c2",
   "metadata": {},
   "source": [
    "Исходя из результатов статистического анализа: \n",
    "* А/В-тест можно назвать завершенным, так как кумулятивные метрики визуально стабилизируются со временем, следовательно, удовлетворяют принципам проведения А/В тестирования;\n",
    "* Группы А и В практически равнозначны по метрике конверсии, можно сказать, что разницы нет;\n",
    "* Группа В, однозначно, лучше группы А по метрике среднего чека;\n",
    "\n",
    "**<font color='LightSeaGreen'>Дизайн страницы официального сайта компании в варианте В лучше</font> в комплексной оценке метрик - конверсии и среднего чека. С точки зрения эффективности прибыльности, вариант посадочной страницы В является более эффективным по выручке компании, приходящейся на одного покупателя (средний чек).**"
   ]
  }
 ],
 "metadata": {
  "kernelspec": {
   "display_name": "Python 3",
   "language": "python",
   "name": "python3"
  },
  "language_info": {
   "codemirror_mode": {
    "name": "ipython",
    "version": 3
   },
   "file_extension": ".py",
   "mimetype": "text/x-python",
   "name": "python",
   "nbconvert_exporter": "python",
   "pygments_lexer": "ipython3",
   "version": "3.10.10"
  },
  "vscode": {
   "interpreter": {
    "hash": "7b02cfcd8fef71610b44bd5f27af7343a9a16576c901d976aa2b0be0e7f076cc"
   }
  }
 },
 "nbformat": 4,
 "nbformat_minor": 5
}
