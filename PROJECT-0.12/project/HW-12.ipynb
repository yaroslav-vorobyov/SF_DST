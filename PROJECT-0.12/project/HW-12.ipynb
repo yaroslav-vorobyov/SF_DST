{
  "cells": [
    {
      "cell_type": "code",
      "execution_count": 21,
      "id": "88a8b95d",
      "metadata": {},
      "outputs": [],
      "source": [
        "import os, sys, re\n",
        "import pandas as pd\n",
        "import numpy as np\n",
        "import matplotlib\n",
        "import matplotlib.pyplot as plt\n",
        "import seaborn as sns\n",
        "\n",
        "# установка стиля matplotlib\n",
        "%matplotlib inline\n",
        "# plt.style.use('ggplot')\n",
        "\n",
        "# доступные стили отображения графика в matplotlib\n",
        "# plt.style.available\n",
        "\n",
        "# библиотека для расчетов метрик\n",
        "# from scipy import stats\n",
        "from sklearn import metrics\n",
        "\n",
        "# библиотека для нормализации, стандартизации\n",
        "# from sklearn import preprocessing\n",
        "\n",
        "# библиотека модели кластеризации\n",
        "# from sklearn import cluster\n",
        "\n",
        "# библиотека для разделения датасета\n",
        "from sklearn import model_selection\n",
        "\n",
        "# библиотека для исключения признаков RFE\n",
        "# from sklearn import feature_selection\n",
        "\n",
        "# библиотека для кодирования признаков\n",
        "# import category_encoders as ce\n",
        "\n",
        "# для обработки timestamp в формате utc\n",
        "import datetime, time\n",
        "\n",
        "# работа с json\n",
        "# import json\n",
        "from pprint import pprint\n",
        "\n",
        "# выводить все результаты вычислений в ячейках Code\n",
        "from IPython.core.interactiveshell import InteractiveShell\n",
        "InteractiveShell.ast_node_interactivity = \"all\"\n",
        "\n",
        "# подключить Latex\n",
        "from IPython.display import Latex\n",
        "\n",
        "# логгирование / логирование\n",
        "import logging\n",
        "\n",
        "# скрытие сообщений об ошибках при обработке ответов\n",
        "import warnings\n",
        "# игнорируем предупреждения\n",
        "warnings.filterwarnings('ignore')\n",
        "\n",
        "# библиотека для передачи функции обратного вызова\n",
        "# from functools import partial\n",
        "\n",
        "# библиотека поиска гиперпараметров hyperopt\n",
        "# import hyperopt\n",
        "# from hyperopt import hp, fmin, tpe, Trials\n",
        "\n",
        "# библиотека поиска гиперпараметров optuna\n",
        "import optuna\n",
        "from optuna import Trial, study, samplers\n",
        "\n",
        "# библиотека байесовских алгоритмов\n",
        "from sklearn import naive_bayes\n",
        "\n",
        "# изменить формат вывода pandas\n",
        "# pd.set_option('display.float_format', lambda x: '%.2f' % x)\n",
        "# pd.set_option('display.max_info_rows', 500)\n",
        "# pd.set_option('display.max_info_columns', 500)\n",
        "# pd.set_option('display.width', 1000)\n",
        "# pd.set_option('display.large_repr', 'truncate')\n",
        "# pd.set_option('display.max_columns', 40)"
      ]
    },
    {
      "cell_type": "code",
      "execution_count": 22,
      "id": "41438080",
      "metadata": {},
      "outputs": [],
      "source": [
        "# КОНСТАНТЫ\n",
        "SRC_SUBFOLDER = './.'\n",
        "\n",
        "# формируем относительный системный путь для импорта файлов с функциями\n",
        "# если SRC_SUBFOLDER = './.' + './', получим относительный путь './../'\n",
        "sys.path.append(os.path.relpath(SRC_SUBFOLDER + './'))\n",
        "\n",
        "# импортируем константы\n",
        "from src.constants import *"
      ]
    },
    {
      "cell_type": "markdown",
      "id": "00009cca",
      "metadata": {
        "id": "00009cca"
      },
      "source": [
        "# Классификация текстов с использованием Наивного Байесовского Классификатора"
      ]
    },
    {
      "cell_type": "markdown",
      "id": "a52414b8",
      "metadata": {
        "id": "a52414b8"
      },
      "source": [
        "## Задание 1 (1 балл)"
      ]
    },
    {
      "cell_type": "markdown",
      "id": "f5f27b43",
      "metadata": {
        "id": "f5f27b43"
      },
      "source": [
        "Откройте данные. Узнайте, сколько в них спам- и не спам-писем. Визуализируйте полученные соотношение подходящим образом."
      ]
    },
    {
      "cell_type": "code",
      "execution_count": 23,
      "id": "ac369274",
      "metadata": {
        "id": "ac369274"
      },
      "outputs": [
        {
          "name": "stdout",
          "output_type": "stream",
          "text": [
            "<class 'pandas.core.frame.DataFrame'>\n",
            "RangeIndex: 3000 entries, 0 to 2999\n",
            "Data columns (total 2 columns):\n",
            " #   Column  Non-Null Count  Dtype \n",
            "---  ------  --------------  ----- \n",
            " 0   email   2999 non-null   object\n",
            " 1   label   3000 non-null   int8  \n",
            "dtypes: int8(1), object(1)\n",
            "memory usage: 26.5+ KB\n"
          ]
        },
        {
          "data": {
            "text/html": [
              "<div>\n",
              "<style scoped>\n",
              "    .dataframe tbody tr th:only-of-type {\n",
              "        vertical-align: middle;\n",
              "    }\n",
              "\n",
              "    .dataframe tbody tr th {\n",
              "        vertical-align: top;\n",
              "    }\n",
              "\n",
              "    .dataframe thead th {\n",
              "        text-align: right;\n",
              "    }\n",
              "</style>\n",
              "<table border=\"1\" class=\"dataframe\">\n",
              "  <thead>\n",
              "    <tr style=\"text-align: right;\">\n",
              "      <th></th>\n",
              "      <th>email</th>\n",
              "      <th>label</th>\n",
              "    </tr>\n",
              "  </thead>\n",
              "  <tbody>\n",
              "    <tr>\n",
              "      <th>0</th>\n",
              "      <td>date wed NUMBER aug NUMBER NUMBER NUMBER NUMB...</td>\n",
              "      <td>0</td>\n",
              "    </tr>\n",
              "    <tr>\n",
              "      <th>1</th>\n",
              "      <td>martin a posted tassos papadopoulos the greek ...</td>\n",
              "      <td>0</td>\n",
              "    </tr>\n",
              "    <tr>\n",
              "      <th>2</th>\n",
              "      <td>man threatens explosion in moscow thursday aug...</td>\n",
              "      <td>0</td>\n",
              "    </tr>\n",
              "    <tr>\n",
              "      <th>3</th>\n",
              "      <td>klez the virus that won t die already the most...</td>\n",
              "      <td>0</td>\n",
              "    </tr>\n",
              "    <tr>\n",
              "      <th>4</th>\n",
              "      <td>in adding cream to spaghetti carbonara which ...</td>\n",
              "      <td>0</td>\n",
              "    </tr>\n",
              "  </tbody>\n",
              "</table>\n",
              "</div>"
            ],
            "text/plain": [
              "                                               email  label\n",
              "0   date wed NUMBER aug NUMBER NUMBER NUMBER NUMB...      0\n",
              "1  martin a posted tassos papadopoulos the greek ...      0\n",
              "2  man threatens explosion in moscow thursday aug...      0\n",
              "3  klez the virus that won t die already the most...      0\n",
              "4   in adding cream to spaghetti carbonara which ...      0"
            ]
          },
          "execution_count": 23,
          "metadata": {},
          "output_type": "execute_result"
        }
      ],
      "source": [
        "# считываем данные\n",
        "data = pd.read_csv(DATA_SUBFOLDER + './data/spam_or_not_spam.csv')\n",
        "data['label'] = data['label'].astype('int8')\n",
        "\n",
        "# выводим результат\n",
        "data.info()\n",
        "data.head()"
      ]
    },
    {
      "cell_type": "code",
      "execution_count": 24,
      "id": "f4231781",
      "metadata": {
        "id": "f4231781"
      },
      "outputs": [
        {
          "data": {
            "text/plain": [
              "label\n",
              "0    2500\n",
              "1     500\n",
              "Name: count, dtype: int64"
            ]
          },
          "execution_count": 24,
          "metadata": {},
          "output_type": "execute_result"
        },
        {
          "data": {
            "text/plain": [
              "label\n",
              "0    83.33\n",
              "1    16.67\n",
              "Name: proportion, dtype: float64"
            ]
          },
          "execution_count": 24,
          "metadata": {},
          "output_type": "execute_result"
        }
      ],
      "source": [
        "# смотрим распределение классов\n",
        "data['label'].value_counts()\n",
        "\n",
        "# смотрим процентное распределение классов\n",
        "round(data['label'].value_counts(normalize=True) * 100, 2)"
      ]
    },
    {
      "cell_type": "code",
      "execution_count": 25,
      "id": "9b871636",
      "metadata": {
        "id": "9b871636"
      },
      "outputs": [
        {
          "data": {
            "image/png": "[encoded data removed]",
            "text/plain": [
              "<Figure size 500x400 with 1 Axes>"
            ]
          },
          "metadata": {},
          "output_type": "display_data"
        }
      ],
      "source": [
        "# задаём полотно\n",
        "fig, ax_countplot = plt.subplots(figsize=(5, 4))\n",
        "\n",
        "# строим график\n",
        "sns.countplot(data=data, x='label')\n",
        "\n",
        "# задаём заголовок, подписи осей и меток\n",
        "ax_countplot.set(\n",
        "    title='Распределение меток по классам',\n",
        "    xlabel='Классификация меток', \n",
        "    ylabel='Число меток',\n",
        "    xticklabels=['Non-spam', 'Spam']\n",
        ");"
      ]
    },
    {
      "cell_type": "markdown",
      "id": "b161614b",
      "metadata": {
        "id": "b161614b"
      },
      "source": [
        "## Задание 2 (2 балла)"
      ]
    },
    {
      "cell_type": "markdown",
      "id": "dd29763b",
      "metadata": {
        "id": "dd29763b"
      },
      "source": [
        "Вам необходимо предобработать ваши данные и перевести их в векторный вид. Подгрузим необходимый модуль:"
      ]
    },
    {
      "cell_type": "code",
      "execution_count": 26,
      "id": "382eac9c",
      "metadata": {
        "id": "382eac9c"
      },
      "outputs": [],
      "source": [
        "from sklearn.feature_extraction import text"
      ]
    },
    {
      "cell_type": "markdown",
      "id": "89546b95",
      "metadata": {
        "id": "89546b95"
      },
      "source": [
        "Замените в данных все пустые строки и строки, состоящие из пробелов, на пропуски (NaN). После этого удалите из данных все строки, в которых наблюдаются пропущенные значения."
      ]
    },
    {
      "cell_type": "code",
      "execution_count": 27,
      "id": "45180f82",
      "metadata": {
        "id": "45180f82"
      },
      "outputs": [
        {
          "name": "stdout",
          "output_type": "stream",
          "text": [
            "<class 'pandas.core.frame.DataFrame'>\n",
            "Index: 2997 entries, 0 to 2999\n",
            "Data columns (total 2 columns):\n",
            " #   Column  Non-Null Count  Dtype \n",
            "---  ------  --------------  ----- \n",
            " 0   email   2997 non-null   object\n",
            " 1   label   2997 non-null   int8  \n",
            "dtypes: int8(1), object(1)\n",
            "memory usage: 49.8+ KB\n"
          ]
        },
        {
          "data": {
            "text/plain": [
              "(2997, 2)"
            ]
          },
          "execution_count": 27,
          "metadata": {},
          "output_type": "execute_result"
        },
        {
          "data": {
            "text/plain": [
              "email    0\n",
              "label    0\n",
              "dtype: int64"
            ]
          },
          "execution_count": 27,
          "metadata": {},
          "output_type": "execute_result"
        }
      ],
      "source": [
        "# делаем копию датасета\n",
        "data_clean = data.copy()\n",
        "\n",
        "# удаляем пропуски\n",
        "data_clean['email'] = data_clean['email'].replace(r'^\\s*$', np.nan, regex=True)\n",
        "data_clean.dropna(how='any', inplace=True)\n",
        "\n",
        "# выводим результат\n",
        "data_clean.info()\n",
        "data_clean.shape\n",
        "data_clean.isna().sum()"
      ]
    },
    {
      "cell_type": "code",
      "execution_count": 28,
      "id": "0e1d42d9",
      "metadata": {},
      "outputs": [],
      "source": [
        "# переносим результат\n",
        "data = data_clean"
      ]
    },
    {
      "cell_type": "markdown",
      "id": "2ca2fe88",
      "metadata": {
        "id": "2ca2fe88"
      },
      "source": [
        "Переводим данные в векторный вид:"
      ]
    },
    {
      "cell_type": "code",
      "execution_count": 29,
      "id": "29e9a37b",
      "metadata": {
        "id": "29e9a37b"
      },
      "outputs": [],
      "source": [
        "CV_vectorizer = text.CountVectorizer()\n",
        "X = CV_vectorizer.fit_transform(data['email'])"
      ]
    },
    {
      "cell_type": "markdown",
      "id": "88c8b726",
      "metadata": {
        "id": "88c8b726"
      },
      "source": [
        "Определите, сколько теперь признаков в нашем наборе данных:"
      ]
    },
    {
      "cell_type": "code",
      "execution_count": 30,
      "id": "f19c2a02",
      "metadata": {
        "id": "f19c2a02"
      },
      "outputs": [
        {
          "name": "stdout",
          "output_type": "stream",
          "text": [
            "После обработки создано 34116 признаков\n"
          ]
        }
      ],
      "source": [
        "print(f'После обработки создано {X.shape[1]} признаков')"
      ]
    },
    {
      "cell_type": "markdown",
      "id": "1803f282",
      "metadata": {
        "id": "1803f282"
      },
      "source": [
        "## Задание 3 (2 балла)"
      ]
    },
    {
      "cell_type": "markdown",
      "id": "39f400b7",
      "metadata": {
        "id": "39f400b7"
      },
      "source": [
        "Определите целевую переменную и признаки:"
      ]
    },
    {
      "cell_type": "code",
      "execution_count": 31,
      "id": "31f1acb6",
      "metadata": {
        "id": "31f1acb6"
      },
      "outputs": [
        {
          "name": "stdout",
          "output_type": "stream",
          "text": [
            "Размер обучающей выборки: (2997, 34116)\n",
            "Размер тестовой выборки: (2997,)\n"
          ]
        }
      ],
      "source": [
        "# задаём целевой переменную\n",
        "y = data['label']\n",
        "\n",
        "# выводим результат\n",
        "print(f'Размер обучающей выборки: {X.shape}')\n",
        "print(f'Размер тестовой выборки: {y.shape}')"
      ]
    },
    {
      "cell_type": "markdown",
      "id": "b20f273e",
      "metadata": {
        "id": "b20f273e"
      },
      "source": [
        "Разделите выборку на обучающую и тестовую, используя стратифицированное разбиение (параметр `stratify` установите в значение вектора ответов y) размер тестовой выборки (`test_size`) возьмите как 0.25, параметр `random_state` определите со значением 42:"
      ]
    },
    {
      "cell_type": "code",
      "execution_count": 32,
      "id": "96538fb6",
      "metadata": {
        "id": "96538fb6"
      },
      "outputs": [
        {
          "name": "stdout",
          "output_type": "stream",
          "text": [
            "Размер обучающей выборки: (2247, 34116)\n",
            "Размер тестовой выборки: (750, 34116)\n"
          ]
        }
      ],
      "source": [
        "X_train, X_test, y_train, y_test = model_selection.train_test_split(\n",
        "    X, y, \n",
        "    test_size=0.25, \n",
        "    stratify=y, \n",
        "    random_state=RANDOM_SEED_42\n",
        ")\n",
        "\n",
        "# выводим результат\n",
        "print(f'Размер обучающей выборки: {X_train.shape}')\n",
        "print(f'Размер тестовой выборки: {X_test.shape}')"
      ]
    },
    {
      "cell_type": "markdown",
      "id": "139dac3d",
      "metadata": {
        "id": "139dac3d"
      },
      "source": [
        "Рассчитайте среднее значение целевой переменной по тестовой выборке:"
      ]
    },
    {
      "cell_type": "code",
      "execution_count": 33,
      "id": "e9baf72d",
      "metadata": {
        "id": "e9baf72d"
      },
      "outputs": [
        {
          "name": "stdout",
          "output_type": "stream",
          "text": [
            "Среднее значение целевой переменнной на тестовой выборке: 0.165\n"
          ]
        }
      ],
      "source": [
        "print(f'Среднее значение целевой переменнной на тестовой выборке: {round(y_test.mean(), 3)}')"
      ]
    },
    {
      "cell_type": "markdown",
      "id": "710e0e94",
      "metadata": {
        "id": "710e0e94"
      },
      "source": [
        "## Задание 4 (3 балла)"
      ]
    },
    {
      "cell_type": "markdown",
      "id": "26cf6885",
      "metadata": {
        "id": "26cf6885"
      },
      "source": [
        "Определите и обучите подходящий алгоритм с параметром alpha = 0.01"
      ]
    },
    {
      "attachments": {},
      "cell_type": "markdown",
      "id": "fa5e07df",
      "metadata": {},
      "source": [
        "---"
      ]
    },
    {
      "attachments": {},
      "cell_type": "markdown",
      "id": "610e95ac",
      "metadata": {},
      "source": [
        "В библиотеке ***sklearn*** есть несколько байесовских классификаторов:\n",
        "\n",
        "* **[GaussianNB](https://scikit-learn.org/stable/modules/generated/sklearn.naive_bayes.GaussianNB.html)** — самый простой вариант, работает с непрерывными признаками;\n",
        "\n",
        "* **[MultinomialNB](https://scikit-learn.org/stable/modules/generated/sklearn.naive_bayes.MultinomialNB.html)**  — работает с категориальными признаками, текстами и несбалансированными выборками;\n",
        "\n",
        "* **[ComplementNB](https://scikit-learn.org/stable/modules/generated/sklearn.naive_bayes.ComplementNB.html)** — улучшенная версия MultinomialNB, стабильно показывает более высокое качество в задачах классификации текстов;\n",
        "\n",
        "* **[BernoulliNB](https://scikit-learn.org/stable/modules/generated/sklearn.naive_bayes.BernoulliNB.html)** — версия для работы с бинарными признаками;\n",
        "\n",
        "* **[CategoricalNB](https://scikit-learn.org/stable/modules/generated/sklearn.naive_bayes.CategoricalNB.html#sklearn.naive_bayes.CategoricalNB)** — работает с категориальными признаками, предполагает кодировку данных через **OrdinalEncoder**.\n",
        "\n",
        "Наиболее подходящие классификаторы - **MultinomialNB** & **ComplementNB**, поскольку ComplementNB улучшенная версия MultinomialNB, то его и будем применять."
      ]
    },
    {
      "cell_type": "code",
      "execution_count": 34,
      "id": "4865dd78",
      "metadata": {
        "id": "4865dd78"
      },
      "outputs": [
        {
          "data": {
            "text/html": [
              "<style>#sk-container-id-3 {color: black;background-color: white;}#sk-container-id-3 pre{padding: 0;}#sk-container-id-3 div.sk-toggleable {background-color: white;}#sk-container-id-3 label.sk-toggleable__label {cursor: pointer;display: block;width: 100%;margin-bottom: 0;padding: 0.3em;box-sizing: border-box;text-align: center;}#sk-container-id-3 label.sk-toggleable__label-arrow:before {content: \"▸\";float: left;margin-right: 0.25em;color: #696969;}#sk-container-id-3 label.sk-toggleable__label-arrow:hover:before {color: black;}#sk-container-id-3 div.sk-estimator:hover label.sk-toggleable__label-arrow:before {color: black;}#sk-container-id-3 div.sk-toggleable__content {max-height: 0;max-width: 0;overflow: hidden;text-align: left;background-color: #f0f8ff;}#sk-container-id-3 div.sk-toggleable__content pre {margin: 0.2em;color: black;border-radius: 0.25em;background-color: #f0f8ff;}#sk-container-id-3 input.sk-toggleable__control:checked~div.sk-toggleable__content {max-height: 200px;max-width: 100%;overflow: auto;}#sk-container-id-3 input.sk-toggleable__control:checked~label.sk-toggleable__label-arrow:before {content: \"▾\";}#sk-container-id-3 div.sk-estimator input.sk-toggleable__control:checked~label.sk-toggleable__label {background-color: #d4ebff;}#sk-container-id-3 div.sk-label input.sk-toggleable__control:checked~label.sk-toggleable__label {background-color: #d4ebff;}#sk-container-id-3 input.sk-hidden--visually {border: 0;clip: rect(1px 1px 1px 1px);clip: rect(1px, 1px, 1px, 1px);height: 1px;margin: -1px;overflow: hidden;padding: 0;position: absolute;width: 1px;}#sk-container-id-3 div.sk-estimator {font-family: monospace;background-color: #f0f8ff;border: 1px dotted black;border-radius: 0.25em;box-sizing: border-box;margin-bottom: 0.5em;}#sk-container-id-3 div.sk-estimator:hover {background-color: #d4ebff;}#sk-container-id-3 div.sk-parallel-item::after {content: \"\";width: 100%;border-bottom: 1px solid gray;flex-grow: 1;}#sk-container-id-3 div.sk-label:hover label.sk-toggleable__label {background-color: #d4ebff;}#sk-container-id-3 div.sk-serial::before {content: \"\";position: absolute;border-left: 1px solid gray;box-sizing: border-box;top: 0;bottom: 0;left: 50%;z-index: 0;}#sk-container-id-3 div.sk-serial {display: flex;flex-direction: column;align-items: center;background-color: white;padding-right: 0.2em;padding-left: 0.2em;position: relative;}#sk-container-id-3 div.sk-item {position: relative;z-index: 1;}#sk-container-id-3 div.sk-parallel {display: flex;align-items: stretch;justify-content: center;background-color: white;position: relative;}#sk-container-id-3 div.sk-item::before, #sk-container-id-3 div.sk-parallel-item::before {content: \"\";position: absolute;border-left: 1px solid gray;box-sizing: border-box;top: 0;bottom: 0;left: 50%;z-index: -1;}#sk-container-id-3 div.sk-parallel-item {display: flex;flex-direction: column;z-index: 1;position: relative;background-color: white;}#sk-container-id-3 div.sk-parallel-item:first-child::after {align-self: flex-end;width: 50%;}#sk-container-id-3 div.sk-parallel-item:last-child::after {align-self: flex-start;width: 50%;}#sk-container-id-3 div.sk-parallel-item:only-child::after {width: 0;}#sk-container-id-3 div.sk-dashed-wrapped {border: 1px dashed gray;margin: 0 0.4em 0.5em 0.4em;box-sizing: border-box;padding-bottom: 0.4em;background-color: white;}#sk-container-id-3 div.sk-label label {font-family: monospace;font-weight: bold;display: inline-block;line-height: 1.2em;}#sk-container-id-3 div.sk-label-container {text-align: center;}#sk-container-id-3 div.sk-container {/* jupyter's `normalize.less` sets `[hidden] { display: none; }` but bootstrap.min.css set `[hidden] { display: none !important; }` so we also need the `!important` here to be able to override the default hidden behavior on the sphinx rendered scikit-learn.org. See: https://github.com/scikit-learn/scikit-learn/issues/21755 */display: inline-block !important;position: relative;}#sk-container-id-3 div.sk-text-repr-fallback {display: none;}</style><div id=\"sk-container-id-3\" class=\"sk-top-container\"><div class=\"sk-text-repr-fallback\"><pre>ComplementNB(alpha=0.01)</pre><b>In a Jupyter environment, please rerun this cell to show the HTML representation or trust the notebook. <br />On GitHub, the HTML representation is unable to render, please try loading this page with nbviewer.org.</b></div><div class=\"sk-container\" hidden><div class=\"sk-item\"><div class=\"sk-estimator sk-toggleable\"><input class=\"sk-toggleable__control sk-hidden--visually\" id=\"sk-estimator-id-5\" type=\"checkbox\" checked><label for=\"sk-estimator-id-5\" class=\"sk-toggleable__label sk-toggleable__label-arrow\">ComplementNB</label><div class=\"sk-toggleable__content\"><pre>ComplementNB(alpha=0.01)</pre></div></div></div></div></div>"
            ],
            "text/plain": [
              "ComplementNB(alpha=0.01)"
            ]
          },
          "execution_count": 34,
          "metadata": {},
          "output_type": "execute_result"
        }
      ],
      "source": [
        "# задаём объект класса ComplementNB\n",
        "CNB = naive_bayes.ComplementNB(alpha=0.01)\n",
        "\n",
        "# обучаем модель\n",
        "CNB.fit(X_train, y_train)\n",
        "\n",
        "# предсказываем значения на тестовой выборке\n",
        "y_pred_cnb = CNB.predict(X_test)"
      ]
    },
    {
      "cell_type": "markdown",
      "id": "d803fbe3",
      "metadata": {
        "id": "d803fbe3"
      },
      "source": [
        "Оцените результат с точки зрения всех известных вам метрик (не менее трёх):"
      ]
    },
    {
      "cell_type": "code",
      "execution_count": 35,
      "id": "b0bbc4d2",
      "metadata": {
        "id": "b0bbc4d2"
      },
      "outputs": [
        {
          "name": "stdout",
          "output_type": "stream",
          "text": [
            "              precision    recall  f1-score   support\n",
            "\n",
            "           0    0.98583   1.00000   0.99286       626\n",
            "           1    1.00000   0.92742   0.96234       124\n",
            "\n",
            "    accuracy                        0.98800       750\n",
            "   macro avg    0.99291   0.96371   0.97760       750\n",
            "weighted avg    0.98817   0.98800   0.98782       750\n",
            "\n"
          ]
        }
      ],
      "source": [
        "print(metrics.classification_report(y_test, y_pred_cnb, digits=TOL))"
      ]
    },
    {
      "cell_type": "markdown",
      "id": "c85976d1",
      "metadata": {
        "id": "c85976d1"
      },
      "source": [
        "Нарисуйте ROC-кривую:"
      ]
    },
    {
      "cell_type": "code",
      "execution_count": 36,
      "id": "c26c3313",
      "metadata": {},
      "outputs": [],
      "source": [
        "# вычисляем вероятности классов на тестовых выборках\n",
        "# интересует только вероятность класса 1\n",
        "y_pred_prob_cnb = CNB.predict_proba(X_test)[:, 1]\n",
        "\n",
        "# вычисляем координаты точек ROC кривых\n",
        "false_positive_rates_cnb, true_positive_rates_cnb, _ = metrics.roc_curve(y_test, y_pred_prob_cnb)"
      ]
    },
    {
      "cell_type": "code",
      "execution_count": 37,
      "id": "b4195126",
      "metadata": {
        "id": "b4195126"
      },
      "outputs": [
        {
          "data": {
            "image/png": "[encoded data removed]",
            "text/plain": [
              "<Figure size 700x700 with 1 Axes>"
            ]
          },
          "metadata": {},
          "output_type": "display_data"
        }
      ],
      "source": [
        "# создаём полотно\n",
        "plt.figure(figsize=(7, 7))\n",
        "\n",
        "# рисуем ROC кривую\n",
        "plt.plot(false_positive_rates_cnb, true_positive_rates_cnb, \n",
        "    label=f'Сглаженные значения ROC-AUC {CNB.__class__.__name__}')\n",
        "\n",
        "# выполняем заливку под кривой\n",
        "plt.fill_between(false_positive_rates_cnb, true_positive_rates_cnb, step='pre', \n",
        "    alpha=TOL/20, label=f'Площадь под кривой (ROC-AUC) {CNB.__class__.__name__}'\n",
        ")\n",
        "\n",
        "# кривая, соответствующая случайному угадыванию\n",
        "plt.plot([0, 1], [0, 1], color='k', lw=2, linestyle=':', \n",
        "    label='Модель, выдающая случайное значение'\n",
        ")\n",
        "\n",
        "# задаём заголовки и подписи осей\n",
        "plt.title('Кривая ROC')\n",
        "plt.xlabel('False Positive Rate')\n",
        "plt.ylabel('True Positive Rate')\n",
        "\n",
        "plt.legend()\n",
        "plt.show();"
      ]
    },
    {
      "cell_type": "markdown",
      "id": "cf0bb49b",
      "metadata": {
        "id": "cf0bb49b"
      },
      "source": [
        "## Задание 5 (3 балла)"
      ]
    },
    {
      "cell_type": "markdown",
      "id": "30b7a0ae",
      "metadata": {
        "id": "30b7a0ae"
      },
      "source": [
        "Переберите несколько значений alpha с помощью кросс-валидации. Оцените, зависит ли от этого параметра качество классификации."
      ]
    },
    {
      "cell_type": "code",
      "execution_count": 38,
      "id": "3513d907",
      "metadata": {
        "id": "3513d907"
      },
      "outputs": [
        {
          "data": {
            "text/html": [
              "<style>#sk-container-id-4 {color: black;background-color: white;}#sk-container-id-4 pre{padding: 0;}#sk-container-id-4 div.sk-toggleable {background-color: white;}#sk-container-id-4 label.sk-toggleable__label {cursor: pointer;display: block;width: 100%;margin-bottom: 0;padding: 0.3em;box-sizing: border-box;text-align: center;}#sk-container-id-4 label.sk-toggleable__label-arrow:before {content: \"▸\";float: left;margin-right: 0.25em;color: #696969;}#sk-container-id-4 label.sk-toggleable__label-arrow:hover:before {color: black;}#sk-container-id-4 div.sk-estimator:hover label.sk-toggleable__label-arrow:before {color: black;}#sk-container-id-4 div.sk-toggleable__content {max-height: 0;max-width: 0;overflow: hidden;text-align: left;background-color: #f0f8ff;}#sk-container-id-4 div.sk-toggleable__content pre {margin: 0.2em;color: black;border-radius: 0.25em;background-color: #f0f8ff;}#sk-container-id-4 input.sk-toggleable__control:checked~div.sk-toggleable__content {max-height: 200px;max-width: 100%;overflow: auto;}#sk-container-id-4 input.sk-toggleable__control:checked~label.sk-toggleable__label-arrow:before {content: \"▾\";}#sk-container-id-4 div.sk-estimator input.sk-toggleable__control:checked~label.sk-toggleable__label {background-color: #d4ebff;}#sk-container-id-4 div.sk-label input.sk-toggleable__control:checked~label.sk-toggleable__label {background-color: #d4ebff;}#sk-container-id-4 input.sk-hidden--visually {border: 0;clip: rect(1px 1px 1px 1px);clip: rect(1px, 1px, 1px, 1px);height: 1px;margin: -1px;overflow: hidden;padding: 0;position: absolute;width: 1px;}#sk-container-id-4 div.sk-estimator {font-family: monospace;background-color: #f0f8ff;border: 1px dotted black;border-radius: 0.25em;box-sizing: border-box;margin-bottom: 0.5em;}#sk-container-id-4 div.sk-estimator:hover {background-color: #d4ebff;}#sk-container-id-4 div.sk-parallel-item::after {content: \"\";width: 100%;border-bottom: 1px solid gray;flex-grow: 1;}#sk-container-id-4 div.sk-label:hover label.sk-toggleable__label {background-color: #d4ebff;}#sk-container-id-4 div.sk-serial::before {content: \"\";position: absolute;border-left: 1px solid gray;box-sizing: border-box;top: 0;bottom: 0;left: 50%;z-index: 0;}#sk-container-id-4 div.sk-serial {display: flex;flex-direction: column;align-items: center;background-color: white;padding-right: 0.2em;padding-left: 0.2em;position: relative;}#sk-container-id-4 div.sk-item {position: relative;z-index: 1;}#sk-container-id-4 div.sk-parallel {display: flex;align-items: stretch;justify-content: center;background-color: white;position: relative;}#sk-container-id-4 div.sk-item::before, #sk-container-id-4 div.sk-parallel-item::before {content: \"\";position: absolute;border-left: 1px solid gray;box-sizing: border-box;top: 0;bottom: 0;left: 50%;z-index: -1;}#sk-container-id-4 div.sk-parallel-item {display: flex;flex-direction: column;z-index: 1;position: relative;background-color: white;}#sk-container-id-4 div.sk-parallel-item:first-child::after {align-self: flex-end;width: 50%;}#sk-container-id-4 div.sk-parallel-item:last-child::after {align-self: flex-start;width: 50%;}#sk-container-id-4 div.sk-parallel-item:only-child::after {width: 0;}#sk-container-id-4 div.sk-dashed-wrapped {border: 1px dashed gray;margin: 0 0.4em 0.5em 0.4em;box-sizing: border-box;padding-bottom: 0.4em;background-color: white;}#sk-container-id-4 div.sk-label label {font-family: monospace;font-weight: bold;display: inline-block;line-height: 1.2em;}#sk-container-id-4 div.sk-label-container {text-align: center;}#sk-container-id-4 div.sk-container {/* jupyter's `normalize.less` sets `[hidden] { display: none; }` but bootstrap.min.css set `[hidden] { display: none !important; }` so we also need the `!important` here to be able to override the default hidden behavior on the sphinx rendered scikit-learn.org. See: https://github.com/scikit-learn/scikit-learn/issues/21755 */display: inline-block !important;position: relative;}#sk-container-id-4 div.sk-text-repr-fallback {display: none;}</style><div id=\"sk-container-id-4\" class=\"sk-top-container\"><div class=\"sk-text-repr-fallback\"><pre>GridSearchCV(cv=5, estimator=ComplementNB(), n_jobs=-1,\n",
              "             param_grid={&#x27;alpha&#x27;: array([ 0.  ,  0.05,  0.1 ,  0.15,  0.2 ,  0.25,  0.3 ,  0.35,  0.4 ,\n",
              "        0.45,  0.5 ,  0.55,  0.6 ,  0.65,  0.7 ,  0.75,  0.8 ,  0.85,\n",
              "        0.9 ,  0.95,  1.  ,  1.05,  1.1 ,  1.15,  1.2 ,  1.25,  1.3 ,\n",
              "        1.35,  1.4 ,  1.45,  1.5 ,  1.55,  1.6 ,  1.65,  1.7 ,  1.75,\n",
              "        1.8 ,  1.85,  1.9 ,  1.95,  2.  ,  2.05,  2.1 ,  2.15,  2.2 ,\n",
              "        2.25,  2.3 ,  2.35,  2.4 ,  2.45,  2.5 ,  2.55,  2.6 ,  2.65,\n",
              "        2.7 ,  2.75,  2.8 ,  2.85,  2.9 ,  2.95,  3.  ,...\n",
              "        6.3 ,  6.35,  6.4 ,  6.45,  6.5 ,  6.55,  6.6 ,  6.65,  6.7 ,\n",
              "        6.75,  6.8 ,  6.85,  6.9 ,  6.95,  7.  ,  7.05,  7.1 ,  7.15,\n",
              "        7.2 ,  7.25,  7.3 ,  7.35,  7.4 ,  7.45,  7.5 ,  7.55,  7.6 ,\n",
              "        7.65,  7.7 ,  7.75,  7.8 ,  7.85,  7.9 ,  7.95,  8.  ,  8.05,\n",
              "        8.1 ,  8.15,  8.2 ,  8.25,  8.3 ,  8.35,  8.4 ,  8.45,  8.5 ,\n",
              "        8.55,  8.6 ,  8.65,  8.7 ,  8.75,  8.8 ,  8.85,  8.9 ,  8.95,\n",
              "        9.  ,  9.05,  9.1 ,  9.15,  9.2 ,  9.25,  9.3 ,  9.35,  9.4 ,\n",
              "        9.45,  9.5 ,  9.55,  9.6 ,  9.65,  9.7 ,  9.75,  9.8 ,  9.85,\n",
              "        9.9 ,  9.95, 10.  ])},\n",
              "             scoring=&#x27;f1&#x27;)</pre><b>In a Jupyter environment, please rerun this cell to show the HTML representation or trust the notebook. <br />On GitHub, the HTML representation is unable to render, please try loading this page with nbviewer.org.</b></div><div class=\"sk-container\" hidden><div class=\"sk-item sk-dashed-wrapped\"><div class=\"sk-label-container\"><div class=\"sk-label sk-toggleable\"><input class=\"sk-toggleable__control sk-hidden--visually\" id=\"sk-estimator-id-6\" type=\"checkbox\" ><label for=\"sk-estimator-id-6\" class=\"sk-toggleable__label sk-toggleable__label-arrow\">GridSearchCV</label><div class=\"sk-toggleable__content\"><pre>GridSearchCV(cv=5, estimator=ComplementNB(), n_jobs=-1,\n",
              "             param_grid={&#x27;alpha&#x27;: array([ 0.  ,  0.05,  0.1 ,  0.15,  0.2 ,  0.25,  0.3 ,  0.35,  0.4 ,\n",
              "        0.45,  0.5 ,  0.55,  0.6 ,  0.65,  0.7 ,  0.75,  0.8 ,  0.85,\n",
              "        0.9 ,  0.95,  1.  ,  1.05,  1.1 ,  1.15,  1.2 ,  1.25,  1.3 ,\n",
              "        1.35,  1.4 ,  1.45,  1.5 ,  1.55,  1.6 ,  1.65,  1.7 ,  1.75,\n",
              "        1.8 ,  1.85,  1.9 ,  1.95,  2.  ,  2.05,  2.1 ,  2.15,  2.2 ,\n",
              "        2.25,  2.3 ,  2.35,  2.4 ,  2.45,  2.5 ,  2.55,  2.6 ,  2.65,\n",
              "        2.7 ,  2.75,  2.8 ,  2.85,  2.9 ,  2.95,  3.  ,...\n",
              "        6.3 ,  6.35,  6.4 ,  6.45,  6.5 ,  6.55,  6.6 ,  6.65,  6.7 ,\n",
              "        6.75,  6.8 ,  6.85,  6.9 ,  6.95,  7.  ,  7.05,  7.1 ,  7.15,\n",
              "        7.2 ,  7.25,  7.3 ,  7.35,  7.4 ,  7.45,  7.5 ,  7.55,  7.6 ,\n",
              "        7.65,  7.7 ,  7.75,  7.8 ,  7.85,  7.9 ,  7.95,  8.  ,  8.05,\n",
              "        8.1 ,  8.15,  8.2 ,  8.25,  8.3 ,  8.35,  8.4 ,  8.45,  8.5 ,\n",
              "        8.55,  8.6 ,  8.65,  8.7 ,  8.75,  8.8 ,  8.85,  8.9 ,  8.95,\n",
              "        9.  ,  9.05,  9.1 ,  9.15,  9.2 ,  9.25,  9.3 ,  9.35,  9.4 ,\n",
              "        9.45,  9.5 ,  9.55,  9.6 ,  9.65,  9.7 ,  9.75,  9.8 ,  9.85,\n",
              "        9.9 ,  9.95, 10.  ])},\n",
              "             scoring=&#x27;f1&#x27;)</pre></div></div></div><div class=\"sk-parallel\"><div class=\"sk-parallel-item\"><div class=\"sk-item\"><div class=\"sk-label-container\"><div class=\"sk-label sk-toggleable\"><input class=\"sk-toggleable__control sk-hidden--visually\" id=\"sk-estimator-id-7\" type=\"checkbox\" ><label for=\"sk-estimator-id-7\" class=\"sk-toggleable__label sk-toggleable__label-arrow\">estimator: ComplementNB</label><div class=\"sk-toggleable__content\"><pre>ComplementNB()</pre></div></div></div><div class=\"sk-serial\"><div class=\"sk-item\"><div class=\"sk-estimator sk-toggleable\"><input class=\"sk-toggleable__control sk-hidden--visually\" id=\"sk-estimator-id-8\" type=\"checkbox\" ><label for=\"sk-estimator-id-8\" class=\"sk-toggleable__label sk-toggleable__label-arrow\">ComplementNB</label><div class=\"sk-toggleable__content\"><pre>ComplementNB()</pre></div></div></div></div></div></div></div></div></div></div>"
            ],
            "text/plain": [
              "GridSearchCV(cv=5, estimator=ComplementNB(), n_jobs=-1,\n",
              "             param_grid={'alpha': array([ 0.  ,  0.05,  0.1 ,  0.15,  0.2 ,  0.25,  0.3 ,  0.35,  0.4 ,\n",
              "        0.45,  0.5 ,  0.55,  0.6 ,  0.65,  0.7 ,  0.75,  0.8 ,  0.85,\n",
              "        0.9 ,  0.95,  1.  ,  1.05,  1.1 ,  1.15,  1.2 ,  1.25,  1.3 ,\n",
              "        1.35,  1.4 ,  1.45,  1.5 ,  1.55,  1.6 ,  1.65,  1.7 ,  1.75,\n",
              "        1.8 ,  1.85,  1.9 ,  1.95,  2.  ,  2.05,  2.1 ,  2.15,  2.2 ,\n",
              "        2.25,  2.3 ,  2.35,  2.4 ,  2.45,  2.5 ,  2.55,  2.6 ,  2.65,\n",
              "        2.7 ,  2.75,  2.8 ,  2.85,  2.9 ,  2.95,  3.  ,...\n",
              "        6.3 ,  6.35,  6.4 ,  6.45,  6.5 ,  6.55,  6.6 ,  6.65,  6.7 ,\n",
              "        6.75,  6.8 ,  6.85,  6.9 ,  6.95,  7.  ,  7.05,  7.1 ,  7.15,\n",
              "        7.2 ,  7.25,  7.3 ,  7.35,  7.4 ,  7.45,  7.5 ,  7.55,  7.6 ,\n",
              "        7.65,  7.7 ,  7.75,  7.8 ,  7.85,  7.9 ,  7.95,  8.  ,  8.05,\n",
              "        8.1 ,  8.15,  8.2 ,  8.25,  8.3 ,  8.35,  8.4 ,  8.45,  8.5 ,\n",
              "        8.55,  8.6 ,  8.65,  8.7 ,  8.75,  8.8 ,  8.85,  8.9 ,  8.95,\n",
              "        9.  ,  9.05,  9.1 ,  9.15,  9.2 ,  9.25,  9.3 ,  9.35,  9.4 ,\n",
              "        9.45,  9.5 ,  9.55,  9.6 ,  9.65,  9.7 ,  9.75,  9.8 ,  9.85,\n",
              "        9.9 ,  9.95, 10.  ])},\n",
              "             scoring='f1')"
            ]
          },
          "execution_count": 38,
          "metadata": {},
          "output_type": "execute_result"
        }
      ],
      "source": [
        "# задаём сетку параметра alpha с шагом 0.05\n",
        "params_cnb = {'alpha': np.round(np.linspace(0, 10, num=201), TOL)}\n",
        "\n",
        "# задаём объект класса GridSearchCV\n",
        "GSCV_CNB = model_selection.GridSearchCV(\n",
        "    estimator=naive_bayes.ComplementNB(), \n",
        "    param_grid=params_cnb, \n",
        "    scoring='f1', \n",
        "    n_jobs=CPU_ALL, \n",
        "    cv=TOL\n",
        ")\n",
        "\n",
        "# обучаем модель, ищем оптимальный гиперпараметр\n",
        "GSCV_CNB.fit(X_train, y_train)"
      ]
    },
    {
      "cell_type": "code",
      "execution_count": 39,
      "id": "29c75f99",
      "metadata": {},
      "outputs": [
        {
          "name": "stdout",
          "output_type": "stream",
          "text": [
            "Метрика F1: 0.97449\n",
            "Лучший гиперпараметр: {'alpha': 0.35}\n"
          ]
        }
      ],
      "source": [
        "print(f'Метрика F1: {GSCV_CNB.best_score_:.{TOL}f}')\n",
        "print(f'Лучший гиперпараметр: {GSCV_CNB.best_params_}')"
      ]
    },
    {
      "cell_type": "code",
      "execution_count": 40,
      "id": "989a01dc",
      "metadata": {},
      "outputs": [
        {
          "data": {
            "image/png": "[encoded data removed]",
            "text/plain": [
              "<Figure size 1200x600 with 1 Axes>"
            ]
          },
          "metadata": {},
          "output_type": "display_data"
        }
      ],
      "source": [
        "# отрисуем, как менялся f1_score при различном alpha\n",
        "# создаём датафрейм для графика\n",
        "visual_df = pd.DataFrame(\n",
        "    GSCV_CNB.cv_results_['mean_test_score'], \n",
        "    index=GSCV_CNB.cv_results_['param_alpha'],\n",
        "    columns=['f1_score']\n",
        ")\n",
        "\n",
        "# задаём полотно\n",
        "fig, ax_line = plt.subplots(figsize=(12, 6))\n",
        "\n",
        "# выделяем координаты\n",
        "x_, y_ = visual_df.idxmax().values[0], round(visual_df.max()[0], TOL)\n",
        "\n",
        "# строим графики\n",
        "sns.lineplot(visual_df)\n",
        "plt.axvline(visual_df.idxmax().values, c='deeppink',lw=1.5, ls='--', label=f'Лучший параметр alpha={x_}')\n",
        "\n",
        "# аннотируем детали графика\n",
        "plt.scatter(x=x_, y=y_, c='black', lw=2, marker='x', s=100)\n",
        "plt.annotate(\n",
        "    f'Max ({x_}, {y_})',\n",
        "    xy=(x_*1.2, y_*.98),\n",
        "    xytext=(x_*3, y_*.9),\n",
        "    arrowprops = dict(\n",
        "        facecolor='black', \n",
        "        width=0.2, \n",
        "        headwidth=5,\n",
        "        connectionstyle=\"arc3, rad=-0.2\"\n",
        "    ),\n",
        "    fontsize=12,\n",
        "    horizontalalignment='left')\n",
        "\n",
        "# задаём заголовок графика, подписи осей и метки по оси абсцисс\n",
        "ax_line.set(\n",
        "    title='График зависимости метрики f1 от alpha', \n",
        "    xlabel='Параметр alpha, шаг 0.05', \n",
        "    ylabel='F1 score', \n",
        "    # для оси меток берем минимум и максимум значений словаря params_cnb, \n",
        "    # а шаг задаётся размерностью params_cnb меньше в 5 раз\n",
        "    xticks=np.linspace(\n",
        "        np.array(list(params_cnb.values())).min(), \n",
        "        np.array(list(params_cnb.values())).max(), \n",
        "        int((np.array(list(params_cnb.values())).shape[1] - 1) / 5 + 1)\n",
        "    ),\n",
        ")\n",
        "\n",
        "# выводим сетку и легенду\n",
        "ax_line.legend()\n",
        "ax_line.grid()\n",
        "\n",
        "# поворачиваем метки\n",
        "plt.xticks(rotation=75);"
      ]
    },
    {
      "attachments": {},
      "cell_type": "markdown",
      "id": "56278568",
      "metadata": {},
      "source": [
        "---"
      ]
    },
    {
      "attachments": {},
      "cell_type": "markdown",
      "id": "26d85895",
      "metadata": {},
      "source": [
        "## Выводы:\n",
        "\n",
        "* Качество классификации зависит от параметра сглаживания $\\alpha$ усовершенствованого наивного байесовского алгоритма **ComplementNB** - с его увеличением наблюдается снижение метрики $F_1$, максимально рекомендуемое значение для параметра $\\alpha$ : $\\alpha \\leq 1.0$, значение $\\alpha = 1.0$ установлено оптимальным по умолчанию в **ComplementNB**. График наглядно отражает сильное падение, начиная со значения $\\alpha \\geq 1.75$;\n",
        "\n",
        "* Значение  $\\alpha = 0.01$, заданное изначально в расчётах, практически, сразу задаёт предельно высокий уровень метрик $Precision$, $Recall$, включая $F_1$;\n",
        "\n",
        "* Подобранное лучшее значение параметра $\\alpha = 0.35$ может ещё немного улучшить метрику $F_1$ после 2 знака и, соответственно - качество модели."
      ]
    }
  ],
  "metadata": {
    "colab": {
      "name": "SGA_unit6_NBC.ipynb",
      "provenance": []
    },
    "kernelspec": {
      "display_name": "Python 3 (ipykernel)",
      "language": "python",
      "name": "python3"
    },
    "language_info": {
      "codemirror_mode": {
        "name": "ipython",
        "version": 3
      },
      "file_extension": ".py",
      "mimetype": "text/x-python",
      "name": "python",
      "nbconvert_exporter": "python",
      "pygments_lexer": "ipython3",
      "version": "3.10.11"
    }
  },
  "nbformat": 4,
  "nbformat_minor": 5
}
